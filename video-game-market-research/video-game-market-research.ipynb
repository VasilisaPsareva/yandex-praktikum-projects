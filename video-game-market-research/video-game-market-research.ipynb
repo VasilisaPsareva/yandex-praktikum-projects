{
 "cells": [
  {
   "cell_type": "markdown",
   "id": "f378bb76",
   "metadata": {},
   "source": [
    "# Анализ рынка компьютерных игр"
   ]
  },
  {
   "cell_type": "markdown",
   "id": "2ab2709d",
   "metadata": {},
   "source": [
    "Цель нашей работы -- по историческим данным о выпущенных играх выявить определяющие успешность игры закономерности. Это позволит нашему клиенту -- интернет магазину компьютерных игр -- сделать ставку на потенциально популярный продукт и спланировать рекламные кампании по данным до 2016 года на 2017 год."
   ]
  },
  {
   "cell_type": "markdown",
   "id": "0e1ddeda",
   "metadata": {},
   "source": [
    "Данные с которыми нам предстоит работать -- датасет с информацией о выпущенных играх с такими столбцами:\n",
    "\n",
    "    •\tName — название игры\n",
    "    •\tPlatform — платформа\n",
    "    •\tYear_of_Release — год выпуска\n",
    "    •\tGenre — жанр игры\n",
    "    •\tNA_sales — продажи в Северной Америке (миллионы проданных копий)\n",
    "    •\tEU_sales — продажи в Европе (миллионы проданных копий)\n",
    "    •\tJP_sales — продажи в Японии (миллионы проданных копий)\n",
    "    •\tOther_sales — продажи в других странах (миллионы проданных копий)\n",
    "    •\tCritic_Score — оценка критиков (максимум 100)\n",
    "    •\tUser_Score — оценка пользователей (максимум 10)\n",
    "    •\tRating — рейтинг от организации ESRB (англ. Entertainment Software Rating Board). Эта ассоциация определяет рейтинг компьютерных игр и присваивает им подходящую возрастную категорию.\n"
   ]
  },
  {
   "cell_type": "markdown",
   "id": "3cbd2a0f",
   "metadata": {
    "toc": true
   },
   "source": [
    "<h1>Содержание<span class=\"tocSkip\"></span></h1>\n",
    "<div class=\"toc\"><ul class=\"toc-item\"><li><span><a href=\"#Знакомство-с-данными\" data-toc-modified-id=\"Знакомство-с-данными-1\"><span class=\"toc-item-num\">1&nbsp;&nbsp;</span>Знакомство с данными</a></span><ul class=\"toc-item\"><li><span><a href=\"#Вывод\" data-toc-modified-id=\"Вывод-1.1\"><span class=\"toc-item-num\">1.1&nbsp;&nbsp;</span>Вывод</a></span></li></ul></li><li><span><a href=\"#Предобработка-данных\" data-toc-modified-id=\"Предобработка-данных-2\"><span class=\"toc-item-num\">2&nbsp;&nbsp;</span>Предобработка данных</a></span><ul class=\"toc-item\"><li><span><a href=\"#Названия-столбцов\" data-toc-modified-id=\"Названия-столбцов-2.1\"><span class=\"toc-item-num\">2.1&nbsp;&nbsp;</span>Названия столбцов</a></span></li><li><span><a href=\"#Работа-с-пропусками-и-дубликатами\" data-toc-modified-id=\"Работа-с-пропусками-и-дубликатами-2.2\"><span class=\"toc-item-num\">2.2&nbsp;&nbsp;</span>Работа с пропусками и дубликатами</a></span><ul class=\"toc-item\"><li><span><a href=\"#Название\" data-toc-modified-id=\"Название-2.2.1\"><span class=\"toc-item-num\">2.2.1&nbsp;&nbsp;</span>Название</a></span></li><li><span><a href=\"#Платформа\" data-toc-modified-id=\"Платформа-2.2.2\"><span class=\"toc-item-num\">2.2.2&nbsp;&nbsp;</span>Платформа</a></span></li><li><span><a href=\"#Год-выпуска\" data-toc-modified-id=\"Год-выпуска-2.2.3\"><span class=\"toc-item-num\">2.2.3&nbsp;&nbsp;</span>Год выпуска</a></span></li><li><span><a href=\"#Жанр\" data-toc-modified-id=\"Жанр-2.2.4\"><span class=\"toc-item-num\">2.2.4&nbsp;&nbsp;</span>Жанр</a></span></li><li><span><a href=\"#Продажи\" data-toc-modified-id=\"Продажи-2.2.5\"><span class=\"toc-item-num\">2.2.5&nbsp;&nbsp;</span>Продажи</a></span></li><li><span><a href=\"#Оценка-критиков\" data-toc-modified-id=\"Оценка-критиков-2.2.6\"><span class=\"toc-item-num\">2.2.6&nbsp;&nbsp;</span>Оценка критиков</a></span></li><li><span><a href=\"#Оценка-пользователей\" data-toc-modified-id=\"Оценка-пользователей-2.2.7\"><span class=\"toc-item-num\">2.2.7&nbsp;&nbsp;</span>Оценка пользователей</a></span></li><li><span><a href=\"#Рейтинг-ESRB\" data-toc-modified-id=\"Рейтинг-ESRB-2.2.8\"><span class=\"toc-item-num\">2.2.8&nbsp;&nbsp;</span>Рейтинг ESRB</a></span></li><li><span><a href=\"#Проверка-на-дубликаты\" data-toc-modified-id=\"Проверка-на-дубликаты-2.2.9\"><span class=\"toc-item-num\">2.2.9&nbsp;&nbsp;</span>Проверка на дубликаты</a></span></li></ul></li><li><span><a href=\"#Рассчеты\" data-toc-modified-id=\"Рассчеты-2.3\"><span class=\"toc-item-num\">2.3&nbsp;&nbsp;</span>Рассчеты</a></span></li><li><span><a href=\"#Вывод\" data-toc-modified-id=\"Вывод-2.4\"><span class=\"toc-item-num\">2.4&nbsp;&nbsp;</span>Вывод</a></span></li></ul></li><li><span><a href=\"#Анализ-данных\" data-toc-modified-id=\"Анализ-данных-3\"><span class=\"toc-item-num\">3&nbsp;&nbsp;</span>Анализ данных</a></span><ul class=\"toc-item\"><li><span><a href=\"#Выделение-актуального-периода\" data-toc-modified-id=\"Выделение-актуального-периода-3.1\"><span class=\"toc-item-num\">3.1&nbsp;&nbsp;</span>Выделение актуального периода</a></span><ul class=\"toc-item\"><li><span><a href=\"#Вывод\" data-toc-modified-id=\"Вывод-3.1.1\"><span class=\"toc-item-num\">3.1.1&nbsp;&nbsp;</span>Вывод</a></span></li></ul></li><li><span><a href=\"#Выбор-перспективных-платформ\" data-toc-modified-id=\"Выбор-перспективных-платформ-3.2\"><span class=\"toc-item-num\">3.2&nbsp;&nbsp;</span>Выбор перспективных платформ</a></span><ul class=\"toc-item\"><li><span><a href=\"#Вывод\" data-toc-modified-id=\"Вывод-3.2.1\"><span class=\"toc-item-num\">3.2.1&nbsp;&nbsp;</span>Вывод</a></span></li></ul></li><li><span><a href=\"#Влияние-отзывов-на-продажи\" data-toc-modified-id=\"Влияние-отзывов-на-продажи-3.3\"><span class=\"toc-item-num\">3.3&nbsp;&nbsp;</span>Влияние отзывов на продажи</a></span><ul class=\"toc-item\"><li><span><a href=\"#Вывод\" data-toc-modified-id=\"Вывод-3.3.1\"><span class=\"toc-item-num\">3.3.1&nbsp;&nbsp;</span>Вывод</a></span></li></ul></li><li><span><a href=\"#Зависимость-продаж-от-жанра\" data-toc-modified-id=\"Зависимость-продаж-от-жанра-3.4\"><span class=\"toc-item-num\">3.4&nbsp;&nbsp;</span>Зависимость продаж от жанра</a></span><ul class=\"toc-item\"><li><span><a href=\"#Вывод\" data-toc-modified-id=\"Вывод-3.4.1\"><span class=\"toc-item-num\">3.4.1&nbsp;&nbsp;</span>Вывод</a></span></li></ul></li><li><span><a href=\"#Вывод\" data-toc-modified-id=\"Вывод-3.5\"><span class=\"toc-item-num\">3.5&nbsp;&nbsp;</span>Вывод</a></span></li></ul></li><li><span><a href=\"#Портреты-пользователей\" data-toc-modified-id=\"Портреты-пользователей-4\"><span class=\"toc-item-num\">4&nbsp;&nbsp;</span>Портреты пользователей</a></span><ul class=\"toc-item\"><li><span><a href=\"#Самые-популярные-платформы\" data-toc-modified-id=\"Самые-популярные-платформы-4.1\"><span class=\"toc-item-num\">4.1&nbsp;&nbsp;</span>Самые популярные платформы</a></span><ul class=\"toc-item\"><li><span><a href=\"#Вывод\" data-toc-modified-id=\"Вывод-4.1.1\"><span class=\"toc-item-num\">4.1.1&nbsp;&nbsp;</span>Вывод</a></span></li></ul></li><li><span><a href=\"#Самые-популярные-жанры\" data-toc-modified-id=\"Самые-популярные-жанры-4.2\"><span class=\"toc-item-num\">4.2&nbsp;&nbsp;</span>Самые популярные жанры</a></span><ul class=\"toc-item\"><li><span><a href=\"#Вывод\" data-toc-modified-id=\"Вывод-4.2.1\"><span class=\"toc-item-num\">4.2.1&nbsp;&nbsp;</span>Вывод</a></span></li></ul></li><li><span><a href=\"#Влияние-рейтинга-ESRB-на-продажи-в-отдельном-регионе\" data-toc-modified-id=\"Влияние-рейтинга-ESRB-на-продажи-в-отдельном-регионе-4.3\"><span class=\"toc-item-num\">4.3&nbsp;&nbsp;</span>Влияние рейтинга ESRB на продажи в отдельном регионе</a></span><ul class=\"toc-item\"><li><span><a href=\"#Вывод\" data-toc-modified-id=\"Вывод-4.3.1\"><span class=\"toc-item-num\">4.3.1&nbsp;&nbsp;</span>Вывод</a></span></li></ul></li><li><span><a href=\"#Вывод\" data-toc-modified-id=\"Вывод-4.4\"><span class=\"toc-item-num\">4.4&nbsp;&nbsp;</span>Вывод</a></span></li></ul></li><li><span><a href=\"#Проверка-гипотез\" data-toc-modified-id=\"Проверка-гипотез-5\"><span class=\"toc-item-num\">5&nbsp;&nbsp;</span>Проверка гипотез</a></span><ul class=\"toc-item\"><li><span><a href=\"#Средние-пользовательские-рейтинги-платформ-Xbox-One-и-PC-одинаковые\" data-toc-modified-id=\"Средние-пользовательские-рейтинги-платформ-Xbox-One-и-PC-одинаковые-5.1\"><span class=\"toc-item-num\">5.1&nbsp;&nbsp;</span>Средние пользовательские рейтинги платформ Xbox One и PC одинаковые</a></span></li><li><span><a href=\"#Средние-пользовательские-рейтинги-жанров-Action-и-Sports-разные\" data-toc-modified-id=\"Средние-пользовательские-рейтинги-жанров-Action-и-Sports-разные-5.2\"><span class=\"toc-item-num\">5.2&nbsp;&nbsp;</span>Средние пользовательские рейтинги жанров Action и Sports разные</a></span></li><li><span><a href=\"#Вывод\" data-toc-modified-id=\"Вывод-5.3\"><span class=\"toc-item-num\">5.3&nbsp;&nbsp;</span>Вывод</a></span></li></ul></li><li><span><a href=\"#Общий-вывод\" data-toc-modified-id=\"Общий-вывод-6\"><span class=\"toc-item-num\">6&nbsp;&nbsp;</span>Общий вывод</a></span></li></ul></div>"
   ]
  },
  {
   "cell_type": "markdown",
   "id": "7723a3ee",
   "metadata": {},
   "source": [
    "## Знакомство с данными"
   ]
  },
  {
   "cell_type": "markdown",
   "id": "26ee226a",
   "metadata": {},
   "source": [
    "Импортируем необходимые библиотеки и ознакомимся с датасетом:"
   ]
  },
  {
   "cell_type": "code",
   "execution_count": 6,
   "id": "dfb15e03",
   "metadata": {},
   "outputs": [],
   "source": [
    "import pandas as pd\n",
    "import numpy as np\n",
    "import seaborn as sns\n",
    "import matplotlib.pyplot as plt\n",
    "from scipy import stats as st"
   ]
  },
  {
   "cell_type": "code",
   "execution_count": 7,
   "id": "1ea115ab",
   "metadata": {
    "scrolled": false
   },
   "outputs": [
    {
     "name": "stdout",
     "output_type": "stream",
     "text": [
      "<class 'pandas.core.frame.DataFrame'>\n",
      "RangeIndex: 16715 entries, 0 to 16714\n",
      "Data columns (total 11 columns):\n",
      "Name               16713 non-null object\n",
      "Platform           16715 non-null object\n",
      "Year_of_Release    16446 non-null float64\n",
      "Genre              16713 non-null object\n",
      "NA_sales           16715 non-null float64\n",
      "EU_sales           16715 non-null float64\n",
      "JP_sales           16715 non-null float64\n",
      "Other_sales        16715 non-null float64\n",
      "Critic_Score       8137 non-null float64\n",
      "User_Score         10014 non-null object\n",
      "Rating             9949 non-null object\n",
      "dtypes: float64(6), object(5)\n",
      "memory usage: 1.4+ MB\n"
     ]
    },
    {
     "data": {
      "text/html": [
       "<div>\n",
       "<style scoped>\n",
       "    .dataframe tbody tr th:only-of-type {\n",
       "        vertical-align: middle;\n",
       "    }\n",
       "\n",
       "    .dataframe tbody tr th {\n",
       "        vertical-align: top;\n",
       "    }\n",
       "\n",
       "    .dataframe thead th {\n",
       "        text-align: right;\n",
       "    }\n",
       "</style>\n",
       "<table border=\"1\" class=\"dataframe\">\n",
       "  <thead>\n",
       "    <tr style=\"text-align: right;\">\n",
       "      <th></th>\n",
       "      <th>Name</th>\n",
       "      <th>Platform</th>\n",
       "      <th>Year_of_Release</th>\n",
       "      <th>Genre</th>\n",
       "      <th>NA_sales</th>\n",
       "      <th>EU_sales</th>\n",
       "      <th>JP_sales</th>\n",
       "      <th>Other_sales</th>\n",
       "      <th>Critic_Score</th>\n",
       "      <th>User_Score</th>\n",
       "      <th>Rating</th>\n",
       "    </tr>\n",
       "  </thead>\n",
       "  <tbody>\n",
       "    <tr>\n",
       "      <td>0</td>\n",
       "      <td>Wii Sports</td>\n",
       "      <td>Wii</td>\n",
       "      <td>2006.0</td>\n",
       "      <td>Sports</td>\n",
       "      <td>41.36</td>\n",
       "      <td>28.96</td>\n",
       "      <td>3.77</td>\n",
       "      <td>8.45</td>\n",
       "      <td>76.0</td>\n",
       "      <td>8</td>\n",
       "      <td>E</td>\n",
       "    </tr>\n",
       "    <tr>\n",
       "      <td>1</td>\n",
       "      <td>Super Mario Bros.</td>\n",
       "      <td>NES</td>\n",
       "      <td>1985.0</td>\n",
       "      <td>Platform</td>\n",
       "      <td>29.08</td>\n",
       "      <td>3.58</td>\n",
       "      <td>6.81</td>\n",
       "      <td>0.77</td>\n",
       "      <td>NaN</td>\n",
       "      <td>NaN</td>\n",
       "      <td>NaN</td>\n",
       "    </tr>\n",
       "    <tr>\n",
       "      <td>2</td>\n",
       "      <td>Mario Kart Wii</td>\n",
       "      <td>Wii</td>\n",
       "      <td>2008.0</td>\n",
       "      <td>Racing</td>\n",
       "      <td>15.68</td>\n",
       "      <td>12.76</td>\n",
       "      <td>3.79</td>\n",
       "      <td>3.29</td>\n",
       "      <td>82.0</td>\n",
       "      <td>8.3</td>\n",
       "      <td>E</td>\n",
       "    </tr>\n",
       "    <tr>\n",
       "      <td>3</td>\n",
       "      <td>Wii Sports Resort</td>\n",
       "      <td>Wii</td>\n",
       "      <td>2009.0</td>\n",
       "      <td>Sports</td>\n",
       "      <td>15.61</td>\n",
       "      <td>10.93</td>\n",
       "      <td>3.28</td>\n",
       "      <td>2.95</td>\n",
       "      <td>80.0</td>\n",
       "      <td>8</td>\n",
       "      <td>E</td>\n",
       "    </tr>\n",
       "    <tr>\n",
       "      <td>4</td>\n",
       "      <td>Pokemon Red/Pokemon Blue</td>\n",
       "      <td>GB</td>\n",
       "      <td>1996.0</td>\n",
       "      <td>Role-Playing</td>\n",
       "      <td>11.27</td>\n",
       "      <td>8.89</td>\n",
       "      <td>10.22</td>\n",
       "      <td>1.00</td>\n",
       "      <td>NaN</td>\n",
       "      <td>NaN</td>\n",
       "      <td>NaN</td>\n",
       "    </tr>\n",
       "    <tr>\n",
       "      <td>...</td>\n",
       "      <td>...</td>\n",
       "      <td>...</td>\n",
       "      <td>...</td>\n",
       "      <td>...</td>\n",
       "      <td>...</td>\n",
       "      <td>...</td>\n",
       "      <td>...</td>\n",
       "      <td>...</td>\n",
       "      <td>...</td>\n",
       "      <td>...</td>\n",
       "      <td>...</td>\n",
       "    </tr>\n",
       "    <tr>\n",
       "      <td>16710</td>\n",
       "      <td>Samurai Warriors: Sanada Maru</td>\n",
       "      <td>PS3</td>\n",
       "      <td>2016.0</td>\n",
       "      <td>Action</td>\n",
       "      <td>0.00</td>\n",
       "      <td>0.00</td>\n",
       "      <td>0.01</td>\n",
       "      <td>0.00</td>\n",
       "      <td>NaN</td>\n",
       "      <td>NaN</td>\n",
       "      <td>NaN</td>\n",
       "    </tr>\n",
       "    <tr>\n",
       "      <td>16711</td>\n",
       "      <td>LMA Manager 2007</td>\n",
       "      <td>X360</td>\n",
       "      <td>2006.0</td>\n",
       "      <td>Sports</td>\n",
       "      <td>0.00</td>\n",
       "      <td>0.01</td>\n",
       "      <td>0.00</td>\n",
       "      <td>0.00</td>\n",
       "      <td>NaN</td>\n",
       "      <td>NaN</td>\n",
       "      <td>NaN</td>\n",
       "    </tr>\n",
       "    <tr>\n",
       "      <td>16712</td>\n",
       "      <td>Haitaka no Psychedelica</td>\n",
       "      <td>PSV</td>\n",
       "      <td>2016.0</td>\n",
       "      <td>Adventure</td>\n",
       "      <td>0.00</td>\n",
       "      <td>0.00</td>\n",
       "      <td>0.01</td>\n",
       "      <td>0.00</td>\n",
       "      <td>NaN</td>\n",
       "      <td>NaN</td>\n",
       "      <td>NaN</td>\n",
       "    </tr>\n",
       "    <tr>\n",
       "      <td>16713</td>\n",
       "      <td>Spirits &amp; Spells</td>\n",
       "      <td>GBA</td>\n",
       "      <td>2003.0</td>\n",
       "      <td>Platform</td>\n",
       "      <td>0.01</td>\n",
       "      <td>0.00</td>\n",
       "      <td>0.00</td>\n",
       "      <td>0.00</td>\n",
       "      <td>NaN</td>\n",
       "      <td>NaN</td>\n",
       "      <td>NaN</td>\n",
       "    </tr>\n",
       "    <tr>\n",
       "      <td>16714</td>\n",
       "      <td>Winning Post 8 2016</td>\n",
       "      <td>PSV</td>\n",
       "      <td>2016.0</td>\n",
       "      <td>Simulation</td>\n",
       "      <td>0.00</td>\n",
       "      <td>0.00</td>\n",
       "      <td>0.01</td>\n",
       "      <td>0.00</td>\n",
       "      <td>NaN</td>\n",
       "      <td>NaN</td>\n",
       "      <td>NaN</td>\n",
       "    </tr>\n",
       "  </tbody>\n",
       "</table>\n",
       "<p>16715 rows × 11 columns</p>\n",
       "</div>"
      ],
      "text/plain": [
       "                                Name Platform  Year_of_Release         Genre  \\\n",
       "0                         Wii Sports      Wii           2006.0        Sports   \n",
       "1                  Super Mario Bros.      NES           1985.0      Platform   \n",
       "2                     Mario Kart Wii      Wii           2008.0        Racing   \n",
       "3                  Wii Sports Resort      Wii           2009.0        Sports   \n",
       "4           Pokemon Red/Pokemon Blue       GB           1996.0  Role-Playing   \n",
       "...                              ...      ...              ...           ...   \n",
       "16710  Samurai Warriors: Sanada Maru      PS3           2016.0        Action   \n",
       "16711               LMA Manager 2007     X360           2006.0        Sports   \n",
       "16712        Haitaka no Psychedelica      PSV           2016.0     Adventure   \n",
       "16713               Spirits & Spells      GBA           2003.0      Platform   \n",
       "16714            Winning Post 8 2016      PSV           2016.0    Simulation   \n",
       "\n",
       "       NA_sales  EU_sales  JP_sales  Other_sales  Critic_Score User_Score  \\\n",
       "0         41.36     28.96      3.77         8.45          76.0          8   \n",
       "1         29.08      3.58      6.81         0.77           NaN        NaN   \n",
       "2         15.68     12.76      3.79         3.29          82.0        8.3   \n",
       "3         15.61     10.93      3.28         2.95          80.0          8   \n",
       "4         11.27      8.89     10.22         1.00           NaN        NaN   \n",
       "...         ...       ...       ...          ...           ...        ...   \n",
       "16710      0.00      0.00      0.01         0.00           NaN        NaN   \n",
       "16711      0.00      0.01      0.00         0.00           NaN        NaN   \n",
       "16712      0.00      0.00      0.01         0.00           NaN        NaN   \n",
       "16713      0.01      0.00      0.00         0.00           NaN        NaN   \n",
       "16714      0.00      0.00      0.01         0.00           NaN        NaN   \n",
       "\n",
       "      Rating  \n",
       "0          E  \n",
       "1        NaN  \n",
       "2          E  \n",
       "3          E  \n",
       "4        NaN  \n",
       "...      ...  \n",
       "16710    NaN  \n",
       "16711    NaN  \n",
       "16712    NaN  \n",
       "16713    NaN  \n",
       "16714    NaN  \n",
       "\n",
       "[16715 rows x 11 columns]"
      ]
     },
     "execution_count": 7,
     "metadata": {},
     "output_type": "execute_result"
    }
   ],
   "source": [
    "data = pd.read_csv('/datasets/games.csv')\n",
    "data.info()\n",
    "data"
   ]
  },
  {
   "cell_type": "markdown",
   "id": "0de8173b",
   "metadata": {},
   "source": [
    "### Вывод"
   ]
  },
  {
   "cell_type": "markdown",
   "id": "4f043832",
   "metadata": {},
   "source": [
    "В данных наблюдается много пропусков в столбцах с оценками и рейтингом игр. Нужно будет проверить данные на  дубликаты, привести  данные к нужным типам."
   ]
  },
  {
   "cell_type": "markdown",
   "id": "67cf344f",
   "metadata": {},
   "source": [
    "## Предобработка данных"
   ]
  },
  {
   "cell_type": "markdown",
   "id": "2dace135",
   "metadata": {},
   "source": [
    "### Названия столбцов"
   ]
  },
  {
   "cell_type": "markdown",
   "id": "8090aeb0",
   "metadata": {},
   "source": [
    "Названия столбцов приведем к нижнему регистру"
   ]
  },
  {
   "cell_type": "code",
   "execution_count": 8,
   "id": "1a34931f",
   "metadata": {},
   "outputs": [],
   "source": [
    "data.columns = data.columns.str.lower()"
   ]
  },
  {
   "cell_type": "markdown",
   "id": "d9f27afd",
   "metadata": {},
   "source": [
    "### Работа с пропусками и дубликатами"
   ]
  },
  {
   "cell_type": "markdown",
   "id": "32247143",
   "metadata": {},
   "source": [
    "#### Название"
   ]
  },
  {
   "cell_type": "markdown",
   "id": "b097b460",
   "metadata": {},
   "source": [
    "Посмотрим на пропуски в столбце с названием:"
   ]
  },
  {
   "cell_type": "code",
   "execution_count": 9,
   "id": "981b5f9f",
   "metadata": {
    "scrolled": true
   },
   "outputs": [
    {
     "data": {
      "text/html": [
       "<div>\n",
       "<style scoped>\n",
       "    .dataframe tbody tr th:only-of-type {\n",
       "        vertical-align: middle;\n",
       "    }\n",
       "\n",
       "    .dataframe tbody tr th {\n",
       "        vertical-align: top;\n",
       "    }\n",
       "\n",
       "    .dataframe thead th {\n",
       "        text-align: right;\n",
       "    }\n",
       "</style>\n",
       "<table border=\"1\" class=\"dataframe\">\n",
       "  <thead>\n",
       "    <tr style=\"text-align: right;\">\n",
       "      <th></th>\n",
       "      <th>name</th>\n",
       "      <th>platform</th>\n",
       "      <th>year_of_release</th>\n",
       "      <th>genre</th>\n",
       "      <th>na_sales</th>\n",
       "      <th>eu_sales</th>\n",
       "      <th>jp_sales</th>\n",
       "      <th>other_sales</th>\n",
       "      <th>critic_score</th>\n",
       "      <th>user_score</th>\n",
       "      <th>rating</th>\n",
       "    </tr>\n",
       "  </thead>\n",
       "  <tbody>\n",
       "    <tr>\n",
       "      <td>659</td>\n",
       "      <td>NaN</td>\n",
       "      <td>GEN</td>\n",
       "      <td>1993.0</td>\n",
       "      <td>NaN</td>\n",
       "      <td>1.78</td>\n",
       "      <td>0.53</td>\n",
       "      <td>0.00</td>\n",
       "      <td>0.08</td>\n",
       "      <td>NaN</td>\n",
       "      <td>NaN</td>\n",
       "      <td>NaN</td>\n",
       "    </tr>\n",
       "    <tr>\n",
       "      <td>14244</td>\n",
       "      <td>NaN</td>\n",
       "      <td>GEN</td>\n",
       "      <td>1993.0</td>\n",
       "      <td>NaN</td>\n",
       "      <td>0.00</td>\n",
       "      <td>0.00</td>\n",
       "      <td>0.03</td>\n",
       "      <td>0.00</td>\n",
       "      <td>NaN</td>\n",
       "      <td>NaN</td>\n",
       "      <td>NaN</td>\n",
       "    </tr>\n",
       "  </tbody>\n",
       "</table>\n",
       "</div>"
      ],
      "text/plain": [
       "      name platform  year_of_release genre  na_sales  eu_sales  jp_sales  \\\n",
       "659    NaN      GEN           1993.0   NaN      1.78      0.53      0.00   \n",
       "14244  NaN      GEN           1993.0   NaN      0.00      0.00      0.03   \n",
       "\n",
       "       other_sales  critic_score user_score rating  \n",
       "659           0.08           NaN        NaN    NaN  \n",
       "14244         0.00           NaN        NaN    NaN  "
      ]
     },
     "execution_count": 9,
     "metadata": {},
     "output_type": "execute_result"
    }
   ],
   "source": [
    "data[data['name'].isna()]"
   ]
  },
  {
   "cell_type": "markdown",
   "id": "dcdb13bf",
   "metadata": {},
   "source": [
    "Хоть многих данных нет, данные о продажах присутствуют. Оставим эти строки."
   ]
  },
  {
   "cell_type": "markdown",
   "id": "b1888beb",
   "metadata": {},
   "source": [
    "#### Платформа"
   ]
  },
  {
   "cell_type": "markdown",
   "id": "3867d628",
   "metadata": {},
   "source": [
    "Посмотрим на столбец с названиями платформ:"
   ]
  },
  {
   "cell_type": "code",
   "execution_count": 10,
   "id": "ef3eb2c5",
   "metadata": {},
   "outputs": [
    {
     "data": {
      "text/plain": [
       "PS2     2161\n",
       "DS      2151\n",
       "PS3     1331\n",
       "Wii     1320\n",
       "X360    1262\n",
       "PSP     1209\n",
       "PS      1197\n",
       "PC       974\n",
       "XB       824\n",
       "GBA      822\n",
       "GC       556\n",
       "3DS      520\n",
       "PSV      430\n",
       "PS4      392\n",
       "N64      319\n",
       "XOne     247\n",
       "SNES     239\n",
       "SAT      173\n",
       "WiiU     147\n",
       "2600     133\n",
       "GB        98\n",
       "NES       98\n",
       "DC        52\n",
       "GEN       29\n",
       "NG        12\n",
       "WS         6\n",
       "SCD        6\n",
       "3DO        3\n",
       "TG16       2\n",
       "GG         1\n",
       "PCFX       1\n",
       "Name: platform, dtype: int64"
      ]
     },
     "execution_count": 10,
     "metadata": {},
     "output_type": "execute_result"
    }
   ],
   "source": [
    "data['platform'].value_counts()"
   ]
  },
  {
   "cell_type": "markdown",
   "id": "246034c3",
   "metadata": {},
   "source": [
    "Повторений не наблюдается, оставим данные в таком регистре."
   ]
  },
  {
   "cell_type": "markdown",
   "id": "06dbc454",
   "metadata": {},
   "source": [
    "#### Год выпуска"
   ]
  },
  {
   "cell_type": "markdown",
   "id": "2526283e",
   "metadata": {},
   "source": [
    "Посмотрим на столбец с годами:"
   ]
  },
  {
   "cell_type": "code",
   "execution_count": 11,
   "id": "f407a528",
   "metadata": {},
   "outputs": [
    {
     "data": {
      "text/plain": [
       "2008.0    1427\n",
       "2009.0    1426\n",
       "2010.0    1255\n",
       "2007.0    1197\n",
       "2011.0    1136\n",
       "2006.0    1006\n",
       "2005.0     939\n",
       "2002.0     829\n",
       "2003.0     775\n",
       "2004.0     762\n",
       "2012.0     653\n",
       "2015.0     606\n",
       "2014.0     581\n",
       "2013.0     544\n",
       "2016.0     502\n",
       "2001.0     482\n",
       "1998.0     379\n",
       "2000.0     350\n",
       "1999.0     338\n",
       "1997.0     289\n",
       "1996.0     263\n",
       "1995.0     219\n",
       "1994.0     121\n",
       "1993.0      62\n",
       "1981.0      46\n",
       "1992.0      43\n",
       "1991.0      41\n",
       "1982.0      36\n",
       "1986.0      21\n",
       "1989.0      17\n",
       "1983.0      17\n",
       "1990.0      16\n",
       "1987.0      16\n",
       "1988.0      15\n",
       "1985.0      14\n",
       "1984.0      14\n",
       "1980.0       9\n",
       "Name: year_of_release, dtype: int64"
      ]
     },
     "execution_count": 11,
     "metadata": {},
     "output_type": "execute_result"
    }
   ],
   "source": [
    "data['year_of_release'].value_counts()"
   ]
  },
  {
   "cell_type": "markdown",
   "id": "ac29ae8a",
   "metadata": {},
   "source": [
    "Дубликатов и аномальных значений не наблюдаем. Оставим пропуски -- данные неполные, но не для всех поставленных задач нам важен год выпуска. Приведем к целочисленному типу."
   ]
  },
  {
   "cell_type": "code",
   "execution_count": 12,
   "id": "ff6a4dbb",
   "metadata": {},
   "outputs": [],
   "source": [
    "data['year_of_release'] = data['year_of_release'].astype('Int64')"
   ]
  },
  {
   "cell_type": "markdown",
   "id": "dffdb338",
   "metadata": {},
   "source": [
    "#### Жанр"
   ]
  },
  {
   "cell_type": "markdown",
   "id": "975afdf1",
   "metadata": {},
   "source": [
    "NaN в колонке с жанрами мы уже видели. Проверим на неявные пропуски и дубликаты:"
   ]
  },
  {
   "cell_type": "code",
   "execution_count": 13,
   "id": "e49d9e20",
   "metadata": {},
   "outputs": [
    {
     "data": {
      "text/plain": [
       "Action          3369\n",
       "Sports          2348\n",
       "Misc            1750\n",
       "Role-Playing    1498\n",
       "Shooter         1323\n",
       "Adventure       1303\n",
       "Racing          1249\n",
       "Platform         888\n",
       "Simulation       873\n",
       "Fighting         849\n",
       "Strategy         683\n",
       "Puzzle           580\n",
       "Name: genre, dtype: int64"
      ]
     },
     "execution_count": 13,
     "metadata": {},
     "output_type": "execute_result"
    }
   ],
   "source": [
    "data['genre'].value_counts()"
   ]
  },
  {
   "cell_type": "markdown",
   "id": "c3fce939",
   "metadata": {},
   "source": [
    "Проблем не видно. Данные категоризированны в десяток самых крупных жанров, а более мелкие жанры собраны в жанр \"Misc\" -- \"разное\""
   ]
  },
  {
   "cell_type": "markdown",
   "id": "db79efb7",
   "metadata": {},
   "source": [
    "#### Продажи"
   ]
  },
  {
   "cell_type": "markdown",
   "id": "35abb101",
   "metadata": {},
   "source": [
    "Проверим нет ли отрицательных значений в столбцах продаж:"
   ]
  },
  {
   "cell_type": "code",
   "execution_count": 14,
   "id": "660fcd80",
   "metadata": {},
   "outputs": [
    {
     "name": "stdout",
     "output_type": "stream",
     "text": [
      "0.0\n",
      "0.0\n",
      "0.0\n",
      "0.0\n"
     ]
    }
   ],
   "source": [
    "print(data['na_sales'].min())\n",
    "print(data['eu_sales'].min())\n",
    "print(data['jp_sales'].min())\n",
    "print(data['other_sales'].min())"
   ]
  },
  {
   "cell_type": "markdown",
   "id": "09cf58f0",
   "metadata": {},
   "source": [
    "#### Оценка критиков"
   ]
  },
  {
   "cell_type": "code",
   "execution_count": 15,
   "id": "e3514d81",
   "metadata": {},
   "outputs": [
    {
     "data": {
      "text/plain": [
       "<matplotlib.axes._subplots.AxesSubplot at 0x7fb053c77210>"
      ]
     },
     "execution_count": 15,
     "metadata": {},
     "output_type": "execute_result"
    },
    {
     "data": {
      "image/png": "[encoded data removed]",
      "text/plain": [
       "<Figure size 432x288 with 1 Axes>"
      ]
     },
     "metadata": {
      "needs_background": "light"
     },
     "output_type": "display_data"
    }
   ],
   "source": [
    "data['critic_score'].hist()"
   ]
  },
  {
   "cell_type": "markdown",
   "id": "88429a42",
   "metadata": {},
   "source": [
    "Данные располагаются в заданных рамках: от 0 до 100. Все значения столбца целые, поэтому поменяем тип данных."
   ]
  },
  {
   "cell_type": "code",
   "execution_count": 16,
   "id": "7e77a984",
   "metadata": {},
   "outputs": [],
   "source": [
    "data['critic_score'] = data['critic_score'].astype('Int64')"
   ]
  },
  {
   "cell_type": "markdown",
   "id": "f82b558f",
   "metadata": {},
   "source": [
    "#### Оценка пользователей"
   ]
  },
  {
   "cell_type": "code",
   "execution_count": 17,
   "id": "c5357164",
   "metadata": {},
   "outputs": [
    {
     "data": {
      "text/plain": [
       "tbd    2424\n",
       "7.8     324\n",
       "8       290\n",
       "8.2     282\n",
       "8.3     254\n",
       "       ... \n",
       "0.7       2\n",
       "9.6       2\n",
       "1.1       2\n",
       "9.7       1\n",
       "0         1\n",
       "Name: user_score, Length: 96, dtype: int64"
      ]
     },
     "execution_count": 17,
     "metadata": {},
     "output_type": "execute_result"
    }
   ],
   "source": [
    "data['user_score'].value_counts()"
   ]
  },
  {
   "cell_type": "markdown",
   "id": "a2e28804",
   "metadata": {},
   "source": [
    "Странное значение в столбце -- `tbd`. Скорее всего оно расшифровывается как `to be decided/determined`. То есть для этих игр оценка пользователей не была рассчитана, возможно продажи слишком малы и у игры недостаточно отзывов? Посмотрим на данные с `tbd`."
   ]
  },
  {
   "cell_type": "code",
   "execution_count": 18,
   "id": "6ef956a8",
   "metadata": {},
   "outputs": [
    {
     "data": {
      "text/html": [
       "<div>\n",
       "<style scoped>\n",
       "    .dataframe tbody tr th:only-of-type {\n",
       "        vertical-align: middle;\n",
       "    }\n",
       "\n",
       "    .dataframe tbody tr th {\n",
       "        vertical-align: top;\n",
       "    }\n",
       "\n",
       "    .dataframe thead th {\n",
       "        text-align: right;\n",
       "    }\n",
       "</style>\n",
       "<table border=\"1\" class=\"dataframe\">\n",
       "  <thead>\n",
       "    <tr style=\"text-align: right;\">\n",
       "      <th></th>\n",
       "      <th>name</th>\n",
       "      <th>platform</th>\n",
       "      <th>year_of_release</th>\n",
       "      <th>genre</th>\n",
       "      <th>na_sales</th>\n",
       "      <th>eu_sales</th>\n",
       "      <th>jp_sales</th>\n",
       "      <th>other_sales</th>\n",
       "      <th>critic_score</th>\n",
       "      <th>user_score</th>\n",
       "      <th>rating</th>\n",
       "    </tr>\n",
       "  </thead>\n",
       "  <tbody>\n",
       "    <tr>\n",
       "      <td>119</td>\n",
       "      <td>Zumba Fitness</td>\n",
       "      <td>Wii</td>\n",
       "      <td>2010</td>\n",
       "      <td>Sports</td>\n",
       "      <td>3.45</td>\n",
       "      <td>2.59</td>\n",
       "      <td>0.0</td>\n",
       "      <td>0.66</td>\n",
       "      <td>NaN</td>\n",
       "      <td>tbd</td>\n",
       "      <td>E</td>\n",
       "    </tr>\n",
       "    <tr>\n",
       "      <td>301</td>\n",
       "      <td>Namco Museum: 50th Anniversary</td>\n",
       "      <td>PS2</td>\n",
       "      <td>2005</td>\n",
       "      <td>Misc</td>\n",
       "      <td>2.08</td>\n",
       "      <td>1.35</td>\n",
       "      <td>0.0</td>\n",
       "      <td>0.54</td>\n",
       "      <td>61</td>\n",
       "      <td>tbd</td>\n",
       "      <td>E10+</td>\n",
       "    </tr>\n",
       "    <tr>\n",
       "      <td>520</td>\n",
       "      <td>Zumba Fitness 2</td>\n",
       "      <td>Wii</td>\n",
       "      <td>2011</td>\n",
       "      <td>Sports</td>\n",
       "      <td>1.51</td>\n",
       "      <td>1.03</td>\n",
       "      <td>0.0</td>\n",
       "      <td>0.27</td>\n",
       "      <td>NaN</td>\n",
       "      <td>tbd</td>\n",
       "      <td>T</td>\n",
       "    </tr>\n",
       "    <tr>\n",
       "      <td>645</td>\n",
       "      <td>uDraw Studio</td>\n",
       "      <td>Wii</td>\n",
       "      <td>2010</td>\n",
       "      <td>Misc</td>\n",
       "      <td>1.65</td>\n",
       "      <td>0.57</td>\n",
       "      <td>0.0</td>\n",
       "      <td>0.20</td>\n",
       "      <td>71</td>\n",
       "      <td>tbd</td>\n",
       "      <td>E</td>\n",
       "    </tr>\n",
       "    <tr>\n",
       "      <td>657</td>\n",
       "      <td>Frogger's Adventures: Temple of the Frog</td>\n",
       "      <td>GBA</td>\n",
       "      <td>NaN</td>\n",
       "      <td>Adventure</td>\n",
       "      <td>2.15</td>\n",
       "      <td>0.18</td>\n",
       "      <td>0.0</td>\n",
       "      <td>0.07</td>\n",
       "      <td>73</td>\n",
       "      <td>tbd</td>\n",
       "      <td>E</td>\n",
       "    </tr>\n",
       "    <tr>\n",
       "      <td>...</td>\n",
       "      <td>...</td>\n",
       "      <td>...</td>\n",
       "      <td>...</td>\n",
       "      <td>...</td>\n",
       "      <td>...</td>\n",
       "      <td>...</td>\n",
       "      <td>...</td>\n",
       "      <td>...</td>\n",
       "      <td>...</td>\n",
       "      <td>...</td>\n",
       "      <td>...</td>\n",
       "    </tr>\n",
       "    <tr>\n",
       "      <td>16695</td>\n",
       "      <td>Planet Monsters</td>\n",
       "      <td>GBA</td>\n",
       "      <td>2001</td>\n",
       "      <td>Action</td>\n",
       "      <td>0.01</td>\n",
       "      <td>0.00</td>\n",
       "      <td>0.0</td>\n",
       "      <td>0.00</td>\n",
       "      <td>67</td>\n",
       "      <td>tbd</td>\n",
       "      <td>E</td>\n",
       "    </tr>\n",
       "    <tr>\n",
       "      <td>16697</td>\n",
       "      <td>Bust-A-Move 3000</td>\n",
       "      <td>GC</td>\n",
       "      <td>2003</td>\n",
       "      <td>Puzzle</td>\n",
       "      <td>0.01</td>\n",
       "      <td>0.00</td>\n",
       "      <td>0.0</td>\n",
       "      <td>0.00</td>\n",
       "      <td>53</td>\n",
       "      <td>tbd</td>\n",
       "      <td>E</td>\n",
       "    </tr>\n",
       "    <tr>\n",
       "      <td>16698</td>\n",
       "      <td>Mega Brain Boost</td>\n",
       "      <td>DS</td>\n",
       "      <td>2008</td>\n",
       "      <td>Puzzle</td>\n",
       "      <td>0.01</td>\n",
       "      <td>0.00</td>\n",
       "      <td>0.0</td>\n",
       "      <td>0.00</td>\n",
       "      <td>48</td>\n",
       "      <td>tbd</td>\n",
       "      <td>E</td>\n",
       "    </tr>\n",
       "    <tr>\n",
       "      <td>16704</td>\n",
       "      <td>Plushees</td>\n",
       "      <td>DS</td>\n",
       "      <td>2008</td>\n",
       "      <td>Simulation</td>\n",
       "      <td>0.01</td>\n",
       "      <td>0.00</td>\n",
       "      <td>0.0</td>\n",
       "      <td>0.00</td>\n",
       "      <td>NaN</td>\n",
       "      <td>tbd</td>\n",
       "      <td>E</td>\n",
       "    </tr>\n",
       "    <tr>\n",
       "      <td>16706</td>\n",
       "      <td>Men in Black II: Alien Escape</td>\n",
       "      <td>GC</td>\n",
       "      <td>2003</td>\n",
       "      <td>Shooter</td>\n",
       "      <td>0.01</td>\n",
       "      <td>0.00</td>\n",
       "      <td>0.0</td>\n",
       "      <td>0.00</td>\n",
       "      <td>NaN</td>\n",
       "      <td>tbd</td>\n",
       "      <td>T</td>\n",
       "    </tr>\n",
       "  </tbody>\n",
       "</table>\n",
       "<p>2424 rows × 11 columns</p>\n",
       "</div>"
      ],
      "text/plain": [
       "                                           name platform  year_of_release  \\\n",
       "119                               Zumba Fitness      Wii             2010   \n",
       "301              Namco Museum: 50th Anniversary      PS2             2005   \n",
       "520                             Zumba Fitness 2      Wii             2011   \n",
       "645                                uDraw Studio      Wii             2010   \n",
       "657    Frogger's Adventures: Temple of the Frog      GBA              NaN   \n",
       "...                                         ...      ...              ...   \n",
       "16695                           Planet Monsters      GBA             2001   \n",
       "16697                          Bust-A-Move 3000       GC             2003   \n",
       "16698                          Mega Brain Boost       DS             2008   \n",
       "16704                                  Plushees       DS             2008   \n",
       "16706             Men in Black II: Alien Escape       GC             2003   \n",
       "\n",
       "            genre  na_sales  eu_sales  jp_sales  other_sales  critic_score  \\\n",
       "119        Sports      3.45      2.59       0.0         0.66           NaN   \n",
       "301          Misc      2.08      1.35       0.0         0.54            61   \n",
       "520        Sports      1.51      1.03       0.0         0.27           NaN   \n",
       "645          Misc      1.65      0.57       0.0         0.20            71   \n",
       "657     Adventure      2.15      0.18       0.0         0.07            73   \n",
       "...           ...       ...       ...       ...          ...           ...   \n",
       "16695      Action      0.01      0.00       0.0         0.00            67   \n",
       "16697      Puzzle      0.01      0.00       0.0         0.00            53   \n",
       "16698      Puzzle      0.01      0.00       0.0         0.00            48   \n",
       "16704  Simulation      0.01      0.00       0.0         0.00           NaN   \n",
       "16706     Shooter      0.01      0.00       0.0         0.00           NaN   \n",
       "\n",
       "      user_score rating  \n",
       "119          tbd      E  \n",
       "301          tbd   E10+  \n",
       "520          tbd      T  \n",
       "645          tbd      E  \n",
       "657          tbd      E  \n",
       "...          ...    ...  \n",
       "16695        tbd      E  \n",
       "16697        tbd      E  \n",
       "16698        tbd      E  \n",
       "16704        tbd      E  \n",
       "16706        tbd      T  \n",
       "\n",
       "[2424 rows x 11 columns]"
      ]
     },
     "execution_count": 18,
     "metadata": {},
     "output_type": "execute_result"
    }
   ],
   "source": [
    "data.query('user_score == \"tbd\"')"
   ]
  },
  {
   "cell_type": "markdown",
   "id": "9ce3f8ae",
   "metadata": {},
   "source": [
    "Продажи разные. Никаких конкретных совпадений в строках нет, видимо оценки просто не рассчитаны.\n",
    "Строковое значение в столбце численных значений будет сильно затруднять нам рассчеты. Мы можем заменить это значение -1 или 0, но эти значения сильно испортят нам статистику, рассчеты среднего, графики. Заменим это значение NaN и приведем столбец к числовому значению.\n",
    "Так же, для того чтобы значения оценок были сравнимыми, умножим оценки пользователей на 10 и приведем к int."
   ]
  },
  {
   "cell_type": "code",
   "execution_count": 19,
   "id": "a20085df",
   "metadata": {},
   "outputs": [
    {
     "data": {
      "text/plain": [
       "0         80\n",
       "1        NaN\n",
       "2         83\n",
       "3         80\n",
       "4        NaN\n",
       "        ... \n",
       "16710    NaN\n",
       "16711    NaN\n",
       "16712    NaN\n",
       "16713    NaN\n",
       "16714    NaN\n",
       "Name: user_score, Length: 16715, dtype: Int64"
      ]
     },
     "execution_count": 19,
     "metadata": {},
     "output_type": "execute_result"
    }
   ],
   "source": [
    "data['user_score'] = data['user_score'].replace('tbd', np.nan)\n",
    "data['user_score'] = (data['user_score'].astype('float') * 10).astype('Int64')\n",
    "data['user_score']"
   ]
  },
  {
   "cell_type": "markdown",
   "id": "e0f88ff9",
   "metadata": {},
   "source": [
    "#### Рейтинг ESRB"
   ]
  },
  {
   "cell_type": "markdown",
   "id": "f11a96f6",
   "metadata": {},
   "source": [
    "Посмотрим на значения последнего столбца"
   ]
  },
  {
   "cell_type": "code",
   "execution_count": 20,
   "id": "a8a1cd50",
   "metadata": {},
   "outputs": [
    {
     "data": {
      "text/plain": [
       "E       3990\n",
       "T       2961\n",
       "M       1563\n",
       "E10+    1420\n",
       "EC         8\n",
       "K-A        3\n",
       "RP         3\n",
       "AO         1\n",
       "Name: rating, dtype: int64"
      ]
     },
     "execution_count": 20,
     "metadata": {},
     "output_type": "execute_result"
    }
   ],
   "source": [
    "data['rating'].value_counts()"
   ]
  },
  {
   "cell_type": "markdown",
   "id": "b44ad33c",
   "metadata": {},
   "source": [
    "Самые популярные рейтинги -- Everyone(для всех), Teen(от 13 лет), Mature(от 17), Everyone 10+(от 10). Так же есть несколько устаревших рейтингов(Early Childhood -- для дошкольников, Kids to Adults -- теперь он Everyone), и несколько редко используемых(Rating Pending -- рейтинг еще не определен, Adilts Only -- от 18).\n",
    "Можно было бы заменить устаревшие рейтинги, но это не обязательно. В целом лишних значений нет."
   ]
  },
  {
   "cell_type": "markdown",
   "id": "05084038",
   "metadata": {},
   "source": [
    "#### Проверка на дубликаты"
   ]
  },
  {
   "cell_type": "code",
   "execution_count": 21,
   "id": "e954c9d4",
   "metadata": {},
   "outputs": [
    {
     "data": {
      "text/plain": [
       "0"
      ]
     },
     "execution_count": 21,
     "metadata": {},
     "output_type": "execute_result"
    }
   ],
   "source": [
    "data.duplicated().sum()"
   ]
  },
  {
   "cell_type": "markdown",
   "id": "6078173c",
   "metadata": {},
   "source": [
    "Явных дубликатов нет, а неявные мы не нашли, рассматривая отдельные столбцы."
   ]
  },
  {
   "cell_type": "code",
   "execution_count": 22,
   "id": "f74db4bc",
   "metadata": {},
   "outputs": [
    {
     "name": "stdout",
     "output_type": "stream",
     "text": [
      "<class 'pandas.core.frame.DataFrame'>\n",
      "RangeIndex: 16715 entries, 0 to 16714\n",
      "Data columns (total 11 columns):\n",
      "name               16713 non-null object\n",
      "platform           16715 non-null object\n",
      "year_of_release    16446 non-null Int64\n",
      "genre              16713 non-null object\n",
      "na_sales           16715 non-null float64\n",
      "eu_sales           16715 non-null float64\n",
      "jp_sales           16715 non-null float64\n",
      "other_sales        16715 non-null float64\n",
      "critic_score       8137 non-null Int64\n",
      "user_score         7590 non-null Int64\n",
      "rating             9949 non-null object\n",
      "dtypes: Int64(3), float64(4), object(4)\n",
      "memory usage: 1.5+ MB\n"
     ]
    }
   ],
   "source": [
    "data.info()"
   ]
  },
  {
   "cell_type": "markdown",
   "id": "716d9ab2",
   "metadata": {},
   "source": [
    "### Рассчеты"
   ]
  },
  {
   "cell_type": "code",
   "execution_count": 23,
   "id": "ceefc5fb",
   "metadata": {},
   "outputs": [],
   "source": [
    "data['total_sales'] = data['na_sales'] + data['eu_sales'] + data['jp_sales'] + data['other_sales']"
   ]
  },
  {
   "cell_type": "markdown",
   "id": "4f6c7796",
   "metadata": {},
   "source": [
    "Столбец с общими продажами добавили"
   ]
  },
  {
   "cell_type": "markdown",
   "id": "e5a26809",
   "metadata": {},
   "source": [
    "### Вывод"
   ]
  },
  {
   "cell_type": "markdown",
   "id": "5de51974",
   "metadata": {},
   "source": [
    "Мы привели данные к удобному виду, разобрались с пропусками, рассчитали столбец общих продаж."
   ]
  },
  {
   "cell_type": "markdown",
   "id": "02f93793",
   "metadata": {},
   "source": [
    "## Анализ данных"
   ]
  },
  {
   "cell_type": "markdown",
   "id": "13e5e3f2",
   "metadata": {},
   "source": [
    "### Выделение актуального периода"
   ]
  },
  {
   "cell_type": "markdown",
   "id": "25c47877",
   "metadata": {},
   "source": [
    "Посмотрим на количество игр, выпускавшихся в разные годы:"
   ]
  },
  {
   "cell_type": "code",
   "execution_count": 24,
   "id": "5b9fc4e7",
   "metadata": {
    "scrolled": true
   },
   "outputs": [
    {
     "data": {
      "text/plain": [
       "Text(0.5, 1.0, 'Year of release')"
      ]
     },
     "execution_count": 24,
     "metadata": {},
     "output_type": "execute_result"
    },
    {
     "data": {
      "image/png": "[encoded data removed]",
      "text/plain": [
       "<Figure size 432x288 with 1 Axes>"
      ]
     },
     "metadata": {
      "needs_background": "light"
     },
     "output_type": "display_data"
    }
   ],
   "source": [
    "data['year_of_release'].hist(bins=25)\n",
    "plt.title('Year of release')"
   ]
  },
  {
   "cell_type": "markdown",
   "id": "e7b7ce68",
   "metadata": {},
   "source": [
    "Мы можем увидеть, как росла игровая индустрия: в начале 90х начали выпускать больше игр, и их количество росло до 2010 года с резкими пиками -- возможно в эти годы выпускали новые поколения популярных консолей: Xbox, PS, Nintendo. После 2010 общий тренд почему-то пошел на спад, хотя пики все так же наблюдаются.\n",
    "Для нашей задачи актуальны игры, которые продавались не так давно, и скорее всего на актуальных консолях(например игры на NES уже не выпускаются. Однако по их данным возможно можно будет все равно выделить какие-то закономерности, пусть и не полностью актуальные сейчас).\n",
    "Из того что мы наблюдаем на гистограмме можно заранее предположить, что для нас будет неактуален хвост до 1995, или даже 2000 года."
   ]
  },
  {
   "cell_type": "code",
   "execution_count": 25,
   "id": "88a87ed2",
   "metadata": {},
   "outputs": [
    {
     "data": {
      "text/plain": [
       "PS2     2161\n",
       "DS      2151\n",
       "PS3     1331\n",
       "Wii     1320\n",
       "X360    1262\n",
       "Name: platform, dtype: int64"
      ]
     },
     "execution_count": 25,
     "metadata": {},
     "output_type": "execute_result"
    }
   ],
   "source": [
    "best_selling_platforms = data['platform'].value_counts().head()\n",
    "best_selling_platforms"
   ]
  },
  {
   "cell_type": "markdown",
   "id": "b6535a14",
   "metadata": {},
   "source": [
    "Посмотрим на распределение по годам для самых популярных платформ:"
   ]
  },
  {
   "cell_type": "code",
   "execution_count": 26,
   "id": "5e28dbec",
   "metadata": {},
   "outputs": [
    {
     "data": {
      "text/html": [
       "<div>\n",
       "<style scoped>\n",
       "    .dataframe tbody tr th:only-of-type {\n",
       "        vertical-align: middle;\n",
       "    }\n",
       "\n",
       "    .dataframe tbody tr th {\n",
       "        vertical-align: top;\n",
       "    }\n",
       "\n",
       "    .dataframe thead th {\n",
       "        text-align: right;\n",
       "    }\n",
       "</style>\n",
       "<table border=\"1\" class=\"dataframe\">\n",
       "  <thead>\n",
       "    <tr style=\"text-align: right;\">\n",
       "      <th>year_of_release</th>\n",
       "      <th>1985</th>\n",
       "      <th>2000</th>\n",
       "      <th>2001</th>\n",
       "      <th>2002</th>\n",
       "      <th>2003</th>\n",
       "      <th>2004</th>\n",
       "      <th>2005</th>\n",
       "      <th>2006</th>\n",
       "      <th>2007</th>\n",
       "      <th>2008</th>\n",
       "      <th>2009</th>\n",
       "      <th>2010</th>\n",
       "      <th>2011</th>\n",
       "      <th>2012</th>\n",
       "      <th>2013</th>\n",
       "      <th>2014</th>\n",
       "      <th>2015</th>\n",
       "      <th>2016</th>\n",
       "    </tr>\n",
       "    <tr>\n",
       "      <th>platform</th>\n",
       "      <th></th>\n",
       "      <th></th>\n",
       "      <th></th>\n",
       "      <th></th>\n",
       "      <th></th>\n",
       "      <th></th>\n",
       "      <th></th>\n",
       "      <th></th>\n",
       "      <th></th>\n",
       "      <th></th>\n",
       "      <th></th>\n",
       "      <th></th>\n",
       "      <th></th>\n",
       "      <th></th>\n",
       "      <th></th>\n",
       "      <th></th>\n",
       "      <th></th>\n",
       "      <th></th>\n",
       "    </tr>\n",
       "  </thead>\n",
       "  <tbody>\n",
       "    <tr>\n",
       "      <td>DS</td>\n",
       "      <td>1.0</td>\n",
       "      <td>NaN</td>\n",
       "      <td>NaN</td>\n",
       "      <td>NaN</td>\n",
       "      <td>NaN</td>\n",
       "      <td>23.0</td>\n",
       "      <td>118.0</td>\n",
       "      <td>201.0</td>\n",
       "      <td>376.0</td>\n",
       "      <td>492.0</td>\n",
       "      <td>403.0</td>\n",
       "      <td>323.0</td>\n",
       "      <td>153.0</td>\n",
       "      <td>23.0</td>\n",
       "      <td>8.0</td>\n",
       "      <td>NaN</td>\n",
       "      <td>NaN</td>\n",
       "      <td>NaN</td>\n",
       "    </tr>\n",
       "    <tr>\n",
       "      <td>PS2</td>\n",
       "      <td>NaN</td>\n",
       "      <td>82.0</td>\n",
       "      <td>185.0</td>\n",
       "      <td>280.0</td>\n",
       "      <td>256.0</td>\n",
       "      <td>259.0</td>\n",
       "      <td>260.0</td>\n",
       "      <td>259.0</td>\n",
       "      <td>214.0</td>\n",
       "      <td>191.0</td>\n",
       "      <td>96.0</td>\n",
       "      <td>38.0</td>\n",
       "      <td>7.0</td>\n",
       "      <td>NaN</td>\n",
       "      <td>NaN</td>\n",
       "      <td>NaN</td>\n",
       "      <td>NaN</td>\n",
       "      <td>NaN</td>\n",
       "    </tr>\n",
       "    <tr>\n",
       "      <td>PS3</td>\n",
       "      <td>NaN</td>\n",
       "      <td>NaN</td>\n",
       "      <td>NaN</td>\n",
       "      <td>NaN</td>\n",
       "      <td>NaN</td>\n",
       "      <td>NaN</td>\n",
       "      <td>NaN</td>\n",
       "      <td>27.0</td>\n",
       "      <td>90.0</td>\n",
       "      <td>138.0</td>\n",
       "      <td>162.0</td>\n",
       "      <td>181.0</td>\n",
       "      <td>215.0</td>\n",
       "      <td>148.0</td>\n",
       "      <td>126.0</td>\n",
       "      <td>108.0</td>\n",
       "      <td>73.0</td>\n",
       "      <td>38.0</td>\n",
       "    </tr>\n",
       "    <tr>\n",
       "      <td>Wii</td>\n",
       "      <td>NaN</td>\n",
       "      <td>NaN</td>\n",
       "      <td>NaN</td>\n",
       "      <td>NaN</td>\n",
       "      <td>NaN</td>\n",
       "      <td>NaN</td>\n",
       "      <td>NaN</td>\n",
       "      <td>44.0</td>\n",
       "      <td>185.0</td>\n",
       "      <td>282.0</td>\n",
       "      <td>325.0</td>\n",
       "      <td>253.0</td>\n",
       "      <td>143.0</td>\n",
       "      <td>31.0</td>\n",
       "      <td>12.0</td>\n",
       "      <td>6.0</td>\n",
       "      <td>4.0</td>\n",
       "      <td>1.0</td>\n",
       "    </tr>\n",
       "    <tr>\n",
       "      <td>X360</td>\n",
       "      <td>NaN</td>\n",
       "      <td>NaN</td>\n",
       "      <td>NaN</td>\n",
       "      <td>NaN</td>\n",
       "      <td>NaN</td>\n",
       "      <td>NaN</td>\n",
       "      <td>18.0</td>\n",
       "      <td>93.0</td>\n",
       "      <td>123.0</td>\n",
       "      <td>146.0</td>\n",
       "      <td>172.0</td>\n",
       "      <td>182.0</td>\n",
       "      <td>206.0</td>\n",
       "      <td>106.0</td>\n",
       "      <td>75.0</td>\n",
       "      <td>63.0</td>\n",
       "      <td>35.0</td>\n",
       "      <td>13.0</td>\n",
       "    </tr>\n",
       "  </tbody>\n",
       "</table>\n",
       "</div>"
      ],
      "text/plain": [
       "year_of_release  1985  2000   2001   2002   2003   2004   2005   2006   2007  \\\n",
       "platform                                                                       \n",
       "DS                1.0   NaN    NaN    NaN    NaN   23.0  118.0  201.0  376.0   \n",
       "PS2               NaN  82.0  185.0  280.0  256.0  259.0  260.0  259.0  214.0   \n",
       "PS3               NaN   NaN    NaN    NaN    NaN    NaN    NaN   27.0   90.0   \n",
       "Wii               NaN   NaN    NaN    NaN    NaN    NaN    NaN   44.0  185.0   \n",
       "X360              NaN   NaN    NaN    NaN    NaN    NaN   18.0   93.0  123.0   \n",
       "\n",
       "year_of_release   2008   2009   2010   2011   2012   2013   2014  2015  2016  \n",
       "platform                                                                      \n",
       "DS               492.0  403.0  323.0  153.0   23.0    8.0    NaN   NaN   NaN  \n",
       "PS2              191.0   96.0   38.0    7.0    NaN    NaN    NaN   NaN   NaN  \n",
       "PS3              138.0  162.0  181.0  215.0  148.0  126.0  108.0  73.0  38.0  \n",
       "Wii              282.0  325.0  253.0  143.0   31.0   12.0    6.0   4.0   1.0  \n",
       "X360             146.0  172.0  182.0  206.0  106.0   75.0   63.0  35.0  13.0  "
      ]
     },
     "execution_count": 26,
     "metadata": {},
     "output_type": "execute_result"
    }
   ],
   "source": [
    "(data.query('platform in @best_selling_platforms.index')\n",
    "    .pivot_table(index='platform', columns='year_of_release', values='name', aggfunc='count'))"
   ]
  },
  {
   "cell_type": "code",
   "execution_count": 27,
   "id": "60845935",
   "metadata": {
    "scrolled": false
   },
   "outputs": [
    {
     "data": {
      "image/png": "[encoded data removed]",
      "text/plain": [
       "<Figure size 432x288 with 1 Axes>"
      ]
     },
     "metadata": {
      "needs_background": "light"
     },
     "output_type": "display_data"
    },
    {
     "data": {
      "image/png": "[encoded data removed]",
      "text/plain": [
       "<Figure size 432x288 with 1 Axes>"
      ]
     },
     "metadata": {
      "needs_background": "light"
     },
     "output_type": "display_data"
    },
    {
     "data": {
      "image/png": "[encoded data removed]",
      "text/plain": [
       "<Figure size 432x288 with 1 Axes>"
      ]
     },
     "metadata": {
      "needs_background": "light"
     },
     "output_type": "display_data"
    },
    {
     "data": {
      "image/png": "[encoded data removed]",
      "text/plain": [
       "<Figure size 432x288 with 1 Axes>"
      ]
     },
     "metadata": {
      "needs_background": "light"
     },
     "output_type": "display_data"
    },
    {
     "data": {
      "image/png": "[encoded data removed]",
      "text/plain": [
       "<Figure size 432x288 with 1 Axes>"
      ]
     },
     "metadata": {
      "needs_background": "light"
     },
     "output_type": "display_data"
    }
   ],
   "source": [
    "for pop_platform in best_selling_platforms.index:\n",
    "    plt.title(pop_platform)\n",
    "    (data.query('platform == @pop_platform')\n",
    "    ['year_of_release'].plot(\n",
    "        kind='hist', bins=15, \n",
    "        range= (2000, 2016),   #игра на DS 1985 года скорее всего ошибка в данных\n",
    "        label=pop_platform, alpha=0.5, \n",
    "        figsize=(6, 4), histtype='step',\n",
    "        linewidth=10))\n",
    "    plt.show()"
   ]
  },
  {
   "cell_type": "markdown",
   "id": "1bd03f46",
   "metadata": {},
   "source": [
    "По таблице и гистограммам мы можем сделать два вывода:\n",
    "\n",
    "    1) Первоначальная идея, что \"пики\" в гистограмме количества игр происходят в год выхода консоли опроверглась -- в первый год платформы игр не максимальное количество\n",
    "    2) Время жизни консоли -- порядка 10 лет. Значит для прогноза на 2017 год нам актуальны игры с 2007 по 2016 год."
   ]
  },
  {
   "cell_type": "code",
   "execution_count": 28,
   "id": "411418a2",
   "metadata": {},
   "outputs": [
    {
     "name": "stdout",
     "output_type": "stream",
     "text": [
      "<class 'pandas.core.frame.DataFrame'>\n",
      "Int64Index: 9327 entries, 2 to 16714\n",
      "Data columns (total 12 columns):\n",
      "name               9327 non-null object\n",
      "platform           9327 non-null object\n",
      "year_of_release    9327 non-null Int64\n",
      "genre              9327 non-null object\n",
      "na_sales           9327 non-null float64\n",
      "eu_sales           9327 non-null float64\n",
      "jp_sales           9327 non-null float64\n",
      "other_sales        9327 non-null float64\n",
      "critic_score       4370 non-null Int64\n",
      "user_score         4403 non-null Int64\n",
      "rating             5926 non-null object\n",
      "total_sales        9327 non-null float64\n",
      "dtypes: Int64(3), float64(5), object(4)\n",
      "memory usage: 974.6+ KB\n"
     ]
    }
   ],
   "source": [
    "data = data.query('year_of_release >= 2007', engine='python')\n",
    "data.info()"
   ]
  },
  {
   "cell_type": "markdown",
   "id": "110b6d62",
   "metadata": {},
   "source": [
    "#### Вывод"
   ]
  },
  {
   "cell_type": "markdown",
   "id": "c94f5d1b",
   "metadata": {},
   "source": [
    "Актуальные для нашей задачи данные -- у игр выпущенных не раньше 2007 года"
   ]
  },
  {
   "cell_type": "markdown",
   "id": "ea12f51f",
   "metadata": {},
   "source": [
    "### Выбор перспективных платформ"
   ]
  },
  {
   "cell_type": "markdown",
   "id": "39679824",
   "metadata": {},
   "source": [
    "Посмотрим на продажи по платформам за последние годы:"
   ]
  },
  {
   "cell_type": "code",
   "execution_count": 29,
   "id": "f0a5a3ae",
   "metadata": {
    "scrolled": false
   },
   "outputs": [
    {
     "data": {
      "text/html": [
       "<div>\n",
       "<style scoped>\n",
       "    .dataframe tbody tr th:only-of-type {\n",
       "        vertical-align: middle;\n",
       "    }\n",
       "\n",
       "    .dataframe tbody tr th {\n",
       "        vertical-align: top;\n",
       "    }\n",
       "\n",
       "    .dataframe thead th {\n",
       "        text-align: right;\n",
       "    }\n",
       "</style>\n",
       "<table border=\"1\" class=\"dataframe\">\n",
       "  <thead>\n",
       "    <tr style=\"text-align: right;\">\n",
       "      <th>year_of_release</th>\n",
       "      <th>2007</th>\n",
       "      <th>2008</th>\n",
       "      <th>2009</th>\n",
       "      <th>2010</th>\n",
       "      <th>2011</th>\n",
       "      <th>2012</th>\n",
       "      <th>2013</th>\n",
       "      <th>2014</th>\n",
       "      <th>2015</th>\n",
       "      <th>2016</th>\n",
       "    </tr>\n",
       "    <tr>\n",
       "      <th>platform</th>\n",
       "      <th></th>\n",
       "      <th></th>\n",
       "      <th></th>\n",
       "      <th></th>\n",
       "      <th></th>\n",
       "      <th></th>\n",
       "      <th></th>\n",
       "      <th></th>\n",
       "      <th></th>\n",
       "      <th></th>\n",
       "    </tr>\n",
       "  </thead>\n",
       "  <tbody>\n",
       "    <tr>\n",
       "      <td>3DS</td>\n",
       "      <td>NaN</td>\n",
       "      <td>NaN</td>\n",
       "      <td>NaN</td>\n",
       "      <td>NaN</td>\n",
       "      <td>63.20</td>\n",
       "      <td>51.36</td>\n",
       "      <td>56.57</td>\n",
       "      <td>43.76</td>\n",
       "      <td>27.78</td>\n",
       "      <td>15.14</td>\n",
       "    </tr>\n",
       "    <tr>\n",
       "      <td>DC</td>\n",
       "      <td>0.02</td>\n",
       "      <td>0.04</td>\n",
       "      <td>NaN</td>\n",
       "      <td>NaN</td>\n",
       "      <td>NaN</td>\n",
       "      <td>NaN</td>\n",
       "      <td>NaN</td>\n",
       "      <td>NaN</td>\n",
       "      <td>NaN</td>\n",
       "      <td>NaN</td>\n",
       "    </tr>\n",
       "    <tr>\n",
       "      <td>DS</td>\n",
       "      <td>146.94</td>\n",
       "      <td>145.31</td>\n",
       "      <td>119.54</td>\n",
       "      <td>85.02</td>\n",
       "      <td>26.18</td>\n",
       "      <td>11.01</td>\n",
       "      <td>1.54</td>\n",
       "      <td>NaN</td>\n",
       "      <td>NaN</td>\n",
       "      <td>NaN</td>\n",
       "    </tr>\n",
       "    <tr>\n",
       "      <td>GBA</td>\n",
       "      <td>3.40</td>\n",
       "      <td>NaN</td>\n",
       "      <td>NaN</td>\n",
       "      <td>NaN</td>\n",
       "      <td>NaN</td>\n",
       "      <td>NaN</td>\n",
       "      <td>NaN</td>\n",
       "      <td>NaN</td>\n",
       "      <td>NaN</td>\n",
       "      <td>NaN</td>\n",
       "    </tr>\n",
       "    <tr>\n",
       "      <td>GC</td>\n",
       "      <td>0.27</td>\n",
       "      <td>NaN</td>\n",
       "      <td>NaN</td>\n",
       "      <td>NaN</td>\n",
       "      <td>NaN</td>\n",
       "      <td>NaN</td>\n",
       "      <td>NaN</td>\n",
       "      <td>NaN</td>\n",
       "      <td>NaN</td>\n",
       "      <td>NaN</td>\n",
       "    </tr>\n",
       "    <tr>\n",
       "      <td>PC</td>\n",
       "      <td>9.28</td>\n",
       "      <td>12.42</td>\n",
       "      <td>16.91</td>\n",
       "      <td>24.28</td>\n",
       "      <td>35.03</td>\n",
       "      <td>23.22</td>\n",
       "      <td>12.38</td>\n",
       "      <td>13.28</td>\n",
       "      <td>8.52</td>\n",
       "      <td>5.25</td>\n",
       "    </tr>\n",
       "    <tr>\n",
       "      <td>PS2</td>\n",
       "      <td>75.99</td>\n",
       "      <td>53.90</td>\n",
       "      <td>26.40</td>\n",
       "      <td>5.64</td>\n",
       "      <td>0.45</td>\n",
       "      <td>NaN</td>\n",
       "      <td>NaN</td>\n",
       "      <td>NaN</td>\n",
       "      <td>NaN</td>\n",
       "      <td>NaN</td>\n",
       "    </tr>\n",
       "    <tr>\n",
       "      <td>PS3</td>\n",
       "      <td>73.19</td>\n",
       "      <td>118.52</td>\n",
       "      <td>130.93</td>\n",
       "      <td>142.17</td>\n",
       "      <td>156.78</td>\n",
       "      <td>107.36</td>\n",
       "      <td>113.25</td>\n",
       "      <td>47.76</td>\n",
       "      <td>16.82</td>\n",
       "      <td>3.60</td>\n",
       "    </tr>\n",
       "    <tr>\n",
       "      <td>PS4</td>\n",
       "      <td>NaN</td>\n",
       "      <td>NaN</td>\n",
       "      <td>NaN</td>\n",
       "      <td>NaN</td>\n",
       "      <td>NaN</td>\n",
       "      <td>NaN</td>\n",
       "      <td>25.99</td>\n",
       "      <td>100.00</td>\n",
       "      <td>118.90</td>\n",
       "      <td>69.25</td>\n",
       "    </tr>\n",
       "    <tr>\n",
       "      <td>PSP</td>\n",
       "      <td>46.93</td>\n",
       "      <td>34.55</td>\n",
       "      <td>37.78</td>\n",
       "      <td>35.04</td>\n",
       "      <td>17.82</td>\n",
       "      <td>7.69</td>\n",
       "      <td>3.14</td>\n",
       "      <td>0.24</td>\n",
       "      <td>0.12</td>\n",
       "      <td>NaN</td>\n",
       "    </tr>\n",
       "    <tr>\n",
       "      <td>PSV</td>\n",
       "      <td>NaN</td>\n",
       "      <td>NaN</td>\n",
       "      <td>NaN</td>\n",
       "      <td>NaN</td>\n",
       "      <td>4.63</td>\n",
       "      <td>16.19</td>\n",
       "      <td>10.59</td>\n",
       "      <td>11.90</td>\n",
       "      <td>6.25</td>\n",
       "      <td>4.25</td>\n",
       "    </tr>\n",
       "    <tr>\n",
       "      <td>Wii</td>\n",
       "      <td>152.77</td>\n",
       "      <td>171.32</td>\n",
       "      <td>206.97</td>\n",
       "      <td>127.95</td>\n",
       "      <td>59.65</td>\n",
       "      <td>21.71</td>\n",
       "      <td>8.59</td>\n",
       "      <td>3.75</td>\n",
       "      <td>1.14</td>\n",
       "      <td>0.18</td>\n",
       "    </tr>\n",
       "    <tr>\n",
       "      <td>WiiU</td>\n",
       "      <td>NaN</td>\n",
       "      <td>NaN</td>\n",
       "      <td>NaN</td>\n",
       "      <td>NaN</td>\n",
       "      <td>NaN</td>\n",
       "      <td>17.56</td>\n",
       "      <td>21.65</td>\n",
       "      <td>22.03</td>\n",
       "      <td>16.35</td>\n",
       "      <td>4.60</td>\n",
       "    </tr>\n",
       "    <tr>\n",
       "      <td>X360</td>\n",
       "      <td>95.41</td>\n",
       "      <td>135.26</td>\n",
       "      <td>120.29</td>\n",
       "      <td>170.03</td>\n",
       "      <td>143.84</td>\n",
       "      <td>99.74</td>\n",
       "      <td>88.58</td>\n",
       "      <td>34.74</td>\n",
       "      <td>11.96</td>\n",
       "      <td>1.52</td>\n",
       "    </tr>\n",
       "    <tr>\n",
       "      <td>XB</td>\n",
       "      <td>0.55</td>\n",
       "      <td>0.18</td>\n",
       "      <td>NaN</td>\n",
       "      <td>NaN</td>\n",
       "      <td>NaN</td>\n",
       "      <td>NaN</td>\n",
       "      <td>NaN</td>\n",
       "      <td>NaN</td>\n",
       "      <td>NaN</td>\n",
       "      <td>NaN</td>\n",
       "    </tr>\n",
       "    <tr>\n",
       "      <td>XOne</td>\n",
       "      <td>NaN</td>\n",
       "      <td>NaN</td>\n",
       "      <td>NaN</td>\n",
       "      <td>NaN</td>\n",
       "      <td>NaN</td>\n",
       "      <td>NaN</td>\n",
       "      <td>18.96</td>\n",
       "      <td>54.07</td>\n",
       "      <td>60.14</td>\n",
       "      <td>26.15</td>\n",
       "    </tr>\n",
       "  </tbody>\n",
       "</table>\n",
       "</div>"
      ],
      "text/plain": [
       "year_of_release    2007    2008    2009    2010    2011    2012    2013  \\\n",
       "platform                                                                  \n",
       "3DS                 NaN     NaN     NaN     NaN   63.20   51.36   56.57   \n",
       "DC                 0.02    0.04     NaN     NaN     NaN     NaN     NaN   \n",
       "DS               146.94  145.31  119.54   85.02   26.18   11.01    1.54   \n",
       "GBA                3.40     NaN     NaN     NaN     NaN     NaN     NaN   \n",
       "GC                 0.27     NaN     NaN     NaN     NaN     NaN     NaN   \n",
       "PC                 9.28   12.42   16.91   24.28   35.03   23.22   12.38   \n",
       "PS2               75.99   53.90   26.40    5.64    0.45     NaN     NaN   \n",
       "PS3               73.19  118.52  130.93  142.17  156.78  107.36  113.25   \n",
       "PS4                 NaN     NaN     NaN     NaN     NaN     NaN   25.99   \n",
       "PSP               46.93   34.55   37.78   35.04   17.82    7.69    3.14   \n",
       "PSV                 NaN     NaN     NaN     NaN    4.63   16.19   10.59   \n",
       "Wii              152.77  171.32  206.97  127.95   59.65   21.71    8.59   \n",
       "WiiU                NaN     NaN     NaN     NaN     NaN   17.56   21.65   \n",
       "X360              95.41  135.26  120.29  170.03  143.84   99.74   88.58   \n",
       "XB                 0.55    0.18     NaN     NaN     NaN     NaN     NaN   \n",
       "XOne                NaN     NaN     NaN     NaN     NaN     NaN   18.96   \n",
       "\n",
       "year_of_release    2014    2015   2016  \n",
       "platform                                \n",
       "3DS               43.76   27.78  15.14  \n",
       "DC                  NaN     NaN    NaN  \n",
       "DS                  NaN     NaN    NaN  \n",
       "GBA                 NaN     NaN    NaN  \n",
       "GC                  NaN     NaN    NaN  \n",
       "PC                13.28    8.52   5.25  \n",
       "PS2                 NaN     NaN    NaN  \n",
       "PS3               47.76   16.82   3.60  \n",
       "PS4              100.00  118.90  69.25  \n",
       "PSP                0.24    0.12    NaN  \n",
       "PSV               11.90    6.25   4.25  \n",
       "Wii                3.75    1.14   0.18  \n",
       "WiiU              22.03   16.35   4.60  \n",
       "X360              34.74   11.96   1.52  \n",
       "XB                  NaN     NaN    NaN  \n",
       "XOne              54.07   60.14  26.15  "
      ]
     },
     "execution_count": 29,
     "metadata": {},
     "output_type": "execute_result"
    }
   ],
   "source": [
    "data.pivot_table(index='platform', columns='year_of_release', values='total_sales', aggfunc='sum')"
   ]
  },
  {
   "cell_type": "markdown",
   "id": "8cccaa5f",
   "metadata": {},
   "source": [
    "Платформы можно разделить на несколько типов по продажам:\n",
    "\n",
    "1) Закончившие свой цикл: для них игры не выпускались последние пару лет, после того, как произошло постепенное затухание продаж (DC, DS, GBA, GC, PS2, XB)\n",
    "\n",
    "2) Завершающиеся: у них продажи сходят на ноль, они завершают свой цикл жизни, уступая место новому поколению консолей(PS3, PSP, Wii, X360)\n",
    "\n",
    "3) Затухающие: платформы, которые еще не должны завершать свой цикл, но продажи которых идут на спад(3DS, PSV, WiiU). К ним же можно отнести PC, но ПК неизменная платформа, которая обновляется так часто как нужно пользователю, и ее отмирание вероятнее всего не произойдет в ближайшие десятилетия.\n",
    "\n",
    "4) Растущие: продажи которых растут или не показывают четкого тренда падения, недавно выпущенные консоли(PS4, XOne)\n",
    "\n",
    "Из этих типов:\n",
    "1) и 2) -- нам не актуальны совсем\n",
    "\n",
    "3) -- могут быть актуальны те платформы, у которых все еще есть достойные, хоть и падающие продажи. В нашем случае это 3DS.\n",
    "\n",
    "4) Интересны\n",
    "\n",
    "Так же нам всегда будет актуален PC.\n",
    "\n",
    "То есть мы выделили 4 потенциально прибыльные платформы: PS4, XOne, PC, 3DS"
   ]
  },
  {
   "cell_type": "markdown",
   "id": "800c4a98",
   "metadata": {},
   "source": [
    "Посмотрим на диаграммы размаха продаж по платформам:"
   ]
  },
  {
   "cell_type": "code",
   "execution_count": 30,
   "id": "b6fbb54d",
   "metadata": {},
   "outputs": [
    {
     "name": "stderr",
     "output_type": "stream",
     "text": [
      "/opt/conda/lib/python3.7/site-packages/numpy/core/_asarray.py:83: VisibleDeprecationWarning: Creating an ndarray from ragged nested sequences (which is a list-or-tuple of lists-or-tuples-or ndarrays with different lengths or shapes) is deprecated. If you meant to do this, you must specify 'dtype=object' when creating the ndarray\n",
      "  return array(a, dtype, copy=False, order=order)\n"
     ]
    },
    {
     "data": {
      "text/plain": [
       "(0, 12)"
      ]
     },
     "execution_count": 30,
     "metadata": {},
     "output_type": "execute_result"
    },
    {
     "data": {
      "image/png": "[encoded data removed]",
      "text/plain": [
       "<Figure size 864x864 with 1 Axes>"
      ]
     },
     "metadata": {
      "needs_background": "light"
     },
     "output_type": "display_data"
    }
   ],
   "source": [
    "data.boxplot(column='total_sales', by='platform', figsize=(12, 12))\n",
    "plt.ylim(0, 12) #для наглядности график обрезан сверху, исключая часть редких выбросов больше 12"
   ]
  },
  {
   "cell_type": "markdown",
   "id": "e55aa972",
   "metadata": {},
   "source": [
    "По диаграммам размаха видны продажи игр на разных платформах. Можно сделать несколько выводов:\n",
    "1) Медианы продаж не сильно отличаются по всем платформам -- порядка 0.1-0.4млн копий игр. В то время как отдельные игры достигают продаж в десяток млн.\n",
    "\n",
    "2) У платформ с самыми высокими продажами много выбросов отдельных успешных игр.\n",
    "\n",
    "3) БОльшая часть игр продает не более 1-2млн копий."
   ]
  },
  {
   "cell_type": "markdown",
   "id": "21a3a4cb",
   "metadata": {},
   "source": [
    "#### Вывод\n",
    "\n",
    "Платформы, на которые стоит обратить внимание: PS4, XBoxOne, PC, 3DS"
   ]
  },
  {
   "cell_type": "markdown",
   "id": "0d7bfdd4",
   "metadata": {},
   "source": [
    "### Влияние отзывов на продажи"
   ]
  },
  {
   "cell_type": "markdown",
   "id": "ad0cd54b",
   "metadata": {},
   "source": [
    "Для анализа влияния оценок на продажи рассмотрим PS3 -- хоть это и не прибыльная для будущих лет платформа по продажам все равно можно выстроить зависимости, а игр на ней много и продажи высокие."
   ]
  },
  {
   "cell_type": "code",
   "execution_count": 31,
   "id": "ceb5170a",
   "metadata": {},
   "outputs": [
    {
     "data": {
      "text/html": [
       "<div>\n",
       "<style scoped>\n",
       "    .dataframe tbody tr th:only-of-type {\n",
       "        vertical-align: middle;\n",
       "    }\n",
       "\n",
       "    .dataframe tbody tr th {\n",
       "        vertical-align: top;\n",
       "    }\n",
       "\n",
       "    .dataframe thead th {\n",
       "        text-align: right;\n",
       "    }\n",
       "</style>\n",
       "<table border=\"1\" class=\"dataframe\">\n",
       "  <thead>\n",
       "    <tr style=\"text-align: right;\">\n",
       "      <th></th>\n",
       "      <th>critic_score</th>\n",
       "      <th>user_score</th>\n",
       "      <th>total_sales</th>\n",
       "    </tr>\n",
       "  </thead>\n",
       "  <tbody>\n",
       "    <tr>\n",
       "      <td>critic_score</td>\n",
       "      <td>1.00000</td>\n",
       "      <td>0.630960</td>\n",
       "      <td>0.433460</td>\n",
       "    </tr>\n",
       "    <tr>\n",
       "      <td>user_score</td>\n",
       "      <td>0.63096</td>\n",
       "      <td>1.000000</td>\n",
       "      <td>0.126033</td>\n",
       "    </tr>\n",
       "    <tr>\n",
       "      <td>total_sales</td>\n",
       "      <td>0.43346</td>\n",
       "      <td>0.126033</td>\n",
       "      <td>1.000000</td>\n",
       "    </tr>\n",
       "  </tbody>\n",
       "</table>\n",
       "</div>"
      ],
      "text/plain": [
       "              critic_score  user_score  total_sales\n",
       "critic_score       1.00000    0.630960     0.433460\n",
       "user_score         0.63096    1.000000     0.126033\n",
       "total_sales        0.43346    0.126033     1.000000"
      ]
     },
     "execution_count": 31,
     "metadata": {},
     "output_type": "execute_result"
    },
    {
     "data": {
      "image/png": "[encoded data removed]",
      "text/plain": [
       "<Figure size 540x540 with 12 Axes>"
      ]
     },
     "metadata": {
      "needs_background": "light"
     },
     "output_type": "display_data"
    }
   ],
   "source": [
    "sns.pairplot(data.query('platform == \"PS3\"')[['critic_score', 'user_score', 'total_sales']])\n",
    "data.query('platform == \"PS3\"')[['critic_score', 'user_score', 'total_sales']].corr()"
   ]
  },
  {
   "cell_type": "markdown",
   "id": "61235ded",
   "metadata": {},
   "source": [
    "Судя по графикам и корреляционной матрице зависимость продаж игры от отзывов критиков есть. Чем лучше отзывы -- тем лучше продажи. Однако для отзывов пользователей ситуация не столь однозначна -- хоть график и показывает некоторую положительную корреляцию, коэффициент слишком мал, для того чтобы сказать, что она точно есть. Видимо при покупке пользователи сокрее опираются на рецензии критиков, чем на отзывы игроков.\n",
    "\n",
    "Посмотрим, повторится ли зависимость для платформ XBox360, PS4, PC:"
   ]
  },
  {
   "cell_type": "code",
   "execution_count": 32,
   "id": "151e214c",
   "metadata": {},
   "outputs": [
    {
     "data": {
      "text/html": [
       "<div>\n",
       "<style scoped>\n",
       "    .dataframe tbody tr th:only-of-type {\n",
       "        vertical-align: middle;\n",
       "    }\n",
       "\n",
       "    .dataframe tbody tr th {\n",
       "        vertical-align: top;\n",
       "    }\n",
       "\n",
       "    .dataframe thead th {\n",
       "        text-align: right;\n",
       "    }\n",
       "</style>\n",
       "<table border=\"1\" class=\"dataframe\">\n",
       "  <thead>\n",
       "    <tr style=\"text-align: right;\">\n",
       "      <th></th>\n",
       "      <th>critic_score</th>\n",
       "      <th>user_score</th>\n",
       "      <th>total_sales</th>\n",
       "    </tr>\n",
       "  </thead>\n",
       "  <tbody>\n",
       "    <tr>\n",
       "      <td>critic_score</td>\n",
       "      <td>1.000000</td>\n",
       "      <td>0.621495</td>\n",
       "      <td>0.396910</td>\n",
       "    </tr>\n",
       "    <tr>\n",
       "      <td>user_score</td>\n",
       "      <td>0.621495</td>\n",
       "      <td>1.000000</td>\n",
       "      <td>0.114627</td>\n",
       "    </tr>\n",
       "    <tr>\n",
       "      <td>total_sales</td>\n",
       "      <td>0.396910</td>\n",
       "      <td>0.114627</td>\n",
       "      <td>1.000000</td>\n",
       "    </tr>\n",
       "  </tbody>\n",
       "</table>\n",
       "</div>"
      ],
      "text/plain": [
       "              critic_score  user_score  total_sales\n",
       "critic_score      1.000000    0.621495     0.396910\n",
       "user_score        0.621495    1.000000     0.114627\n",
       "total_sales       0.396910    0.114627     1.000000"
      ]
     },
     "execution_count": 32,
     "metadata": {},
     "output_type": "execute_result"
    },
    {
     "data": {
      "image/png": "[encoded data removed]",
      "text/plain": [
       "<Figure size 540x540 with 12 Axes>"
      ]
     },
     "metadata": {
      "needs_background": "light"
     },
     "output_type": "display_data"
    }
   ],
   "source": [
    "sns.pairplot(data.query('platform == \"X360\"')[['critic_score', 'user_score', 'total_sales']])\n",
    "data.query('platform == \"X360\"')[['critic_score', 'user_score', 'total_sales']].corr()"
   ]
  },
  {
   "cell_type": "markdown",
   "id": "636d11e7",
   "metadata": {},
   "source": [
    "Для XBox360 ситуация та же что для конкуретной PS3"
   ]
  },
  {
   "cell_type": "code",
   "execution_count": 33,
   "id": "b6e93a7b",
   "metadata": {},
   "outputs": [
    {
     "data": {
      "text/html": [
       "<div>\n",
       "<style scoped>\n",
       "    .dataframe tbody tr th:only-of-type {\n",
       "        vertical-align: middle;\n",
       "    }\n",
       "\n",
       "    .dataframe tbody tr th {\n",
       "        vertical-align: top;\n",
       "    }\n",
       "\n",
       "    .dataframe thead th {\n",
       "        text-align: right;\n",
       "    }\n",
       "</style>\n",
       "<table border=\"1\" class=\"dataframe\">\n",
       "  <thead>\n",
       "    <tr style=\"text-align: right;\">\n",
       "      <th></th>\n",
       "      <th>critic_score</th>\n",
       "      <th>user_score</th>\n",
       "      <th>total_sales</th>\n",
       "    </tr>\n",
       "  </thead>\n",
       "  <tbody>\n",
       "    <tr>\n",
       "      <td>critic_score</td>\n",
       "      <td>1.000000</td>\n",
       "      <td>0.557654</td>\n",
       "      <td>0.406568</td>\n",
       "    </tr>\n",
       "    <tr>\n",
       "      <td>user_score</td>\n",
       "      <td>0.557654</td>\n",
       "      <td>1.000000</td>\n",
       "      <td>-0.031957</td>\n",
       "    </tr>\n",
       "    <tr>\n",
       "      <td>total_sales</td>\n",
       "      <td>0.406568</td>\n",
       "      <td>-0.031957</td>\n",
       "      <td>1.000000</td>\n",
       "    </tr>\n",
       "  </tbody>\n",
       "</table>\n",
       "</div>"
      ],
      "text/plain": [
       "              critic_score  user_score  total_sales\n",
       "critic_score      1.000000    0.557654     0.406568\n",
       "user_score        0.557654    1.000000    -0.031957\n",
       "total_sales       0.406568   -0.031957     1.000000"
      ]
     },
     "execution_count": 33,
     "metadata": {},
     "output_type": "execute_result"
    },
    {
     "data": {
      "image/png": "[encoded data removed]",
      "text/plain": [
       "<Figure size 540x540 with 12 Axes>"
      ]
     },
     "metadata": {
      "needs_background": "light"
     },
     "output_type": "display_data"
    }
   ],
   "source": [
    "sns.pairplot(data.query('platform == \"PS4\"')[['critic_score', 'user_score', 'total_sales']])\n",
    "data.query('platform == \"PS4\"')[['critic_score', 'user_score', 'total_sales']].corr()"
   ]
  },
  {
   "cell_type": "markdown",
   "id": "059815aa",
   "metadata": {},
   "source": [
    "А вот для следующей Playstation корреляция с оценками игроков даже отрицательная -- видимо с годами на них стали полагаться даже меньше."
   ]
  },
  {
   "cell_type": "code",
   "execution_count": 34,
   "id": "d113b1f3",
   "metadata": {},
   "outputs": [
    {
     "data": {
      "text/html": [
       "<div>\n",
       "<style scoped>\n",
       "    .dataframe tbody tr th:only-of-type {\n",
       "        vertical-align: middle;\n",
       "    }\n",
       "\n",
       "    .dataframe tbody tr th {\n",
       "        vertical-align: top;\n",
       "    }\n",
       "\n",
       "    .dataframe thead th {\n",
       "        text-align: right;\n",
       "    }\n",
       "</style>\n",
       "<table border=\"1\" class=\"dataframe\">\n",
       "  <thead>\n",
       "    <tr style=\"text-align: right;\">\n",
       "      <th></th>\n",
       "      <th>critic_score</th>\n",
       "      <th>user_score</th>\n",
       "      <th>total_sales</th>\n",
       "    </tr>\n",
       "  </thead>\n",
       "  <tbody>\n",
       "    <tr>\n",
       "      <td>critic_score</td>\n",
       "      <td>1.000000</td>\n",
       "      <td>0.518416</td>\n",
       "      <td>0.299516</td>\n",
       "    </tr>\n",
       "    <tr>\n",
       "      <td>user_score</td>\n",
       "      <td>0.518416</td>\n",
       "      <td>1.000000</td>\n",
       "      <td>-0.009642</td>\n",
       "    </tr>\n",
       "    <tr>\n",
       "      <td>total_sales</td>\n",
       "      <td>0.299516</td>\n",
       "      <td>-0.009642</td>\n",
       "      <td>1.000000</td>\n",
       "    </tr>\n",
       "  </tbody>\n",
       "</table>\n",
       "</div>"
      ],
      "text/plain": [
       "              critic_score  user_score  total_sales\n",
       "critic_score      1.000000    0.518416     0.299516\n",
       "user_score        0.518416    1.000000    -0.009642\n",
       "total_sales       0.299516   -0.009642     1.000000"
      ]
     },
     "execution_count": 34,
     "metadata": {},
     "output_type": "execute_result"
    },
    {
     "data": {
      "image/png": "[encoded data removed]",
      "text/plain": [
       "<Figure size 540x540 with 12 Axes>"
      ]
     },
     "metadata": {
      "needs_background": "light"
     },
     "output_type": "display_data"
    }
   ],
   "source": [
    "sns.pairplot(data.query('platform == \"PC\"')[['critic_score', 'user_score', 'total_sales']])\n",
    "data.query('platform == \"PC\"')[['critic_score', 'user_score', 'total_sales']].corr()"
   ]
  },
  {
   "cell_type": "markdown",
   "id": "61fb7578",
   "metadata": {},
   "source": [
    "То же самое и для ПК, только на нем и на оценку критиков обращают внимание меньше."
   ]
  },
  {
   "cell_type": "markdown",
   "id": "8350a0e1",
   "metadata": {},
   "source": [
    "#### Вывод"
   ]
  },
  {
   "cell_type": "markdown",
   "id": "70990951",
   "metadata": {},
   "source": [
    "При покупке игр пользователи опираются на оценки критиков, а вот на отзывы других игроков практически не обращают внимания."
   ]
  },
  {
   "cell_type": "markdown",
   "id": "5ed63ed8",
   "metadata": {},
   "source": [
    "### Зависимость продаж от жанра"
   ]
  },
  {
   "cell_type": "code",
   "execution_count": 35,
   "id": "9295af8f",
   "metadata": {},
   "outputs": [
    {
     "data": {
      "text/html": [
       "<div>\n",
       "<style scoped>\n",
       "    .dataframe tbody tr th:only-of-type {\n",
       "        vertical-align: middle;\n",
       "    }\n",
       "\n",
       "    .dataframe tbody tr th {\n",
       "        vertical-align: top;\n",
       "    }\n",
       "\n",
       "    .dataframe thead tr th {\n",
       "        text-align: left;\n",
       "    }\n",
       "\n",
       "    .dataframe thead tr:last-of-type th {\n",
       "        text-align: right;\n",
       "    }\n",
       "</style>\n",
       "<table border=\"1\" class=\"dataframe\">\n",
       "  <thead>\n",
       "    <tr>\n",
       "      <th></th>\n",
       "      <th>sum</th>\n",
       "      <th>count</th>\n",
       "      <th>median</th>\n",
       "    </tr>\n",
       "    <tr>\n",
       "      <th></th>\n",
       "      <th>total_sales</th>\n",
       "      <th>total_sales</th>\n",
       "      <th>total_sales</th>\n",
       "    </tr>\n",
       "    <tr>\n",
       "      <th>genre</th>\n",
       "      <th></th>\n",
       "      <th></th>\n",
       "      <th></th>\n",
       "    </tr>\n",
       "  </thead>\n",
       "  <tbody>\n",
       "    <tr>\n",
       "      <td>Shooter</td>\n",
       "      <td>678.80</td>\n",
       "      <td>668</td>\n",
       "      <td>0.320</td>\n",
       "    </tr>\n",
       "    <tr>\n",
       "      <td>Platform</td>\n",
       "      <td>230.45</td>\n",
       "      <td>286</td>\n",
       "      <td>0.245</td>\n",
       "    </tr>\n",
       "    <tr>\n",
       "      <td>Sports</td>\n",
       "      <td>658.07</td>\n",
       "      <td>1124</td>\n",
       "      <td>0.200</td>\n",
       "    </tr>\n",
       "    <tr>\n",
       "      <td>Action</td>\n",
       "      <td>1050.59</td>\n",
       "      <td>2198</td>\n",
       "      <td>0.170</td>\n",
       "    </tr>\n",
       "    <tr>\n",
       "      <td>Racing</td>\n",
       "      <td>265.19</td>\n",
       "      <td>487</td>\n",
       "      <td>0.170</td>\n",
       "    </tr>\n",
       "    <tr>\n",
       "      <td>Fighting</td>\n",
       "      <td>166.00</td>\n",
       "      <td>358</td>\n",
       "      <td>0.160</td>\n",
       "    </tr>\n",
       "    <tr>\n",
       "      <td>Role-Playing</td>\n",
       "      <td>465.03</td>\n",
       "      <td>886</td>\n",
       "      <td>0.150</td>\n",
       "    </tr>\n",
       "    <tr>\n",
       "      <td>Misc</td>\n",
       "      <td>487.89</td>\n",
       "      <td>1145</td>\n",
       "      <td>0.140</td>\n",
       "    </tr>\n",
       "    <tr>\n",
       "      <td>Simulation</td>\n",
       "      <td>199.13</td>\n",
       "      <td>549</td>\n",
       "      <td>0.130</td>\n",
       "    </tr>\n",
       "    <tr>\n",
       "      <td>Puzzle</td>\n",
       "      <td>79.18</td>\n",
       "      <td>323</td>\n",
       "      <td>0.090</td>\n",
       "    </tr>\n",
       "    <tr>\n",
       "      <td>Strategy</td>\n",
       "      <td>68.99</td>\n",
       "      <td>351</td>\n",
       "      <td>0.080</td>\n",
       "    </tr>\n",
       "    <tr>\n",
       "      <td>Adventure</td>\n",
       "      <td>129.99</td>\n",
       "      <td>952</td>\n",
       "      <td>0.040</td>\n",
       "    </tr>\n",
       "  </tbody>\n",
       "</table>\n",
       "</div>"
      ],
      "text/plain": [
       "                     sum       count      median\n",
       "             total_sales total_sales total_sales\n",
       "genre                                           \n",
       "Shooter           678.80         668       0.320\n",
       "Platform          230.45         286       0.245\n",
       "Sports            658.07        1124       0.200\n",
       "Action           1050.59        2198       0.170\n",
       "Racing            265.19         487       0.170\n",
       "Fighting          166.00         358       0.160\n",
       "Role-Playing      465.03         886       0.150\n",
       "Misc              487.89        1145       0.140\n",
       "Simulation        199.13         549       0.130\n",
       "Puzzle             79.18         323       0.090\n",
       "Strategy           68.99         351       0.080\n",
       "Adventure         129.99         952       0.040"
      ]
     },
     "execution_count": 35,
     "metadata": {},
     "output_type": "execute_result"
    }
   ],
   "source": [
    "(data\n",
    "    .pivot_table(index='genre', values='total_sales', aggfunc=['sum', 'count', 'median'])\n",
    "    .sort_values(by=('median', 'total_sales'), ascending=False))"
   ]
  },
  {
   "cell_type": "markdown",
   "id": "b451ae85",
   "metadata": {},
   "source": [
    "Если посмотреть на чистые суммарные продажи каждого жанра, то выделяются определенные лидеры: Шутеры, Спортивные, Экшн, РПГ. Однако стоит учесть, что эти цифры не означают, что игры этого жанра продаются лучше -- так как это суммарные продажи, то количество игр выпущенных в жанре может повлиять на значения. Например у \"лидера рынка\" Экшн вышло 2198 игр -- как минимум в два раза больше чем в любом другом жанре.\n",
    "\n",
    "Поэтому рассмотрим лучше медианные продажи. По ним видно, что лидер рынка -- Шутеры, сразу за ними успешнее всего обычно Платформеры. Средне-успешные игры почти с одинаковыми продажами: Спортивные, Экшн, Гоночные, Файтинги и РПГ.\n",
    "Хуже всего продаются Приключенческие игры."
   ]
  },
  {
   "cell_type": "markdown",
   "id": "76df8dda",
   "metadata": {},
   "source": [
    "Посмотрим на диаграммы разброса продаж по жанрам:"
   ]
  },
  {
   "cell_type": "code",
   "execution_count": 36,
   "id": "8296244e",
   "metadata": {},
   "outputs": [
    {
     "name": "stderr",
     "output_type": "stream",
     "text": [
      "/opt/conda/lib/python3.7/site-packages/numpy/core/_asarray.py:83: VisibleDeprecationWarning: Creating an ndarray from ragged nested sequences (which is a list-or-tuple of lists-or-tuples-or ndarrays with different lengths or shapes) is deprecated. If you meant to do this, you must specify 'dtype=object' when creating the ndarray\n",
      "  return array(a, dtype, copy=False, order=order)\n"
     ]
    },
    {
     "data": {
      "text/plain": [
       "<matplotlib.axes._subplots.AxesSubplot at 0x7fb049023590>"
      ]
     },
     "execution_count": 36,
     "metadata": {},
     "output_type": "execute_result"
    },
    {
     "data": {
      "image/png": "[encoded data removed]",
      "text/plain": [
       "<Figure size 864x864 with 1 Axes>"
      ]
     },
     "metadata": {
      "needs_background": "light"
     },
     "output_type": "display_data"
    }
   ],
   "source": [
    "data.boxplot(column='total_sales', by='genre', figsize=(12, 12))"
   ]
  },
  {
   "cell_type": "markdown",
   "id": "1fd94ce7",
   "metadata": {},
   "source": [
    "Мы уже рассмотрели медианные значения. Здесь нам интересны выбросы: насколько часто в жанре встречаются очень успешные игры, доминирующие рынок, на которые можно сделать ставку?\n",
    "\n",
    "    1) Шутеры показывают себя очень хорошо: большОе количество игр продают свыше 5млн копий.\n",
    "    2) Платформеры показывают меньше выбросов -- надеяться на частые хиты здесь не стоит.\n",
    "    3) Экшн, Спортивные и РПГ показывают немало игр с продажами свыше порядка нескольких миллионов копий.\n",
    "    4) А вот Файтинги и Гоночные игры хоть и продаются стабильно хорошо видимо достаточно нишевые -- они редко выходят за пределы своей аудитории по продажам."
   ]
  },
  {
   "cell_type": "markdown",
   "id": "6643251a",
   "metadata": {},
   "source": [
    "#### Вывод\n",
    "\n",
    "Стабильно хорошо продаются Шутеры, Платформеры, Экшн, Спортивные, РПГ, Файтинговые и Гоночные игры.\n",
    "Из них Шутеры часто становятся популярными, так же как Экшн, Спортивные и РПГ -- возможно крупные игры этих жанров магазину стоит закупать в большом количестве. А вот Платформеры, Файтинги и Гоночные игры в основном показывают себя стабильно, хорошо продаваясь. но почти не \"выстреливая\"."
   ]
  },
  {
   "cell_type": "markdown",
   "id": "d00d8e66",
   "metadata": {},
   "source": [
    "### Вывод"
   ]
  },
  {
   "cell_type": "markdown",
   "id": "0d2bbe5c",
   "metadata": {},
   "source": [
    "Мы сделали вывод, что для актуального анализа нам не понадобятся игры раньше 2007 года.\n",
    "Так же мы определили на какие игры нам стоит обратить внимание -- у них ожидаются хорошие продажи:\n",
    "1) На платформах PS4, XBoxOne, PC, 3DS\n",
    "\n",
    "2) С хорошими отзывами критиков\n",
    "\n",
    "3) На Шутеры, Платформеры, Экшн, Спортивные, РПГ, Файтинговые и Гоночные игры."
   ]
  },
  {
   "cell_type": "markdown",
   "id": "f1ce6d62",
   "metadata": {},
   "source": [
    "## Портреты пользователей"
   ]
  },
  {
   "cell_type": "markdown",
   "id": "518b2c95",
   "metadata": {},
   "source": [
    "### Самые популярные платформы "
   ]
  },
  {
   "cell_type": "markdown",
   "id": "6a9b4a39",
   "metadata": {},
   "source": [
    "Посмотрим на самые популярные платформы для разных регионов:"
   ]
  },
  {
   "cell_type": "code",
   "execution_count": 37,
   "id": "97c1c2f3",
   "metadata": {},
   "outputs": [
    {
     "data": {
      "text/html": [
       "<div>\n",
       "<style scoped>\n",
       "    .dataframe tbody tr th:only-of-type {\n",
       "        vertical-align: middle;\n",
       "    }\n",
       "\n",
       "    .dataframe tbody tr th {\n",
       "        vertical-align: top;\n",
       "    }\n",
       "\n",
       "    .dataframe thead th {\n",
       "        text-align: right;\n",
       "    }\n",
       "</style>\n",
       "<table border=\"1\" class=\"dataframe\">\n",
       "  <thead>\n",
       "    <tr style=\"text-align: right;\">\n",
       "      <th></th>\n",
       "      <th>jp</th>\n",
       "      <th>jp_sales</th>\n",
       "      <th>eu</th>\n",
       "      <th>eu_sales</th>\n",
       "      <th>na</th>\n",
       "      <th>na_sales</th>\n",
       "    </tr>\n",
       "  </thead>\n",
       "  <tbody>\n",
       "    <tr>\n",
       "      <td>0</td>\n",
       "      <td>DS</td>\n",
       "      <td>102.93</td>\n",
       "      <td>PS3</td>\n",
       "      <td>319.83</td>\n",
       "      <td>X360</td>\n",
       "      <td>553.68</td>\n",
       "    </tr>\n",
       "    <tr>\n",
       "      <td>1</td>\n",
       "      <td>3DS</td>\n",
       "      <td>100.62</td>\n",
       "      <td>X360</td>\n",
       "      <td>257.05</td>\n",
       "      <td>Wii</td>\n",
       "      <td>416.01</td>\n",
       "    </tr>\n",
       "    <tr>\n",
       "      <td>2</td>\n",
       "      <td>PS3</td>\n",
       "      <td>78.33</td>\n",
       "      <td>Wii</td>\n",
       "      <td>214.70</td>\n",
       "      <td>PS3</td>\n",
       "      <td>381.29</td>\n",
       "    </tr>\n",
       "    <tr>\n",
       "      <td>3</td>\n",
       "      <td>PSP</td>\n",
       "      <td>66.24</td>\n",
       "      <td>PS4</td>\n",
       "      <td>141.09</td>\n",
       "      <td>DS</td>\n",
       "      <td>273.98</td>\n",
       "    </tr>\n",
       "    <tr>\n",
       "      <td>4</td>\n",
       "      <td>Wii</td>\n",
       "      <td>59.13</td>\n",
       "      <td>DS</td>\n",
       "      <td>119.92</td>\n",
       "      <td>PS4</td>\n",
       "      <td>108.74</td>\n",
       "    </tr>\n",
       "  </tbody>\n",
       "</table>\n",
       "</div>"
      ],
      "text/plain": [
       "    jp  jp_sales    eu  eu_sales    na  na_sales\n",
       "0   DS    102.93   PS3    319.83  X360    553.68\n",
       "1  3DS    100.62  X360    257.05   Wii    416.01\n",
       "2  PS3     78.33   Wii    214.70   PS3    381.29\n",
       "3  PSP     66.24   PS4    141.09    DS    273.98\n",
       "4  Wii     59.13    DS    119.92   PS4    108.74"
      ]
     },
     "execution_count": 37,
     "metadata": {},
     "output_type": "execute_result"
    }
   ],
   "source": [
    "sales_by_plat = data.pivot_table(index='platform', \n",
    "                                 values=['na_sales', 'eu_sales', 'jp_sales', 'total_sales'], \n",
    "                                 aggfunc='sum').reset_index()\n",
    "sales_top5_plt = pd.DataFrame()\n",
    "\n",
    "sales_top5_plt['jp'] = sales_by_plat.sort_values(by='jp_sales', ascending=False).reset_index().head()['platform']\n",
    "sales_top5_plt['jp_sales'] = sales_by_plat.sort_values(by='jp_sales', ascending=False).reset_index().head()['jp_sales']\n",
    "\n",
    "sales_top5_plt['eu'] = sales_by_plat.sort_values(by='eu_sales', ascending=False).reset_index().head()['platform']\n",
    "sales_top5_plt['eu_sales'] = sales_by_plat.sort_values(by='eu_sales', ascending=False).reset_index().head()['eu_sales']\n",
    "\n",
    "sales_top5_plt['na'] = sales_by_plat.sort_values(by='na_sales', ascending=False).reset_index().head()['platform']\n",
    "sales_top5_plt['na_sales'] = sales_by_plat.sort_values(by='na_sales', ascending=False).reset_index().head()['na_sales']\n",
    "\n",
    "sales_top5_plt"
   ]
  },
  {
   "cell_type": "code",
   "execution_count": 38,
   "id": "f8472df6",
   "metadata": {},
   "outputs": [
    {
     "data": {
      "image/png": "[encoded data removed]",
      "text/plain": [
       "<Figure size 432x288 with 1 Axes>"
      ]
     },
     "metadata": {},
     "output_type": "display_data"
    }
   ],
   "source": [
    "plt.pie(sales_top5_plt['jp_sales'], labels=sales_top5_plt['jp'], autopct=lambda p:f'{p:.2f}%', shadow=True)\n",
    "plt.title('Japan')\n",
    "plt.show()"
   ]
  },
  {
   "cell_type": "markdown",
   "id": "5881e62b",
   "metadata": {},
   "source": [
    "В Японии популярнее всего консоли DS и 3DS. Чуть менее популярна PS3, а завершают топ-5 PSP и Wii. Что интересно все эти платформы -- Японских компаний."
   ]
  },
  {
   "cell_type": "code",
   "execution_count": 39,
   "id": "d8f1c5d1",
   "metadata": {},
   "outputs": [
    {
     "data": {
      "image/png": "[encoded data removed]",
      "text/plain": [
       "<Figure size 432x288 with 1 Axes>"
      ]
     },
     "metadata": {},
     "output_type": "display_data"
    }
   ],
   "source": [
    "plt.pie(sales_top5_plt['na_sales'], labels=sales_top5_plt['na'], autopct=lambda p:f'{p:.2f}%', shadow=True)\n",
    "plt.title('North America')\n",
    "plt.show()"
   ]
  },
  {
   "cell_type": "markdown",
   "id": "e8758ba8",
   "metadata": {},
   "source": [
    "В Северной Америке популярнее всего XBox360, за ним следует Wii, PS3, а уже только потом DS и небольшая доля PS4."
   ]
  },
  {
   "cell_type": "code",
   "execution_count": 40,
   "id": "912dba64",
   "metadata": {},
   "outputs": [
    {
     "data": {
      "image/png": "[encoded data removed]",
      "text/plain": [
       "<Figure size 432x288 with 1 Axes>"
      ]
     },
     "metadata": {},
     "output_type": "display_data"
    }
   ],
   "source": [
    "plt.pie(sales_top5_plt['eu_sales'], labels=sales_top5_plt['eu'], autopct=lambda p:f'{p:.2f}%', shadow=True)\n",
    "plt.title('Europe')\n",
    "plt.show()"
   ]
  },
  {
   "cell_type": "markdown",
   "id": "487792af",
   "metadata": {},
   "source": [
    "В Европе так же лидирует PS3, значительную долю занимают XBox360 и Wii, немало PS4 и DS."
   ]
  },
  {
   "cell_type": "markdown",
   "id": "d798646d",
   "metadata": {},
   "source": [
    "#### Вывод\n",
    "\n",
    "В Северной Америке и Европе распределения по платформам похожи, в топе -- PS3, большой процент XBox360 и Wii, и значительный процент PS4 и DS.\n",
    "В Японии же так же в топе PS3 и Wii, однако DS занимает гораздо более значительную часть рынка, и так же очень популярны 3DS и PSP."
   ]
  },
  {
   "cell_type": "markdown",
   "id": "93f21d7b",
   "metadata": {},
   "source": [
    "### Самые популярные жанры"
   ]
  },
  {
   "cell_type": "markdown",
   "id": "d54f8dc7",
   "metadata": {},
   "source": [
    "Посмотрим на самые популярные жанры для разных регионов:"
   ]
  },
  {
   "cell_type": "code",
   "execution_count": 41,
   "id": "e9374951",
   "metadata": {},
   "outputs": [
    {
     "data": {
      "text/html": [
       "<div>\n",
       "<style scoped>\n",
       "    .dataframe tbody tr th:only-of-type {\n",
       "        vertical-align: middle;\n",
       "    }\n",
       "\n",
       "    .dataframe tbody tr th {\n",
       "        vertical-align: top;\n",
       "    }\n",
       "\n",
       "    .dataframe thead th {\n",
       "        text-align: right;\n",
       "    }\n",
       "</style>\n",
       "<table border=\"1\" class=\"dataframe\">\n",
       "  <thead>\n",
       "    <tr style=\"text-align: right;\">\n",
       "      <th></th>\n",
       "      <th>jp</th>\n",
       "      <th>jp_sales</th>\n",
       "      <th>eu</th>\n",
       "      <th>eu_sales</th>\n",
       "      <th>na</th>\n",
       "      <th>na_sales</th>\n",
       "    </tr>\n",
       "  </thead>\n",
       "  <tbody>\n",
       "    <tr>\n",
       "      <td>0</td>\n",
       "      <td>Role-Playing</td>\n",
       "      <td>150.55</td>\n",
       "      <td>Action</td>\n",
       "      <td>335.67</td>\n",
       "      <td>Action</td>\n",
       "      <td>492.17</td>\n",
       "    </tr>\n",
       "    <tr>\n",
       "      <td>1</td>\n",
       "      <td>Action</td>\n",
       "      <td>96.29</td>\n",
       "      <td>Shooter</td>\n",
       "      <td>230.16</td>\n",
       "      <td>Shooter</td>\n",
       "      <td>350.11</td>\n",
       "    </tr>\n",
       "    <tr>\n",
       "      <td>2</td>\n",
       "      <td>Sports</td>\n",
       "      <td>40.28</td>\n",
       "      <td>Sports</td>\n",
       "      <td>211.49</td>\n",
       "      <td>Sports</td>\n",
       "      <td>323.86</td>\n",
       "    </tr>\n",
       "    <tr>\n",
       "      <td>3</td>\n",
       "      <td>Adventure</td>\n",
       "      <td>26.91</td>\n",
       "      <td>Racing</td>\n",
       "      <td>104.63</td>\n",
       "      <td>Role-Playing</td>\n",
       "      <td>175.41</td>\n",
       "    </tr>\n",
       "    <tr>\n",
       "      <td>4</td>\n",
       "      <td>Platform</td>\n",
       "      <td>25.99</td>\n",
       "      <td>Role-Playing</td>\n",
       "      <td>102.67</td>\n",
       "      <td>Racing</td>\n",
       "      <td>112.68</td>\n",
       "    </tr>\n",
       "  </tbody>\n",
       "</table>\n",
       "</div>"
      ],
      "text/plain": [
       "             jp  jp_sales            eu  eu_sales            na  na_sales\n",
       "0  Role-Playing    150.55        Action    335.67        Action    492.17\n",
       "1        Action     96.29       Shooter    230.16       Shooter    350.11\n",
       "2        Sports     40.28        Sports    211.49        Sports    323.86\n",
       "3     Adventure     26.91        Racing    104.63  Role-Playing    175.41\n",
       "4      Platform     25.99  Role-Playing    102.67        Racing    112.68"
      ]
     },
     "execution_count": 41,
     "metadata": {},
     "output_type": "execute_result"
    }
   ],
   "source": [
    "sales_by_genre = data.pivot_table(index='genre', \n",
    "                                 values=['na_sales', 'eu_sales', 'jp_sales', 'total_sales'], \n",
    "                                 aggfunc='sum').reset_index()\n",
    "sales_by_genre = sales_by_genre.query('genre != \"Misc\"') #жанр \"разное\" исключим -- туда входит много жанров и \n",
    "                                                        # поэтому он для нас не показателен\n",
    "\n",
    "sales_top5_gnr = pd.DataFrame()\n",
    "\n",
    "\n",
    "sales_top5_gnr['jp'] = sales_by_genre.sort_values(by='jp_sales', ascending=False).reset_index().head()['genre']\n",
    "sales_top5_gnr['jp_sales'] = sales_by_genre.sort_values(by='jp_sales', ascending=False).reset_index().head()['jp_sales']\n",
    "\n",
    "sales_top5_gnr['eu'] = sales_by_genre.sort_values(by='eu_sales', ascending=False).reset_index().head()['genre']\n",
    "sales_top5_gnr['eu_sales'] = sales_by_genre.sort_values(by='eu_sales', ascending=False).reset_index().head()['eu_sales']\n",
    "\n",
    "sales_top5_gnr['na'] = sales_by_genre.sort_values(by='na_sales', ascending=False).reset_index().head()['genre']\n",
    "sales_top5_gnr['na_sales'] = sales_by_genre.sort_values(by='na_sales', ascending=False).reset_index().head()['na_sales']\n",
    "\n",
    "sales_top5_gnr"
   ]
  },
  {
   "cell_type": "markdown",
   "id": "856320f0",
   "metadata": {},
   "source": [
    "Количество продаж в Японии меньше, чем по другим двум регионам.\n",
    "Во всех регионах в топе присутствуют РПГ, Экшн и Спортивные игры.\n",
    "В Японии РПГ популярнее всего, за ними следуют Экшн и Спортивные, причем Спортивных продано в 2 раза меньше чем Экшн, и в 3 раза меньше чем РПГ. Чуть хуже Спортивных продаются Приключенческие и Платформеры.\n",
    "В Европе и в Северной Америке топ-5 практически одинаковы: Лучше всего продаются Экшн, далее Шутеры и Спортивные игры. А вот Гоночные и РПГ в Европе продаются практически одинаково, в то время как в Северной Америке РПГ продаются лучше."
   ]
  },
  {
   "cell_type": "markdown",
   "id": "78623fc2",
   "metadata": {},
   "source": [
    "#### Вывод\n",
    "\n",
    "1) Жанры Экшн и Спортивные игры актуальны во всех регионах.\n",
    "\n",
    "2) РПГ продаются хорошо везде, но в Японии РПГ лучше(относительно всех продаж региона).\n",
    "\n",
    "3) Так же в Японии неплохо продаются Приключенческие игры и Платформеры.\n",
    "\n",
    "4) В Европе и Северной Америке тем временем в лидерах продаж так же Шутеры и Гоночные игры.\n"
   ]
  },
  {
   "cell_type": "markdown",
   "id": "60e14052",
   "metadata": {},
   "source": [
    "### Влияние рейтинга ESRB на продажи в отдельном регионе"
   ]
  },
  {
   "cell_type": "markdown",
   "id": "78797bde",
   "metadata": {},
   "source": [
    "Посмотрим на разбивку продаж в зависимости от рейтинга ESRB в разных регионах."
   ]
  },
  {
   "cell_type": "code",
   "execution_count": 42,
   "id": "76a0abdc",
   "metadata": {},
   "outputs": [
    {
     "data": {
      "text/plain": [
       "E       2175\n",
       "T       1582\n",
       "E10+    1144\n",
       "M       1018\n",
       "EC         6\n",
       "RP         1\n",
       "Name: rating, dtype: int64"
      ]
     },
     "execution_count": 42,
     "metadata": {},
     "output_type": "execute_result"
    }
   ],
   "source": [
    "data['rating'].value_counts()"
   ]
  },
  {
   "cell_type": "code",
   "execution_count": 43,
   "id": "09bbc231",
   "metadata": {},
   "outputs": [
    {
     "data": {
      "text/html": [
       "<div>\n",
       "<style scoped>\n",
       "    .dataframe tbody tr th:only-of-type {\n",
       "        vertical-align: middle;\n",
       "    }\n",
       "\n",
       "    .dataframe tbody tr th {\n",
       "        vertical-align: top;\n",
       "    }\n",
       "\n",
       "    .dataframe thead th {\n",
       "        text-align: right;\n",
       "    }\n",
       "</style>\n",
       "<table border=\"1\" class=\"dataframe\">\n",
       "  <thead>\n",
       "    <tr style=\"text-align: right;\">\n",
       "      <th></th>\n",
       "      <th>eu_sales</th>\n",
       "      <th>jp_sales</th>\n",
       "      <th>na_sales</th>\n",
       "      <th>total_sales</th>\n",
       "    </tr>\n",
       "    <tr>\n",
       "      <th>rating</th>\n",
       "      <th></th>\n",
       "      <th></th>\n",
       "      <th></th>\n",
       "      <th></th>\n",
       "    </tr>\n",
       "  </thead>\n",
       "  <tbody>\n",
       "    <tr>\n",
       "      <td>E</td>\n",
       "      <td>393.08</td>\n",
       "      <td>95.06</td>\n",
       "      <td>663.99</td>\n",
       "      <td>1290.61</td>\n",
       "    </tr>\n",
       "    <tr>\n",
       "      <td>M</td>\n",
       "      <td>385.86</td>\n",
       "      <td>41.09</td>\n",
       "      <td>546.55</td>\n",
       "      <td>1107.80</td>\n",
       "    </tr>\n",
       "    <tr>\n",
       "      <td>T</td>\n",
       "      <td>217.89</td>\n",
       "      <td>74.74</td>\n",
       "      <td>371.32</td>\n",
       "      <td>758.07</td>\n",
       "    </tr>\n",
       "    <tr>\n",
       "      <td>E10+</td>\n",
       "      <td>162.75</td>\n",
       "      <td>31.91</td>\n",
       "      <td>287.61</td>\n",
       "      <td>544.24</td>\n",
       "    </tr>\n",
       "    <tr>\n",
       "      <td>EC</td>\n",
       "      <td>0.00</td>\n",
       "      <td>0.00</td>\n",
       "      <td>1.32</td>\n",
       "      <td>1.40</td>\n",
       "    </tr>\n",
       "    <tr>\n",
       "      <td>RP</td>\n",
       "      <td>0.03</td>\n",
       "      <td>0.00</td>\n",
       "      <td>0.00</td>\n",
       "      <td>0.04</td>\n",
       "    </tr>\n",
       "  </tbody>\n",
       "</table>\n",
       "</div>"
      ],
      "text/plain": [
       "        eu_sales  jp_sales  na_sales  total_sales\n",
       "rating                                           \n",
       "E         393.08     95.06    663.99      1290.61\n",
       "M         385.86     41.09    546.55      1107.80\n",
       "T         217.89     74.74    371.32       758.07\n",
       "E10+      162.75     31.91    287.61       544.24\n",
       "EC          0.00      0.00      1.32         1.40\n",
       "RP          0.03      0.00      0.00         0.04"
      ]
     },
     "execution_count": 43,
     "metadata": {},
     "output_type": "execute_result"
    }
   ],
   "source": [
    "sales_by_rating = data.pivot_table(index='rating', \n",
    "                                 values=['jp_sales', 'na_sales', 'eu_sales', 'total_sales'], \n",
    "                                 aggfunc='sum')\n",
    "sales_by_rating.sort_values(by='total_sales', ascending=False)"
   ]
  },
  {
   "cell_type": "markdown",
   "id": "fb3b801c",
   "metadata": {},
   "source": [
    "#### Вывод"
   ]
  },
  {
   "cell_type": "markdown",
   "id": "fbe22754",
   "metadata": {},
   "source": [
    "1) Для всех регионов самыми продаваемыми являются игры с рейтингом Everyone. Их так же больше всего на рынке.\n",
    "\n",
    "2) В Европе и Северной Америке игры рейтинга Mature несколько популярнее игр Teen, в то время как в Японии наоборот игры Teen продаются лучше\n",
    "\n",
    "3) Игры рейтингом E10+ продаются хуже всего везде, несмотря на то что их количество на рынке сравнимо с Mature."
   ]
  },
  {
   "cell_type": "markdown",
   "id": "de1e1ca5",
   "metadata": {},
   "source": [
    "### Вывод"
   ]
  },
  {
   "cell_type": "markdown",
   "id": "b2c54597",
   "metadata": {},
   "source": [
    "Для всех регионов:\n",
    "\n",
    "    1) Популярны PS3, Wii и DS\n",
    "    2) Жанры: Экшн и Спортивные, РПГ\n",
    "    3) Рейтинг E\n",
    "    \n",
    "Для Японии:\n",
    "\n",
    "    1) Так же популярны игры на PSP и 3DS\n",
    "    2) Неплохо продаются Приключенческие игры и Платформеры\n",
    "    3) Рейтинг T актуальнее чем M\n",
    "    \n",
    "Для Северной Америки и Европы:\n",
    "\n",
    "    1) Так же популярны игры на PS4 и XBox360\n",
    "    2) Хорошо продаются Шутеры и Гоночные игры\n",
    "    3) Рейтинг M актуальнее чем T"
   ]
  },
  {
   "cell_type": "markdown",
   "id": "e0973437",
   "metadata": {},
   "source": [
    "## Проверка гипотез"
   ]
  },
  {
   "cell_type": "markdown",
   "id": "6f6fa681",
   "metadata": {},
   "source": [
    "### Средние пользовательские рейтинги платформ Xbox One и PC одинаковые"
   ]
  },
  {
   "cell_type": "markdown",
   "id": "a8e07895",
   "metadata": {},
   "source": [
    "Сформулируем нулевую гипотезу так: средние пользовательские рейтинги платформ XboxOne и PC равны.\n",
    "Альтернативная гипотеза будет: средние пользовательские рейтинги платформ XboxOne и PC различны.\n",
    "Альфа зададим равному 5%"
   ]
  },
  {
   "cell_type": "code",
   "execution_count": 44,
   "id": "96bd1218",
   "metadata": {
    "scrolled": false
   },
   "outputs": [
    {
     "name": "stdout",
     "output_type": "stream",
     "text": [
      "p-value равна: 0.013437604921939045\n",
      "Отвергаем нулевую гипотезу\n"
     ]
    }
   ],
   "source": [
    "result = st.ttest_ind(data.query('platform == \"XOne\"')['user_score']\n",
    "                      .fillna(data.query('platform == \"XOne\"')['user_score'].median()),\n",
    "                     data.query('platform == \"PC\"')['user_score']\n",
    "                      .fillna(data.query('platform == \"PC\"')['user_score'].median()))\n",
    "alpha = 0.05\n",
    "\n",
    "print('p-value равна:', result.pvalue)\n",
    "if result.pvalue < alpha:\n",
    "    print('Отвергаем нулевую гипотезу')\n",
    "else:\n",
    "    print('Не получилось отвергнуть нулевую гипотезу') "
   ]
  },
  {
   "cell_type": "markdown",
   "id": "a5fc684c",
   "metadata": {},
   "source": [
    "Нулевая гипотеза не подтвердилась, значит рейтинги для платформ разные."
   ]
  },
  {
   "cell_type": "markdown",
   "id": "3d95dad2",
   "metadata": {},
   "source": [
    "### Средние пользовательские рейтинги жанров Action и Sports разные"
   ]
  },
  {
   "cell_type": "markdown",
   "id": "bb1c98a1",
   "metadata": {},
   "source": [
    "Сформулируем нулевую гипотезу так: средние пользовательские рейтинги жанров Action и Sports равны.\n",
    "Альтернативная гипотеза будет: средние пользовательские рейтинги жанров Action и Sports различны.\n",
    "Альфа зададим равному 5%"
   ]
  },
  {
   "cell_type": "code",
   "execution_count": 45,
   "id": "d3f65ad3",
   "metadata": {},
   "outputs": [
    {
     "name": "stdout",
     "output_type": "stream",
     "text": [
      "p-value равна: 5.796931162260042e-30\n",
      "Отвергаем нулевую гипотезу\n"
     ]
    }
   ],
   "source": [
    "result = st.ttest_ind(data.query('genre == \"Action\"')['user_score']\n",
    "                      .fillna(data.query('genre == \"Action\"')['user_score'].median()),\n",
    "                     data.query('genre == \"Sports\"')['user_score']\n",
    "                      .fillna(data.query('genre == \"Sports\"')['user_score'].median()))\n",
    "alpha = 0.05\n",
    "\n",
    "print('p-value равна:', result.pvalue)\n",
    "if result.pvalue < alpha:\n",
    "    print('Отвергаем нулевую гипотезу')\n",
    "else:\n",
    "    print('Не получилось отвергнуть нулевую гипотезу') "
   ]
  },
  {
   "cell_type": "markdown",
   "id": "7610b6be",
   "metadata": {},
   "source": [
    "Уровень статистической значимости слишком низок, нулевая гипотеза не подтвердилась. Значит рейтинги для жанров действительно разные."
   ]
  },
  {
   "cell_type": "markdown",
   "id": "158c88f3",
   "metadata": {},
   "source": [
    "### Вывод"
   ]
  },
  {
   "cell_type": "markdown",
   "id": "0487d632",
   "metadata": {},
   "source": [
    "1) Средние пользовательские рейтинги платформ Xbox One и PC не одинаковы\n",
    "\n",
    "2) Средние пользовательские рейтинги жанров Action и Sports разные"
   ]
  },
  {
   "cell_type": "markdown",
   "id": "5e7cadf5",
   "metadata": {},
   "source": [
    "## Общий вывод"
   ]
  },
  {
   "cell_type": "markdown",
   "id": "60963ca0",
   "metadata": {},
   "source": [
    "    1) Мы ознакомились с данными\n",
    "\n",
    "    2) Провели предобработку данных, включая дополнительные рассчеты\n",
    "\n",
    "    3) Провели анализ данных:\n",
    "\n",
    "        3.1) Сделали вывод, что время жизни платформы -- порядка 10 лет, поэтому для нашего исследования не актуальны игры раннее 2007 года\n",
    "        3.2) Увидели, что платформы, на которые стоит обратить внимание это PS4, XBoxOne, PC, 3DS.\n",
    "        3.3) Опредили, что при покупке игр пользователи обращают внимание на оценки критиков, а не на оценки игроков\n",
    "        3.4) Выявили, что лучше всего продаются Шутеры, Платформеры, Экшн, Спортивные, РПГ, Файтинговые и Гоночные игры. Так же отметили в каких жанрах стоит ожидать хитовые игры.\n",
    "\n",
    "    4) Составили портреты пользователей для разных географических регионов продаж\n",
    "\n",
    "    5) Определили, что:\n",
    "\n",
    "        5.1) Средние пользовательские рейтинги платформ Xbox One и PC не одинаковы\n",
    "        5.2) Средние пользовательские рейтинги жанров Action и Sports разные"
   ]
  }
 ],
 "metadata": {
  "ExecuteTimeLog": [
   {
    "duration": 319,
    "start_time": "2022-03-01T09:09:24.474Z"
   },
   {
    "duration": 1483,
    "start_time": "2022-03-01T09:09:29.580Z"
   },
   {
    "duration": 3049,
    "start_time": "2022-03-01T09:09:31.065Z"
   },
   {
    "duration": 512,
    "start_time": "2022-03-01T09:09:33.605Z"
   },
   {
    "duration": 497,
    "start_time": "2022-03-01T09:09:33.621Z"
   },
   {
    "duration": 482,
    "start_time": "2022-03-01T09:09:33.638Z"
   },
   {
    "duration": 472,
    "start_time": "2022-03-01T09:09:33.649Z"
   },
   {
    "duration": 467,
    "start_time": "2022-03-01T09:09:33.656Z"
   },
   {
    "duration": 449,
    "start_time": "2022-03-01T09:09:33.675Z"
   },
   {
    "duration": 442,
    "start_time": "2022-03-01T09:09:33.684Z"
   },
   {
    "duration": 424,
    "start_time": "2022-03-01T09:09:33.704Z"
   },
   {
    "duration": 419,
    "start_time": "2022-03-01T09:09:33.710Z"
   },
   {
    "duration": 412,
    "start_time": "2022-03-01T09:09:33.718Z"
   },
   {
    "duration": 409,
    "start_time": "2022-03-01T09:09:33.723Z"
   },
   {
    "duration": 403,
    "start_time": "2022-03-01T09:09:33.730Z"
   },
   {
    "duration": 394,
    "start_time": "2022-03-01T09:09:33.741Z"
   },
   {
    "duration": 385,
    "start_time": "2022-03-01T09:09:33.751Z"
   },
   {
    "duration": 382,
    "start_time": "2022-03-01T09:09:33.756Z"
   },
   {
    "duration": 377,
    "start_time": "2022-03-01T09:09:33.763Z"
   },
   {
    "duration": 371,
    "start_time": "2022-03-01T09:09:33.770Z"
   },
   {
    "duration": 292,
    "start_time": "2022-03-01T09:09:36.140Z"
   },
   {
    "duration": 81,
    "start_time": "2022-03-01T09:10:00.459Z"
   },
   {
    "duration": 5,
    "start_time": "2022-03-01T09:10:19.461Z"
   },
   {
    "duration": 78,
    "start_time": "2022-03-01T09:10:19.469Z"
   },
   {
    "duration": 23,
    "start_time": "2022-03-01T09:10:19.550Z"
   },
   {
    "duration": 26,
    "start_time": "2022-03-01T09:10:19.576Z"
   },
   {
    "duration": 13,
    "start_time": "2022-03-01T09:10:19.604Z"
   },
   {
    "duration": 10,
    "start_time": "2022-03-01T09:10:19.619Z"
   },
   {
    "duration": 40,
    "start_time": "2022-03-01T09:10:19.633Z"
   },
   {
    "duration": 10,
    "start_time": "2022-03-01T09:10:19.676Z"
   },
   {
    "duration": 9,
    "start_time": "2022-03-01T09:10:19.688Z"
   },
   {
    "duration": 344,
    "start_time": "2022-03-01T09:10:19.699Z"
   },
   {
    "duration": 6,
    "start_time": "2022-03-01T09:10:20.047Z"
   },
   {
    "duration": 23,
    "start_time": "2022-03-01T09:10:20.055Z"
   },
   {
    "duration": 36,
    "start_time": "2022-03-01T09:10:20.081Z"
   },
   {
    "duration": 15,
    "start_time": "2022-03-01T09:10:20.119Z"
   },
   {
    "duration": 9,
    "start_time": "2022-03-01T09:10:20.173Z"
   },
   {
    "duration": 38,
    "start_time": "2022-03-01T09:10:20.185Z"
   },
   {
    "duration": 47,
    "start_time": "2022-03-01T09:10:20.226Z"
   },
   {
    "duration": 6,
    "start_time": "2022-03-01T09:10:20.276Z"
   },
   {
    "duration": 377,
    "start_time": "2022-03-01T09:10:20.286Z"
   },
   {
    "duration": 14,
    "start_time": "2022-03-01T09:10:20.666Z"
   },
   {
    "duration": 55,
    "start_time": "2022-03-01T09:10:20.682Z"
   },
   {
    "duration": 1515,
    "start_time": "2022-03-01T09:10:20.739Z"
   },
   {
    "duration": 29,
    "start_time": "2022-03-01T09:10:22.256Z"
   },
   {
    "duration": 42,
    "start_time": "2022-03-01T09:10:22.287Z"
   },
   {
    "duration": 930,
    "start_time": "2022-03-01T09:10:22.332Z"
   },
   {
    "duration": 4013,
    "start_time": "2022-03-01T09:10:23.265Z"
   },
   {
    "duration": 3823,
    "start_time": "2022-03-01T09:10:27.281Z"
   },
   {
    "duration": 4180,
    "start_time": "2022-03-01T09:10:31.106Z"
   },
   {
    "duration": 4426,
    "start_time": "2022-03-01T09:10:35.288Z"
   },
   {
    "duration": 59,
    "start_time": "2022-03-01T09:10:39.716Z"
   },
   {
    "duration": 819,
    "start_time": "2022-03-01T09:10:39.778Z"
   },
   {
    "duration": 164,
    "start_time": "2022-03-01T09:10:40.600Z"
   },
   {
    "duration": 145,
    "start_time": "2022-03-01T09:10:40.774Z"
   },
   {
    "duration": 151,
    "start_time": "2022-03-01T09:10:40.922Z"
   },
   {
    "duration": 144,
    "start_time": "2022-03-01T09:10:41.075Z"
   },
   {
    "duration": 67,
    "start_time": "2022-03-01T09:10:41.222Z"
   },
   {
    "duration": 9,
    "start_time": "2022-03-01T09:10:41.292Z"
   },
   {
    "duration": 26,
    "start_time": "2022-03-01T09:10:41.304Z"
   },
   {
    "duration": 64,
    "start_time": "2022-03-01T09:10:41.333Z"
   },
   {
    "duration": 29,
    "start_time": "2022-03-01T09:10:41.400Z"
   }
  ],
  "kernelspec": {
   "display_name": "Python 3",
   "language": "python",
   "name": "python3"
  },
  "language_info": {
   "codemirror_mode": {
    "name": "ipython",
    "version": 3
   },
   "file_extension": ".py",
   "mimetype": "text/x-python",
   "name": "python",
   "nbconvert_exporter": "python",
   "pygments_lexer": "ipython3",
   "version": "3.8.8"
  },
  "toc": {
   "base_numbering": 1,
   "nav_menu": {},
   "number_sections": true,
   "sideBar": true,
   "skip_h1_title": true,
   "title_cell": "Содержание",
   "title_sidebar": "Contents",
   "toc_cell": true,
   "toc_position": {
    "height": "calc(100% - 180px)",
    "left": "10px",
    "top": "150px",
    "width": "244px"
   },
   "toc_section_display": true,
   "toc_window_display": true
  }
 },
 "nbformat": 4,
 "nbformat_minor": 5
}
