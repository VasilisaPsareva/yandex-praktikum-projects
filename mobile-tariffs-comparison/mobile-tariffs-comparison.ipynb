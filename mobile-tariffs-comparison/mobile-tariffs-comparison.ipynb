{
 "cells": [
  {
   "cell_type": "markdown",
   "id": "f406a5cf",
   "metadata": {},
   "source": [
    "# Исследование выгодности тарифов"
   ]
  },
  {
   "cell_type": "markdown",
   "id": "dade2729",
   "metadata": {
    "toc": true
   },
   "source": [
    "<h1>Содержание<span class=\"tocSkip\"></span></h1>\n",
    "<div class=\"toc\"><ul class=\"toc-item\"><li><span><a href=\"#Обзор-и-предобработка-данных\" data-toc-modified-id=\"Обзор-и-предобработка-данных-1\"><span class=\"toc-item-num\">1&nbsp;&nbsp;</span>Обзор и предобработка данных</a></span><ul class=\"toc-item\"><li><span><a href=\"#Звонки\" data-toc-modified-id=\"Звонки-1.1\"><span class=\"toc-item-num\">1.1&nbsp;&nbsp;</span>Звонки</a></span></li><li><span><a href=\"#Интернет\" data-toc-modified-id=\"Интернет-1.2\"><span class=\"toc-item-num\">1.2&nbsp;&nbsp;</span>Интернет</a></span></li><li><span><a href=\"#Сообщения\" data-toc-modified-id=\"Сообщения-1.3\"><span class=\"toc-item-num\">1.3&nbsp;&nbsp;</span>Сообщения</a></span></li><li><span><a href=\"#Тарифы\" data-toc-modified-id=\"Тарифы-1.4\"><span class=\"toc-item-num\">1.4&nbsp;&nbsp;</span>Тарифы</a></span></li><li><span><a href=\"#Пользователи\" data-toc-modified-id=\"Пользователи-1.5\"><span class=\"toc-item-num\">1.5&nbsp;&nbsp;</span>Пользователи</a></span></li><li><span><a href=\"#Проверка-дубликатов\" data-toc-modified-id=\"Проверка-дубликатов-1.6\"><span class=\"toc-item-num\">1.6&nbsp;&nbsp;</span>Проверка дубликатов</a></span></li><li><span><a href=\"#Вывод\" data-toc-modified-id=\"Вывод-1.7\"><span class=\"toc-item-num\">1.7&nbsp;&nbsp;</span>Вывод</a></span></li></ul></li><li><span><a href=\"#Рассчеты\" data-toc-modified-id=\"Рассчеты-2\"><span class=\"toc-item-num\">2&nbsp;&nbsp;</span>Рассчеты</a></span><ul class=\"toc-item\"><li><span><a href=\"#Вывод\" data-toc-modified-id=\"Вывод-2.1\"><span class=\"toc-item-num\">2.1&nbsp;&nbsp;</span>Вывод</a></span></li></ul></li><li><span><a href=\"#Анализ\" data-toc-modified-id=\"Анализ-3\"><span class=\"toc-item-num\">3&nbsp;&nbsp;</span>Анализ</a></span><ul class=\"toc-item\"><li><span><a href=\"#Минуты-разговора\" data-toc-modified-id=\"Минуты-разговора-3.1\"><span class=\"toc-item-num\">3.1&nbsp;&nbsp;</span>Минуты разговора</a></span><ul class=\"toc-item\"><li><span><a href=\"#Вывод\" data-toc-modified-id=\"Вывод-3.1.1\"><span class=\"toc-item-num\">3.1.1&nbsp;&nbsp;</span>Вывод</a></span></li></ul></li><li><span><a href=\"#Количество-сообщений\" data-toc-modified-id=\"Количество-сообщений-3.2\"><span class=\"toc-item-num\">3.2&nbsp;&nbsp;</span>Количество сообщений</a></span><ul class=\"toc-item\"><li><span><a href=\"#Вывод\" data-toc-modified-id=\"Вывод-3.2.1\"><span class=\"toc-item-num\">3.2.1&nbsp;&nbsp;</span>Вывод</a></span></li></ul></li><li><span><a href=\"#Трафик\" data-toc-modified-id=\"Трафик-3.3\"><span class=\"toc-item-num\">3.3&nbsp;&nbsp;</span>Трафик</a></span><ul class=\"toc-item\"><li><span><a href=\"#Вывод\" data-toc-modified-id=\"Вывод-3.3.1\"><span class=\"toc-item-num\">3.3.1&nbsp;&nbsp;</span>Вывод</a></span></li></ul></li><li><span><a href=\"#Вывод\" data-toc-modified-id=\"Вывод-3.4\"><span class=\"toc-item-num\">3.4&nbsp;&nbsp;</span>Вывод</a></span></li></ul></li><li><span><a href=\"#Проверка-гипотез\" data-toc-modified-id=\"Проверка-гипотез-4\"><span class=\"toc-item-num\">4&nbsp;&nbsp;</span>Проверка гипотез</a></span><ul class=\"toc-item\"><li><span><a href=\"#Cредняя-выручка-пользователей-тарифов-«Ультра»-и-«Смарт»-различаются\" data-toc-modified-id=\"Cредняя-выручка-пользователей-тарифов-«Ультра»-и-«Смарт»-различаются-4.1\"><span class=\"toc-item-num\">4.1&nbsp;&nbsp;</span>Cредняя выручка пользователей тарифов «Ультра» и «Смарт» различаются</a></span><ul class=\"toc-item\"><li><span><a href=\"#Вывод\" data-toc-modified-id=\"Вывод-4.1.1\"><span class=\"toc-item-num\">4.1.1&nbsp;&nbsp;</span>Вывод</a></span></li></ul></li><li><span><a href=\"#Cредняя-выручка-пользователей-из-Москвы-отличается-от-выручки-пользователей-из-других-регионов\" data-toc-modified-id=\"Cредняя-выручка-пользователей-из-Москвы-отличается-от-выручки-пользователей-из-других-регионов-4.2\"><span class=\"toc-item-num\">4.2&nbsp;&nbsp;</span>Cредняя выручка пользователей из Москвы отличается от выручки пользователей из других регионов</a></span><ul class=\"toc-item\"><li><span><a href=\"#Вывод\" data-toc-modified-id=\"Вывод-4.2.1\"><span class=\"toc-item-num\">4.2.1&nbsp;&nbsp;</span>Вывод</a></span></li></ul></li></ul></li><li><span><a href=\"#Общий-вывод\" data-toc-modified-id=\"Общий-вывод-5\"><span class=\"toc-item-num\">5&nbsp;&nbsp;</span>Общий вывод</a></span></li></ul></div>"
   ]
  },
  {
   "cell_type": "markdown",
   "id": "545cbf66",
   "metadata": {},
   "source": [
    "Целью нашей работы является определение, какой из двух тарифов компании -- \"Ультра\" или \"Смарт\" -- приносит больше денег компании \"Мегалайн\". Мы проведем предварительный анализ тарифов на небольшой выборке из 500 клиентов, анализируя данные их звонков, сообщений и использования трафика за 2018 год.\n",
    "Работать мы будем с пятью csv файлами с данными.\n",
    "\n",
    "    Таблица users (информация о пользователях):    \n",
    "        - user_id — уникальный идентификатор пользователя\n",
    "        - first_name — имя пользователя\n",
    "        - last_name — фамилия пользователя\n",
    "        - age — возраст пользователя (годы)\n",
    "        - reg_date — дата подключения тарифа (день, месяц, год)\n",
    "        - churn_date — дата прекращения пользования тарифом (если значение пропущено, то тариф ещё действовал на момент выгрузки данных)\n",
    "        - city — город проживания пользователя\n",
    "        - tariff — название тарифного плана\n",
    "    Таблица calls (информация о звонках):\n",
    "        - id — уникальный номер звонка\n",
    "        - call_date — дата звонка\n",
    "        - duration — длительность звонка в минутах\n",
    "        - user_id — идентификатор пользователя, сделавшего звонок\n",
    "    Таблица messages (информация о сообщениях):\n",
    "        - id — уникальный номер сообщения\n",
    "        - message_date — дата сообщения\n",
    "        - user_id — идентификатор пользователя, отправившего сообщение\n",
    "    Таблица internet (информация об интернет-сессиях):\n",
    "        - id — уникальный номер сессии\n",
    "        - mb_used — объём потраченного за сессию интернет-трафика (в мегабайтах)\n",
    "        - session_date — дата интернет-сессии\n",
    "        - user_id — идентификатор пользователя\n",
    "    Таблица tariffs (информация о тарифах):\n",
    "        - tariff_name — название тарифа\n",
    "        - rub_monthly_fee — ежемесячная абонентская плата в рублях\n",
    "        - minutes_included — количество минут разговора в месяц, включённых в абонентскую плату\n",
    "        - messages_included — количество сообщений в месяц, включённых в абонентскую плату\n",
    "        - mb_per_month_included — объём интернет-трафика, включённого в абонентскую плату (в мегабайтах)\n",
    "        - rub_per_minute — стоимость минуты разговора сверх тарифного пакета (например, если в тарифе 100 минут разговора в месяц, то со 101 минуты будет взиматься плата)\n",
    "        - rub_per_message — стоимость отправки сообщения сверх тарифного пакета\n",
    "        - rub_per_gb — стоимость дополнительного гигабайта интернет-трафика сверх тарифного пакета (1 гигабайт = 1024 мегабайта)"
   ]
  },
  {
   "cell_type": "markdown",
   "id": "bebcd6c1",
   "metadata": {},
   "source": [
    "В процессе работы мы:\n",
    "\n",
    "    1) произведем предобработку данных\n",
    "    2) проведем рассчет дополнительных данных\n",
    "    3) проанализируем, сколько времени звонков, сообщений и трафика требуется пользователям разных тарифов\n",
    "    4) проверим гипотезы о всех данных по предоставленной выборке"
   ]
  },
  {
   "cell_type": "markdown",
   "id": "5323b8f8",
   "metadata": {},
   "source": [
    "## Обзор и предобработка данных"
   ]
  },
  {
   "cell_type": "markdown",
   "id": "75138377",
   "metadata": {},
   "source": [
    "Импортируем необходимые библиотеки"
   ]
  },
  {
   "cell_type": "code",
   "execution_count": 1,
   "id": "6d6f7a0e",
   "metadata": {},
   "outputs": [],
   "source": [
    "import pandas as pd\n",
    "import numpy as np\n",
    "import matplotlib.pyplot as plt\n",
    "from scipy import stats as st"
   ]
  },
  {
   "cell_type": "markdown",
   "id": "db7f493e",
   "metadata": {},
   "source": [
    "Откроем все таблицы, посмотрим на них\n",
    "\n",
    "### Звонки"
   ]
  },
  {
   "cell_type": "code",
   "execution_count": 2,
   "id": "62f9e66a",
   "metadata": {
    "scrolled": false
   },
   "outputs": [
    {
     "name": "stdout",
     "output_type": "stream",
     "text": [
      "<class 'pandas.core.frame.DataFrame'>\n",
      "RangeIndex: 202607 entries, 0 to 202606\n",
      "Data columns (total 4 columns):\n",
      "id           202607 non-null object\n",
      "call_date    202607 non-null object\n",
      "duration     202607 non-null float64\n",
      "user_id      202607 non-null int64\n",
      "dtypes: float64(1), int64(1), object(2)\n",
      "memory usage: 6.2+ MB\n"
     ]
    },
    {
     "data": {
      "text/html": [
       "<div>\n",
       "<style scoped>\n",
       "    .dataframe tbody tr th:only-of-type {\n",
       "        vertical-align: middle;\n",
       "    }\n",
       "\n",
       "    .dataframe tbody tr th {\n",
       "        vertical-align: top;\n",
       "    }\n",
       "\n",
       "    .dataframe thead th {\n",
       "        text-align: right;\n",
       "    }\n",
       "</style>\n",
       "<table border=\"1\" class=\"dataframe\">\n",
       "  <thead>\n",
       "    <tr style=\"text-align: right;\">\n",
       "      <th></th>\n",
       "      <th>id</th>\n",
       "      <th>call_date</th>\n",
       "      <th>duration</th>\n",
       "      <th>user_id</th>\n",
       "    </tr>\n",
       "  </thead>\n",
       "  <tbody>\n",
       "    <tr>\n",
       "      <td>0</td>\n",
       "      <td>1000_0</td>\n",
       "      <td>2018-07-25</td>\n",
       "      <td>0.00</td>\n",
       "      <td>1000</td>\n",
       "    </tr>\n",
       "    <tr>\n",
       "      <td>1</td>\n",
       "      <td>1000_1</td>\n",
       "      <td>2018-08-17</td>\n",
       "      <td>0.00</td>\n",
       "      <td>1000</td>\n",
       "    </tr>\n",
       "    <tr>\n",
       "      <td>2</td>\n",
       "      <td>1000_2</td>\n",
       "      <td>2018-06-11</td>\n",
       "      <td>2.85</td>\n",
       "      <td>1000</td>\n",
       "    </tr>\n",
       "    <tr>\n",
       "      <td>3</td>\n",
       "      <td>1000_3</td>\n",
       "      <td>2018-09-21</td>\n",
       "      <td>13.80</td>\n",
       "      <td>1000</td>\n",
       "    </tr>\n",
       "    <tr>\n",
       "      <td>4</td>\n",
       "      <td>1000_4</td>\n",
       "      <td>2018-12-15</td>\n",
       "      <td>5.18</td>\n",
       "      <td>1000</td>\n",
       "    </tr>\n",
       "    <tr>\n",
       "      <td>...</td>\n",
       "      <td>...</td>\n",
       "      <td>...</td>\n",
       "      <td>...</td>\n",
       "      <td>...</td>\n",
       "    </tr>\n",
       "    <tr>\n",
       "      <td>202602</td>\n",
       "      <td>1499_215</td>\n",
       "      <td>2018-12-26</td>\n",
       "      <td>0.76</td>\n",
       "      <td>1499</td>\n",
       "    </tr>\n",
       "    <tr>\n",
       "      <td>202603</td>\n",
       "      <td>1499_216</td>\n",
       "      <td>2018-10-18</td>\n",
       "      <td>18.83</td>\n",
       "      <td>1499</td>\n",
       "    </tr>\n",
       "    <tr>\n",
       "      <td>202604</td>\n",
       "      <td>1499_217</td>\n",
       "      <td>2018-11-10</td>\n",
       "      <td>10.81</td>\n",
       "      <td>1499</td>\n",
       "    </tr>\n",
       "    <tr>\n",
       "      <td>202605</td>\n",
       "      <td>1499_218</td>\n",
       "      <td>2018-10-06</td>\n",
       "      <td>4.27</td>\n",
       "      <td>1499</td>\n",
       "    </tr>\n",
       "    <tr>\n",
       "      <td>202606</td>\n",
       "      <td>1499_219</td>\n",
       "      <td>2018-12-14</td>\n",
       "      <td>19.62</td>\n",
       "      <td>1499</td>\n",
       "    </tr>\n",
       "  </tbody>\n",
       "</table>\n",
       "<p>202607 rows × 4 columns</p>\n",
       "</div>"
      ],
      "text/plain": [
       "              id   call_date  duration  user_id\n",
       "0         1000_0  2018-07-25      0.00     1000\n",
       "1         1000_1  2018-08-17      0.00     1000\n",
       "2         1000_2  2018-06-11      2.85     1000\n",
       "3         1000_3  2018-09-21     13.80     1000\n",
       "4         1000_4  2018-12-15      5.18     1000\n",
       "...          ...         ...       ...      ...\n",
       "202602  1499_215  2018-12-26      0.76     1499\n",
       "202603  1499_216  2018-10-18     18.83     1499\n",
       "202604  1499_217  2018-11-10     10.81     1499\n",
       "202605  1499_218  2018-10-06      4.27     1499\n",
       "202606  1499_219  2018-12-14     19.62     1499\n",
       "\n",
       "[202607 rows x 4 columns]"
      ]
     },
     "execution_count": 2,
     "metadata": {},
     "output_type": "execute_result"
    }
   ],
   "source": [
    "calls = pd.read_csv('/datasets/calls.csv')\n",
    "calls.info()\n",
    "calls"
   ]
  },
  {
   "cell_type": "markdown",
   "id": "aba91235",
   "metadata": {},
   "source": [
    "Дату звонка приведем к формату `datetime`, время звонка округлим вверх и привем к `int` -- все равно при рассчетах дробная часть будет неважна исходя из правил тарифов."
   ]
  },
  {
   "cell_type": "code",
   "execution_count": 3,
   "id": "0802ac13",
   "metadata": {
    "scrolled": false
   },
   "outputs": [
    {
     "name": "stdout",
     "output_type": "stream",
     "text": [
      "<class 'pandas.core.frame.DataFrame'>\n",
      "RangeIndex: 202607 entries, 0 to 202606\n",
      "Data columns (total 4 columns):\n",
      "id           202607 non-null object\n",
      "call_date    202607 non-null datetime64[ns]\n",
      "duration     202607 non-null int64\n",
      "user_id      202607 non-null int64\n",
      "dtypes: datetime64[ns](1), int64(2), object(1)\n",
      "memory usage: 6.2+ MB\n"
     ]
    }
   ],
   "source": [
    "calls['call_date'] = pd.to_datetime(calls['call_date'],format='%Y-%m-%d')\n",
    "calls['duration'] = np.ceil(calls['duration']).astype('int')\n",
    "calls.info()"
   ]
  },
  {
   "cell_type": "markdown",
   "id": "e494ac20",
   "metadata": {},
   "source": [
    "### Интернет"
   ]
  },
  {
   "cell_type": "code",
   "execution_count": 4,
   "id": "276edc53",
   "metadata": {
    "scrolled": false
   },
   "outputs": [
    {
     "name": "stdout",
     "output_type": "stream",
     "text": [
      "<class 'pandas.core.frame.DataFrame'>\n",
      "RangeIndex: 149396 entries, 0 to 149395\n",
      "Data columns (total 5 columns):\n",
      "Unnamed: 0      149396 non-null int64\n",
      "id              149396 non-null object\n",
      "mb_used         149396 non-null float64\n",
      "session_date    149396 non-null object\n",
      "user_id         149396 non-null int64\n",
      "dtypes: float64(1), int64(2), object(2)\n",
      "memory usage: 5.7+ MB\n"
     ]
    },
    {
     "data": {
      "text/html": [
       "<div>\n",
       "<style scoped>\n",
       "    .dataframe tbody tr th:only-of-type {\n",
       "        vertical-align: middle;\n",
       "    }\n",
       "\n",
       "    .dataframe tbody tr th {\n",
       "        vertical-align: top;\n",
       "    }\n",
       "\n",
       "    .dataframe thead th {\n",
       "        text-align: right;\n",
       "    }\n",
       "</style>\n",
       "<table border=\"1\" class=\"dataframe\">\n",
       "  <thead>\n",
       "    <tr style=\"text-align: right;\">\n",
       "      <th></th>\n",
       "      <th>Unnamed: 0</th>\n",
       "      <th>id</th>\n",
       "      <th>mb_used</th>\n",
       "      <th>session_date</th>\n",
       "      <th>user_id</th>\n",
       "    </tr>\n",
       "  </thead>\n",
       "  <tbody>\n",
       "    <tr>\n",
       "      <td>0</td>\n",
       "      <td>0</td>\n",
       "      <td>1000_0</td>\n",
       "      <td>112.95</td>\n",
       "      <td>2018-11-25</td>\n",
       "      <td>1000</td>\n",
       "    </tr>\n",
       "    <tr>\n",
       "      <td>1</td>\n",
       "      <td>1</td>\n",
       "      <td>1000_1</td>\n",
       "      <td>1052.81</td>\n",
       "      <td>2018-09-07</td>\n",
       "      <td>1000</td>\n",
       "    </tr>\n",
       "    <tr>\n",
       "      <td>2</td>\n",
       "      <td>2</td>\n",
       "      <td>1000_2</td>\n",
       "      <td>1197.26</td>\n",
       "      <td>2018-06-25</td>\n",
       "      <td>1000</td>\n",
       "    </tr>\n",
       "    <tr>\n",
       "      <td>3</td>\n",
       "      <td>3</td>\n",
       "      <td>1000_3</td>\n",
       "      <td>550.27</td>\n",
       "      <td>2018-08-22</td>\n",
       "      <td>1000</td>\n",
       "    </tr>\n",
       "    <tr>\n",
       "      <td>4</td>\n",
       "      <td>4</td>\n",
       "      <td>1000_4</td>\n",
       "      <td>302.56</td>\n",
       "      <td>2018-09-24</td>\n",
       "      <td>1000</td>\n",
       "    </tr>\n",
       "    <tr>\n",
       "      <td>...</td>\n",
       "      <td>...</td>\n",
       "      <td>...</td>\n",
       "      <td>...</td>\n",
       "      <td>...</td>\n",
       "      <td>...</td>\n",
       "    </tr>\n",
       "    <tr>\n",
       "      <td>149391</td>\n",
       "      <td>149391</td>\n",
       "      <td>1499_152</td>\n",
       "      <td>318.90</td>\n",
       "      <td>2018-10-03</td>\n",
       "      <td>1499</td>\n",
       "    </tr>\n",
       "    <tr>\n",
       "      <td>149392</td>\n",
       "      <td>149392</td>\n",
       "      <td>1499_153</td>\n",
       "      <td>490.13</td>\n",
       "      <td>2018-12-14</td>\n",
       "      <td>1499</td>\n",
       "    </tr>\n",
       "    <tr>\n",
       "      <td>149393</td>\n",
       "      <td>149393</td>\n",
       "      <td>1499_154</td>\n",
       "      <td>0.00</td>\n",
       "      <td>2018-10-27</td>\n",
       "      <td>1499</td>\n",
       "    </tr>\n",
       "    <tr>\n",
       "      <td>149394</td>\n",
       "      <td>149394</td>\n",
       "      <td>1499_155</td>\n",
       "      <td>1246.32</td>\n",
       "      <td>2018-11-26</td>\n",
       "      <td>1499</td>\n",
       "    </tr>\n",
       "    <tr>\n",
       "      <td>149395</td>\n",
       "      <td>149395</td>\n",
       "      <td>1499_156</td>\n",
       "      <td>544.37</td>\n",
       "      <td>2018-10-26</td>\n",
       "      <td>1499</td>\n",
       "    </tr>\n",
       "  </tbody>\n",
       "</table>\n",
       "<p>149396 rows × 5 columns</p>\n",
       "</div>"
      ],
      "text/plain": [
       "        Unnamed: 0        id  mb_used session_date  user_id\n",
       "0                0    1000_0   112.95   2018-11-25     1000\n",
       "1                1    1000_1  1052.81   2018-09-07     1000\n",
       "2                2    1000_2  1197.26   2018-06-25     1000\n",
       "3                3    1000_3   550.27   2018-08-22     1000\n",
       "4                4    1000_4   302.56   2018-09-24     1000\n",
       "...            ...       ...      ...          ...      ...\n",
       "149391      149391  1499_152   318.90   2018-10-03     1499\n",
       "149392      149392  1499_153   490.13   2018-12-14     1499\n",
       "149393      149393  1499_154     0.00   2018-10-27     1499\n",
       "149394      149394  1499_155  1246.32   2018-11-26     1499\n",
       "149395      149395  1499_156   544.37   2018-10-26     1499\n",
       "\n",
       "[149396 rows x 5 columns]"
      ]
     },
     "execution_count": 4,
     "metadata": {},
     "output_type": "execute_result"
    }
   ],
   "source": [
    "internet = pd.read_csv('/datasets/internet.csv')\n",
    "internet.info()\n",
    "internet"
   ]
  },
  {
   "cell_type": "markdown",
   "id": "e961e40f",
   "metadata": {},
   "source": [
    "Дату сессий приведем к `datetime`. Первый столбец удалим -- это просто лишняя индексация."
   ]
  },
  {
   "cell_type": "code",
   "execution_count": 5,
   "id": "b91a96d7",
   "metadata": {
    "scrolled": false
   },
   "outputs": [
    {
     "name": "stdout",
     "output_type": "stream",
     "text": [
      "<class 'pandas.core.frame.DataFrame'>\n",
      "RangeIndex: 149396 entries, 0 to 149395\n",
      "Data columns (total 4 columns):\n",
      "id              149396 non-null object\n",
      "mb_used         149396 non-null float64\n",
      "session_date    149396 non-null datetime64[ns]\n",
      "user_id         149396 non-null int64\n",
      "dtypes: datetime64[ns](1), float64(1), int64(1), object(1)\n",
      "memory usage: 4.6+ MB\n"
     ]
    }
   ],
   "source": [
    "internet['session_date'] = pd.to_datetime(internet['session_date'],format='%Y-%m-%d')\n",
    "internet.drop(['Unnamed: 0'], axis=1, inplace=True)\n",
    "internet.info()"
   ]
  },
  {
   "cell_type": "markdown",
   "id": "5bf7a523",
   "metadata": {},
   "source": [
    "<a id=\"checking_zeros\"></a>\n",
    "В таблице наблюдаются строки, где количество использованных мегабайт равно 0. Посмотрим на них:"
   ]
  },
  {
   "cell_type": "code",
   "execution_count": 6,
   "id": "12f7e713",
   "metadata": {},
   "outputs": [
    {
     "data": {
      "text/html": [
       "<div>\n",
       "<style scoped>\n",
       "    .dataframe tbody tr th:only-of-type {\n",
       "        vertical-align: middle;\n",
       "    }\n",
       "\n",
       "    .dataframe tbody tr th {\n",
       "        vertical-align: top;\n",
       "    }\n",
       "\n",
       "    .dataframe thead th {\n",
       "        text-align: right;\n",
       "    }\n",
       "</style>\n",
       "<table border=\"1\" class=\"dataframe\">\n",
       "  <thead>\n",
       "    <tr style=\"text-align: right;\">\n",
       "      <th></th>\n",
       "      <th>id</th>\n",
       "      <th>mb_used</th>\n",
       "      <th>session_date</th>\n",
       "      <th>user_id</th>\n",
       "    </tr>\n",
       "  </thead>\n",
       "  <tbody>\n",
       "    <tr>\n",
       "      <td>11</td>\n",
       "      <td>1000_11</td>\n",
       "      <td>0.0</td>\n",
       "      <td>2018-08-28</td>\n",
       "      <td>1000</td>\n",
       "    </tr>\n",
       "    <tr>\n",
       "      <td>38</td>\n",
       "      <td>1000_38</td>\n",
       "      <td>0.0</td>\n",
       "      <td>2018-11-27</td>\n",
       "      <td>1000</td>\n",
       "    </tr>\n",
       "    <tr>\n",
       "      <td>46</td>\n",
       "      <td>1000_46</td>\n",
       "      <td>0.0</td>\n",
       "      <td>2018-06-30</td>\n",
       "      <td>1000</td>\n",
       "    </tr>\n",
       "    <tr>\n",
       "      <td>67</td>\n",
       "      <td>1000_67</td>\n",
       "      <td>0.0</td>\n",
       "      <td>2018-06-16</td>\n",
       "      <td>1000</td>\n",
       "    </tr>\n",
       "    <tr>\n",
       "      <td>72</td>\n",
       "      <td>1000_72</td>\n",
       "      <td>0.0</td>\n",
       "      <td>2018-06-15</td>\n",
       "      <td>1000</td>\n",
       "    </tr>\n",
       "    <tr>\n",
       "      <td>...</td>\n",
       "      <td>...</td>\n",
       "      <td>...</td>\n",
       "      <td>...</td>\n",
       "      <td>...</td>\n",
       "    </tr>\n",
       "    <tr>\n",
       "      <td>149380</td>\n",
       "      <td>1499_141</td>\n",
       "      <td>0.0</td>\n",
       "      <td>2018-12-11</td>\n",
       "      <td>1499</td>\n",
       "    </tr>\n",
       "    <tr>\n",
       "      <td>149381</td>\n",
       "      <td>1499_142</td>\n",
       "      <td>0.0</td>\n",
       "      <td>2018-11-01</td>\n",
       "      <td>1499</td>\n",
       "    </tr>\n",
       "    <tr>\n",
       "      <td>149383</td>\n",
       "      <td>1499_144</td>\n",
       "      <td>0.0</td>\n",
       "      <td>2018-11-27</td>\n",
       "      <td>1499</td>\n",
       "    </tr>\n",
       "    <tr>\n",
       "      <td>149386</td>\n",
       "      <td>1499_147</td>\n",
       "      <td>0.0</td>\n",
       "      <td>2018-10-21</td>\n",
       "      <td>1499</td>\n",
       "    </tr>\n",
       "    <tr>\n",
       "      <td>149393</td>\n",
       "      <td>1499_154</td>\n",
       "      <td>0.0</td>\n",
       "      <td>2018-10-27</td>\n",
       "      <td>1499</td>\n",
       "    </tr>\n",
       "  </tbody>\n",
       "</table>\n",
       "<p>19598 rows × 4 columns</p>\n",
       "</div>"
      ],
      "text/plain": [
       "              id  mb_used session_date  user_id\n",
       "11       1000_11      0.0   2018-08-28     1000\n",
       "38       1000_38      0.0   2018-11-27     1000\n",
       "46       1000_46      0.0   2018-06-30     1000\n",
       "67       1000_67      0.0   2018-06-16     1000\n",
       "72       1000_72      0.0   2018-06-15     1000\n",
       "...          ...      ...          ...      ...\n",
       "149380  1499_141      0.0   2018-12-11     1499\n",
       "149381  1499_142      0.0   2018-11-01     1499\n",
       "149383  1499_144      0.0   2018-11-27     1499\n",
       "149386  1499_147      0.0   2018-10-21     1499\n",
       "149393  1499_154      0.0   2018-10-27     1499\n",
       "\n",
       "[19598 rows x 4 columns]"
      ]
     },
     "execution_count": 6,
     "metadata": {},
     "output_type": "execute_result"
    }
   ],
   "source": [
    "internet.query('mb_used == 0')"
   ]
  },
  {
   "cell_type": "markdown",
   "id": "3701be59",
   "metadata": {},
   "source": [
    "Возможно это попытки неудавшиеся попытки загрузить страницу из-за плохой сети или сбоев. Или ситуации, когда пользователь не стал дожидаться щагрущки страницы и тут же закрыл приложение. Эти значения не помешают нам в анализе, они просто не повлияют на конечную информацию о трафике. Можно как убрать их так и оставить. Оставим их."
   ]
  },
  {
   "cell_type": "markdown",
   "id": "1d6470d1",
   "metadata": {},
   "source": [
    "### Сообщения"
   ]
  },
  {
   "cell_type": "code",
   "execution_count": 7,
   "id": "f9155186",
   "metadata": {},
   "outputs": [
    {
     "data": {
      "text/html": [
       "<div>\n",
       "<style scoped>\n",
       "    .dataframe tbody tr th:only-of-type {\n",
       "        vertical-align: middle;\n",
       "    }\n",
       "\n",
       "    .dataframe tbody tr th {\n",
       "        vertical-align: top;\n",
       "    }\n",
       "\n",
       "    .dataframe thead th {\n",
       "        text-align: right;\n",
       "    }\n",
       "</style>\n",
       "<table border=\"1\" class=\"dataframe\">\n",
       "  <thead>\n",
       "    <tr style=\"text-align: right;\">\n",
       "      <th></th>\n",
       "      <th>id</th>\n",
       "      <th>message_date</th>\n",
       "      <th>user_id</th>\n",
       "    </tr>\n",
       "  </thead>\n",
       "  <tbody>\n",
       "    <tr>\n",
       "      <td>0</td>\n",
       "      <td>1000_0</td>\n",
       "      <td>2018-06-27</td>\n",
       "      <td>1000</td>\n",
       "    </tr>\n",
       "    <tr>\n",
       "      <td>1</td>\n",
       "      <td>1000_1</td>\n",
       "      <td>2018-10-08</td>\n",
       "      <td>1000</td>\n",
       "    </tr>\n",
       "    <tr>\n",
       "      <td>2</td>\n",
       "      <td>1000_2</td>\n",
       "      <td>2018-08-04</td>\n",
       "      <td>1000</td>\n",
       "    </tr>\n",
       "    <tr>\n",
       "      <td>3</td>\n",
       "      <td>1000_3</td>\n",
       "      <td>2018-06-16</td>\n",
       "      <td>1000</td>\n",
       "    </tr>\n",
       "    <tr>\n",
       "      <td>4</td>\n",
       "      <td>1000_4</td>\n",
       "      <td>2018-12-05</td>\n",
       "      <td>1000</td>\n",
       "    </tr>\n",
       "    <tr>\n",
       "      <td>...</td>\n",
       "      <td>...</td>\n",
       "      <td>...</td>\n",
       "      <td>...</td>\n",
       "    </tr>\n",
       "    <tr>\n",
       "      <td>123031</td>\n",
       "      <td>1499_179</td>\n",
       "      <td>2018-12-12</td>\n",
       "      <td>1499</td>\n",
       "    </tr>\n",
       "    <tr>\n",
       "      <td>123032</td>\n",
       "      <td>1499_180</td>\n",
       "      <td>2018-09-28</td>\n",
       "      <td>1499</td>\n",
       "    </tr>\n",
       "    <tr>\n",
       "      <td>123033</td>\n",
       "      <td>1499_181</td>\n",
       "      <td>2018-09-27</td>\n",
       "      <td>1499</td>\n",
       "    </tr>\n",
       "    <tr>\n",
       "      <td>123034</td>\n",
       "      <td>1499_182</td>\n",
       "      <td>2018-11-15</td>\n",
       "      <td>1499</td>\n",
       "    </tr>\n",
       "    <tr>\n",
       "      <td>123035</td>\n",
       "      <td>1499_183</td>\n",
       "      <td>2018-11-16</td>\n",
       "      <td>1499</td>\n",
       "    </tr>\n",
       "  </tbody>\n",
       "</table>\n",
       "<p>123036 rows × 3 columns</p>\n",
       "</div>"
      ],
      "text/plain": [
       "              id message_date  user_id\n",
       "0         1000_0   2018-06-27     1000\n",
       "1         1000_1   2018-10-08     1000\n",
       "2         1000_2   2018-08-04     1000\n",
       "3         1000_3   2018-06-16     1000\n",
       "4         1000_4   2018-12-05     1000\n",
       "...          ...          ...      ...\n",
       "123031  1499_179   2018-12-12     1499\n",
       "123032  1499_180   2018-09-28     1499\n",
       "123033  1499_181   2018-09-27     1499\n",
       "123034  1499_182   2018-11-15     1499\n",
       "123035  1499_183   2018-11-16     1499\n",
       "\n",
       "[123036 rows x 3 columns]"
      ]
     },
     "execution_count": 7,
     "metadata": {},
     "output_type": "execute_result"
    }
   ],
   "source": [
    "messages = pd.read_csv('/datasets/messages.csv')\n",
    "messages"
   ]
  },
  {
   "cell_type": "markdown",
   "id": "0d6f6ce5",
   "metadata": {},
   "source": [
    "Дату сообщения приведем к `datetime`."
   ]
  },
  {
   "cell_type": "code",
   "execution_count": 8,
   "id": "54014479",
   "metadata": {},
   "outputs": [],
   "source": [
    "messages['message_date'] = pd.to_datetime(messages['message_date'],format='%Y-%m-%d')"
   ]
  },
  {
   "cell_type": "markdown",
   "id": "a39b03bb",
   "metadata": {},
   "source": [
    "### Тарифы"
   ]
  },
  {
   "cell_type": "code",
   "execution_count": 9,
   "id": "430dd749",
   "metadata": {
    "scrolled": false
   },
   "outputs": [
    {
     "name": "stdout",
     "output_type": "stream",
     "text": [
      "<class 'pandas.core.frame.DataFrame'>\n",
      "RangeIndex: 2 entries, 0 to 1\n",
      "Data columns (total 8 columns):\n",
      "messages_included        2 non-null int64\n",
      "mb_per_month_included    2 non-null int64\n",
      "minutes_included         2 non-null int64\n",
      "rub_monthly_fee          2 non-null int64\n",
      "rub_per_gb               2 non-null int64\n",
      "rub_per_message          2 non-null int64\n",
      "rub_per_minute           2 non-null int64\n",
      "tariff_name              2 non-null object\n",
      "dtypes: int64(7), object(1)\n",
      "memory usage: 256.0+ bytes\n"
     ]
    },
    {
     "data": {
      "text/html": [
       "<div>\n",
       "<style scoped>\n",
       "    .dataframe tbody tr th:only-of-type {\n",
       "        vertical-align: middle;\n",
       "    }\n",
       "\n",
       "    .dataframe tbody tr th {\n",
       "        vertical-align: top;\n",
       "    }\n",
       "\n",
       "    .dataframe thead th {\n",
       "        text-align: right;\n",
       "    }\n",
       "</style>\n",
       "<table border=\"1\" class=\"dataframe\">\n",
       "  <thead>\n",
       "    <tr style=\"text-align: right;\">\n",
       "      <th></th>\n",
       "      <th>messages_included</th>\n",
       "      <th>mb_per_month_included</th>\n",
       "      <th>minutes_included</th>\n",
       "      <th>rub_monthly_fee</th>\n",
       "      <th>rub_per_gb</th>\n",
       "      <th>rub_per_message</th>\n",
       "      <th>rub_per_minute</th>\n",
       "      <th>tariff_name</th>\n",
       "    </tr>\n",
       "  </thead>\n",
       "  <tbody>\n",
       "    <tr>\n",
       "      <td>0</td>\n",
       "      <td>50</td>\n",
       "      <td>15360</td>\n",
       "      <td>500</td>\n",
       "      <td>550</td>\n",
       "      <td>200</td>\n",
       "      <td>3</td>\n",
       "      <td>3</td>\n",
       "      <td>smart</td>\n",
       "    </tr>\n",
       "    <tr>\n",
       "      <td>1</td>\n",
       "      <td>1000</td>\n",
       "      <td>30720</td>\n",
       "      <td>3000</td>\n",
       "      <td>1950</td>\n",
       "      <td>150</td>\n",
       "      <td>1</td>\n",
       "      <td>1</td>\n",
       "      <td>ultra</td>\n",
       "    </tr>\n",
       "  </tbody>\n",
       "</table>\n",
       "</div>"
      ],
      "text/plain": [
       "   messages_included  mb_per_month_included  minutes_included  \\\n",
       "0                 50                  15360               500   \n",
       "1               1000                  30720              3000   \n",
       "\n",
       "   rub_monthly_fee  rub_per_gb  rub_per_message  rub_per_minute tariff_name  \n",
       "0              550         200                3               3       smart  \n",
       "1             1950         150                1               1       ultra  "
      ]
     },
     "execution_count": 9,
     "metadata": {},
     "output_type": "execute_result"
    }
   ],
   "source": [
    "tariffs = pd.read_csv('/datasets/tariffs.csv')\n",
    "tariffs.info()\n",
    "tariffs"
   ]
  },
  {
   "cell_type": "markdown",
   "id": "0a41ed6a",
   "metadata": {},
   "source": [
    "Данные о тарифах верны"
   ]
  },
  {
   "cell_type": "markdown",
   "id": "1801fad2",
   "metadata": {},
   "source": [
    "### Пользователи"
   ]
  },
  {
   "cell_type": "code",
   "execution_count": 10,
   "id": "57e3c94a",
   "metadata": {
    "scrolled": false
   },
   "outputs": [
    {
     "name": "stdout",
     "output_type": "stream",
     "text": [
      "<class 'pandas.core.frame.DataFrame'>\n",
      "RangeIndex: 500 entries, 0 to 499\n",
      "Data columns (total 8 columns):\n",
      "user_id       500 non-null int64\n",
      "age           500 non-null int64\n",
      "churn_date    38 non-null object\n",
      "city          500 non-null object\n",
      "first_name    500 non-null object\n",
      "last_name     500 non-null object\n",
      "reg_date      500 non-null object\n",
      "tariff        500 non-null object\n",
      "dtypes: int64(2), object(6)\n",
      "memory usage: 31.4+ KB\n"
     ]
    },
    {
     "data": {
      "text/html": [
       "<div>\n",
       "<style scoped>\n",
       "    .dataframe tbody tr th:only-of-type {\n",
       "        vertical-align: middle;\n",
       "    }\n",
       "\n",
       "    .dataframe tbody tr th {\n",
       "        vertical-align: top;\n",
       "    }\n",
       "\n",
       "    .dataframe thead th {\n",
       "        text-align: right;\n",
       "    }\n",
       "</style>\n",
       "<table border=\"1\" class=\"dataframe\">\n",
       "  <thead>\n",
       "    <tr style=\"text-align: right;\">\n",
       "      <th></th>\n",
       "      <th>user_id</th>\n",
       "      <th>age</th>\n",
       "      <th>churn_date</th>\n",
       "      <th>city</th>\n",
       "      <th>first_name</th>\n",
       "      <th>last_name</th>\n",
       "      <th>reg_date</th>\n",
       "      <th>tariff</th>\n",
       "    </tr>\n",
       "  </thead>\n",
       "  <tbody>\n",
       "    <tr>\n",
       "      <td>0</td>\n",
       "      <td>1000</td>\n",
       "      <td>52</td>\n",
       "      <td>NaN</td>\n",
       "      <td>Краснодар</td>\n",
       "      <td>Рафаил</td>\n",
       "      <td>Верещагин</td>\n",
       "      <td>2018-05-25</td>\n",
       "      <td>ultra</td>\n",
       "    </tr>\n",
       "    <tr>\n",
       "      <td>1</td>\n",
       "      <td>1001</td>\n",
       "      <td>41</td>\n",
       "      <td>NaN</td>\n",
       "      <td>Москва</td>\n",
       "      <td>Иван</td>\n",
       "      <td>Ежов</td>\n",
       "      <td>2018-11-01</td>\n",
       "      <td>smart</td>\n",
       "    </tr>\n",
       "    <tr>\n",
       "      <td>2</td>\n",
       "      <td>1002</td>\n",
       "      <td>59</td>\n",
       "      <td>NaN</td>\n",
       "      <td>Стерлитамак</td>\n",
       "      <td>Евгений</td>\n",
       "      <td>Абрамович</td>\n",
       "      <td>2018-06-17</td>\n",
       "      <td>smart</td>\n",
       "    </tr>\n",
       "    <tr>\n",
       "      <td>3</td>\n",
       "      <td>1003</td>\n",
       "      <td>23</td>\n",
       "      <td>NaN</td>\n",
       "      <td>Москва</td>\n",
       "      <td>Белла</td>\n",
       "      <td>Белякова</td>\n",
       "      <td>2018-08-17</td>\n",
       "      <td>ultra</td>\n",
       "    </tr>\n",
       "    <tr>\n",
       "      <td>4</td>\n",
       "      <td>1004</td>\n",
       "      <td>68</td>\n",
       "      <td>NaN</td>\n",
       "      <td>Новокузнецк</td>\n",
       "      <td>Татьяна</td>\n",
       "      <td>Авдеенко</td>\n",
       "      <td>2018-05-14</td>\n",
       "      <td>ultra</td>\n",
       "    </tr>\n",
       "    <tr>\n",
       "      <td>...</td>\n",
       "      <td>...</td>\n",
       "      <td>...</td>\n",
       "      <td>...</td>\n",
       "      <td>...</td>\n",
       "      <td>...</td>\n",
       "      <td>...</td>\n",
       "      <td>...</td>\n",
       "      <td>...</td>\n",
       "    </tr>\n",
       "    <tr>\n",
       "      <td>495</td>\n",
       "      <td>1495</td>\n",
       "      <td>65</td>\n",
       "      <td>NaN</td>\n",
       "      <td>Иркутск</td>\n",
       "      <td>Авксентий</td>\n",
       "      <td>Фокин</td>\n",
       "      <td>2018-08-28</td>\n",
       "      <td>ultra</td>\n",
       "    </tr>\n",
       "    <tr>\n",
       "      <td>496</td>\n",
       "      <td>1496</td>\n",
       "      <td>36</td>\n",
       "      <td>NaN</td>\n",
       "      <td>Вологда</td>\n",
       "      <td>Трифон</td>\n",
       "      <td>Блохин</td>\n",
       "      <td>2018-01-27</td>\n",
       "      <td>smart</td>\n",
       "    </tr>\n",
       "    <tr>\n",
       "      <td>497</td>\n",
       "      <td>1497</td>\n",
       "      <td>32</td>\n",
       "      <td>NaN</td>\n",
       "      <td>Челябинск</td>\n",
       "      <td>Каролина</td>\n",
       "      <td>Агеева</td>\n",
       "      <td>2018-10-09</td>\n",
       "      <td>smart</td>\n",
       "    </tr>\n",
       "    <tr>\n",
       "      <td>498</td>\n",
       "      <td>1498</td>\n",
       "      <td>68</td>\n",
       "      <td>2018-10-25</td>\n",
       "      <td>Владикавказ</td>\n",
       "      <td>Всеволод</td>\n",
       "      <td>Акимчин</td>\n",
       "      <td>2018-07-19</td>\n",
       "      <td>smart</td>\n",
       "    </tr>\n",
       "    <tr>\n",
       "      <td>499</td>\n",
       "      <td>1499</td>\n",
       "      <td>35</td>\n",
       "      <td>NaN</td>\n",
       "      <td>Пермь</td>\n",
       "      <td>Гектор</td>\n",
       "      <td>Корнилов</td>\n",
       "      <td>2018-09-27</td>\n",
       "      <td>smart</td>\n",
       "    </tr>\n",
       "  </tbody>\n",
       "</table>\n",
       "<p>500 rows × 8 columns</p>\n",
       "</div>"
      ],
      "text/plain": [
       "     user_id  age  churn_date         city first_name  last_name    reg_date  \\\n",
       "0       1000   52         NaN    Краснодар     Рафаил  Верещагин  2018-05-25   \n",
       "1       1001   41         NaN       Москва       Иван       Ежов  2018-11-01   \n",
       "2       1002   59         NaN  Стерлитамак    Евгений  Абрамович  2018-06-17   \n",
       "3       1003   23         NaN       Москва      Белла   Белякова  2018-08-17   \n",
       "4       1004   68         NaN  Новокузнецк    Татьяна   Авдеенко  2018-05-14   \n",
       "..       ...  ...         ...          ...        ...        ...         ...   \n",
       "495     1495   65         NaN      Иркутск  Авксентий      Фокин  2018-08-28   \n",
       "496     1496   36         NaN      Вологда     Трифон     Блохин  2018-01-27   \n",
       "497     1497   32         NaN    Челябинск   Каролина     Агеева  2018-10-09   \n",
       "498     1498   68  2018-10-25  Владикавказ   Всеволод    Акимчин  2018-07-19   \n",
       "499     1499   35         NaN        Пермь     Гектор   Корнилов  2018-09-27   \n",
       "\n",
       "    tariff  \n",
       "0    ultra  \n",
       "1    smart  \n",
       "2    smart  \n",
       "3    ultra  \n",
       "4    ultra  \n",
       "..     ...  \n",
       "495  ultra  \n",
       "496  smart  \n",
       "497  smart  \n",
       "498  smart  \n",
       "499  smart  \n",
       "\n",
       "[500 rows x 8 columns]"
      ]
     },
     "execution_count": 10,
     "metadata": {},
     "output_type": "execute_result"
    }
   ],
   "source": [
    "users = pd.read_csv('/datasets/users.csv')\n",
    "users.info()\n",
    "users"
   ]
  },
  {
   "cell_type": "markdown",
   "id": "27c02c3d",
   "metadata": {},
   "source": [
    "Даты приведем к формату `datetime`. Проверим столбец тарифов -- не возникло ли лишних."
   ]
  },
  {
   "cell_type": "code",
   "execution_count": 11,
   "id": "2c6a5b05",
   "metadata": {},
   "outputs": [],
   "source": [
    "users['churn_date'] = pd.to_datetime(users['churn_date'],format='%Y-%m-%d')\n",
    "users['reg_date'] = pd.to_datetime(users['reg_date'],format='%Y-%m-%d')"
   ]
  },
  {
   "cell_type": "code",
   "execution_count": 12,
   "id": "d6fd0e59",
   "metadata": {},
   "outputs": [
    {
     "data": {
      "text/plain": [
       "smart    351\n",
       "ultra    149\n",
       "Name: tariff, dtype: int64"
      ]
     },
     "execution_count": 12,
     "metadata": {},
     "output_type": "execute_result"
    }
   ],
   "source": [
    "users['tariff'].value_counts()"
   ]
  },
  {
   "cell_type": "markdown",
   "id": "607640d5",
   "metadata": {},
   "source": [
    "Все верно, можно двигаться дальше"
   ]
  },
  {
   "cell_type": "markdown",
   "id": "58e7f157",
   "metadata": {},
   "source": [
    "### Проверка дубликатов"
   ]
  },
  {
   "cell_type": "code",
   "execution_count": 13,
   "id": "07b5999c",
   "metadata": {},
   "outputs": [
    {
     "name": "stdout",
     "output_type": "stream",
     "text": [
      "0\n",
      "0\n",
      "0\n",
      "0\n"
     ]
    }
   ],
   "source": [
    "print(calls.duplicated().sum())\n",
    "print(internet.duplicated().sum())\n",
    "print(messages.duplicated().sum())\n",
    "print(users.duplicated().sum())"
   ]
  },
  {
   "cell_type": "markdown",
   "id": "fbc0c9a0",
   "metadata": {},
   "source": [
    "Дубликаты не найдены."
   ]
  },
  {
   "cell_type": "markdown",
   "id": "edf41001",
   "metadata": {},
   "source": [
    "### Вывод\n",
    "\n",
    "Данные приведены к нужным форматам, ошибки исправлены"
   ]
  },
  {
   "cell_type": "markdown",
   "id": "fe2377e6",
   "metadata": {},
   "source": [
    "## Рассчеты"
   ]
  },
  {
   "cell_type": "markdown",
   "id": "e311e925",
   "metadata": {},
   "source": [
    "Добавим в таблицы столбцы с месяцем операции"
   ]
  },
  {
   "cell_type": "code",
   "execution_count": 14,
   "id": "0a7f2613",
   "metadata": {
    "scrolled": false
   },
   "outputs": [
    {
     "data": {
      "text/html": [
       "<div>\n",
       "<style scoped>\n",
       "    .dataframe tbody tr th:only-of-type {\n",
       "        vertical-align: middle;\n",
       "    }\n",
       "\n",
       "    .dataframe tbody tr th {\n",
       "        vertical-align: top;\n",
       "    }\n",
       "\n",
       "    .dataframe thead th {\n",
       "        text-align: right;\n",
       "    }\n",
       "</style>\n",
       "<table border=\"1\" class=\"dataframe\">\n",
       "  <thead>\n",
       "    <tr style=\"text-align: right;\">\n",
       "      <th></th>\n",
       "      <th>id</th>\n",
       "      <th>mb_used</th>\n",
       "      <th>session_date</th>\n",
       "      <th>user_id</th>\n",
       "      <th>month</th>\n",
       "    </tr>\n",
       "  </thead>\n",
       "  <tbody>\n",
       "    <tr>\n",
       "      <td>0</td>\n",
       "      <td>1000_0</td>\n",
       "      <td>112.95</td>\n",
       "      <td>2018-11-25</td>\n",
       "      <td>1000</td>\n",
       "      <td>11</td>\n",
       "    </tr>\n",
       "    <tr>\n",
       "      <td>1</td>\n",
       "      <td>1000_1</td>\n",
       "      <td>1052.81</td>\n",
       "      <td>2018-09-07</td>\n",
       "      <td>1000</td>\n",
       "      <td>9</td>\n",
       "    </tr>\n",
       "    <tr>\n",
       "      <td>2</td>\n",
       "      <td>1000_2</td>\n",
       "      <td>1197.26</td>\n",
       "      <td>2018-06-25</td>\n",
       "      <td>1000</td>\n",
       "      <td>6</td>\n",
       "    </tr>\n",
       "    <tr>\n",
       "      <td>3</td>\n",
       "      <td>1000_3</td>\n",
       "      <td>550.27</td>\n",
       "      <td>2018-08-22</td>\n",
       "      <td>1000</td>\n",
       "      <td>8</td>\n",
       "    </tr>\n",
       "    <tr>\n",
       "      <td>4</td>\n",
       "      <td>1000_4</td>\n",
       "      <td>302.56</td>\n",
       "      <td>2018-09-24</td>\n",
       "      <td>1000</td>\n",
       "      <td>9</td>\n",
       "    </tr>\n",
       "    <tr>\n",
       "      <td>...</td>\n",
       "      <td>...</td>\n",
       "      <td>...</td>\n",
       "      <td>...</td>\n",
       "      <td>...</td>\n",
       "      <td>...</td>\n",
       "    </tr>\n",
       "    <tr>\n",
       "      <td>149391</td>\n",
       "      <td>1499_152</td>\n",
       "      <td>318.90</td>\n",
       "      <td>2018-10-03</td>\n",
       "      <td>1499</td>\n",
       "      <td>10</td>\n",
       "    </tr>\n",
       "    <tr>\n",
       "      <td>149392</td>\n",
       "      <td>1499_153</td>\n",
       "      <td>490.13</td>\n",
       "      <td>2018-12-14</td>\n",
       "      <td>1499</td>\n",
       "      <td>12</td>\n",
       "    </tr>\n",
       "    <tr>\n",
       "      <td>149393</td>\n",
       "      <td>1499_154</td>\n",
       "      <td>0.00</td>\n",
       "      <td>2018-10-27</td>\n",
       "      <td>1499</td>\n",
       "      <td>10</td>\n",
       "    </tr>\n",
       "    <tr>\n",
       "      <td>149394</td>\n",
       "      <td>1499_155</td>\n",
       "      <td>1246.32</td>\n",
       "      <td>2018-11-26</td>\n",
       "      <td>1499</td>\n",
       "      <td>11</td>\n",
       "    </tr>\n",
       "    <tr>\n",
       "      <td>149395</td>\n",
       "      <td>1499_156</td>\n",
       "      <td>544.37</td>\n",
       "      <td>2018-10-26</td>\n",
       "      <td>1499</td>\n",
       "      <td>10</td>\n",
       "    </tr>\n",
       "  </tbody>\n",
       "</table>\n",
       "<p>149396 rows × 5 columns</p>\n",
       "</div>"
      ],
      "text/plain": [
       "              id  mb_used session_date  user_id  month\n",
       "0         1000_0   112.95   2018-11-25     1000     11\n",
       "1         1000_1  1052.81   2018-09-07     1000      9\n",
       "2         1000_2  1197.26   2018-06-25     1000      6\n",
       "3         1000_3   550.27   2018-08-22     1000      8\n",
       "4         1000_4   302.56   2018-09-24     1000      9\n",
       "...          ...      ...          ...      ...    ...\n",
       "149391  1499_152   318.90   2018-10-03     1499     10\n",
       "149392  1499_153   490.13   2018-12-14     1499     12\n",
       "149393  1499_154     0.00   2018-10-27     1499     10\n",
       "149394  1499_155  1246.32   2018-11-26     1499     11\n",
       "149395  1499_156   544.37   2018-10-26     1499     10\n",
       "\n",
       "[149396 rows x 5 columns]"
      ]
     },
     "execution_count": 14,
     "metadata": {},
     "output_type": "execute_result"
    }
   ],
   "source": [
    "internet['month'] = pd.DatetimeIndex(internet['session_date']).month\n",
    "messages['month'] = pd.DatetimeIndex(messages['message_date']).month\n",
    "calls['month'] = pd.DatetimeIndex(calls['call_date']).month\n",
    "internet"
   ]
  },
  {
   "cell_type": "markdown",
   "id": "09d3a321",
   "metadata": {},
   "source": [
    "Присоединим к таблице с пользователями сводные данные по месяцам:"
   ]
  },
  {
   "cell_type": "code",
   "execution_count": 15,
   "id": "f43dd6d3",
   "metadata": {
    "scrolled": false
   },
   "outputs": [
    {
     "data": {
      "text/html": [
       "<div>\n",
       "<style scoped>\n",
       "    .dataframe tbody tr th:only-of-type {\n",
       "        vertical-align: middle;\n",
       "    }\n",
       "\n",
       "    .dataframe tbody tr th {\n",
       "        vertical-align: top;\n",
       "    }\n",
       "\n",
       "    .dataframe thead th {\n",
       "        text-align: right;\n",
       "    }\n",
       "</style>\n",
       "<table border=\"1\" class=\"dataframe\">\n",
       "  <thead>\n",
       "    <tr style=\"text-align: right;\">\n",
       "      <th></th>\n",
       "      <th>user_id</th>\n",
       "      <th>age</th>\n",
       "      <th>churn_date</th>\n",
       "      <th>city</th>\n",
       "      <th>first_name</th>\n",
       "      <th>last_name</th>\n",
       "      <th>reg_date</th>\n",
       "      <th>tariff</th>\n",
       "      <th>month</th>\n",
       "      <th>traffic</th>\n",
       "    </tr>\n",
       "  </thead>\n",
       "  <tbody>\n",
       "    <tr>\n",
       "      <td>0</td>\n",
       "      <td>1000</td>\n",
       "      <td>52</td>\n",
       "      <td>NaT</td>\n",
       "      <td>Краснодар</td>\n",
       "      <td>Рафаил</td>\n",
       "      <td>Верещагин</td>\n",
       "      <td>2018-05-25</td>\n",
       "      <td>ultra</td>\n",
       "      <td>5</td>\n",
       "      <td>2253.49</td>\n",
       "    </tr>\n",
       "    <tr>\n",
       "      <td>1</td>\n",
       "      <td>1000</td>\n",
       "      <td>52</td>\n",
       "      <td>NaT</td>\n",
       "      <td>Краснодар</td>\n",
       "      <td>Рафаил</td>\n",
       "      <td>Верещагин</td>\n",
       "      <td>2018-05-25</td>\n",
       "      <td>ultra</td>\n",
       "      <td>6</td>\n",
       "      <td>23233.77</td>\n",
       "    </tr>\n",
       "    <tr>\n",
       "      <td>2</td>\n",
       "      <td>1000</td>\n",
       "      <td>52</td>\n",
       "      <td>NaT</td>\n",
       "      <td>Краснодар</td>\n",
       "      <td>Рафаил</td>\n",
       "      <td>Верещагин</td>\n",
       "      <td>2018-05-25</td>\n",
       "      <td>ultra</td>\n",
       "      <td>7</td>\n",
       "      <td>14003.64</td>\n",
       "    </tr>\n",
       "    <tr>\n",
       "      <td>3</td>\n",
       "      <td>1000</td>\n",
       "      <td>52</td>\n",
       "      <td>NaT</td>\n",
       "      <td>Краснодар</td>\n",
       "      <td>Рафаил</td>\n",
       "      <td>Верещагин</td>\n",
       "      <td>2018-05-25</td>\n",
       "      <td>ultra</td>\n",
       "      <td>8</td>\n",
       "      <td>14055.93</td>\n",
       "    </tr>\n",
       "    <tr>\n",
       "      <td>4</td>\n",
       "      <td>1000</td>\n",
       "      <td>52</td>\n",
       "      <td>NaT</td>\n",
       "      <td>Краснодар</td>\n",
       "      <td>Рафаил</td>\n",
       "      <td>Верещагин</td>\n",
       "      <td>2018-05-25</td>\n",
       "      <td>ultra</td>\n",
       "      <td>9</td>\n",
       "      <td>14568.91</td>\n",
       "    </tr>\n",
       "    <tr>\n",
       "      <td>...</td>\n",
       "      <td>...</td>\n",
       "      <td>...</td>\n",
       "      <td>...</td>\n",
       "      <td>...</td>\n",
       "      <td>...</td>\n",
       "      <td>...</td>\n",
       "      <td>...</td>\n",
       "      <td>...</td>\n",
       "      <td>...</td>\n",
       "      <td>...</td>\n",
       "    </tr>\n",
       "    <tr>\n",
       "      <td>3198</td>\n",
       "      <td>1498</td>\n",
       "      <td>68</td>\n",
       "      <td>2018-10-25</td>\n",
       "      <td>Владикавказ</td>\n",
       "      <td>Всеволод</td>\n",
       "      <td>Акимчин</td>\n",
       "      <td>2018-07-19</td>\n",
       "      <td>smart</td>\n",
       "      <td>10</td>\n",
       "      <td>20579.36</td>\n",
       "    </tr>\n",
       "    <tr>\n",
       "      <td>3199</td>\n",
       "      <td>1499</td>\n",
       "      <td>35</td>\n",
       "      <td>NaT</td>\n",
       "      <td>Пермь</td>\n",
       "      <td>Гектор</td>\n",
       "      <td>Корнилов</td>\n",
       "      <td>2018-09-27</td>\n",
       "      <td>smart</td>\n",
       "      <td>9</td>\n",
       "      <td>1845.75</td>\n",
       "    </tr>\n",
       "    <tr>\n",
       "      <td>3200</td>\n",
       "      <td>1499</td>\n",
       "      <td>35</td>\n",
       "      <td>NaT</td>\n",
       "      <td>Пермь</td>\n",
       "      <td>Гектор</td>\n",
       "      <td>Корнилов</td>\n",
       "      <td>2018-09-27</td>\n",
       "      <td>smart</td>\n",
       "      <td>10</td>\n",
       "      <td>17788.51</td>\n",
       "    </tr>\n",
       "    <tr>\n",
       "      <td>3201</td>\n",
       "      <td>1499</td>\n",
       "      <td>35</td>\n",
       "      <td>NaT</td>\n",
       "      <td>Пермь</td>\n",
       "      <td>Гектор</td>\n",
       "      <td>Корнилов</td>\n",
       "      <td>2018-09-27</td>\n",
       "      <td>smart</td>\n",
       "      <td>11</td>\n",
       "      <td>17963.31</td>\n",
       "    </tr>\n",
       "    <tr>\n",
       "      <td>3202</td>\n",
       "      <td>1499</td>\n",
       "      <td>35</td>\n",
       "      <td>NaT</td>\n",
       "      <td>Пермь</td>\n",
       "      <td>Гектор</td>\n",
       "      <td>Корнилов</td>\n",
       "      <td>2018-09-27</td>\n",
       "      <td>smart</td>\n",
       "      <td>12</td>\n",
       "      <td>13055.58</td>\n",
       "    </tr>\n",
       "  </tbody>\n",
       "</table>\n",
       "<p>3203 rows × 10 columns</p>\n",
       "</div>"
      ],
      "text/plain": [
       "      user_id  age churn_date         city first_name  last_name   reg_date  \\\n",
       "0        1000   52        NaT    Краснодар     Рафаил  Верещагин 2018-05-25   \n",
       "1        1000   52        NaT    Краснодар     Рафаил  Верещагин 2018-05-25   \n",
       "2        1000   52        NaT    Краснодар     Рафаил  Верещагин 2018-05-25   \n",
       "3        1000   52        NaT    Краснодар     Рафаил  Верещагин 2018-05-25   \n",
       "4        1000   52        NaT    Краснодар     Рафаил  Верещагин 2018-05-25   \n",
       "...       ...  ...        ...          ...        ...        ...        ...   \n",
       "3198     1498   68 2018-10-25  Владикавказ   Всеволод    Акимчин 2018-07-19   \n",
       "3199     1499   35        NaT        Пермь     Гектор   Корнилов 2018-09-27   \n",
       "3200     1499   35        NaT        Пермь     Гектор   Корнилов 2018-09-27   \n",
       "3201     1499   35        NaT        Пермь     Гектор   Корнилов 2018-09-27   \n",
       "3202     1499   35        NaT        Пермь     Гектор   Корнилов 2018-09-27   \n",
       "\n",
       "     tariff  month   traffic  \n",
       "0     ultra      5   2253.49  \n",
       "1     ultra      6  23233.77  \n",
       "2     ultra      7  14003.64  \n",
       "3     ultra      8  14055.93  \n",
       "4     ultra      9  14568.91  \n",
       "...     ...    ...       ...  \n",
       "3198  smart     10  20579.36  \n",
       "3199  smart      9   1845.75  \n",
       "3200  smart     10  17788.51  \n",
       "3201  smart     11  17963.31  \n",
       "3202  smart     12  13055.58  \n",
       "\n",
       "[3203 rows x 10 columns]"
      ]
     },
     "execution_count": 15,
     "metadata": {},
     "output_type": "execute_result"
    }
   ],
   "source": [
    "users = users.merge(\n",
    "    internet.pivot_table(index=['user_id', 'month'], values='mb_used', aggfunc=['sum'])\n",
    "    .set_axis(['traffic'], axis='columns', inplace=False).reset_index(),\n",
    "    on=['user_id'], how='right')\n",
    "users"
   ]
  },
  {
   "cell_type": "code",
   "execution_count": 16,
   "id": "19125ff5",
   "metadata": {
    "scrolled": true
   },
   "outputs": [],
   "source": [
    "users = users.merge(\n",
    "    messages.pivot_table(index=['user_id', 'month'], values='id', aggfunc=['count'])\n",
    "    .set_axis(['messages_count'], axis='columns', inplace=False),\n",
    "    on=['user_id', 'month'], how='left')"
   ]
  },
  {
   "cell_type": "code",
   "execution_count": 17,
   "id": "9a152d63",
   "metadata": {},
   "outputs": [],
   "source": [
    "users = users.merge(\n",
    "    calls.pivot_table(index=['user_id', 'month'], values='duration', aggfunc=['count', 'sum'])\n",
    "    .set_axis(['calls_count', 'calls_time'], axis='columns', inplace=False),\n",
    "    on=['user_id', 'month'], how='left')"
   ]
  },
  {
   "cell_type": "code",
   "execution_count": 18,
   "id": "927c81b9",
   "metadata": {},
   "outputs": [
    {
     "data": {
      "text/html": [
       "<div>\n",
       "<style scoped>\n",
       "    .dataframe tbody tr th:only-of-type {\n",
       "        vertical-align: middle;\n",
       "    }\n",
       "\n",
       "    .dataframe tbody tr th {\n",
       "        vertical-align: top;\n",
       "    }\n",
       "\n",
       "    .dataframe thead th {\n",
       "        text-align: right;\n",
       "    }\n",
       "</style>\n",
       "<table border=\"1\" class=\"dataframe\">\n",
       "  <thead>\n",
       "    <tr style=\"text-align: right;\">\n",
       "      <th></th>\n",
       "      <th>user_id</th>\n",
       "      <th>age</th>\n",
       "      <th>churn_date</th>\n",
       "      <th>city</th>\n",
       "      <th>first_name</th>\n",
       "      <th>last_name</th>\n",
       "      <th>reg_date</th>\n",
       "      <th>tariff</th>\n",
       "      <th>month</th>\n",
       "      <th>traffic</th>\n",
       "      <th>messages_count</th>\n",
       "      <th>calls_count</th>\n",
       "      <th>calls_time</th>\n",
       "    </tr>\n",
       "  </thead>\n",
       "  <tbody>\n",
       "    <tr>\n",
       "      <td>0</td>\n",
       "      <td>1000</td>\n",
       "      <td>52</td>\n",
       "      <td>NaT</td>\n",
       "      <td>Краснодар</td>\n",
       "      <td>Рафаил</td>\n",
       "      <td>Верещагин</td>\n",
       "      <td>2018-05-25</td>\n",
       "      <td>ultra</td>\n",
       "      <td>5</td>\n",
       "      <td>2253.49</td>\n",
       "      <td>22.0</td>\n",
       "      <td>22.0</td>\n",
       "      <td>159.0</td>\n",
       "    </tr>\n",
       "    <tr>\n",
       "      <td>1</td>\n",
       "      <td>1000</td>\n",
       "      <td>52</td>\n",
       "      <td>NaT</td>\n",
       "      <td>Краснодар</td>\n",
       "      <td>Рафаил</td>\n",
       "      <td>Верещагин</td>\n",
       "      <td>2018-05-25</td>\n",
       "      <td>ultra</td>\n",
       "      <td>6</td>\n",
       "      <td>23233.77</td>\n",
       "      <td>60.0</td>\n",
       "      <td>43.0</td>\n",
       "      <td>172.0</td>\n",
       "    </tr>\n",
       "    <tr>\n",
       "      <td>2</td>\n",
       "      <td>1000</td>\n",
       "      <td>52</td>\n",
       "      <td>NaT</td>\n",
       "      <td>Краснодар</td>\n",
       "      <td>Рафаил</td>\n",
       "      <td>Верещагин</td>\n",
       "      <td>2018-05-25</td>\n",
       "      <td>ultra</td>\n",
       "      <td>7</td>\n",
       "      <td>14003.64</td>\n",
       "      <td>75.0</td>\n",
       "      <td>47.0</td>\n",
       "      <td>340.0</td>\n",
       "    </tr>\n",
       "    <tr>\n",
       "      <td>3</td>\n",
       "      <td>1000</td>\n",
       "      <td>52</td>\n",
       "      <td>NaT</td>\n",
       "      <td>Краснодар</td>\n",
       "      <td>Рафаил</td>\n",
       "      <td>Верещагин</td>\n",
       "      <td>2018-05-25</td>\n",
       "      <td>ultra</td>\n",
       "      <td>8</td>\n",
       "      <td>14055.93</td>\n",
       "      <td>81.0</td>\n",
       "      <td>52.0</td>\n",
       "      <td>408.0</td>\n",
       "    </tr>\n",
       "    <tr>\n",
       "      <td>4</td>\n",
       "      <td>1000</td>\n",
       "      <td>52</td>\n",
       "      <td>NaT</td>\n",
       "      <td>Краснодар</td>\n",
       "      <td>Рафаил</td>\n",
       "      <td>Верещагин</td>\n",
       "      <td>2018-05-25</td>\n",
       "      <td>ultra</td>\n",
       "      <td>9</td>\n",
       "      <td>14568.91</td>\n",
       "      <td>57.0</td>\n",
       "      <td>58.0</td>\n",
       "      <td>466.0</td>\n",
       "    </tr>\n",
       "    <tr>\n",
       "      <td>...</td>\n",
       "      <td>...</td>\n",
       "      <td>...</td>\n",
       "      <td>...</td>\n",
       "      <td>...</td>\n",
       "      <td>...</td>\n",
       "      <td>...</td>\n",
       "      <td>...</td>\n",
       "      <td>...</td>\n",
       "      <td>...</td>\n",
       "      <td>...</td>\n",
       "      <td>...</td>\n",
       "      <td>...</td>\n",
       "      <td>...</td>\n",
       "    </tr>\n",
       "    <tr>\n",
       "      <td>3198</td>\n",
       "      <td>1498</td>\n",
       "      <td>68</td>\n",
       "      <td>2018-10-25</td>\n",
       "      <td>Владикавказ</td>\n",
       "      <td>Всеволод</td>\n",
       "      <td>Акимчин</td>\n",
       "      <td>2018-07-19</td>\n",
       "      <td>smart</td>\n",
       "      <td>10</td>\n",
       "      <td>20579.36</td>\n",
       "      <td>42.0</td>\n",
       "      <td>41.0</td>\n",
       "      <td>247.0</td>\n",
       "    </tr>\n",
       "    <tr>\n",
       "      <td>3199</td>\n",
       "      <td>1499</td>\n",
       "      <td>35</td>\n",
       "      <td>NaT</td>\n",
       "      <td>Пермь</td>\n",
       "      <td>Гектор</td>\n",
       "      <td>Корнилов</td>\n",
       "      <td>2018-09-27</td>\n",
       "      <td>smart</td>\n",
       "      <td>9</td>\n",
       "      <td>1845.75</td>\n",
       "      <td>11.0</td>\n",
       "      <td>9.0</td>\n",
       "      <td>70.0</td>\n",
       "    </tr>\n",
       "    <tr>\n",
       "      <td>3200</td>\n",
       "      <td>1499</td>\n",
       "      <td>35</td>\n",
       "      <td>NaT</td>\n",
       "      <td>Пермь</td>\n",
       "      <td>Гектор</td>\n",
       "      <td>Корнилов</td>\n",
       "      <td>2018-09-27</td>\n",
       "      <td>smart</td>\n",
       "      <td>10</td>\n",
       "      <td>17788.51</td>\n",
       "      <td>48.0</td>\n",
       "      <td>68.0</td>\n",
       "      <td>449.0</td>\n",
       "    </tr>\n",
       "    <tr>\n",
       "      <td>3201</td>\n",
       "      <td>1499</td>\n",
       "      <td>35</td>\n",
       "      <td>NaT</td>\n",
       "      <td>Пермь</td>\n",
       "      <td>Гектор</td>\n",
       "      <td>Корнилов</td>\n",
       "      <td>2018-09-27</td>\n",
       "      <td>smart</td>\n",
       "      <td>11</td>\n",
       "      <td>17963.31</td>\n",
       "      <td>59.0</td>\n",
       "      <td>74.0</td>\n",
       "      <td>612.0</td>\n",
       "    </tr>\n",
       "    <tr>\n",
       "      <td>3202</td>\n",
       "      <td>1499</td>\n",
       "      <td>35</td>\n",
       "      <td>NaT</td>\n",
       "      <td>Пермь</td>\n",
       "      <td>Гектор</td>\n",
       "      <td>Корнилов</td>\n",
       "      <td>2018-09-27</td>\n",
       "      <td>smart</td>\n",
       "      <td>12</td>\n",
       "      <td>13055.58</td>\n",
       "      <td>66.0</td>\n",
       "      <td>69.0</td>\n",
       "      <td>492.0</td>\n",
       "    </tr>\n",
       "  </tbody>\n",
       "</table>\n",
       "<p>3203 rows × 13 columns</p>\n",
       "</div>"
      ],
      "text/plain": [
       "      user_id  age churn_date         city first_name  last_name   reg_date  \\\n",
       "0        1000   52        NaT    Краснодар     Рафаил  Верещагин 2018-05-25   \n",
       "1        1000   52        NaT    Краснодар     Рафаил  Верещагин 2018-05-25   \n",
       "2        1000   52        NaT    Краснодар     Рафаил  Верещагин 2018-05-25   \n",
       "3        1000   52        NaT    Краснодар     Рафаил  Верещагин 2018-05-25   \n",
       "4        1000   52        NaT    Краснодар     Рафаил  Верещагин 2018-05-25   \n",
       "...       ...  ...        ...          ...        ...        ...        ...   \n",
       "3198     1498   68 2018-10-25  Владикавказ   Всеволод    Акимчин 2018-07-19   \n",
       "3199     1499   35        NaT        Пермь     Гектор   Корнилов 2018-09-27   \n",
       "3200     1499   35        NaT        Пермь     Гектор   Корнилов 2018-09-27   \n",
       "3201     1499   35        NaT        Пермь     Гектор   Корнилов 2018-09-27   \n",
       "3202     1499   35        NaT        Пермь     Гектор   Корнилов 2018-09-27   \n",
       "\n",
       "     tariff  month   traffic  messages_count  calls_count  calls_time  \n",
       "0     ultra      5   2253.49            22.0         22.0       159.0  \n",
       "1     ultra      6  23233.77            60.0         43.0       172.0  \n",
       "2     ultra      7  14003.64            75.0         47.0       340.0  \n",
       "3     ultra      8  14055.93            81.0         52.0       408.0  \n",
       "4     ultra      9  14568.91            57.0         58.0       466.0  \n",
       "...     ...    ...       ...             ...          ...         ...  \n",
       "3198  smart     10  20579.36            42.0         41.0       247.0  \n",
       "3199  smart      9   1845.75            11.0          9.0        70.0  \n",
       "3200  smart     10  17788.51            48.0         68.0       449.0  \n",
       "3201  smart     11  17963.31            59.0         74.0       612.0  \n",
       "3202  smart     12  13055.58            66.0         69.0       492.0  \n",
       "\n",
       "[3203 rows x 13 columns]"
      ]
     },
     "execution_count": 18,
     "metadata": {},
     "output_type": "execute_result"
    }
   ],
   "source": [
    "users"
   ]
  },
  {
   "cell_type": "code",
   "execution_count": 19,
   "id": "de3bd755",
   "metadata": {
    "scrolled": false
   },
   "outputs": [
    {
     "name": "stdout",
     "output_type": "stream",
     "text": [
      "<class 'pandas.core.frame.DataFrame'>\n",
      "Int64Index: 3203 entries, 0 to 3202\n",
      "Data columns (total 13 columns):\n",
      "user_id           3203 non-null int64\n",
      "age               3203 non-null int64\n",
      "churn_date        186 non-null datetime64[ns]\n",
      "city              3203 non-null object\n",
      "first_name        3203 non-null object\n",
      "last_name         3203 non-null object\n",
      "reg_date          3203 non-null datetime64[ns]\n",
      "tariff            3203 non-null object\n",
      "month             3203 non-null int64\n",
      "traffic           3203 non-null float64\n",
      "messages_count    2706 non-null float64\n",
      "calls_count       3163 non-null float64\n",
      "calls_time        3163 non-null float64\n",
      "dtypes: datetime64[ns](2), float64(4), int64(3), object(4)\n",
      "memory usage: 350.3+ KB\n"
     ]
    }
   ],
   "source": [
    "users.info()"
   ]
  },
  {
   "cell_type": "markdown",
   "id": "e45dcce6",
   "metadata": {
    "scrolled": false
   },
   "source": [
    "Лишних пропусков не появилось. В некоторые месяцы некоторые пользователи не звонили и не отправляли сообщений, поэтому образовались NaN в столбцах с ними. Заполним эти NaN нулями:"
   ]
  },
  {
   "cell_type": "code",
   "execution_count": 20,
   "id": "9ca775cf",
   "metadata": {
    "scrolled": false
   },
   "outputs": [
    {
     "name": "stdout",
     "output_type": "stream",
     "text": [
      "<class 'pandas.core.frame.DataFrame'>\n",
      "Int64Index: 3203 entries, 0 to 3202\n",
      "Data columns (total 13 columns):\n",
      "user_id           3203 non-null int64\n",
      "age               3203 non-null int64\n",
      "churn_date        186 non-null datetime64[ns]\n",
      "city              3203 non-null object\n",
      "first_name        3203 non-null object\n",
      "last_name         3203 non-null object\n",
      "reg_date          3203 non-null datetime64[ns]\n",
      "tariff            3203 non-null object\n",
      "month             3203 non-null int64\n",
      "traffic           3203 non-null float64\n",
      "messages_count    3203 non-null float64\n",
      "calls_count       3203 non-null float64\n",
      "calls_time        3203 non-null float64\n",
      "dtypes: datetime64[ns](2), float64(4), int64(3), object(4)\n",
      "memory usage: 350.3+ KB\n"
     ]
    }
   ],
   "source": [
    "users['messages_count'] = users['messages_count'].fillna(0)\n",
    "users['calls_count'] = users['calls_count'].fillna(0)\n",
    "users['calls_time'] = users['calls_time'].fillna(0)\n",
    "users.info()"
   ]
  },
  {
   "cell_type": "markdown",
   "id": "cbf6ec9f",
   "metadata": {},
   "source": [
    "Добавим данные по помесячной выручке с каждого пользователя:"
   ]
  },
  {
   "cell_type": "code",
   "execution_count": 21,
   "id": "98107209",
   "metadata": {},
   "outputs": [
    {
     "data": {
      "text/html": [
       "<div>\n",
       "<style scoped>\n",
       "    .dataframe tbody tr th:only-of-type {\n",
       "        vertical-align: middle;\n",
       "    }\n",
       "\n",
       "    .dataframe tbody tr th {\n",
       "        vertical-align: top;\n",
       "    }\n",
       "\n",
       "    .dataframe thead th {\n",
       "        text-align: right;\n",
       "    }\n",
       "</style>\n",
       "<table border=\"1\" class=\"dataframe\">\n",
       "  <thead>\n",
       "    <tr style=\"text-align: right;\">\n",
       "      <th></th>\n",
       "      <th>user_id</th>\n",
       "      <th>age</th>\n",
       "      <th>churn_date</th>\n",
       "      <th>city</th>\n",
       "      <th>first_name</th>\n",
       "      <th>last_name</th>\n",
       "      <th>reg_date</th>\n",
       "      <th>tariff</th>\n",
       "      <th>month</th>\n",
       "      <th>traffic</th>\n",
       "      <th>messages_count</th>\n",
       "      <th>calls_count</th>\n",
       "      <th>calls_time</th>\n",
       "      <th>earning</th>\n",
       "    </tr>\n",
       "  </thead>\n",
       "  <tbody>\n",
       "    <tr>\n",
       "      <td>0</td>\n",
       "      <td>1000</td>\n",
       "      <td>52</td>\n",
       "      <td>NaT</td>\n",
       "      <td>Краснодар</td>\n",
       "      <td>Рафаил</td>\n",
       "      <td>Верещагин</td>\n",
       "      <td>2018-05-25</td>\n",
       "      <td>ultra</td>\n",
       "      <td>5</td>\n",
       "      <td>2253.49</td>\n",
       "      <td>22.0</td>\n",
       "      <td>22.0</td>\n",
       "      <td>159.0</td>\n",
       "      <td>1950.0</td>\n",
       "    </tr>\n",
       "    <tr>\n",
       "      <td>1</td>\n",
       "      <td>1000</td>\n",
       "      <td>52</td>\n",
       "      <td>NaT</td>\n",
       "      <td>Краснодар</td>\n",
       "      <td>Рафаил</td>\n",
       "      <td>Верещагин</td>\n",
       "      <td>2018-05-25</td>\n",
       "      <td>ultra</td>\n",
       "      <td>6</td>\n",
       "      <td>23233.77</td>\n",
       "      <td>60.0</td>\n",
       "      <td>43.0</td>\n",
       "      <td>172.0</td>\n",
       "      <td>1950.0</td>\n",
       "    </tr>\n",
       "    <tr>\n",
       "      <td>2</td>\n",
       "      <td>1000</td>\n",
       "      <td>52</td>\n",
       "      <td>NaT</td>\n",
       "      <td>Краснодар</td>\n",
       "      <td>Рафаил</td>\n",
       "      <td>Верещагин</td>\n",
       "      <td>2018-05-25</td>\n",
       "      <td>ultra</td>\n",
       "      <td>7</td>\n",
       "      <td>14003.64</td>\n",
       "      <td>75.0</td>\n",
       "      <td>47.0</td>\n",
       "      <td>340.0</td>\n",
       "      <td>1950.0</td>\n",
       "    </tr>\n",
       "    <tr>\n",
       "      <td>3</td>\n",
       "      <td>1000</td>\n",
       "      <td>52</td>\n",
       "      <td>NaT</td>\n",
       "      <td>Краснодар</td>\n",
       "      <td>Рафаил</td>\n",
       "      <td>Верещагин</td>\n",
       "      <td>2018-05-25</td>\n",
       "      <td>ultra</td>\n",
       "      <td>8</td>\n",
       "      <td>14055.93</td>\n",
       "      <td>81.0</td>\n",
       "      <td>52.0</td>\n",
       "      <td>408.0</td>\n",
       "      <td>1950.0</td>\n",
       "    </tr>\n",
       "    <tr>\n",
       "      <td>4</td>\n",
       "      <td>1000</td>\n",
       "      <td>52</td>\n",
       "      <td>NaT</td>\n",
       "      <td>Краснодар</td>\n",
       "      <td>Рафаил</td>\n",
       "      <td>Верещагин</td>\n",
       "      <td>2018-05-25</td>\n",
       "      <td>ultra</td>\n",
       "      <td>9</td>\n",
       "      <td>14568.91</td>\n",
       "      <td>57.0</td>\n",
       "      <td>58.0</td>\n",
       "      <td>466.0</td>\n",
       "      <td>1950.0</td>\n",
       "    </tr>\n",
       "    <tr>\n",
       "      <td>...</td>\n",
       "      <td>...</td>\n",
       "      <td>...</td>\n",
       "      <td>...</td>\n",
       "      <td>...</td>\n",
       "      <td>...</td>\n",
       "      <td>...</td>\n",
       "      <td>...</td>\n",
       "      <td>...</td>\n",
       "      <td>...</td>\n",
       "      <td>...</td>\n",
       "      <td>...</td>\n",
       "      <td>...</td>\n",
       "      <td>...</td>\n",
       "      <td>...</td>\n",
       "    </tr>\n",
       "    <tr>\n",
       "      <td>3198</td>\n",
       "      <td>1498</td>\n",
       "      <td>68</td>\n",
       "      <td>2018-10-25</td>\n",
       "      <td>Владикавказ</td>\n",
       "      <td>Всеволод</td>\n",
       "      <td>Акимчин</td>\n",
       "      <td>2018-07-19</td>\n",
       "      <td>smart</td>\n",
       "      <td>10</td>\n",
       "      <td>20579.36</td>\n",
       "      <td>42.0</td>\n",
       "      <td>41.0</td>\n",
       "      <td>247.0</td>\n",
       "      <td>1750.0</td>\n",
       "    </tr>\n",
       "    <tr>\n",
       "      <td>3199</td>\n",
       "      <td>1499</td>\n",
       "      <td>35</td>\n",
       "      <td>NaT</td>\n",
       "      <td>Пермь</td>\n",
       "      <td>Гектор</td>\n",
       "      <td>Корнилов</td>\n",
       "      <td>2018-09-27</td>\n",
       "      <td>smart</td>\n",
       "      <td>9</td>\n",
       "      <td>1845.75</td>\n",
       "      <td>11.0</td>\n",
       "      <td>9.0</td>\n",
       "      <td>70.0</td>\n",
       "      <td>550.0</td>\n",
       "    </tr>\n",
       "    <tr>\n",
       "      <td>3200</td>\n",
       "      <td>1499</td>\n",
       "      <td>35</td>\n",
       "      <td>NaT</td>\n",
       "      <td>Пермь</td>\n",
       "      <td>Гектор</td>\n",
       "      <td>Корнилов</td>\n",
       "      <td>2018-09-27</td>\n",
       "      <td>smart</td>\n",
       "      <td>10</td>\n",
       "      <td>17788.51</td>\n",
       "      <td>48.0</td>\n",
       "      <td>68.0</td>\n",
       "      <td>449.0</td>\n",
       "      <td>1150.0</td>\n",
       "    </tr>\n",
       "    <tr>\n",
       "      <td>3201</td>\n",
       "      <td>1499</td>\n",
       "      <td>35</td>\n",
       "      <td>NaT</td>\n",
       "      <td>Пермь</td>\n",
       "      <td>Гектор</td>\n",
       "      <td>Корнилов</td>\n",
       "      <td>2018-09-27</td>\n",
       "      <td>smart</td>\n",
       "      <td>11</td>\n",
       "      <td>17963.31</td>\n",
       "      <td>59.0</td>\n",
       "      <td>74.0</td>\n",
       "      <td>612.0</td>\n",
       "      <td>1513.0</td>\n",
       "    </tr>\n",
       "    <tr>\n",
       "      <td>3202</td>\n",
       "      <td>1499</td>\n",
       "      <td>35</td>\n",
       "      <td>NaT</td>\n",
       "      <td>Пермь</td>\n",
       "      <td>Гектор</td>\n",
       "      <td>Корнилов</td>\n",
       "      <td>2018-09-27</td>\n",
       "      <td>smart</td>\n",
       "      <td>12</td>\n",
       "      <td>13055.58</td>\n",
       "      <td>66.0</td>\n",
       "      <td>69.0</td>\n",
       "      <td>492.0</td>\n",
       "      <td>598.0</td>\n",
       "    </tr>\n",
       "  </tbody>\n",
       "</table>\n",
       "<p>3203 rows × 14 columns</p>\n",
       "</div>"
      ],
      "text/plain": [
       "      user_id  age churn_date         city first_name  last_name   reg_date  \\\n",
       "0        1000   52        NaT    Краснодар     Рафаил  Верещагин 2018-05-25   \n",
       "1        1000   52        NaT    Краснодар     Рафаил  Верещагин 2018-05-25   \n",
       "2        1000   52        NaT    Краснодар     Рафаил  Верещагин 2018-05-25   \n",
       "3        1000   52        NaT    Краснодар     Рафаил  Верещагин 2018-05-25   \n",
       "4        1000   52        NaT    Краснодар     Рафаил  Верещагин 2018-05-25   \n",
       "...       ...  ...        ...          ...        ...        ...        ...   \n",
       "3198     1498   68 2018-10-25  Владикавказ   Всеволод    Акимчин 2018-07-19   \n",
       "3199     1499   35        NaT        Пермь     Гектор   Корнилов 2018-09-27   \n",
       "3200     1499   35        NaT        Пермь     Гектор   Корнилов 2018-09-27   \n",
       "3201     1499   35        NaT        Пермь     Гектор   Корнилов 2018-09-27   \n",
       "3202     1499   35        NaT        Пермь     Гектор   Корнилов 2018-09-27   \n",
       "\n",
       "     tariff  month   traffic  messages_count  calls_count  calls_time  earning  \n",
       "0     ultra      5   2253.49            22.0         22.0       159.0   1950.0  \n",
       "1     ultra      6  23233.77            60.0         43.0       172.0   1950.0  \n",
       "2     ultra      7  14003.64            75.0         47.0       340.0   1950.0  \n",
       "3     ultra      8  14055.93            81.0         52.0       408.0   1950.0  \n",
       "4     ultra      9  14568.91            57.0         58.0       466.0   1950.0  \n",
       "...     ...    ...       ...             ...          ...         ...      ...  \n",
       "3198  smart     10  20579.36            42.0         41.0       247.0   1750.0  \n",
       "3199  smart      9   1845.75            11.0          9.0        70.0    550.0  \n",
       "3200  smart     10  17788.51            48.0         68.0       449.0   1150.0  \n",
       "3201  smart     11  17963.31            59.0         74.0       612.0   1513.0  \n",
       "3202  smart     12  13055.58            66.0         69.0       492.0    598.0  \n",
       "\n",
       "[3203 rows x 14 columns]"
      ]
     },
     "execution_count": 21,
     "metadata": {},
     "output_type": "execute_result"
    }
   ],
   "source": [
    "def earned(user):\n",
    "    if user['tariff'] == 'smart':\n",
    "        tariff = tariffs.loc[0]\n",
    "    else:\n",
    "        tariff = tariffs.loc[1]\n",
    "    payment = tariff['rub_monthly_fee']\n",
    "    if user['messages_count'] > tariff['messages_included']:\n",
    "        payment += (user['messages_count'] - tariff['messages_included']) * tariff['rub_per_message']\n",
    "    if user['calls_time'] > tariff['minutes_included']:\n",
    "        payment += (user['calls_time'] - tariff['minutes_included']) * tariff['rub_per_minute']\n",
    "    if user['traffic'] > tariff['mb_per_month_included']:\n",
    "        payment += np.ceil((user['traffic'] - tariff['mb_per_month_included']) / 1024) * tariff['rub_per_gb']\n",
    "    return payment\n",
    "\n",
    "\n",
    "users['earning'] = users.apply(earned, axis=1)        \n",
    "        \n",
    "users"
   ]
  },
  {
   "cell_type": "markdown",
   "id": "6ea0078b",
   "metadata": {},
   "source": [
    "### Вывод\n",
    "\n",
    "Данные по операциям пользователей сгруппированы по месяцам, добавлены в основную таблицу, выручка рассчитана."
   ]
  },
  {
   "cell_type": "markdown",
   "id": "913241ab",
   "metadata": {},
   "source": [
    "## Анализ"
   ]
  },
  {
   "cell_type": "code",
   "execution_count": 22,
   "id": "eb130528",
   "metadata": {},
   "outputs": [
    {
     "data": {
      "text/html": [
       "<div>\n",
       "<style scoped>\n",
       "    .dataframe tbody tr th:only-of-type {\n",
       "        vertical-align: middle;\n",
       "    }\n",
       "\n",
       "    .dataframe tbody tr th {\n",
       "        vertical-align: top;\n",
       "    }\n",
       "\n",
       "    .dataframe thead th {\n",
       "        text-align: right;\n",
       "    }\n",
       "</style>\n",
       "<table border=\"1\" class=\"dataframe\">\n",
       "  <thead>\n",
       "    <tr style=\"text-align: right;\">\n",
       "      <th></th>\n",
       "      <th>messages_included</th>\n",
       "      <th>mb_per_month_included</th>\n",
       "      <th>minutes_included</th>\n",
       "      <th>rub_monthly_fee</th>\n",
       "      <th>rub_per_gb</th>\n",
       "      <th>rub_per_message</th>\n",
       "      <th>rub_per_minute</th>\n",
       "      <th>tariff_name</th>\n",
       "    </tr>\n",
       "  </thead>\n",
       "  <tbody>\n",
       "    <tr>\n",
       "      <td>0</td>\n",
       "      <td>50</td>\n",
       "      <td>15360</td>\n",
       "      <td>500</td>\n",
       "      <td>550</td>\n",
       "      <td>200</td>\n",
       "      <td>3</td>\n",
       "      <td>3</td>\n",
       "      <td>smart</td>\n",
       "    </tr>\n",
       "    <tr>\n",
       "      <td>1</td>\n",
       "      <td>1000</td>\n",
       "      <td>30720</td>\n",
       "      <td>3000</td>\n",
       "      <td>1950</td>\n",
       "      <td>150</td>\n",
       "      <td>1</td>\n",
       "      <td>1</td>\n",
       "      <td>ultra</td>\n",
       "    </tr>\n",
       "  </tbody>\n",
       "</table>\n",
       "</div>"
      ],
      "text/plain": [
       "   messages_included  mb_per_month_included  minutes_included  \\\n",
       "0                 50                  15360               500   \n",
       "1               1000                  30720              3000   \n",
       "\n",
       "   rub_monthly_fee  rub_per_gb  rub_per_message  rub_per_minute tariff_name  \n",
       "0              550         200                3               3       smart  \n",
       "1             1950         150                1               1       ultra  "
      ]
     },
     "execution_count": 22,
     "metadata": {},
     "output_type": "execute_result"
    }
   ],
   "source": [
    "tariffs"
   ]
  },
  {
   "cell_type": "markdown",
   "id": "8cbe78c7",
   "metadata": {},
   "source": [
    "### Минуты разговора"
   ]
  },
  {
   "cell_type": "code",
   "execution_count": 23,
   "id": "89b11be7",
   "metadata": {
    "scrolled": false
   },
   "outputs": [
    {
     "name": "stdout",
     "output_type": "stream",
     "text": [
      "Среднее количество минут пользователей тарифа smart: 418.10\n",
      "Медиана количества минут пользователей тарифа smart: 422.00\n",
      "Дисперсия среднего количества минут пользователей тарифа smart: 36158.53\n",
      "Стандартное отклонение среднего количества минут пользователей тарифа smart: 190.15\n"
     ]
    },
    {
     "data": {
      "text/plain": [
       "Text(0.5, 1.0, 'Количество минут пользователей тарифа smart')"
      ]
     },
     "execution_count": 23,
     "metadata": {},
     "output_type": "execute_result"
    },
    {
     "data": {
      "image/png": "[encoded data removed]",
      "text/plain": [
       "<Figure size 432x288 with 1 Axes>"
      ]
     },
     "metadata": {
      "needs_background": "light"
     },
     "output_type": "display_data"
    }
   ],
   "source": [
    "print('Среднее количество минут пользователей тарифа smart: {:.2f}'.format(users.query('tariff==\"smart\"')['calls_time'].mean()))\n",
    "print('Медиана количества минут пользователей тарифа smart: {:.2f}'.format(users.query('tariff==\"smart\"')['calls_time'].median()))\n",
    "print('Дисперсия среднего количества минут пользователей тарифа smart: {:.2f}'.format(np.var(users.query('tariff==\"smart\"')['calls_time'])))\n",
    "print('Стандартное отклонение среднего количества минут пользователей тарифа smart: {:.2f}'.format(np.sqrt(np.var(users.query('tariff==\"smart\"')['calls_time']))))\n",
    "users.query('tariff==\"smart\"')['calls_time'].hist(bins=50)\n",
    "plt.title('Количество минут пользователей тарифа smart')"
   ]
  },
  {
   "cell_type": "markdown",
   "id": "dbdb1d73",
   "metadata": {},
   "source": [
    "Мы наблюдаем распределение похожее на нормальное. Слева оно обрублено 0 -- звонки не могут длиться меньше. Медиана практически равна среднему, но распределение чуть скошено влево.\n",
    "Хоть среднее значение и меньше 500 включенных в тариф минут, мы все же наблюдаем немало значений, превышающих лимит тарифа. Аппроксимируем распределение нормальным и найдем вероятность того, что случайный месяц случайного пользователя будет в рамках лимита:"
   ]
  },
  {
   "cell_type": "code",
   "execution_count": 24,
   "id": "570f01af",
   "metadata": {
    "scrolled": true
   },
   "outputs": [
    {
     "name": "stdout",
     "output_type": "stream",
     "text": [
      "66.53%\n"
     ]
    }
   ],
   "source": [
    "distr = st.norm(419.23, 189.16)\n",
    "print('{:.2%}'.format(distr.cdf(500)))"
   ]
  },
  {
   "cell_type": "markdown",
   "id": "38e7c3fb",
   "metadata": {},
   "source": [
    "Примерно в 2/3 случаев за рамки тарифа пользователь не выйдет. В остальных он превысит лимит(в аппроксимированном распределении часть значений меньше нуля. Однако ее процент достаточно мал, чтобы оценка оставалась верной)\n",
    "\n",
    "В среднем пользователям тарифа smart нужно около 400 минут, но многим потребуется вплоть до 1000 минут."
   ]
  },
  {
   "cell_type": "code",
   "execution_count": 25,
   "id": "ec6e704b",
   "metadata": {
    "scrolled": false
   },
   "outputs": [
    {
     "name": "stdout",
     "output_type": "stream",
     "text": [
      "Среднее количество минут пользователей тарифа ultra: 529.75\n",
      "Медиана количества минут пользователей тарифа ultra: 520.00\n",
      "Дисперсия среднего количества минут пользователей тарифа ultra: 100780.35\n",
      "Стандартное отклонение среднего количества минут пользователей тарифа ultra: 317.46\n"
     ]
    },
    {
     "data": {
      "text/plain": [
       "Text(0.5, 1.0, 'Количество минут пользователей тарифа ultra')"
      ]
     },
     "execution_count": 25,
     "metadata": {},
     "output_type": "execute_result"
    },
    {
     "data": {
      "image/png": "[encoded data removed]",
      "text/plain": [
       "<Figure size 432x288 with 1 Axes>"
      ]
     },
     "metadata": {
      "needs_background": "light"
     },
     "output_type": "display_data"
    }
   ],
   "source": [
    "print('Среднее количество минут пользователей тарифа ultra: {:.2f}'.format(users.query('tariff==\"ultra\"')['calls_time'].mean()))\n",
    "print('Медиана количества минут пользователей тарифа ultra: {:.2f}'.format(users.query('tariff==\"ultra\"')['calls_time'].median()))\n",
    "print('Дисперсия среднего количества минут пользователей тарифа ultra: {:.2f}'.format(np.var(users.query('tariff==\"ultra\"')['calls_time'])))\n",
    "print('Стандартное отклонение среднего количества минут пользователей тарифа ultra: {:.2f}'.format(np.sqrt(np.var(users.query('tariff==\"ultra\"')['calls_time']))))\n",
    "users.query('tariff==\"ultra\"')['calls_time'].hist(bins=50)\n",
    "plt.title('Количество минут пользователей тарифа ultra')                           "
   ]
  },
  {
   "cell_type": "markdown",
   "id": "61503e9c",
   "metadata": {},
   "source": [
    "Для выборки тарифа ultra мы наблюдаем похожее распределение, однако оно скошено скорее вправо. Обратим внимание: лимит минут для этого тарифа равен 3000, и его не превысили ни единожды! Можно было бы сказать, что клиенты переплачивают за тариф, однако за всего около 1000 минут по тарифу smart они заплатили бы те же 1950 рублей -- для тех, кто звонит больше 500 минут дорогой тариф все же выгоднее. Выгоднее однако, если выбирать из двух предлагаемых -- в целом пользователи могут быть недавольны, узнав что платят за 3000 минут, а используют гораздо меньше.\n",
    "\n",
    "В среднем пользователям тарифа smart нужно около 500 минут, но многим потребуется вплоть до 1500 минут.\n",
    "\n",
    "Наблюдать разницу трат минут можно на общем графике:"
   ]
  },
  {
   "cell_type": "code",
   "execution_count": 26,
   "id": "6dad7c93",
   "metadata": {},
   "outputs": [
    {
     "data": {
      "text/plain": [
       "<matplotlib.axes._subplots.AxesSubplot at 0x7fd048e5b9d0>"
      ]
     },
     "execution_count": 26,
     "metadata": {},
     "output_type": "execute_result"
    },
    {
     "data": {
      "image/png": "[encoded data removed]",
      "text/plain": [
       "<Figure size 432x288 with 1 Axes>"
      ]
     },
     "metadata": {
      "needs_background": "light"
     },
     "output_type": "display_data"
    }
   ],
   "source": [
    "users.query('tariff==\"smart\"')['calls_time'].hist(bins=50, alpha=0.5)\n",
    "users.query('tariff==\"ultra\"')['calls_time'].hist(bins=50, alpha=0.5)"
   ]
  },
  {
   "cell_type": "markdown",
   "id": "87f77a29",
   "metadata": {},
   "source": [
    "#### Вывод\n",
    "\n",
    "Распределения потраченных минут близки к нормальным. В среднем пользователи ultra тратят больше(500) минут чем пользователи smart(400). При этом за пределы лимита чаще выходят пользователи smart."
   ]
  },
  {
   "cell_type": "markdown",
   "id": "d1280f75",
   "metadata": {},
   "source": [
    "### Количество сообщений"
   ]
  },
  {
   "cell_type": "code",
   "execution_count": 27,
   "id": "2f0a99cd",
   "metadata": {},
   "outputs": [
    {
     "name": "stdout",
     "output_type": "stream",
     "text": [
      "Среднее количество сообщений пользователей тарифа smart: 33.40\n",
      "Медиана количества сообщений пользователей тарифа smart: 28.00\n",
      "Дисперсия среднего количества сообщений пользователей тарифа smart: 796.34\n",
      "Стандартное отклонение среднего количества сообщений пользователей тарифа smart: 28.22\n"
     ]
    },
    {
     "data": {
      "text/plain": [
       "Text(0.5, 1.0, 'Количество сообщений пользователей тарифа smart')"
      ]
     },
     "execution_count": 27,
     "metadata": {},
     "output_type": "execute_result"
    },
    {
     "data": {
      "image/png": "[encoded data removed]",
      "text/plain": [
       "<Figure size 432x288 with 1 Axes>"
      ]
     },
     "metadata": {
      "needs_background": "light"
     },
     "output_type": "display_data"
    }
   ],
   "source": [
    "print('Среднее количество сообщений пользователей тарифа smart: {:.2f}'.format(users.query('tariff==\"smart\"')['messages_count'].mean()))\n",
    "print('Медиана количества сообщений пользователей тарифа smart: {:.2f}'.format(users.query('tariff==\"smart\"')['messages_count'].median()))\n",
    "print('Дисперсия среднего количества сообщений пользователей тарифа smart: {:.2f}'.format(np.var(users.query('tariff==\"smart\"')['messages_count'])))\n",
    "print('Стандартное отклонение среднего количества сообщений пользователей тарифа smart: {:.2f}'.format(np.sqrt(np.var(users.query('tariff==\"smart\"')['messages_count']))))\n",
    "users.query('tariff==\"smart\"')['messages_count'].hist(bins=50)\n",
    "plt.title('Количество сообщений пользователей тарифа smart')"
   ]
  },
  {
   "cell_type": "markdown",
   "id": "6f511030",
   "metadata": {},
   "source": [
    "Распределение количества сообщений скошено вправо. Среднее ниже лимита, однако на гистограмме мы видим, что превышающих лимит -- 50 -- значений немало. Распределение сложнее назвать нормальным, минимум -- 0 -- отрезает немало значений. Не очень ясно, корректно ли будет аппроксимировать нормальным распределением по данным значениям."
   ]
  },
  {
   "cell_type": "code",
   "execution_count": 28,
   "id": "4969f310",
   "metadata": {},
   "outputs": [
    {
     "name": "stdout",
     "output_type": "stream",
     "text": [
      "58.91%\n",
      "7.39%\n"
     ]
    }
   ],
   "source": [
    "distr = st.norm(38.74, 26.77)\n",
    "print('{:.2%}'.format(distr.cdf(50) - distr.cdf(0)))\n",
    "print('{:.2%}'.format(distr.cdf(0)))"
   ]
  },
  {
   "cell_type": "markdown",
   "id": "308954ff",
   "metadata": {},
   "source": [
    "При аппроксимации выходит, что меньше лимита 60% пользователей выборки в произвольный месяц. Однако учтем, что она может быть некорректна. Как мы видим около 7% пользователей находится \"за нулем\". С учетом этого процент \"уместившихся\" будет равен 59/93 = 63.5%\n",
    "\n",
    "В среднем пользователям тарифа smart нужно около 40 сообщеений, но многим потребуется вплоть до 120."
   ]
  },
  {
   "cell_type": "code",
   "execution_count": 29,
   "id": "50bd8111",
   "metadata": {},
   "outputs": [
    {
     "name": "stdout",
     "output_type": "stream",
     "text": [
      "Среднее количество сообщений пользователей тарифа ultra: 49.59\n",
      "Медиана количества сообщений пользователей тарифа ultra: 38.00\n",
      "Дисперсия среднего количества сообщений пользователей тарифа ultra: 2299.56\n",
      "Стандартное отклонение среднего количества сообщений пользователей тарифа ultra: 47.95\n"
     ]
    },
    {
     "data": {
      "text/plain": [
       "Text(0.5, 1.0, 'Количество сообщений пользователей тарифа ultra')"
      ]
     },
     "execution_count": 29,
     "metadata": {},
     "output_type": "execute_result"
    },
    {
     "data": {
      "image/png": "[encoded data removed]",
      "text/plain": [
       "<Figure size 432x288 with 1 Axes>"
      ]
     },
     "metadata": {
      "needs_background": "light"
     },
     "output_type": "display_data"
    }
   ],
   "source": [
    "print('Среднее количество сообщений пользователей тарифа ultra: {:.2f}'.format(users.query('tariff==\"ultra\"')['messages_count'].mean()))\n",
    "print('Медиана количества сообщений пользователей тарифа ultra: {:.2f}'.format(users.query('tariff==\"ultra\"')['messages_count'].median()))\n",
    "print('Дисперсия среднего количества сообщений пользователей тарифа ultra: {:.2f}'.format(np.var(users.query('tariff==\"ultra\"')['messages_count'])))\n",
    "print('Стандартное отклонение среднего количества сообщений пользователей тарифа ultra: {:.2f}'.format(np.sqrt(np.var(users.query('tariff==\"ultra\"')['messages_count']))))\n",
    "users.query('tariff==\"ultra\"')['messages_count'].hist(bins=50)\n",
    "plt.title('Количество сообщений пользователей тарифа ultra')"
   ]
  },
  {
   "cell_type": "markdown",
   "id": "1f24e99c",
   "metadata": {},
   "source": [
    "В тарифе ultra мы вновь наблюдаем то же, что в минутах -- пользователи не достигают лимита в 1000 сообщений.\n",
    "\n",
    "В среднем пользователям тарифа smart нужно около 60 сообщеений, но многим потребуется вплоть до 200.\n",
    "\n",
    "Наблюдать разницу можно на общем графике:"
   ]
  },
  {
   "cell_type": "code",
   "execution_count": 30,
   "id": "05b98406",
   "metadata": {},
   "outputs": [
    {
     "data": {
      "text/plain": [
       "<matplotlib.axes._subplots.AxesSubplot at 0x7fd046c5fb10>"
      ]
     },
     "execution_count": 30,
     "metadata": {},
     "output_type": "execute_result"
    },
    {
     "data": {
      "image/png": "[encoded data removed]",
      "text/plain": [
       "<Figure size 432x288 with 1 Axes>"
      ]
     },
     "metadata": {
      "needs_background": "light"
     },
     "output_type": "display_data"
    }
   ],
   "source": [
    "users.query('tariff==\"smart\"')['messages_count'].hist(bins=50, alpha=0.5)\n",
    "users.query('tariff==\"ultra\"')['messages_count'].hist(bins=50, alpha=0.5)"
   ]
  },
  {
   "cell_type": "markdown",
   "id": "85441982",
   "metadata": {},
   "source": [
    "#### Вывод\n",
    "\n",
    "Распределения сообщений значительно скошены. В среднем пользователи ultra отправляют больше(40) СМС чем пользователи smart(60). При этом за пределы лимита чаще выходят пользователи smart."
   ]
  },
  {
   "cell_type": "markdown",
   "id": "2affddf6",
   "metadata": {},
   "source": [
    "### Трафик"
   ]
  },
  {
   "cell_type": "code",
   "execution_count": 31,
   "id": "31747a85",
   "metadata": {},
   "outputs": [
    {
     "name": "stdout",
     "output_type": "stream",
     "text": [
      "Средний трафик пользователей тарифа smart: 16215.66\n",
      "Медиана трафика пользователей тарифа smart: 16507.74\n",
      "Дисперсия среднего трафика пользователей тарифа smart: 34344529.80\n",
      "Стандартное отклонение среднего трафика пользователей тарифа smart: 5860.42\n"
     ]
    },
    {
     "data": {
      "text/plain": [
       "Text(0.5, 1.0, 'Трафик пользователей тарифа smart')"
      ]
     },
     "execution_count": 31,
     "metadata": {},
     "output_type": "execute_result"
    },
    {
     "data": {
      "image/png": "[encoded data removed]",
      "text/plain": [
       "<Figure size 432x288 with 1 Axes>"
      ]
     },
     "metadata": {
      "needs_background": "light"
     },
     "output_type": "display_data"
    }
   ],
   "source": [
    "print('Средний трафик пользователей тарифа smart: {:.2f}'.format(users.query('tariff==\"smart\"')['traffic'].mean()))\n",
    "print('Медиана трафика пользователей тарифа smart: {:.2f}'.format(users.query('tariff==\"smart\"')['traffic'].median()))\n",
    "print('Дисперсия среднего трафика пользователей тарифа smart: {:.2f}'.format(np.var(users.query('tariff==\"smart\"')['traffic'])))\n",
    "print('Стандартное отклонение среднего трафика пользователей тарифа smart: {:.2f}'.format(np.sqrt(np.var(users.query('tariff==\"smart\"')['traffic']))))\n",
    "users.query('tariff==\"smart\"')['traffic'].hist(bins=50)\n",
    "plt.title('Трафик пользователей тарифа smart')"
   ]
  },
  {
   "cell_type": "markdown",
   "id": "edd9d1d4",
   "metadata": {},
   "source": [
    "Это распределение очень похоже на нормальное, и немного скошено влево. В среднем пользователи несколько превышают доступный им трафик. Оценим, какова вероятность уложиться в него."
   ]
  },
  {
   "cell_type": "code",
   "execution_count": 32,
   "id": "d6748db6",
   "metadata": {
    "scrolled": true
   },
   "outputs": [
    {
     "name": "stdout",
     "output_type": "stream",
     "text": [
      "50.84%\n"
     ]
    }
   ],
   "source": [
    "distr = st.norm(16215.66, 5860.42)\n",
    "print('{:.2%}'.format((distr.cdf(16360)-distr.cdf(0))/(1-distr.cdf(0))))"
   ]
  },
  {
   "cell_type": "markdown",
   "id": "6729efac",
   "metadata": {},
   "source": [
    "Около половины. В половине случаев пользователь доплачивает за трафик в течение месяца на тарифе smart.\n",
    "\n",
    "\n",
    "В среднем пользователям тарифа smart нужно около 16000 мб, но многим потребуется вплоть до 34000."
   ]
  },
  {
   "cell_type": "code",
   "execution_count": 33,
   "id": "dad910cd",
   "metadata": {},
   "outputs": [
    {
     "name": "stdout",
     "output_type": "stream",
     "text": [
      "Средний трафик пользователей тарифа ultra: 19668.49\n",
      "Медиана трафика пользователей тарифа ultra: 19394.29\n",
      "Дисперсия среднего трафика пользователей тарифа ultra: 98762849.72\n",
      "Стандартное отклонение среднего трафика пользователей тарифа ultra: 9937.95\n"
     ]
    },
    {
     "data": {
      "text/plain": [
       "Text(0.5, 1.0, 'Трафик пользователей тарифа ultra')"
      ]
     },
     "execution_count": 33,
     "metadata": {},
     "output_type": "execute_result"
    },
    {
     "data": {
      "image/png": "[encoded data removed]",
      "text/plain": [
       "<Figure size 432x288 with 1 Axes>"
      ]
     },
     "metadata": {
      "needs_background": "light"
     },
     "output_type": "display_data"
    }
   ],
   "source": [
    "print('Средний трафик пользователей тарифа ultra: {:.2f}'.format(users.query('tariff==\"ultra\"')['traffic'].mean()))\n",
    "print('Медиана трафика пользователей тарифа ultra: {:.2f}'.format(users.query('tariff==\"ultra\"')['traffic'].median()))\n",
    "print('Дисперсия среднего трафика пользователей тарифа ultra: {:.2f}'.format(np.var(users.query('tariff==\"ultra\"')['traffic'])))\n",
    "print('Стандартное отклонение среднего трафика пользователей тарифа ultra: {:.2f}'.format(np.sqrt(np.var(users.query('tariff==\"ultra\"')['traffic']))))\n",
    "users.query('tariff==\"ultra\"')['traffic'].hist(bins=50)\n",
    "plt.title('Трафик пользователей тарифа ultra')"
   ]
  },
  {
   "cell_type": "markdown",
   "id": "ebb2a07e",
   "metadata": {},
   "source": [
    "Интернет гораздо более популярен среди пользователей: наконец-то и на тарифе ultra появились случаи превышения лимита, хотя их явно меньше чем на тарифе smart. Оценим их количество."
   ]
  },
  {
   "cell_type": "code",
   "execution_count": 34,
   "id": "2ba6b455",
   "metadata": {},
   "outputs": [
    {
     "name": "stdout",
     "output_type": "stream",
     "text": [
      "86.37%\n"
     ]
    }
   ],
   "source": [
    "distr = st.norm(19668.49, 9937.95)\n",
    "print('{:.2%}'.format((distr.cdf(30720)-distr.cdf(0))/(1-distr.cdf(0))))"
   ]
  },
  {
   "cell_type": "markdown",
   "id": "fe4eeb0f",
   "metadata": {},
   "source": [
    "Большая часть пользователей все еще не доплачивает на тарифе ultra.\n",
    "\n",
    "В среднем пользователям тарифа smart нужно около 20000 мб, но многим потребуется вплоть до 50000.\n",
    "\n",
    "Разницу в трафике можем наблюдать на общем графике:"
   ]
  },
  {
   "cell_type": "code",
   "execution_count": 35,
   "id": "608fe9a6",
   "metadata": {},
   "outputs": [
    {
     "data": {
      "text/plain": [
       "<matplotlib.axes._subplots.AxesSubplot at 0x7fd0467d4c50>"
      ]
     },
     "execution_count": 35,
     "metadata": {},
     "output_type": "execute_result"
    },
    {
     "data": {
      "image/png": "[encoded data removed]",
      "text/plain": [
       "<Figure size 432x288 with 1 Axes>"
      ]
     },
     "metadata": {
      "needs_background": "light"
     },
     "output_type": "display_data"
    }
   ],
   "source": [
    "users.query('tariff==\"smart\"')['traffic'].hist(bins=50, alpha=0.5)\n",
    "users.query('tariff==\"ultra\"')['traffic'].hist(bins=50, alpha=0.5)"
   ]
  },
  {
   "cell_type": "markdown",
   "id": "c05d96d5",
   "metadata": {},
   "source": [
    "#### Вывод\n",
    "\n",
    "Распределения потраченного трафика близки к нормальным. В среднем пользователи ultra тратят больше(20000) Мб чем пользователи smart(16000). При этом за пределы лимита чаще выходят пользователи smart."
   ]
  },
  {
   "cell_type": "markdown",
   "id": "82a6308f",
   "metadata": {},
   "source": [
    "### Вывод\n",
    "\n",
    "Пользователи тарифа ultra в подавляющем большинстве случаев не превышают лимиты, в отличие от пользователей тарифа smart. Приводит ли это к тому, что в итоге оба тарифа платят одни и те же суммы? Это нам предстоит выяснить."
   ]
  },
  {
   "cell_type": "markdown",
   "id": "9dd31d2b",
   "metadata": {},
   "source": [
    "## Проверка гипотез"
   ]
  },
  {
   "cell_type": "markdown",
   "id": "969a67c2",
   "metadata": {},
   "source": [
    "### Cредняя выручка пользователей тарифов «Ультра» и «Смарт» различаются"
   ]
  },
  {
   "cell_type": "markdown",
   "id": "984c91a5",
   "metadata": {},
   "source": [
    "Сформулируем нулевую гипотезу так: средняя выручка пользователей тарифов ultra и smart равны.\n",
    "Первая гипотеза тогда будет: средняя выручка пользователей тарифов ultra и smart различны.\n",
    "alpha зададим равным 1%"
   ]
  },
  {
   "cell_type": "code",
   "execution_count": 36,
   "id": "1b126e0c",
   "metadata": {
    "scrolled": false
   },
   "outputs": [
    {
     "name": "stdout",
     "output_type": "stream",
     "text": [
      "p-value равна: 5.22403940028982e-249\n",
      "Отвергаем нулевую гипотезу\n"
     ]
    }
   ],
   "source": [
    "result = st.ttest_ind(users.query('tariff==\"smart\"')['earning'], \n",
    "                      users.query('tariff==\"ultra\"')['earning'], equal_var = False).pvalue\n",
    "alpha = 0.01\n",
    "\n",
    "print('p-value равна:', result)\n",
    "if result < alpha:\n",
    "    print('Отвергаем нулевую гипотезу')\n",
    "else:\n",
    "    print('Не получилось отвергнуть нулевую гипотезу') "
   ]
  },
  {
   "cell_type": "markdown",
   "id": "d4cc25cf",
   "metadata": {},
   "source": [
    "Выходит  вероятность равенства слишком мала, нулевая гипотеза опровергается. Средняя выручка различна."
   ]
  },
  {
   "cell_type": "markdown",
   "id": "4febefc7",
   "metadata": {},
   "source": [
    "Посмотрим, если судить по выборке, чем равна средняя выручка для тарифов?"
   ]
  },
  {
   "cell_type": "code",
   "execution_count": 37,
   "id": "ef25b8b1",
   "metadata": {},
   "outputs": [
    {
     "name": "stdout",
     "output_type": "stream",
     "text": [
      "tariff\n",
      "smart    1290.305655\n",
      "ultra    2071.384615\n",
      "Name: earning, dtype: float64\n"
     ]
    }
   ],
   "source": [
    "print(users.groupby('tariff')['earning'].mean())"
   ]
  },
  {
   "cell_type": "markdown",
   "id": "cf1cde24",
   "metadata": {},
   "source": [
    "Выходит все же траты пользователей smart сверх лимитов все же не смогли сделать тариф ultra выгоднее."
   ]
  },
  {
   "cell_type": "markdown",
   "id": "1b2a2537",
   "metadata": {},
   "source": [
    "#### Вывод\n",
    "\n",
    "Средние выручки пользователей разных тарифов различны. Выручка пользователей тарифа ultra выше."
   ]
  },
  {
   "cell_type": "markdown",
   "id": "07a56288",
   "metadata": {},
   "source": [
    "### Cредняя выручка пользователей из Москвы отличается от выручки пользователей из других регионов"
   ]
  },
  {
   "cell_type": "markdown",
   "id": "c059991b",
   "metadata": {},
   "source": [
    "Сформулируем нулевую гипотезу так: средняя выручка пользователей из Москвы равна средней выручке пользователей других городов.\n",
    "Первая гипотеза тогда будет:средняя выручка пользователей из Москвы отличается от средней выручки пользователей других городов.\n",
    "alpha зададим равным 1%"
   ]
  },
  {
   "cell_type": "code",
   "execution_count": 38,
   "id": "58abe9cb",
   "metadata": {},
   "outputs": [
    {
     "name": "stdout",
     "output_type": "stream",
     "text": [
      "p-value равна: 0.5023167352991608\n",
      "Не получилось отвергнуть нулевую гипотезу\n"
     ]
    }
   ],
   "source": [
    "result = st.ttest_ind(users.query('city==\"Москва\"')['earning'], \n",
    "                      users.query('city!=\"Москва\"')['earning'], equal_var = False).pvalue\n",
    "alpha = 0.01\n",
    "\n",
    "\n",
    "print('p-value равна:', result)\n",
    "if result < alpha:\n",
    "    print('Отвергаем нулевую гипотезу')\n",
    "else:\n",
    "    print('Не получилось отвергнуть нулевую гипотезу') "
   ]
  },
  {
   "cell_type": "markdown",
   "id": "bec84f70",
   "metadata": {},
   "source": [
    "Гипотезу не вышло опровергнуть. Значит справедливо сделать вывод, что жители других городов тратят на сотовую связь Мегалайна столько же, сколько жители Москвы."
   ]
  },
  {
   "cell_type": "markdown",
   "id": "3ab04b69",
   "metadata": {},
   "source": [
    "#### Вывод\n",
    "\n",
    "Cредняя выручка пользователей из Москвы равна выручке пользователей из других регионов."
   ]
  },
  {
   "cell_type": "markdown",
   "id": "434297e0",
   "metadata": {},
   "source": [
    "## Общий вывод"
   ]
  },
  {
   "cell_type": "markdown",
   "id": "702ab9e2",
   "metadata": {},
   "source": [
    "По нашей выборке мы смогли сделать данные выводы:\n",
    "\n",
    "    1) Пользователи тарифа ultra чаще всего остаются в пределах своих лимитов и редко платят сверх тарифного пакета.\n",
    "\n",
    "    2) Пользователи тарифа smart зачастую выходят за пределы своего тарифного пакета и в среднем платят зачительно выше стоимости тарифа.\n",
    "    \n",
    "    3) Средняя выручка пользователей двух тарифов различна.\n",
    "\n",
    "    4) Несмотря на выход за пределы тарифного плана, средняя выручка пользователей smart ниже средней выручки пользователей ultra.\n",
    "\n",
    "    5) Пользователи Москвы и других регионов в среднем платят одинаковые суммы за месяц."
   ]
  },
  {
   "cell_type": "code",
   "execution_count": null,
   "id": "9aca6b27",
   "metadata": {},
   "outputs": [],
   "source": []
  }
 ],
 "metadata": {
  "ExecuteTimeLog": [
   {
    "duration": 914,
    "start_time": "2022-02-15T06:22:25.481Z"
   },
   {
    "duration": 2831,
    "start_time": "2022-02-15T06:22:26.397Z"
   },
   {
    "duration": 31,
    "start_time": "2022-02-15T06:22:29.200Z"
   },
   {
    "duration": 29,
    "start_time": "2022-02-15T06:22:29.203Z"
   },
   {
    "duration": 28,
    "start_time": "2022-02-15T06:22:29.205Z"
   },
   {
    "duration": 27,
    "start_time": "2022-02-15T06:22:29.207Z"
   },
   {
    "duration": 24,
    "start_time": "2022-02-15T06:22:29.211Z"
   },
   {
    "duration": 22,
    "start_time": "2022-02-15T06:22:29.214Z"
   },
   {
    "duration": 19,
    "start_time": "2022-02-15T06:22:29.218Z"
   },
   {
    "duration": 16,
    "start_time": "2022-02-15T06:22:29.221Z"
   },
   {
    "duration": 16,
    "start_time": "2022-02-15T06:22:29.223Z"
   },
   {
    "duration": 12,
    "start_time": "2022-02-15T06:22:29.228Z"
   },
   {
    "duration": 11,
    "start_time": "2022-02-15T06:22:29.230Z"
   },
   {
    "duration": 9,
    "start_time": "2022-02-15T06:22:29.233Z"
   },
   {
    "duration": 7,
    "start_time": "2022-02-15T06:22:29.236Z"
   },
   {
    "duration": 5,
    "start_time": "2022-02-15T06:22:29.239Z"
   },
   {
    "duration": -1,
    "start_time": "2022-02-15T06:22:29.246Z"
   },
   {
    "duration": -3,
    "start_time": "2022-02-15T06:22:29.249Z"
   },
   {
    "duration": -4,
    "start_time": "2022-02-15T06:22:29.251Z"
   },
   {
    "duration": -5,
    "start_time": "2022-02-15T06:22:29.253Z"
   },
   {
    "duration": -7,
    "start_time": "2022-02-15T06:22:29.256Z"
   },
   {
    "duration": -9,
    "start_time": "2022-02-15T06:22:29.258Z"
   },
   {
    "duration": -9,
    "start_time": "2022-02-15T06:22:29.260Z"
   },
   {
    "duration": -10,
    "start_time": "2022-02-15T06:22:29.262Z"
   },
   {
    "duration": -12,
    "start_time": "2022-02-15T06:22:29.265Z"
   },
   {
    "duration": -13,
    "start_time": "2022-02-15T06:22:29.267Z"
   },
   {
    "duration": -14,
    "start_time": "2022-02-15T06:22:29.269Z"
   },
   {
    "duration": -15,
    "start_time": "2022-02-15T06:22:29.271Z"
   },
   {
    "duration": -15,
    "start_time": "2022-02-15T06:22:29.273Z"
   },
   {
    "duration": -16,
    "start_time": "2022-02-15T06:22:29.275Z"
   },
   {
    "duration": -17,
    "start_time": "2022-02-15T06:22:29.277Z"
   },
   {
    "duration": -19,
    "start_time": "2022-02-15T06:22:29.280Z"
   },
   {
    "duration": -21,
    "start_time": "2022-02-15T06:22:29.282Z"
   },
   {
    "duration": 1091,
    "start_time": "2022-02-15T06:23:21.801Z"
   },
   {
    "duration": 159,
    "start_time": "2022-02-15T06:23:22.894Z"
   },
   {
    "duration": 40,
    "start_time": "2022-02-15T06:23:23.057Z"
   },
   {
    "duration": 143,
    "start_time": "2022-02-15T06:23:23.099Z"
   },
   {
    "duration": 30,
    "start_time": "2022-02-15T06:23:23.244Z"
   },
   {
    "duration": 91,
    "start_time": "2022-02-15T06:23:23.276Z"
   },
   {
    "duration": 16,
    "start_time": "2022-02-15T06:23:23.368Z"
   },
   {
    "duration": 23,
    "start_time": "2022-02-15T06:23:23.386Z"
   },
   {
    "duration": 48,
    "start_time": "2022-02-15T06:23:23.411Z"
   },
   {
    "duration": 5,
    "start_time": "2022-02-15T06:23:23.460Z"
   },
   {
    "duration": 9,
    "start_time": "2022-02-15T06:23:23.466Z"
   },
   {
    "duration": 126,
    "start_time": "2022-02-15T06:23:23.477Z"
   },
   {
    "duration": 48,
    "start_time": "2022-02-15T06:23:23.604Z"
   },
   {
    "duration": 442,
    "start_time": "2022-02-15T06:23:23.654Z"
   },
   {
    "duration": 18,
    "start_time": "2022-02-15T06:23:24.080Z"
   },
   {
    "duration": 16,
    "start_time": "2022-02-15T06:23:24.083Z"
   },
   {
    "duration": 10,
    "start_time": "2022-02-15T06:23:24.090Z"
   },
   {
    "duration": 8,
    "start_time": "2022-02-15T06:23:24.093Z"
   },
   {
    "duration": 6,
    "start_time": "2022-02-15T06:23:24.096Z"
   },
   {
    "duration": 5,
    "start_time": "2022-02-15T06:23:24.098Z"
   },
   {
    "duration": 4,
    "start_time": "2022-02-15T06:23:24.100Z"
   },
   {
    "duration": 1,
    "start_time": "2022-02-15T06:23:24.103Z"
   },
   {
    "duration": -1,
    "start_time": "2022-02-15T06:23:24.106Z"
   },
   {
    "duration": -3,
    "start_time": "2022-02-15T06:23:24.109Z"
   },
   {
    "duration": -4,
    "start_time": "2022-02-15T06:23:24.111Z"
   },
   {
    "duration": -5,
    "start_time": "2022-02-15T06:23:24.113Z"
   },
   {
    "duration": -6,
    "start_time": "2022-02-15T06:23:24.115Z"
   },
   {
    "duration": -8,
    "start_time": "2022-02-15T06:23:24.118Z"
   },
   {
    "duration": -9,
    "start_time": "2022-02-15T06:23:24.120Z"
   },
   {
    "duration": -10,
    "start_time": "2022-02-15T06:23:24.122Z"
   },
   {
    "duration": -11,
    "start_time": "2022-02-15T06:23:24.124Z"
   },
   {
    "duration": -13,
    "start_time": "2022-02-15T06:23:24.127Z"
   },
   {
    "duration": -14,
    "start_time": "2022-02-15T06:23:24.129Z"
   },
   {
    "duration": 256,
    "start_time": "2022-02-15T06:23:50.985Z"
   },
   {
    "duration": 1177,
    "start_time": "2022-02-15T06:24:33.808Z"
   },
   {
    "duration": 172,
    "start_time": "2022-02-15T06:24:34.987Z"
   },
   {
    "duration": 41,
    "start_time": "2022-02-15T06:24:35.161Z"
   },
   {
    "duration": 140,
    "start_time": "2022-02-15T06:24:35.203Z"
   },
   {
    "duration": 32,
    "start_time": "2022-02-15T06:24:35.345Z"
   },
   {
    "duration": 89,
    "start_time": "2022-02-15T06:24:35.379Z"
   },
   {
    "duration": 17,
    "start_time": "2022-02-15T06:24:35.469Z"
   },
   {
    "duration": 24,
    "start_time": "2022-02-15T06:24:35.488Z"
   },
   {
    "duration": 48,
    "start_time": "2022-02-15T06:24:35.514Z"
   },
   {
    "duration": 5,
    "start_time": "2022-02-15T06:24:35.564Z"
   },
   {
    "duration": 12,
    "start_time": "2022-02-15T06:24:35.571Z"
   },
   {
    "duration": 142,
    "start_time": "2022-02-15T06:24:35.585Z"
   },
   {
    "duration": 44,
    "start_time": "2022-02-15T06:24:35.728Z"
   },
   {
    "duration": 325,
    "start_time": "2022-02-15T06:24:35.773Z"
   },
   {
    "duration": 47,
    "start_time": "2022-02-15T06:24:36.053Z"
   },
   {
    "duration": 46,
    "start_time": "2022-02-15T06:24:36.055Z"
   },
   {
    "duration": 44,
    "start_time": "2022-02-15T06:24:36.058Z"
   },
   {
    "duration": 42,
    "start_time": "2022-02-15T06:24:36.061Z"
   },
   {
    "duration": 39,
    "start_time": "2022-02-15T06:24:36.064Z"
   },
   {
    "duration": 37,
    "start_time": "2022-02-15T06:24:36.067Z"
   },
   {
    "duration": 35,
    "start_time": "2022-02-15T06:24:36.070Z"
   },
   {
    "duration": 34,
    "start_time": "2022-02-15T06:24:36.072Z"
   },
   {
    "duration": 28,
    "start_time": "2022-02-15T06:24:36.079Z"
   },
   {
    "duration": 26,
    "start_time": "2022-02-15T06:24:36.082Z"
   },
   {
    "duration": 25,
    "start_time": "2022-02-15T06:24:36.084Z"
   },
   {
    "duration": 22,
    "start_time": "2022-02-15T06:24:36.087Z"
   },
   {
    "duration": 22,
    "start_time": "2022-02-15T06:24:36.089Z"
   },
   {
    "duration": 19,
    "start_time": "2022-02-15T06:24:36.092Z"
   },
   {
    "duration": 17,
    "start_time": "2022-02-15T06:24:36.095Z"
   },
   {
    "duration": 15,
    "start_time": "2022-02-15T06:24:36.098Z"
   },
   {
    "duration": 14,
    "start_time": "2022-02-15T06:24:36.100Z"
   },
   {
    "duration": 12,
    "start_time": "2022-02-15T06:24:36.102Z"
   },
   {
    "duration": 8,
    "start_time": "2022-02-15T06:24:36.107Z"
   },
   {
    "duration": 984,
    "start_time": "2022-02-15T14:24:59.770Z"
   },
   {
    "duration": 168,
    "start_time": "2022-02-15T14:25:00.756Z"
   },
   {
    "duration": 45,
    "start_time": "2022-02-15T14:25:00.931Z"
   },
   {
    "duration": 160,
    "start_time": "2022-02-15T14:25:00.977Z"
   },
   {
    "duration": 34,
    "start_time": "2022-02-15T14:25:01.139Z"
   },
   {
    "duration": 100,
    "start_time": "2022-02-15T14:25:01.175Z"
   },
   {
    "duration": 20,
    "start_time": "2022-02-15T14:25:01.276Z"
   },
   {
    "duration": 32,
    "start_time": "2022-02-15T14:25:01.299Z"
   },
   {
    "duration": 40,
    "start_time": "2022-02-15T14:25:01.333Z"
   },
   {
    "duration": 5,
    "start_time": "2022-02-15T14:25:01.375Z"
   },
   {
    "duration": 18,
    "start_time": "2022-02-15T14:25:01.382Z"
   },
   {
    "duration": 152,
    "start_time": "2022-02-15T14:25:01.402Z"
   },
   {
    "duration": 47,
    "start_time": "2022-02-15T14:25:01.556Z"
   },
   {
    "duration": 274,
    "start_time": "2022-02-15T14:25:01.604Z"
   },
   {
    "duration": 5,
    "start_time": "2022-02-15T14:25:01.875Z"
   },
   {
    "duration": 3,
    "start_time": "2022-02-15T14:25:01.878Z"
   },
   {
    "duration": 1,
    "start_time": "2022-02-15T14:25:01.881Z"
   },
   {
    "duration": -1,
    "start_time": "2022-02-15T14:25:01.884Z"
   },
   {
    "duration": -2,
    "start_time": "2022-02-15T14:25:01.886Z"
   },
   {
    "duration": -4,
    "start_time": "2022-02-15T14:25:01.889Z"
   },
   {
    "duration": -7,
    "start_time": "2022-02-15T14:25:01.892Z"
   },
   {
    "duration": -9,
    "start_time": "2022-02-15T14:25:01.895Z"
   },
   {
    "duration": -10,
    "start_time": "2022-02-15T14:25:01.897Z"
   },
   {
    "duration": -12,
    "start_time": "2022-02-15T14:25:01.900Z"
   },
   {
    "duration": -13,
    "start_time": "2022-02-15T14:25:01.902Z"
   },
   {
    "duration": -15,
    "start_time": "2022-02-15T14:25:01.905Z"
   },
   {
    "duration": -16,
    "start_time": "2022-02-15T14:25:01.907Z"
   },
   {
    "duration": -18,
    "start_time": "2022-02-15T14:25:01.910Z"
   },
   {
    "duration": -19,
    "start_time": "2022-02-15T14:25:01.912Z"
   },
   {
    "duration": -20,
    "start_time": "2022-02-15T14:25:01.914Z"
   },
   {
    "duration": -28,
    "start_time": "2022-02-15T14:25:01.923Z"
   },
   {
    "duration": -29,
    "start_time": "2022-02-15T14:25:01.925Z"
   },
   {
    "duration": -30,
    "start_time": "2022-02-15T14:25:01.927Z"
   },
   {
    "duration": 1101,
    "start_time": "2022-02-15T14:56:13.206Z"
   },
   {
    "duration": 194,
    "start_time": "2022-02-15T14:56:14.309Z"
   },
   {
    "duration": 49,
    "start_time": "2022-02-15T14:56:14.508Z"
   },
   {
    "duration": 173,
    "start_time": "2022-02-15T14:56:14.559Z"
   },
   {
    "duration": 41,
    "start_time": "2022-02-15T14:56:14.734Z"
   },
   {
    "duration": 111,
    "start_time": "2022-02-15T14:56:14.778Z"
   },
   {
    "duration": 29,
    "start_time": "2022-02-15T14:56:14.891Z"
   },
   {
    "duration": 27,
    "start_time": "2022-02-15T14:56:14.923Z"
   },
   {
    "duration": 33,
    "start_time": "2022-02-15T14:56:14.952Z"
   },
   {
    "duration": 20,
    "start_time": "2022-02-15T14:56:14.987Z"
   },
   {
    "duration": 7,
    "start_time": "2022-02-15T14:56:15.010Z"
   },
   {
    "duration": 199,
    "start_time": "2022-02-15T14:56:15.019Z"
   },
   {
    "duration": 53,
    "start_time": "2022-02-15T14:56:15.220Z"
   },
   {
    "duration": 329,
    "start_time": "2022-02-15T14:56:15.275Z"
   },
   {
    "duration": 4016,
    "start_time": "2022-02-15T14:56:11.591Z"
   },
   {
    "duration": 4011,
    "start_time": "2022-02-15T14:56:11.597Z"
   },
   {
    "duration": 4004,
    "start_time": "2022-02-15T14:56:11.605Z"
   },
   {
    "duration": 3998,
    "start_time": "2022-02-15T14:56:11.612Z"
   },
   {
    "duration": 3993,
    "start_time": "2022-02-15T14:56:11.619Z"
   },
   {
    "duration": 3986,
    "start_time": "2022-02-15T14:56:11.627Z"
   },
   {
    "duration": 3983,
    "start_time": "2022-02-15T14:56:11.631Z"
   },
   {
    "duration": 3977,
    "start_time": "2022-02-15T14:56:11.638Z"
   },
   {
    "duration": 3974,
    "start_time": "2022-02-15T14:56:11.642Z"
   },
   {
    "duration": 3967,
    "start_time": "2022-02-15T14:56:11.650Z"
   },
   {
    "duration": 3962,
    "start_time": "2022-02-15T14:56:11.656Z"
   },
   {
    "duration": 3958,
    "start_time": "2022-02-15T14:56:11.661Z"
   },
   {
    "duration": 3955,
    "start_time": "2022-02-15T14:56:11.665Z"
   },
   {
    "duration": 3950,
    "start_time": "2022-02-15T14:56:11.672Z"
   },
   {
    "duration": 3945,
    "start_time": "2022-02-15T14:56:11.678Z"
   },
   {
    "duration": 3941,
    "start_time": "2022-02-15T14:56:11.683Z"
   },
   {
    "duration": 3936,
    "start_time": "2022-02-15T14:56:11.688Z"
   },
   {
    "duration": 3934,
    "start_time": "2022-02-15T14:56:11.692Z"
   },
   {
    "duration": 3932,
    "start_time": "2022-02-15T14:56:11.695Z"
   },
   {
    "duration": 260,
    "start_time": "2022-02-15T14:57:43.560Z"
   },
   {
    "duration": 267,
    "start_time": "2022-02-15T14:58:17.200Z"
   },
   {
    "duration": 226,
    "start_time": "2022-02-15T14:59:43.694Z"
   },
   {
    "duration": 1177,
    "start_time": "2022-02-15T15:01:05.170Z"
   },
   {
    "duration": 204,
    "start_time": "2022-02-15T15:01:06.349Z"
   },
   {
    "duration": 66,
    "start_time": "2022-02-15T15:01:06.556Z"
   },
   {
    "duration": 171,
    "start_time": "2022-02-15T15:01:06.624Z"
   },
   {
    "duration": 46,
    "start_time": "2022-02-15T15:01:06.797Z"
   },
   {
    "duration": 122,
    "start_time": "2022-02-15T15:01:06.845Z"
   },
   {
    "duration": 21,
    "start_time": "2022-02-15T15:01:06.969Z"
   },
   {
    "duration": 34,
    "start_time": "2022-02-15T15:01:06.994Z"
   },
   {
    "duration": 69,
    "start_time": "2022-02-15T15:01:07.030Z"
   },
   {
    "duration": 7,
    "start_time": "2022-02-15T15:01:07.102Z"
   },
   {
    "duration": 16,
    "start_time": "2022-02-15T15:01:07.111Z"
   },
   {
    "duration": 187,
    "start_time": "2022-02-15T15:01:07.129Z"
   },
   {
    "duration": 54,
    "start_time": "2022-02-15T15:01:07.318Z"
   },
   {
    "duration": 377,
    "start_time": "2022-02-15T15:01:14.095Z"
   },
   {
    "duration": 227,
    "start_time": "2022-02-15T15:01:34.449Z"
   },
   {
    "duration": 241,
    "start_time": "2022-02-15T15:01:39.162Z"
   },
   {
    "duration": 64,
    "start_time": "2022-02-15T15:02:48.651Z"
   },
   {
    "duration": 20,
    "start_time": "2022-02-15T15:02:55.751Z"
   },
   {
    "duration": 19,
    "start_time": "2022-02-15T15:03:44.768Z"
   },
   {
    "duration": 21,
    "start_time": "2022-02-15T15:03:54.511Z"
   },
   {
    "duration": 171,
    "start_time": "2022-02-15T15:04:20.545Z"
   },
   {
    "duration": 86,
    "start_time": "2022-02-15T15:04:57.153Z"
   },
   {
    "duration": 33,
    "start_time": "2022-02-15T15:05:16.525Z"
   },
   {
    "duration": 281,
    "start_time": "2022-02-15T15:05:41.948Z"
   },
   {
    "duration": 244,
    "start_time": "2022-02-15T15:05:54.734Z"
   },
   {
    "duration": 211,
    "start_time": "2022-02-15T15:06:37.362Z"
   },
   {
    "duration": 287,
    "start_time": "2022-02-15T15:06:55.803Z"
   },
   {
    "duration": 27,
    "start_time": "2022-02-15T15:07:58.022Z"
   },
   {
    "duration": 27,
    "start_time": "2022-02-15T15:08:13.084Z"
   },
   {
    "duration": 29,
    "start_time": "2022-02-15T15:08:22.347Z"
   },
   {
    "duration": 41,
    "start_time": "2022-02-15T15:08:43.409Z"
   },
   {
    "duration": 3,
    "start_time": "2022-02-15T15:09:11.236Z"
   },
   {
    "duration": 189,
    "start_time": "2022-02-15T15:09:11.242Z"
   },
   {
    "duration": 49,
    "start_time": "2022-02-15T15:09:11.433Z"
   },
   {
    "duration": 179,
    "start_time": "2022-02-15T15:09:11.484Z"
   },
   {
    "duration": 52,
    "start_time": "2022-02-15T15:09:11.666Z"
   },
   {
    "duration": 99,
    "start_time": "2022-02-15T15:09:11.720Z"
   },
   {
    "duration": 21,
    "start_time": "2022-02-15T15:09:11.822Z"
   },
   {
    "duration": 22,
    "start_time": "2022-02-15T15:09:11.845Z"
   },
   {
    "duration": 41,
    "start_time": "2022-02-15T15:09:11.868Z"
   },
   {
    "duration": 7,
    "start_time": "2022-02-15T15:09:11.911Z"
   },
   {
    "duration": 14,
    "start_time": "2022-02-15T15:09:11.920Z"
   },
   {
    "duration": 194,
    "start_time": "2022-02-15T15:09:11.936Z"
   },
   {
    "duration": 60,
    "start_time": "2022-02-15T15:09:12.132Z"
   },
   {
    "duration": 54,
    "start_time": "2022-02-15T15:09:12.194Z"
   },
   {
    "duration": 31,
    "start_time": "2022-02-15T15:09:12.250Z"
   },
   {
    "duration": 68,
    "start_time": "2022-02-15T15:09:12.283Z"
   },
   {
    "duration": 23,
    "start_time": "2022-02-15T15:09:12.353Z"
   },
   {
    "duration": 10,
    "start_time": "2022-02-15T15:09:12.378Z"
   },
   {
    "duration": 914,
    "start_time": "2022-02-15T15:09:12.409Z"
   },
   {
    "duration": 9,
    "start_time": "2022-02-15T15:09:13.325Z"
   },
   {
    "duration": 331,
    "start_time": "2022-02-15T15:09:13.336Z"
   },
   {
    "duration": 4,
    "start_time": "2022-02-15T15:09:13.669Z"
   },
   {
    "duration": 314,
    "start_time": "2022-02-15T15:09:13.675Z"
   },
   {
    "duration": 341,
    "start_time": "2022-02-15T15:09:13.991Z"
   },
   {
    "duration": 7,
    "start_time": "2022-02-15T15:09:14.334Z"
   },
   {
    "duration": 302,
    "start_time": "2022-02-15T15:09:14.343Z"
   },
   {
    "duration": 317,
    "start_time": "2022-02-15T15:09:14.647Z"
   },
   {
    "duration": 6,
    "start_time": "2022-02-15T15:09:14.966Z"
   },
   {
    "duration": 306,
    "start_time": "2022-02-15T15:09:14.974Z"
   },
   {
    "duration": 5,
    "start_time": "2022-02-15T15:09:15.282Z"
   },
   {
    "duration": 21,
    "start_time": "2022-02-15T15:09:15.289Z"
   },
   {
    "duration": 5,
    "start_time": "2022-02-15T15:09:15.312Z"
   },
   {
    "duration": 14,
    "start_time": "2022-02-15T15:09:15.319Z"
   },
   {
    "duration": 53,
    "start_time": "2022-02-15T15:13:52.551Z"
   },
   {
    "duration": 1105,
    "start_time": "2022-02-15T16:21:39.746Z"
   },
   {
    "duration": 173,
    "start_time": "2022-02-15T16:21:40.853Z"
   },
   {
    "duration": 44,
    "start_time": "2022-02-15T16:21:41.029Z"
   },
   {
    "duration": 146,
    "start_time": "2022-02-15T16:21:41.075Z"
   },
   {
    "duration": 39,
    "start_time": "2022-02-15T16:21:41.223Z"
   },
   {
    "duration": 86,
    "start_time": "2022-02-15T16:21:41.264Z"
   },
   {
    "duration": 19,
    "start_time": "2022-02-15T16:21:41.353Z"
   },
   {
    "duration": 18,
    "start_time": "2022-02-15T16:21:41.375Z"
   },
   {
    "duration": 36,
    "start_time": "2022-02-15T16:21:41.394Z"
   },
   {
    "duration": 7,
    "start_time": "2022-02-15T16:21:41.431Z"
   },
   {
    "duration": 7,
    "start_time": "2022-02-15T16:21:41.440Z"
   },
   {
    "duration": 162,
    "start_time": "2022-02-15T16:21:41.449Z"
   },
   {
    "duration": 63,
    "start_time": "2022-02-15T16:21:41.613Z"
   },
   {
    "duration": 38,
    "start_time": "2022-02-15T16:21:41.678Z"
   },
   {
    "duration": 35,
    "start_time": "2022-02-15T16:21:41.717Z"
   },
   {
    "duration": 47,
    "start_time": "2022-02-15T16:21:41.753Z"
   },
   {
    "duration": 41,
    "start_time": "2022-02-15T16:21:41.801Z"
   },
   {
    "duration": 7,
    "start_time": "2022-02-15T16:21:41.843Z"
   },
   {
    "duration": 732,
    "start_time": "2022-02-15T16:21:41.852Z"
   },
   {
    "duration": 7,
    "start_time": "2022-02-15T16:21:42.586Z"
   },
   {
    "duration": 276,
    "start_time": "2022-02-15T16:21:42.594Z"
   },
   {
    "duration": 4,
    "start_time": "2022-02-15T16:21:42.871Z"
   },
   {
    "duration": 263,
    "start_time": "2022-02-15T16:21:42.878Z"
   },
   {
    "duration": 272,
    "start_time": "2022-02-15T16:21:43.142Z"
   },
   {
    "duration": 5,
    "start_time": "2022-02-15T16:21:43.415Z"
   },
   {
    "duration": 246,
    "start_time": "2022-02-15T16:21:43.430Z"
   },
   {
    "duration": 264,
    "start_time": "2022-02-15T16:21:43.677Z"
   },
   {
    "duration": 4,
    "start_time": "2022-02-15T16:21:43.943Z"
   },
   {
    "duration": 258,
    "start_time": "2022-02-15T16:21:43.949Z"
   },
   {
    "duration": 4,
    "start_time": "2022-02-15T16:21:44.209Z"
   },
   {
    "duration": 19,
    "start_time": "2022-02-15T16:21:44.215Z"
   },
   {
    "duration": 6,
    "start_time": "2022-02-15T16:21:44.236Z"
   },
   {
    "duration": 10,
    "start_time": "2022-02-15T16:21:44.243Z"
   },
   {
    "duration": 353,
    "start_time": "2022-02-17T10:24:30.607Z"
   },
   {
    "duration": 1391,
    "start_time": "2022-02-17T10:24:34.752Z"
   },
   {
    "duration": 247,
    "start_time": "2022-02-17T10:24:36.146Z"
   },
   {
    "duration": 78,
    "start_time": "2022-02-17T10:24:36.396Z"
   },
   {
    "duration": 211,
    "start_time": "2022-02-17T10:24:36.477Z"
   },
   {
    "duration": 69,
    "start_time": "2022-02-17T10:24:36.690Z"
   },
   {
    "duration": 24,
    "start_time": "2022-02-17T10:24:36.762Z"
   },
   {
    "duration": 22,
    "start_time": "2022-02-17T10:24:39.260Z"
   },
   {
    "duration": 14,
    "start_time": "2022-02-17T10:28:09.657Z"
   },
   {
    "duration": 13,
    "start_time": "2022-02-17T10:28:24.225Z"
   },
   {
    "duration": 15,
    "start_time": "2022-02-17T10:29:11.968Z"
   },
   {
    "duration": 25,
    "start_time": "2022-02-17T10:30:54.457Z"
   },
   {
    "duration": 4,
    "start_time": "2022-02-17T10:45:09.831Z"
   },
   {
    "duration": 258,
    "start_time": "2022-02-17T10:45:09.838Z"
   },
   {
    "duration": 66,
    "start_time": "2022-02-17T10:45:10.211Z"
   },
   {
    "duration": 223,
    "start_time": "2022-02-17T10:45:10.279Z"
   },
   {
    "duration": 70,
    "start_time": "2022-02-17T10:45:10.505Z"
   },
   {
    "duration": 24,
    "start_time": "2022-02-17T10:45:10.579Z"
   },
   {
    "duration": 150,
    "start_time": "2022-02-17T10:45:10.605Z"
   },
   {
    "duration": 30,
    "start_time": "2022-02-17T10:45:10.758Z"
   },
   {
    "duration": 31,
    "start_time": "2022-02-17T10:45:10.791Z"
   },
   {
    "duration": 42,
    "start_time": "2022-02-17T10:45:10.848Z"
   },
   {
    "duration": 9,
    "start_time": "2022-02-17T10:45:10.895Z"
   },
   {
    "duration": 10,
    "start_time": "2022-02-17T10:45:10.907Z"
   },
   {
    "duration": 280,
    "start_time": "2022-02-17T10:45:10.919Z"
   },
   {
    "duration": 100,
    "start_time": "2022-02-17T10:45:11.202Z"
   },
   {
    "duration": 83,
    "start_time": "2022-02-17T10:45:11.306Z"
   },
   {
    "duration": 39,
    "start_time": "2022-02-17T10:45:11.392Z"
   },
   {
    "duration": 79,
    "start_time": "2022-02-17T10:45:11.435Z"
   },
   {
    "duration": 58,
    "start_time": "2022-02-17T10:45:11.517Z"
   },
   {
    "duration": 13,
    "start_time": "2022-02-17T10:45:11.578Z"
   },
   {
    "duration": 9,
    "start_time": "2022-02-17T10:48:05.934Z"
   },
   {
    "duration": 11,
    "start_time": "2022-02-17T10:48:26.187Z"
   },
   {
    "duration": 7,
    "start_time": "2022-02-17T10:48:42.348Z"
   },
   {
    "duration": 13,
    "start_time": "2022-02-17T10:48:48.390Z"
   },
   {
    "duration": 15,
    "start_time": "2022-02-17T10:49:56.828Z"
   },
   {
    "duration": 1672,
    "start_time": "2022-02-17T10:50:30.598Z"
   },
   {
    "duration": 596,
    "start_time": "2022-02-17T10:57:10.581Z"
   },
   {
    "duration": 729,
    "start_time": "2022-02-17T10:57:53.421Z"
   },
   {
    "duration": 628,
    "start_time": "2022-02-17T10:58:52.989Z"
   },
   {
    "duration": 635,
    "start_time": "2022-02-17T10:59:04.347Z"
   },
   {
    "duration": 674,
    "start_time": "2022-02-17T11:00:11.205Z"
   },
   {
    "duration": 723,
    "start_time": "2022-02-17T11:02:13.448Z"
   },
   {
    "duration": 641,
    "start_time": "2022-02-17T11:02:21.611Z"
   },
   {
    "duration": 260,
    "start_time": "2022-02-17T11:05:13.297Z"
   },
   {
    "duration": 6074,
    "start_time": "2022-02-17T11:05:34.257Z"
   },
   {
    "duration": 8442,
    "start_time": "2022-02-17T11:05:43.244Z"
   },
   {
    "duration": 4,
    "start_time": "2022-02-17T11:05:58.860Z"
   },
   {
    "duration": 253,
    "start_time": "2022-02-17T11:05:58.867Z"
   },
   {
    "duration": 77,
    "start_time": "2022-02-17T11:05:59.124Z"
   },
   {
    "duration": 207,
    "start_time": "2022-02-17T11:05:59.204Z"
   },
   {
    "duration": 76,
    "start_time": "2022-02-17T11:05:59.414Z"
   },
   {
    "duration": 23,
    "start_time": "2022-02-17T11:05:59.493Z"
   },
   {
    "duration": 147,
    "start_time": "2022-02-17T11:05:59.519Z"
   },
   {
    "duration": 26,
    "start_time": "2022-02-17T11:05:59.669Z"
   },
   {
    "duration": 51,
    "start_time": "2022-02-17T11:05:59.699Z"
   },
   {
    "duration": 51,
    "start_time": "2022-02-17T11:05:59.754Z"
   },
   {
    "duration": 8,
    "start_time": "2022-02-17T11:05:59.808Z"
   },
   {
    "duration": 28,
    "start_time": "2022-02-17T11:05:59.819Z"
   },
   {
    "duration": 255,
    "start_time": "2022-02-17T11:05:59.850Z"
   },
   {
    "duration": 102,
    "start_time": "2022-02-17T11:06:00.108Z"
   },
   {
    "duration": 85,
    "start_time": "2022-02-17T11:06:00.213Z"
   },
   {
    "duration": 56,
    "start_time": "2022-02-17T11:06:00.302Z"
   },
   {
    "duration": 63,
    "start_time": "2022-02-17T11:06:00.361Z"
   },
   {
    "duration": 52,
    "start_time": "2022-02-17T11:06:00.427Z"
   },
   {
    "duration": 12,
    "start_time": "2022-02-17T11:06:00.481Z"
   },
   {
    "duration": 20,
    "start_time": "2022-02-17T11:06:00.496Z"
   },
   {
    "duration": 1622,
    "start_time": "2022-02-17T11:06:00.518Z"
   },
   {
    "duration": 15,
    "start_time": "2022-02-17T11:06:02.150Z"
   },
   {
    "duration": 8971,
    "start_time": "2022-02-17T11:06:04.341Z"
   },
   {
    "duration": 614,
    "start_time": "2022-02-17T11:06:50.048Z"
   },
   {
    "duration": 600,
    "start_time": "2022-02-17T11:07:30.132Z"
   },
   {
    "duration": 598,
    "start_time": "2022-02-17T11:07:40.431Z"
   },
   {
    "duration": 716,
    "start_time": "2022-02-17T11:07:57.210Z"
   },
   {
    "duration": 686,
    "start_time": "2022-02-17T11:08:26.593Z"
   },
   {
    "duration": 631,
    "start_time": "2022-02-17T11:09:51.705Z"
   },
   {
    "duration": 1442,
    "start_time": "2022-02-17T11:11:51.374Z"
   },
   {
    "duration": 307,
    "start_time": "2022-02-17T11:11:52.820Z"
   },
   {
    "duration": 95,
    "start_time": "2022-02-17T11:11:53.131Z"
   },
   {
    "duration": 230,
    "start_time": "2022-02-17T11:11:53.229Z"
   },
   {
    "duration": 56,
    "start_time": "2022-02-17T11:11:53.461Z"
   },
   {
    "duration": 56,
    "start_time": "2022-02-17T11:11:53.520Z"
   },
   {
    "duration": 130,
    "start_time": "2022-02-17T11:11:53.578Z"
   },
   {
    "duration": 40,
    "start_time": "2022-02-17T11:11:53.712Z"
   },
   {
    "duration": 36,
    "start_time": "2022-02-17T11:11:53.756Z"
   },
   {
    "duration": 50,
    "start_time": "2022-02-17T11:11:53.795Z"
   },
   {
    "duration": 13,
    "start_time": "2022-02-17T11:11:53.848Z"
   },
   {
    "duration": 17,
    "start_time": "2022-02-17T11:11:53.864Z"
   },
   {
    "duration": 248,
    "start_time": "2022-02-17T11:11:53.884Z"
   },
   {
    "duration": 97,
    "start_time": "2022-02-17T11:11:54.135Z"
   },
   {
    "duration": 80,
    "start_time": "2022-02-17T11:11:54.248Z"
   },
   {
    "duration": 59,
    "start_time": "2022-02-17T11:11:54.331Z"
   },
   {
    "duration": 94,
    "start_time": "2022-02-17T11:11:54.393Z"
   },
   {
    "duration": 39,
    "start_time": "2022-02-17T11:11:54.490Z"
   },
   {
    "duration": 16,
    "start_time": "2022-02-17T11:11:54.548Z"
   },
   {
    "duration": 24,
    "start_time": "2022-02-17T11:11:54.567Z"
   },
   {
    "duration": 1691,
    "start_time": "2022-02-17T11:11:54.594Z"
   },
   {
    "duration": 12,
    "start_time": "2022-02-17T11:11:56.288Z"
   },
   {
    "duration": 552,
    "start_time": "2022-02-17T11:11:56.309Z"
   },
   {
    "duration": 7,
    "start_time": "2022-02-17T11:11:56.865Z"
   },
   {
    "duration": 636,
    "start_time": "2022-02-17T11:11:56.875Z"
   },
   {
    "duration": 675,
    "start_time": "2022-02-17T11:11:57.514Z"
   },
   {
    "duration": 523,
    "start_time": "2022-02-17T11:11:58.191Z"
   },
   {
    "duration": 7,
    "start_time": "2022-02-17T11:11:58.717Z"
   },
   {
    "duration": 479,
    "start_time": "2022-02-17T11:11:58.726Z"
   },
   {
    "duration": 700,
    "start_time": "2022-02-17T11:11:59.208Z"
   },
   {
    "duration": 545,
    "start_time": "2022-02-17T11:11:59.911Z"
   },
   {
    "duration": 9,
    "start_time": "2022-02-17T11:12:00.459Z"
   },
   {
    "duration": 472,
    "start_time": "2022-02-17T11:12:00.471Z"
   },
   {
    "duration": 7,
    "start_time": "2022-02-17T11:12:00.948Z"
   },
   {
    "duration": 637,
    "start_time": "2022-02-17T11:12:00.958Z"
   },
   {
    "duration": 14,
    "start_time": "2022-02-17T11:12:01.598Z"
   },
   {
    "duration": 23,
    "start_time": "2022-02-17T11:12:01.614Z"
   },
   {
    "duration": 16,
    "start_time": "2022-02-17T11:12:01.649Z"
   }
  ],
  "kernelspec": {
   "display_name": "Python 3",
   "language": "python",
   "name": "python3"
  },
  "language_info": {
   "codemirror_mode": {
    "name": "ipython",
    "version": 3
   },
   "file_extension": ".py",
   "mimetype": "text/x-python",
   "name": "python",
   "nbconvert_exporter": "python",
   "pygments_lexer": "ipython3",
   "version": "3.8.8"
  },
  "toc": {
   "base_numbering": 1,
   "nav_menu": {},
   "number_sections": true,
   "sideBar": true,
   "skip_h1_title": true,
   "title_cell": "Содержание",
   "title_sidebar": "Contents",
   "toc_cell": true,
   "toc_position": {},
   "toc_section_display": true,
   "toc_window_display": true
  }
 },
 "nbformat": 4,
 "nbformat_minor": 5
}
