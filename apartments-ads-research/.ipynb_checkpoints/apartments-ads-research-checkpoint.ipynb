{
 "cells": [
  {
   "cell_type": "markdown",
   "metadata": {
    "toc": true
   },
   "source": [
    "<h1>Содержание<span class=\"tocSkip\"></span></h1>\n",
    "<div class=\"toc\"><ul class=\"toc-item\"><li><span><a href=\"#Изучение-данных-из-файла\" data-toc-modified-id=\"Изучение-данных-из-файла-1\"><span class=\"toc-item-num\">1&nbsp;&nbsp;</span>Изучение данных из файла</a></span><ul class=\"toc-item\"><li><span><a href=\"#Вывод\" data-toc-modified-id=\"Вывод-1.1\"><span class=\"toc-item-num\">1.1&nbsp;&nbsp;</span>Вывод</a></span></li></ul></li><li><span><a href=\"#Предобработка-данных\" data-toc-modified-id=\"Предобработка-данных-2\"><span class=\"toc-item-num\">2&nbsp;&nbsp;</span>Предобработка данных</a></span><ul class=\"toc-item\"><li><span><a href=\"#Заполнение-пропусков\" data-toc-modified-id=\"Заполнение-пропусков-2.1\"><span class=\"toc-item-num\">2.1&nbsp;&nbsp;</span>Заполнение пропусков</a></span></li><li><span><a href=\"#Приведение-к-нужным-типам\" data-toc-modified-id=\"Приведение-к-нужным-типам-2.2\"><span class=\"toc-item-num\">2.2&nbsp;&nbsp;</span>Приведение к нужным типам</a></span></li><li><span><a href=\"#Устранение-дубликатов\" data-toc-modified-id=\"Устранение-дубликатов-2.3\"><span class=\"toc-item-num\">2.3&nbsp;&nbsp;</span>Устранение дубликатов</a></span></li><li><span><a href=\"#Вывод\" data-toc-modified-id=\"Вывод-2.4\"><span class=\"toc-item-num\">2.4&nbsp;&nbsp;</span>Вывод</a></span></li></ul></li><li><span><a href=\"#Расчёты-и-добавление-результатов-в-таблицу\" data-toc-modified-id=\"Расчёты-и-добавление-результатов-в-таблицу-3\"><span class=\"toc-item-num\">3&nbsp;&nbsp;</span>Расчёты и добавление результатов в таблицу</a></span><ul class=\"toc-item\"><li><span><a href=\"#Цена-квадратного-метра\" data-toc-modified-id=\"Цена-квадратного-метра-3.1\"><span class=\"toc-item-num\">3.1&nbsp;&nbsp;</span>Цена квадратного метра</a></span></li><li><span><a href=\"#Дата\" data-toc-modified-id=\"Дата-3.2\"><span class=\"toc-item-num\">3.2&nbsp;&nbsp;</span>Дата</a></span></li><li><span><a href=\"#Этаж\" data-toc-modified-id=\"Этаж-3.3\"><span class=\"toc-item-num\">3.3&nbsp;&nbsp;</span>Этаж</a></span></li><li><span><a href=\"#Соотношение-площадей\" data-toc-modified-id=\"Соотношение-площадей-3.4\"><span class=\"toc-item-num\">3.4&nbsp;&nbsp;</span>Соотношение площадей</a></span></li><li><span><a href=\"#Вывод\" data-toc-modified-id=\"Вывод-3.5\"><span class=\"toc-item-num\">3.5&nbsp;&nbsp;</span>Вывод</a></span></li></ul></li><li><span><a href=\"#Исследовательский-анализ-данных\" data-toc-modified-id=\"Исследовательский-анализ-данных-4\"><span class=\"toc-item-num\">4&nbsp;&nbsp;</span>Исследовательский анализ данных</a></span><ul class=\"toc-item\"><li><span><a href=\"#Изучение-основных-параметров\" data-toc-modified-id=\"Изучение-основных-параметров-4.1\"><span class=\"toc-item-num\">4.1&nbsp;&nbsp;</span>Изучение основных параметров</a></span><ul class=\"toc-item\"><li><span><a href=\"#Площадь\" data-toc-modified-id=\"Площадь-4.1.1\"><span class=\"toc-item-num\">4.1.1&nbsp;&nbsp;</span>Площадь</a></span></li><li><span><a href=\"#Цена\" data-toc-modified-id=\"Цена-4.1.2\"><span class=\"toc-item-num\">4.1.2&nbsp;&nbsp;</span>Цена</a></span></li><li><span><a href=\"#Комнаты\" data-toc-modified-id=\"Комнаты-4.1.3\"><span class=\"toc-item-num\">4.1.3&nbsp;&nbsp;</span>Комнаты</a></span></li><li><span><a href=\"#Потолки\" data-toc-modified-id=\"Потолки-4.1.4\"><span class=\"toc-item-num\">4.1.4&nbsp;&nbsp;</span>Потолки</a></span></li><li><span><a href=\"#Вывод\" data-toc-modified-id=\"Вывод-4.1.5\"><span class=\"toc-item-num\">4.1.5&nbsp;&nbsp;</span>Вывод</a></span></li></ul></li><li><span><a href=\"#Время-продажи-квартиры\" data-toc-modified-id=\"Время-продажи-квартиры-4.2\"><span class=\"toc-item-num\">4.2&nbsp;&nbsp;</span>Время продажи квартиры</a></span><ul class=\"toc-item\"><li><span><a href=\"#Вывод\" data-toc-modified-id=\"Вывод-4.2.1\"><span class=\"toc-item-num\">4.2.1&nbsp;&nbsp;</span>Вывод</a></span></li></ul></li><li><span><a href=\"#Влияние-разных-факторов-на-стоимость-квартиры\" data-toc-modified-id=\"Влияние-разных-факторов-на-стоимость-квартиры-4.3\"><span class=\"toc-item-num\">4.3&nbsp;&nbsp;</span>Влияние разных факторов на стоимость квартиры</a></span><ul class=\"toc-item\"><li><span><a href=\"#Вывод\" data-toc-modified-id=\"Вывод-4.3.1\"><span class=\"toc-item-num\">4.3.1&nbsp;&nbsp;</span>Вывод</a></span></li></ul></li><li><span><a href=\"#Населенные-пункты-лидеры\" data-toc-modified-id=\"Населенные-пункты-лидеры-4.4\"><span class=\"toc-item-num\">4.4&nbsp;&nbsp;</span>Населенные пункты-лидеры</a></span><ul class=\"toc-item\"><li><span><a href=\"#Вывод\" data-toc-modified-id=\"Вывод-4.4.1\"><span class=\"toc-item-num\">4.4.1&nbsp;&nbsp;</span>Вывод</a></span></li></ul></li><li><span><a href=\"#Определение-зоны-центра-Санкт-Петербурга\" data-toc-modified-id=\"Определение-зоны-центра-Санкт-Петербурга-4.5\"><span class=\"toc-item-num\">4.5&nbsp;&nbsp;</span>Определение зоны центра Санкт-Петербурга</a></span><ul class=\"toc-item\"><li><span><a href=\"#Вывод\" data-toc-modified-id=\"Вывод-4.5.1\"><span class=\"toc-item-num\">4.5.1&nbsp;&nbsp;</span>Вывод</a></span></li></ul></li><li><span><a href=\"#Анализ-квартир-в-центре\" data-toc-modified-id=\"Анализ-квартир-в-центре-4.6\"><span class=\"toc-item-num\">4.6&nbsp;&nbsp;</span>Анализ квартир в центре</a></span><ul class=\"toc-item\"><li><span><a href=\"#Площадь\" data-toc-modified-id=\"Площадь-4.6.1\"><span class=\"toc-item-num\">4.6.1&nbsp;&nbsp;</span>Площадь</a></span></li><li><span><a href=\"#Цена\" data-toc-modified-id=\"Цена-4.6.2\"><span class=\"toc-item-num\">4.6.2&nbsp;&nbsp;</span>Цена</a></span></li><li><span><a href=\"#Комнаты\" data-toc-modified-id=\"Комнаты-4.6.3\"><span class=\"toc-item-num\">4.6.3&nbsp;&nbsp;</span>Комнаты</a></span></li><li><span><a href=\"#Потолки\" data-toc-modified-id=\"Потолки-4.6.4\"><span class=\"toc-item-num\">4.6.4&nbsp;&nbsp;</span>Потолки</a></span></li><li><span><a href=\"#Влияние-различных-факторов-на-цену\" data-toc-modified-id=\"Влияние-различных-факторов-на-цену-4.6.5\"><span class=\"toc-item-num\">4.6.5&nbsp;&nbsp;</span>Влияние различных факторов на цену</a></span></li></ul></li></ul></li><li><span><a href=\"#Общий-вывод\" data-toc-modified-id=\"Общий-вывод-5\"><span class=\"toc-item-num\">5&nbsp;&nbsp;</span>Общий вывод</a></span></li></ul></div>"
   ]
  },
  {
   "cell_type": "markdown",
   "metadata": {},
   "source": [
    "# Исследование объявлений о продаже квартир\n",
    "\n",
    "В нашем распоряжении данные сервиса Яндекс.Недвижимость — архив объявлений о продаже квартир в Санкт-Петербурге и соседних населённых пунктах за несколько лет. Нужно научиться определять рыночную стоимость объектов недвижимости. Наша задача — установить параметры. Это позволит построить автоматизированную систему: она отследит аномалии и мошенническую деятельность. \n",
    "\n",
    "По каждой квартире на продажу доступны два вида данных. Первые вписаны пользователем, вторые получены автоматически на основе картографических данных. Например, расстояние до центра, аэропорта, ближайшего парка и водоёма. "
   ]
  },
  {
   "cell_type": "markdown",
   "metadata": {},
   "source": [
    "## Изучение данных из файла"
   ]
  },
  {
   "cell_type": "markdown",
   "metadata": {},
   "source": [
    "Для начала импортируем нужные библиотеки:"
   ]
  },
  {
   "cell_type": "code",
   "execution_count": 82,
   "metadata": {},
   "outputs": [],
   "source": [
    "import pandas as pd\n",
    "import matplotlib.pyplot as plt\n",
    "import numpy as np\n",
    "import seaborn as sns"
   ]
  },
  {
   "cell_type": "markdown",
   "metadata": {},
   "source": [
    "Откроем файл и посмотрим на первые 10 строк"
   ]
  },
  {
   "cell_type": "code",
   "execution_count": 83,
   "metadata": {},
   "outputs": [
    {
     "data": {
      "text/html": [
       "<div>\n",
       "<style scoped>\n",
       "    .dataframe tbody tr th:only-of-type {\n",
       "        vertical-align: middle;\n",
       "    }\n",
       "\n",
       "    .dataframe tbody tr th {\n",
       "        vertical-align: top;\n",
       "    }\n",
       "\n",
       "    .dataframe thead th {\n",
       "        text-align: right;\n",
       "    }\n",
       "</style>\n",
       "<table border=\"1\" class=\"dataframe\">\n",
       "  <thead>\n",
       "    <tr style=\"text-align: right;\">\n",
       "      <th></th>\n",
       "      <th>total_images</th>\n",
       "      <th>last_price</th>\n",
       "      <th>total_area</th>\n",
       "      <th>first_day_exposition</th>\n",
       "      <th>rooms</th>\n",
       "      <th>ceiling_height</th>\n",
       "      <th>floors_total</th>\n",
       "      <th>living_area</th>\n",
       "      <th>floor</th>\n",
       "      <th>is_apartment</th>\n",
       "      <th>...</th>\n",
       "      <th>kitchen_area</th>\n",
       "      <th>balcony</th>\n",
       "      <th>locality_name</th>\n",
       "      <th>airports_nearest</th>\n",
       "      <th>cityCenters_nearest</th>\n",
       "      <th>parks_around3000</th>\n",
       "      <th>parks_nearest</th>\n",
       "      <th>ponds_around3000</th>\n",
       "      <th>ponds_nearest</th>\n",
       "      <th>days_exposition</th>\n",
       "    </tr>\n",
       "  </thead>\n",
       "  <tbody>\n",
       "    <tr>\n",
       "      <td>0</td>\n",
       "      <td>20</td>\n",
       "      <td>13000000.0</td>\n",
       "      <td>108.00</td>\n",
       "      <td>2019-03-07T00:00:00</td>\n",
       "      <td>3</td>\n",
       "      <td>2.70</td>\n",
       "      <td>16.0</td>\n",
       "      <td>51.00</td>\n",
       "      <td>8</td>\n",
       "      <td>NaN</td>\n",
       "      <td>...</td>\n",
       "      <td>25.00</td>\n",
       "      <td>NaN</td>\n",
       "      <td>Санкт-Петербург</td>\n",
       "      <td>18863.0</td>\n",
       "      <td>16028.0</td>\n",
       "      <td>1.0</td>\n",
       "      <td>482.0</td>\n",
       "      <td>2.0</td>\n",
       "      <td>755.0</td>\n",
       "      <td>NaN</td>\n",
       "    </tr>\n",
       "    <tr>\n",
       "      <td>1</td>\n",
       "      <td>7</td>\n",
       "      <td>3350000.0</td>\n",
       "      <td>40.40</td>\n",
       "      <td>2018-12-04T00:00:00</td>\n",
       "      <td>1</td>\n",
       "      <td>NaN</td>\n",
       "      <td>11.0</td>\n",
       "      <td>18.60</td>\n",
       "      <td>1</td>\n",
       "      <td>NaN</td>\n",
       "      <td>...</td>\n",
       "      <td>11.00</td>\n",
       "      <td>2.0</td>\n",
       "      <td>посёлок Шушары</td>\n",
       "      <td>12817.0</td>\n",
       "      <td>18603.0</td>\n",
       "      <td>0.0</td>\n",
       "      <td>NaN</td>\n",
       "      <td>0.0</td>\n",
       "      <td>NaN</td>\n",
       "      <td>81.0</td>\n",
       "    </tr>\n",
       "    <tr>\n",
       "      <td>2</td>\n",
       "      <td>10</td>\n",
       "      <td>5196000.0</td>\n",
       "      <td>56.00</td>\n",
       "      <td>2015-08-20T00:00:00</td>\n",
       "      <td>2</td>\n",
       "      <td>NaN</td>\n",
       "      <td>5.0</td>\n",
       "      <td>34.30</td>\n",
       "      <td>4</td>\n",
       "      <td>NaN</td>\n",
       "      <td>...</td>\n",
       "      <td>8.30</td>\n",
       "      <td>0.0</td>\n",
       "      <td>Санкт-Петербург</td>\n",
       "      <td>21741.0</td>\n",
       "      <td>13933.0</td>\n",
       "      <td>1.0</td>\n",
       "      <td>90.0</td>\n",
       "      <td>2.0</td>\n",
       "      <td>574.0</td>\n",
       "      <td>558.0</td>\n",
       "    </tr>\n",
       "    <tr>\n",
       "      <td>3</td>\n",
       "      <td>0</td>\n",
       "      <td>64900000.0</td>\n",
       "      <td>159.00</td>\n",
       "      <td>2015-07-24T00:00:00</td>\n",
       "      <td>3</td>\n",
       "      <td>NaN</td>\n",
       "      <td>14.0</td>\n",
       "      <td>NaN</td>\n",
       "      <td>9</td>\n",
       "      <td>NaN</td>\n",
       "      <td>...</td>\n",
       "      <td>NaN</td>\n",
       "      <td>0.0</td>\n",
       "      <td>Санкт-Петербург</td>\n",
       "      <td>28098.0</td>\n",
       "      <td>6800.0</td>\n",
       "      <td>2.0</td>\n",
       "      <td>84.0</td>\n",
       "      <td>3.0</td>\n",
       "      <td>234.0</td>\n",
       "      <td>424.0</td>\n",
       "    </tr>\n",
       "    <tr>\n",
       "      <td>4</td>\n",
       "      <td>2</td>\n",
       "      <td>10000000.0</td>\n",
       "      <td>100.00</td>\n",
       "      <td>2018-06-19T00:00:00</td>\n",
       "      <td>2</td>\n",
       "      <td>3.03</td>\n",
       "      <td>14.0</td>\n",
       "      <td>32.00</td>\n",
       "      <td>13</td>\n",
       "      <td>NaN</td>\n",
       "      <td>...</td>\n",
       "      <td>41.00</td>\n",
       "      <td>NaN</td>\n",
       "      <td>Санкт-Петербург</td>\n",
       "      <td>31856.0</td>\n",
       "      <td>8098.0</td>\n",
       "      <td>2.0</td>\n",
       "      <td>112.0</td>\n",
       "      <td>1.0</td>\n",
       "      <td>48.0</td>\n",
       "      <td>121.0</td>\n",
       "    </tr>\n",
       "    <tr>\n",
       "      <td>5</td>\n",
       "      <td>10</td>\n",
       "      <td>2890000.0</td>\n",
       "      <td>30.40</td>\n",
       "      <td>2018-09-10T00:00:00</td>\n",
       "      <td>1</td>\n",
       "      <td>NaN</td>\n",
       "      <td>12.0</td>\n",
       "      <td>14.40</td>\n",
       "      <td>5</td>\n",
       "      <td>NaN</td>\n",
       "      <td>...</td>\n",
       "      <td>9.10</td>\n",
       "      <td>NaN</td>\n",
       "      <td>городской посёлок Янино-1</td>\n",
       "      <td>NaN</td>\n",
       "      <td>NaN</td>\n",
       "      <td>NaN</td>\n",
       "      <td>NaN</td>\n",
       "      <td>NaN</td>\n",
       "      <td>NaN</td>\n",
       "      <td>55.0</td>\n",
       "    </tr>\n",
       "    <tr>\n",
       "      <td>6</td>\n",
       "      <td>6</td>\n",
       "      <td>3700000.0</td>\n",
       "      <td>37.30</td>\n",
       "      <td>2017-11-02T00:00:00</td>\n",
       "      <td>1</td>\n",
       "      <td>NaN</td>\n",
       "      <td>26.0</td>\n",
       "      <td>10.60</td>\n",
       "      <td>6</td>\n",
       "      <td>NaN</td>\n",
       "      <td>...</td>\n",
       "      <td>14.40</td>\n",
       "      <td>1.0</td>\n",
       "      <td>посёлок Парголово</td>\n",
       "      <td>52996.0</td>\n",
       "      <td>19143.0</td>\n",
       "      <td>0.0</td>\n",
       "      <td>NaN</td>\n",
       "      <td>0.0</td>\n",
       "      <td>NaN</td>\n",
       "      <td>155.0</td>\n",
       "    </tr>\n",
       "    <tr>\n",
       "      <td>7</td>\n",
       "      <td>5</td>\n",
       "      <td>7915000.0</td>\n",
       "      <td>71.60</td>\n",
       "      <td>2019-04-18T00:00:00</td>\n",
       "      <td>2</td>\n",
       "      <td>NaN</td>\n",
       "      <td>24.0</td>\n",
       "      <td>NaN</td>\n",
       "      <td>22</td>\n",
       "      <td>NaN</td>\n",
       "      <td>...</td>\n",
       "      <td>18.90</td>\n",
       "      <td>2.0</td>\n",
       "      <td>Санкт-Петербург</td>\n",
       "      <td>23982.0</td>\n",
       "      <td>11634.0</td>\n",
       "      <td>0.0</td>\n",
       "      <td>NaN</td>\n",
       "      <td>0.0</td>\n",
       "      <td>NaN</td>\n",
       "      <td>NaN</td>\n",
       "    </tr>\n",
       "    <tr>\n",
       "      <td>8</td>\n",
       "      <td>20</td>\n",
       "      <td>2900000.0</td>\n",
       "      <td>33.16</td>\n",
       "      <td>2018-05-23T00:00:00</td>\n",
       "      <td>1</td>\n",
       "      <td>NaN</td>\n",
       "      <td>27.0</td>\n",
       "      <td>15.43</td>\n",
       "      <td>26</td>\n",
       "      <td>NaN</td>\n",
       "      <td>...</td>\n",
       "      <td>8.81</td>\n",
       "      <td>NaN</td>\n",
       "      <td>посёлок Мурино</td>\n",
       "      <td>NaN</td>\n",
       "      <td>NaN</td>\n",
       "      <td>NaN</td>\n",
       "      <td>NaN</td>\n",
       "      <td>NaN</td>\n",
       "      <td>NaN</td>\n",
       "      <td>189.0</td>\n",
       "    </tr>\n",
       "    <tr>\n",
       "      <td>9</td>\n",
       "      <td>18</td>\n",
       "      <td>5400000.0</td>\n",
       "      <td>61.00</td>\n",
       "      <td>2017-02-26T00:00:00</td>\n",
       "      <td>3</td>\n",
       "      <td>2.50</td>\n",
       "      <td>9.0</td>\n",
       "      <td>43.60</td>\n",
       "      <td>7</td>\n",
       "      <td>NaN</td>\n",
       "      <td>...</td>\n",
       "      <td>6.50</td>\n",
       "      <td>2.0</td>\n",
       "      <td>Санкт-Петербург</td>\n",
       "      <td>50898.0</td>\n",
       "      <td>15008.0</td>\n",
       "      <td>0.0</td>\n",
       "      <td>NaN</td>\n",
       "      <td>0.0</td>\n",
       "      <td>NaN</td>\n",
       "      <td>289.0</td>\n",
       "    </tr>\n",
       "  </tbody>\n",
       "</table>\n",
       "<p>10 rows × 22 columns</p>\n",
       "</div>"
      ],
      "text/plain": [
       "   total_images  last_price  total_area first_day_exposition  rooms  \\\n",
       "0            20  13000000.0      108.00  2019-03-07T00:00:00      3   \n",
       "1             7   3350000.0       40.40  2018-12-04T00:00:00      1   \n",
       "2            10   5196000.0       56.00  2015-08-20T00:00:00      2   \n",
       "3             0  64900000.0      159.00  2015-07-24T00:00:00      3   \n",
       "4             2  10000000.0      100.00  2018-06-19T00:00:00      2   \n",
       "5            10   2890000.0       30.40  2018-09-10T00:00:00      1   \n",
       "6             6   3700000.0       37.30  2017-11-02T00:00:00      1   \n",
       "7             5   7915000.0       71.60  2019-04-18T00:00:00      2   \n",
       "8            20   2900000.0       33.16  2018-05-23T00:00:00      1   \n",
       "9            18   5400000.0       61.00  2017-02-26T00:00:00      3   \n",
       "\n",
       "   ceiling_height  floors_total  living_area  floor is_apartment  ...  \\\n",
       "0            2.70          16.0        51.00      8          NaN  ...   \n",
       "1             NaN          11.0        18.60      1          NaN  ...   \n",
       "2             NaN           5.0        34.30      4          NaN  ...   \n",
       "3             NaN          14.0          NaN      9          NaN  ...   \n",
       "4            3.03          14.0        32.00     13          NaN  ...   \n",
       "5             NaN          12.0        14.40      5          NaN  ...   \n",
       "6             NaN          26.0        10.60      6          NaN  ...   \n",
       "7             NaN          24.0          NaN     22          NaN  ...   \n",
       "8             NaN          27.0        15.43     26          NaN  ...   \n",
       "9            2.50           9.0        43.60      7          NaN  ...   \n",
       "\n",
       "   kitchen_area  balcony              locality_name  airports_nearest  \\\n",
       "0         25.00      NaN            Санкт-Петербург           18863.0   \n",
       "1         11.00      2.0             посёлок Шушары           12817.0   \n",
       "2          8.30      0.0            Санкт-Петербург           21741.0   \n",
       "3           NaN      0.0            Санкт-Петербург           28098.0   \n",
       "4         41.00      NaN            Санкт-Петербург           31856.0   \n",
       "5          9.10      NaN  городской посёлок Янино-1               NaN   \n",
       "6         14.40      1.0          посёлок Парголово           52996.0   \n",
       "7         18.90      2.0            Санкт-Петербург           23982.0   \n",
       "8          8.81      NaN             посёлок Мурино               NaN   \n",
       "9          6.50      2.0            Санкт-Петербург           50898.0   \n",
       "\n",
       "  cityCenters_nearest  parks_around3000  parks_nearest  ponds_around3000  \\\n",
       "0             16028.0               1.0          482.0               2.0   \n",
       "1             18603.0               0.0            NaN               0.0   \n",
       "2             13933.0               1.0           90.0               2.0   \n",
       "3              6800.0               2.0           84.0               3.0   \n",
       "4              8098.0               2.0          112.0               1.0   \n",
       "5                 NaN               NaN            NaN               NaN   \n",
       "6             19143.0               0.0            NaN               0.0   \n",
       "7             11634.0               0.0            NaN               0.0   \n",
       "8                 NaN               NaN            NaN               NaN   \n",
       "9             15008.0               0.0            NaN               0.0   \n",
       "\n",
       "   ponds_nearest  days_exposition  \n",
       "0          755.0              NaN  \n",
       "1            NaN             81.0  \n",
       "2          574.0            558.0  \n",
       "3          234.0            424.0  \n",
       "4           48.0            121.0  \n",
       "5            NaN             55.0  \n",
       "6            NaN            155.0  \n",
       "7            NaN              NaN  \n",
       "8            NaN            189.0  \n",
       "9            NaN            289.0  \n",
       "\n",
       "[10 rows x 22 columns]"
      ]
     },
     "execution_count": 83,
     "metadata": {},
     "output_type": "execute_result"
    }
   ],
   "source": [
    "data = pd.read_csv('/datasets/real_estate_data.csv', sep='\\t')\n",
    "data.head(10)"
   ]
  },
  {
   "cell_type": "markdown",
   "metadata": {},
   "source": [
    "Посмотрим информацию о датасете"
   ]
  },
  {
   "cell_type": "code",
   "execution_count": 84,
   "metadata": {},
   "outputs": [
    {
     "name": "stdout",
     "output_type": "stream",
     "text": [
      "<class 'pandas.core.frame.DataFrame'>\n",
      "RangeIndex: 23699 entries, 0 to 23698\n",
      "Data columns (total 22 columns):\n",
      "total_images            23699 non-null int64\n",
      "last_price              23699 non-null float64\n",
      "total_area              23699 non-null float64\n",
      "first_day_exposition    23699 non-null object\n",
      "rooms                   23699 non-null int64\n",
      "ceiling_height          14504 non-null float64\n",
      "floors_total            23613 non-null float64\n",
      "living_area             21796 non-null float64\n",
      "floor                   23699 non-null int64\n",
      "is_apartment            2775 non-null object\n",
      "studio                  23699 non-null bool\n",
      "open_plan               23699 non-null bool\n",
      "kitchen_area            21421 non-null float64\n",
      "balcony                 12180 non-null float64\n",
      "locality_name           23650 non-null object\n",
      "airports_nearest        18157 non-null float64\n",
      "cityCenters_nearest     18180 non-null float64\n",
      "parks_around3000        18181 non-null float64\n",
      "parks_nearest           8079 non-null float64\n",
      "ponds_around3000        18181 non-null float64\n",
      "ponds_nearest           9110 non-null float64\n",
      "days_exposition         20518 non-null float64\n",
      "dtypes: bool(2), float64(14), int64(3), object(3)\n",
      "memory usage: 3.7+ MB\n"
     ]
    }
   ],
   "source": [
    "data.info()"
   ]
  },
  {
   "cell_type": "markdown",
   "metadata": {},
   "source": [
    "`first_day_exposition` нужно будет поменять в формат даты. Разобраться с пропусками в столбцах и тем, что они могут означать, так же проверить неявные пропуски. Количество этажей заменим на целые значенения -- все равно этаж квартиры у нас везде целый. `is_apartment` приведем к bool, а `days_exposition` -- к int."
   ]
  },
  {
   "cell_type": "markdown",
   "metadata": {},
   "source": [
    "### Вывод"
   ]
  },
  {
   "cell_type": "markdown",
   "metadata": {},
   "source": [
    "На первый взгляд данные выглядят логичными, хоть и неполными. Понадобится некоторая предобработка и проверка."
   ]
  },
  {
   "cell_type": "markdown",
   "metadata": {},
   "source": [
    "## Предобработка данных"
   ]
  },
  {
   "cell_type": "markdown",
   "metadata": {},
   "source": [
    "### Заполнение пропусков"
   ]
  },
  {
   "cell_type": "markdown",
   "metadata": {},
   "source": [
    "Пройдемся по всем столбцам c пропусками:"
   ]
  },
  {
   "cell_type": "code",
   "execution_count": 85,
   "metadata": {},
   "outputs": [
    {
     "data": {
      "text/plain": [
       "2.50      3515\n",
       "2.60      1646\n",
       "2.70      1574\n",
       "3.00      1112\n",
       "2.80       993\n",
       "          ... \n",
       "27.50        1\n",
       "5.00         1\n",
       "3.59         1\n",
       "4.80         1\n",
       "100.00       1\n",
       "Name: ceiling_height, Length: 183, dtype: int64"
      ]
     },
     "execution_count": 85,
     "metadata": {},
     "output_type": "execute_result"
    }
   ],
   "source": [
    "data['ceiling_height'].value_counts()"
   ]
  },
  {
   "cell_type": "markdown",
   "metadata": {},
   "source": [
    "Есть выбросы -- очень большие значения. Анализировать их будем позже, а NaN заменим медианным значением."
   ]
  },
  {
   "cell_type": "code",
   "execution_count": 86,
   "metadata": {},
   "outputs": [
    {
     "name": "stdout",
     "output_type": "stream",
     "text": [
      "<class 'pandas.core.frame.DataFrame'>\n",
      "RangeIndex: 23699 entries, 0 to 23698\n",
      "Data columns (total 22 columns):\n",
      "total_images            23699 non-null int64\n",
      "last_price              23699 non-null float64\n",
      "total_area              23699 non-null float64\n",
      "first_day_exposition    23699 non-null object\n",
      "rooms                   23699 non-null int64\n",
      "ceiling_height          23699 non-null float64\n",
      "floors_total            23613 non-null float64\n",
      "living_area             21796 non-null float64\n",
      "floor                   23699 non-null int64\n",
      "is_apartment            2775 non-null object\n",
      "studio                  23699 non-null bool\n",
      "open_plan               23699 non-null bool\n",
      "kitchen_area            21421 non-null float64\n",
      "balcony                 12180 non-null float64\n",
      "locality_name           23650 non-null object\n",
      "airports_nearest        18157 non-null float64\n",
      "cityCenters_nearest     18180 non-null float64\n",
      "parks_around3000        18181 non-null float64\n",
      "parks_nearest           8079 non-null float64\n",
      "ponds_around3000        18181 non-null float64\n",
      "ponds_nearest           9110 non-null float64\n",
      "days_exposition         20518 non-null float64\n",
      "dtypes: bool(2), float64(14), int64(3), object(3)\n",
      "memory usage: 3.7+ MB\n"
     ]
    }
   ],
   "source": [
    "data['ceiling_height'] = data['ceiling_height'].fillna(data['ceiling_height'].median())\n",
    "data.info()"
   ]
  },
  {
   "cell_type": "markdown",
   "metadata": {},
   "source": [
    "Пустые значения количества этажей заполним -- тут медиана нам не подойдет, оставим пропуски"
   ]
  },
  {
   "cell_type": "markdown",
   "metadata": {},
   "source": [
    "У около 2000 квартир отсутствуют данные по жилой площади. Может быть они отсутствуют у студий, или апартаментов, или у открытых планировок?"
   ]
  },
  {
   "cell_type": "code",
   "execution_count": 87,
   "metadata": {},
   "outputs": [
    {
     "data": {
      "text/plain": [
       "False    1893\n",
       "True       10\n",
       "Name: studio, dtype: int64"
      ]
     },
     "execution_count": 87,
     "metadata": {},
     "output_type": "execute_result"
    }
   ],
   "source": [
    "data[data['living_area'].isna()]['studio'].value_counts()"
   ]
  },
  {
   "cell_type": "code",
   "execution_count": 88,
   "metadata": {},
   "outputs": [
    {
     "data": {
      "text/plain": [
       "False    112\n",
       "True       8\n",
       "Name: is_apartment, dtype: int64"
      ]
     },
     "execution_count": 88,
     "metadata": {},
     "output_type": "execute_result"
    }
   ],
   "source": [
    "data[data['living_area'].isna()]['is_apartment'].value_counts()"
   ]
  },
  {
   "cell_type": "code",
   "execution_count": 89,
   "metadata": {},
   "outputs": [
    {
     "data": {
      "text/plain": [
       "False    1898\n",
       "True        5\n",
       "Name: open_plan, dtype: int64"
      ]
     },
     "execution_count": 89,
     "metadata": {},
     "output_type": "execute_result"
    }
   ],
   "source": [
    "data[data['living_area'].isna()]['open_plan'].value_counts()"
   ]
  },
  {
   "cell_type": "markdown",
   "metadata": {},
   "source": [
    "Нет, основной объем строк с пропущенными данными не принадлежит к эти категориям. Оставим пропуски."
   ]
  },
  {
   "cell_type": "markdown",
   "metadata": {},
   "source": [
    "В столбце апартаментов много пропущенных значений. Скорее всего они там, где квартиры не апартаменты, заменим их на False."
   ]
  },
  {
   "cell_type": "code",
   "execution_count": 90,
   "metadata": {},
   "outputs": [],
   "source": [
    "data['is_apartment'] = data['is_apartment'].fillna(False)"
   ]
  },
  {
   "cell_type": "markdown",
   "metadata": {},
   "source": [
    "Проверим пропуски в площади кухонь так же как проверяли жилую площадь"
   ]
  },
  {
   "cell_type": "code",
   "execution_count": 91,
   "metadata": {
    "scrolled": true
   },
   "outputs": [
    {
     "name": "stdout",
     "output_type": "stream",
     "text": [
      "False    2263\n",
      "True       15\n",
      "Name: is_apartment, dtype: int64\n",
      "False    2129\n",
      "True      149\n",
      "Name: studio, dtype: int64\n"
     ]
    },
    {
     "data": {
      "text/plain": [
       "False    2211\n",
       "True       67\n",
       "Name: open_plan, dtype: int64"
      ]
     },
     "execution_count": 91,
     "metadata": {},
     "output_type": "execute_result"
    }
   ],
   "source": [
    "print(data[data['kitchen_area'].isna()]['is_apartment'].value_counts())\n",
    "print(data[data['kitchen_area'].isna()]['studio'].value_counts())\n",
    "data[data['kitchen_area'].isna()]['open_plan'].value_counts()"
   ]
  },
  {
   "cell_type": "markdown",
   "metadata": {},
   "source": [
    "Тут корреляции тоже не наблюдается"
   ]
  },
  {
   "cell_type": "markdown",
   "metadata": {},
   "source": [
    "Пропуски в балконах заменим 0 -- иначе значение вероятно было бы указано."
   ]
  },
  {
   "cell_type": "code",
   "execution_count": 92,
   "metadata": {},
   "outputs": [],
   "source": [
    "data['balcony'] = data['balcony'].fillna(0)"
   ]
  },
  {
   "cell_type": "markdown",
   "metadata": {},
   "source": [
    "Пропуски в расстоянии до центра и аэропорта оставим пустыми, разброс может быть слишком больших в рамках одного города, например для Санкт-Петербурга.\n",
    "Пропуски в информации о парках и прудах заменим 0, это значения которые вероятно были бы указаны иначе."
   ]
  },
  {
   "cell_type": "code",
   "execution_count": 93,
   "metadata": {},
   "outputs": [],
   "source": [
    "data['parks_around3000'] = data['parks_around3000'].fillna(0)\n",
    "data['ponds_around3000'] = data['ponds_around3000'].fillna(0)"
   ]
  },
  {
   "cell_type": "markdown",
   "metadata": {},
   "source": [
    "Посчитаем ненулевые значения в этих столбцах:"
   ]
  },
  {
   "cell_type": "code",
   "execution_count": 94,
   "metadata": {},
   "outputs": [
    {
     "name": "stdout",
     "output_type": "stream",
     "text": [
      "8075\n",
      "9110\n"
     ]
    }
   ],
   "source": [
    "print(data[data['parks_around3000'] != 0]['parks_around3000'].count())\n",
    "print(data[data['ponds_around3000'] != 0]['ponds_around3000'].count())"
   ]
  },
  {
   "cell_type": "markdown",
   "metadata": {},
   "source": [
    "Почти те же количества что непустые значения в столбцах ближайших прудов и парков. Значит пропуски в них оставим."
   ]
  },
  {
   "cell_type": "markdown",
   "metadata": {},
   "source": [
    "В столбце количества дней размещения пропуски оставим, но округлим значения до целых:"
   ]
  },
  {
   "cell_type": "code",
   "execution_count": 95,
   "metadata": {},
   "outputs": [],
   "source": [
    "data['days_exposition'] = data['days_exposition'].round()"
   ]
  },
  {
   "cell_type": "markdown",
   "metadata": {},
   "source": [
    "### Приведение к нужным типам"
   ]
  },
  {
   "cell_type": "markdown",
   "metadata": {},
   "source": [
    "Произведем замену форматов:"
   ]
  },
  {
   "cell_type": "code",
   "execution_count": 96,
   "metadata": {},
   "outputs": [],
   "source": [
    "data['first_day_exposition'] = pd.to_datetime(data['first_day_exposition'], format='%Y-%m-%dT%H:%M:%S')\n",
    "data['floors_total'] = data['floors_total'].astype('Int64')\n",
    "data['days_exposition'] = data['days_exposition'].astype('Int64')\n",
    "data['is_apartment'] = data['is_apartment'].astype('bool')"
   ]
  },
  {
   "cell_type": "code",
   "execution_count": 97,
   "metadata": {},
   "outputs": [
    {
     "name": "stdout",
     "output_type": "stream",
     "text": [
      "<class 'pandas.core.frame.DataFrame'>\n",
      "RangeIndex: 23699 entries, 0 to 23698\n",
      "Data columns (total 22 columns):\n",
      "total_images            23699 non-null int64\n",
      "last_price              23699 non-null float64\n",
      "total_area              23699 non-null float64\n",
      "first_day_exposition    23699 non-null datetime64[ns]\n",
      "rooms                   23699 non-null int64\n",
      "ceiling_height          23699 non-null float64\n",
      "floors_total            23613 non-null Int64\n",
      "living_area             21796 non-null float64\n",
      "floor                   23699 non-null int64\n",
      "is_apartment            23699 non-null bool\n",
      "studio                  23699 non-null bool\n",
      "open_plan               23699 non-null bool\n",
      "kitchen_area            21421 non-null float64\n",
      "balcony                 23699 non-null float64\n",
      "locality_name           23650 non-null object\n",
      "airports_nearest        18157 non-null float64\n",
      "cityCenters_nearest     18180 non-null float64\n",
      "parks_around3000        23699 non-null float64\n",
      "parks_nearest           8079 non-null float64\n",
      "ponds_around3000        23699 non-null float64\n",
      "ponds_nearest           9110 non-null float64\n",
      "days_exposition         20518 non-null Int64\n",
      "dtypes: Int64(2), bool(3), datetime64[ns](1), float64(12), int64(3), object(1)\n",
      "memory usage: 3.5+ MB\n"
     ]
    }
   ],
   "source": [
    "data.info()"
   ]
  },
  {
   "cell_type": "markdown",
   "metadata": {},
   "source": [
    "### Устранение дубликатов"
   ]
  },
  {
   "cell_type": "markdown",
   "metadata": {},
   "source": [
    "Проверим данные на явные дубликаты:"
   ]
  },
  {
   "cell_type": "code",
   "execution_count": 98,
   "metadata": {},
   "outputs": [
    {
     "data": {
      "text/plain": [
       "0"
      ]
     },
     "execution_count": 98,
     "metadata": {},
     "output_type": "execute_result"
    }
   ],
   "source": [
    "data.duplicated().sum()"
   ]
  },
  {
   "cell_type": "markdown",
   "metadata": {},
   "source": [
    "Наши данные в основном числовые, за исключением названий населенных пунктов. Чтобы избежать дубликатов в них заменим букву \"ё\" на \"е\". Так же приведем все буквы к нижему регистру."
   ]
  },
  {
   "cell_type": "code",
   "execution_count": 99,
   "metadata": {},
   "outputs": [
    {
     "data": {
      "text/plain": [
       "365"
      ]
     },
     "execution_count": 99,
     "metadata": {},
     "output_type": "execute_result"
    }
   ],
   "source": [
    "len(data['locality_name'].unique())"
   ]
  },
  {
   "cell_type": "code",
   "execution_count": 100,
   "metadata": {},
   "outputs": [
    {
     "data": {
      "text/plain": [
       "331"
      ]
     },
     "execution_count": 100,
     "metadata": {},
     "output_type": "execute_result"
    }
   ],
   "source": [
    "data['locality_name'] = data['locality_name'].str.lower()\n",
    "data['locality_name'] = data['locality_name'].str.replace('ё', 'е')\n",
    "len(data['locality_name'].unique())"
   ]
  },
  {
   "cell_type": "markdown",
   "metadata": {},
   "source": [
    "### Вывод\n",
    "\n",
    "Пропуски заполнены там, где их можно заполнить, форматы приведены к подходящему виду, дубликаты убраны. Можно приступать к дальнейшей работе."
   ]
  },
  {
   "cell_type": "markdown",
   "metadata": {},
   "source": [
    "## Расчёты и добавление результатов в таблицу"
   ]
  },
  {
   "cell_type": "markdown",
   "metadata": {},
   "source": [
    "### Цена квадратного метра"
   ]
  },
  {
   "cell_type": "markdown",
   "metadata": {},
   "source": [
    "Добавим столбец с ценой квадратного метра, посчитав ее из цены и метража"
   ]
  },
  {
   "cell_type": "code",
   "execution_count": 101,
   "metadata": {},
   "outputs": [],
   "source": [
    "data['sqr_meter_price'] = data['last_price'] / data['total_area']"
   ]
  },
  {
   "cell_type": "markdown",
   "metadata": {},
   "source": [
    "### Дата"
   ]
  },
  {
   "cell_type": "markdown",
   "metadata": {},
   "source": [
    "Добавим столбцы с днем недели, месяцом и годом публикации объявления"
   ]
  },
  {
   "cell_type": "code",
   "execution_count": 102,
   "metadata": {},
   "outputs": [],
   "source": [
    "data['weekday'] = data['first_day_exposition'].dt.weekday\n",
    "data['month'] = data['first_day_exposition'].dt.month\n",
    "data['year'] = data['first_day_exposition'].dt.year"
   ]
  },
  {
   "cell_type": "markdown",
   "metadata": {},
   "source": [
    "### Этаж"
   ]
  },
  {
   "cell_type": "markdown",
   "metadata": {},
   "source": [
    "Распределим квартиры на категории этажа -- первый, последний, другой"
   ]
  },
  {
   "cell_type": "code",
   "execution_count": 103,
   "metadata": {},
   "outputs": [],
   "source": [
    "def floor_analize(row):\n",
    "    if row['floor'] == 1:\n",
    "        return 'first'\n",
    "    elif row['floor'] == row['floors_total']:\n",
    "        return 'last'\n",
    "    else:\n",
    "        return 'other'\n",
    "    \n",
    "data['floor_type'] = data.apply(floor_analize, axis=1)"
   ]
  },
  {
   "cell_type": "markdown",
   "metadata": {},
   "source": [
    "### Соотношение площадей"
   ]
  },
  {
   "cell_type": "code",
   "execution_count": 104,
   "metadata": {},
   "outputs": [],
   "source": [
    "data['living_ratio'] = data['living_area']/data['total_area']\n",
    "data['kitchen_ratio'] = data['kitchen_area']/data['total_area']"
   ]
  },
  {
   "cell_type": "markdown",
   "metadata": {},
   "source": [
    "### Вывод"
   ]
  },
  {
   "cell_type": "markdown",
   "metadata": {},
   "source": [
    "Нужные столбцы добавлены в датафрейм, там где для рассчета значений не хватает данных оставлены NaN"
   ]
  },
  {
   "cell_type": "markdown",
   "metadata": {},
   "source": [
    "## Исследовательский анализ данных"
   ]
  },
  {
   "cell_type": "markdown",
   "metadata": {},
   "source": [
    "### Изучение основных параметров"
   ]
  },
  {
   "cell_type": "code",
   "execution_count": 163,
   "metadata": {},
   "outputs": [
    {
     "data": {
      "image/png": "[encoded data removed]",
      "text/plain": [
       "<Figure size 432x288 with 1 Axes>"
      ]
     },
     "metadata": {
      "needs_background": "light"
     },
     "output_type": "display_data"
    },
    {
     "data": {
      "image/png": "[encoded data removed]",
      "text/plain": [
       "<Figure size 432x288 with 1 Axes>"
      ]
     },
     "metadata": {
      "needs_background": "light"
     },
     "output_type": "display_data"
    },
    {
     "data": {
      "image/png": "[encoded data removed]",
      "text/plain": [
       "<Figure size 432x288 with 1 Axes>"
      ]
     },
     "metadata": {
      "needs_background": "light"
     },
     "output_type": "display_data"
    },
    {
     "data": {
      "image/png": "[encoded data removed]",
      "text/plain": [
       "<Figure size 432x288 with 1 Axes>"
      ]
     },
     "metadata": {
      "needs_background": "light"
     },
     "output_type": "display_data"
    }
   ],
   "source": [
    "data['total_area'].hist(bins=30)\n",
    "plt.title('total area')\n",
    "plt.show()\n",
    "data['last_price'].hist(bins=30)\n",
    "plt.title('last price')\n",
    "plt.show()\n",
    "data['rooms'].hist(bins=30)\n",
    "plt.title('rooms')\n",
    "plt.show()\n",
    "data['ceiling_height'].hist(bins=30)\n",
    "plt.title('ceiling')\n",
    "plt.show()"
   ]
  },
  {
   "cell_type": "markdown",
   "metadata": {},
   "source": [
    "Выбросы высоких значений искажают гистограммы. Рассмотрим отрезки в которых находятся большинство значений."
   ]
  },
  {
   "cell_type": "markdown",
   "metadata": {},
   "source": [
    "#### Площадь"
   ]
  },
  {
   "cell_type": "code",
   "execution_count": 106,
   "metadata": {},
   "outputs": [
    {
     "name": "stdout",
     "output_type": "stream",
     "text": [
      "12.0 900.0 52.0\n"
     ]
    },
    {
     "data": {
      "text/plain": [
       "<matplotlib.axes._subplots.AxesSubplot at 0x7f69b1039dd0>"
      ]
     },
     "execution_count": 106,
     "metadata": {},
     "output_type": "execute_result"
    },
    {
     "data": {
      "image/png": "[encoded data removed]",
      "text/plain": [
       "<Figure size 432x288 with 1 Axes>"
      ]
     },
     "metadata": {
      "needs_background": "light"
     },
     "output_type": "display_data"
    }
   ],
   "source": [
    "print(data['total_area'].min(), data['total_area'].max(), data['total_area'].median())\n",
    "data['total_area'].hist(bins=50, range=(0, 200))"
   ]
  },
  {
   "cell_type": "markdown",
   "metadata": {},
   "source": [
    "В распределении площади наблюдаются один большой пик в районе 4 и небольшой в районе 60. Скорее всего это самые частые площади для однушек и двушек.\n",
    "Посмотрим числовое описание данных:"
   ]
  },
  {
   "cell_type": "code",
   "execution_count": 107,
   "metadata": {},
   "outputs": [
    {
     "data": {
      "text/plain": [
       "count    23699.000000\n",
       "mean        60.348651\n",
       "std         35.654083\n",
       "min         12.000000\n",
       "25%         40.000000\n",
       "50%         52.000000\n",
       "75%         69.900000\n",
       "max        900.000000\n",
       "Name: total_area, dtype: float64"
      ]
     },
     "execution_count": 107,
     "metadata": {},
     "output_type": "execute_result"
    }
   ],
   "source": [
    "data['total_area'].describe()"
   ]
  },
  {
   "cell_type": "markdown",
   "metadata": {},
   "source": [
    "Максимальные значения доходят до 900, но 75% меньше 70. Посмотрим на диаграмму размаха."
   ]
  },
  {
   "cell_type": "code",
   "execution_count": 108,
   "metadata": {},
   "outputs": [
    {
     "data": {
      "text/plain": [
       "<matplotlib.axes._subplots.AxesSubplot at 0x7f69b10cb850>"
      ]
     },
     "execution_count": 108,
     "metadata": {},
     "output_type": "execute_result"
    },
    {
     "data": {
      "image/png": "[encoded data removed]",
      "text/plain": [
       "<Figure size 432x288 with 1 Axes>"
      ]
     },
     "metadata": {
      "needs_background": "light"
     },
     "output_type": "display_data"
    }
   ],
   "source": [
    "data.boxplot(column='total_area')"
   ]
  },
  {
   "cell_type": "markdown",
   "metadata": {},
   "source": [
    "Уберем выбросы за усами диаграммы. Напишем функцию, которая определяет параметры по значениям Q1 и Q3:"
   ]
  },
  {
   "cell_type": "code",
   "execution_count": 109,
   "metadata": {},
   "outputs": [],
   "source": [
    "def typical(q1, q3):\n",
    "    length = (q3 - q1) * 1.5\n",
    "    left = q1 - length\n",
    "    right = q3 + length\n",
    "    return left, right"
   ]
  },
  {
   "cell_type": "code",
   "execution_count": 110,
   "metadata": {},
   "outputs": [],
   "source": [
    "left, right = typical(40, 69.9)\n",
    "data_flt = data.query('@left < total_area < @right')"
   ]
  },
  {
   "cell_type": "markdown",
   "metadata": {},
   "source": [
    "#### Цена"
   ]
  },
  {
   "cell_type": "code",
   "execution_count": 111,
   "metadata": {},
   "outputs": [
    {
     "data": {
      "text/plain": [
       "<matplotlib.axes._subplots.AxesSubplot at 0x7f69b0104210>"
      ]
     },
     "execution_count": 111,
     "metadata": {},
     "output_type": "execute_result"
    },
    {
     "data": {
      "image/png": "[encoded data removed]",
      "text/plain": [
       "<Figure size 432x288 with 1 Axes>"
      ]
     },
     "metadata": {
      "needs_background": "light"
     },
     "output_type": "display_data"
    }
   ],
   "source": [
    "data_flt['last_price'].hist(bins=30, range=(0, 2e7))"
   ]
  },
  {
   "cell_type": "code",
   "execution_count": 112,
   "metadata": {},
   "outputs": [
    {
     "data": {
      "text/plain": [
       "count    2.245900e+04\n",
       "mean     5.307234e+06\n",
       "std      3.395087e+06\n",
       "min      1.219000e+04\n",
       "25%      3.359000e+06\n",
       "50%      4.500000e+06\n",
       "75%      6.300000e+06\n",
       "max      8.200000e+07\n",
       "Name: last_price, dtype: float64"
      ]
     },
     "execution_count": 112,
     "metadata": {},
     "output_type": "execute_result"
    }
   ],
   "source": [
    "data_flt['last_price'].describe()"
   ]
  },
  {
   "cell_type": "markdown",
   "metadata": {},
   "source": [
    "Распределение похоже на нормальное. Минимум -- 12190 рублей, маловато для реального значения. Среднее -- 6,5 млн, медианное -- 4,6 млн. Максимальное -- 763 млн. В целом довольно реалистичные значения, смущают только маленькие."
   ]
  },
  {
   "cell_type": "code",
   "execution_count": 113,
   "metadata": {},
   "outputs": [
    {
     "data": {
      "text/plain": [
       "<matplotlib.axes._subplots.AxesSubplot at 0x7f69b0a42890>"
      ]
     },
     "execution_count": 113,
     "metadata": {},
     "output_type": "execute_result"
    },
    {
     "data": {
      "image/png": "[encoded data removed]",
      "text/plain": [
       "<Figure size 432x288 with 1 Axes>"
      ]
     },
     "metadata": {
      "needs_background": "light"
     },
     "output_type": "display_data"
    }
   ],
   "source": [
    "data_flt.query('last_price < 1e6')['last_price'].hist(bins=50)"
   ]
  },
  {
   "cell_type": "code",
   "execution_count": 114,
   "metadata": {},
   "outputs": [
    {
     "data": {
      "text/html": [
       "<div>\n",
       "<style scoped>\n",
       "    .dataframe tbody tr th:only-of-type {\n",
       "        vertical-align: middle;\n",
       "    }\n",
       "\n",
       "    .dataframe tbody tr th {\n",
       "        vertical-align: top;\n",
       "    }\n",
       "\n",
       "    .dataframe thead th {\n",
       "        text-align: right;\n",
       "    }\n",
       "</style>\n",
       "<table border=\"1\" class=\"dataframe\">\n",
       "  <thead>\n",
       "    <tr style=\"text-align: right;\">\n",
       "      <th></th>\n",
       "      <th>total_images</th>\n",
       "      <th>last_price</th>\n",
       "      <th>total_area</th>\n",
       "      <th>first_day_exposition</th>\n",
       "      <th>rooms</th>\n",
       "      <th>ceiling_height</th>\n",
       "      <th>floors_total</th>\n",
       "      <th>living_area</th>\n",
       "      <th>floor</th>\n",
       "      <th>is_apartment</th>\n",
       "      <th>...</th>\n",
       "      <th>ponds_around3000</th>\n",
       "      <th>ponds_nearest</th>\n",
       "      <th>days_exposition</th>\n",
       "      <th>sqr_meter_price</th>\n",
       "      <th>weekday</th>\n",
       "      <th>month</th>\n",
       "      <th>year</th>\n",
       "      <th>floor_type</th>\n",
       "      <th>living_ratio</th>\n",
       "      <th>kitchen_ratio</th>\n",
       "    </tr>\n",
       "  </thead>\n",
       "  <tbody>\n",
       "    <tr>\n",
       "      <td>8793</td>\n",
       "      <td>7</td>\n",
       "      <td>12190.0</td>\n",
       "      <td>109.0</td>\n",
       "      <td>2019-03-20</td>\n",
       "      <td>2</td>\n",
       "      <td>2.75</td>\n",
       "      <td>25</td>\n",
       "      <td>32.0</td>\n",
       "      <td>25</td>\n",
       "      <td>False</td>\n",
       "      <td>...</td>\n",
       "      <td>0.0</td>\n",
       "      <td>NaN</td>\n",
       "      <td>8</td>\n",
       "      <td>111.834862</td>\n",
       "      <td>2</td>\n",
       "      <td>3</td>\n",
       "      <td>2019</td>\n",
       "      <td>last</td>\n",
       "      <td>0.293578</td>\n",
       "      <td>0.37156</td>\n",
       "    </tr>\n",
       "  </tbody>\n",
       "</table>\n",
       "<p>1 rows × 29 columns</p>\n",
       "</div>"
      ],
      "text/plain": [
       "      total_images  last_price  total_area first_day_exposition  rooms  \\\n",
       "8793             7     12190.0       109.0           2019-03-20      2   \n",
       "\n",
       "      ceiling_height  floors_total  living_area  floor  is_apartment  ...  \\\n",
       "8793            2.75            25         32.0     25         False  ...   \n",
       "\n",
       "      ponds_around3000  ponds_nearest  days_exposition  sqr_meter_price  \\\n",
       "8793               0.0            NaN                8       111.834862   \n",
       "\n",
       "     weekday  month  year  floor_type  living_ratio  kitchen_ratio  \n",
       "8793       2      3  2019        last      0.293578        0.37156  \n",
       "\n",
       "[1 rows x 29 columns]"
      ]
     },
     "execution_count": 114,
     "metadata": {},
     "output_type": "execute_result"
    }
   ],
   "source": [
    "data_flt.query('last_price < 4e5')"
   ]
  },
  {
   "cell_type": "markdown",
   "metadata": {},
   "source": [
    "Получается нас беспокоит только одно, минимальное, значение. Значит систематической ошибки в данных нет. Оставим только типовые."
   ]
  },
  {
   "cell_type": "code",
   "execution_count": 115,
   "metadata": {},
   "outputs": [],
   "source": [
    "left, right = typical(3.4e6, 6.8e6)\n",
    "data_flt = data_flt.query('@left < last_price < @right')"
   ]
  },
  {
   "cell_type": "markdown",
   "metadata": {},
   "source": [
    "#### Комнаты"
   ]
  },
  {
   "cell_type": "code",
   "execution_count": 116,
   "metadata": {},
   "outputs": [
    {
     "data": {
      "text/plain": [
       "<matplotlib.axes._subplots.AxesSubplot at 0x7f69b08d6a90>"
      ]
     },
     "execution_count": 116,
     "metadata": {},
     "output_type": "execute_result"
    },
    {
     "data": {
      "image/png": "[encoded data removed]",
      "text/plain": [
       "<Figure size 432x288 with 1 Axes>"
      ]
     },
     "metadata": {
      "needs_background": "light"
     },
     "output_type": "display_data"
    }
   ],
   "source": [
    "data_flt['rooms'].hist(bins=30, range = (1, 10))"
   ]
  },
  {
   "cell_type": "code",
   "execution_count": 117,
   "metadata": {},
   "outputs": [
    {
     "data": {
      "text/plain": [
       "count    21459.000000\n",
       "mean         1.911925\n",
       "std          0.888655\n",
       "min          0.000000\n",
       "25%          1.000000\n",
       "50%          2.000000\n",
       "75%          3.000000\n",
       "max          6.000000\n",
       "Name: rooms, dtype: float64"
      ]
     },
     "execution_count": 117,
     "metadata": {},
     "output_type": "execute_result"
    }
   ],
   "source": [
    "data_flt['rooms'].describe()"
   ]
  },
  {
   "cell_type": "markdown",
   "metadata": {},
   "source": [
    "Большинство квартир -- однушки и двушки, чуть меньше трешек. 19-комнатные квартиры маловероятны, но возможны. А вот квартиры с 0 комнат странные."
   ]
  },
  {
   "cell_type": "code",
   "execution_count": 118,
   "metadata": {},
   "outputs": [
    {
     "data": {
      "text/html": [
       "<div>\n",
       "<style scoped>\n",
       "    .dataframe tbody tr th:only-of-type {\n",
       "        vertical-align: middle;\n",
       "    }\n",
       "\n",
       "    .dataframe tbody tr th {\n",
       "        vertical-align: top;\n",
       "    }\n",
       "\n",
       "    .dataframe thead th {\n",
       "        text-align: right;\n",
       "    }\n",
       "</style>\n",
       "<table border=\"1\" class=\"dataframe\">\n",
       "  <thead>\n",
       "    <tr style=\"text-align: right;\">\n",
       "      <th></th>\n",
       "      <th>total_images</th>\n",
       "      <th>last_price</th>\n",
       "      <th>total_area</th>\n",
       "      <th>first_day_exposition</th>\n",
       "      <th>rooms</th>\n",
       "      <th>ceiling_height</th>\n",
       "      <th>floors_total</th>\n",
       "      <th>living_area</th>\n",
       "      <th>floor</th>\n",
       "      <th>is_apartment</th>\n",
       "      <th>...</th>\n",
       "      <th>ponds_around3000</th>\n",
       "      <th>ponds_nearest</th>\n",
       "      <th>days_exposition</th>\n",
       "      <th>sqr_meter_price</th>\n",
       "      <th>weekday</th>\n",
       "      <th>month</th>\n",
       "      <th>year</th>\n",
       "      <th>floor_type</th>\n",
       "      <th>living_ratio</th>\n",
       "      <th>kitchen_ratio</th>\n",
       "    </tr>\n",
       "  </thead>\n",
       "  <tbody>\n",
       "    <tr>\n",
       "      <td>144</td>\n",
       "      <td>1</td>\n",
       "      <td>2450000.0</td>\n",
       "      <td>27.00</td>\n",
       "      <td>2017-03-30</td>\n",
       "      <td>0</td>\n",
       "      <td>2.65</td>\n",
       "      <td>24</td>\n",
       "      <td>15.50</td>\n",
       "      <td>2</td>\n",
       "      <td>False</td>\n",
       "      <td>...</td>\n",
       "      <td>0.0</td>\n",
       "      <td>NaN</td>\n",
       "      <td>181</td>\n",
       "      <td>90740.740741</td>\n",
       "      <td>3</td>\n",
       "      <td>3</td>\n",
       "      <td>2017</td>\n",
       "      <td>other</td>\n",
       "      <td>0.574074</td>\n",
       "      <td>NaN</td>\n",
       "    </tr>\n",
       "    <tr>\n",
       "      <td>349</td>\n",
       "      <td>4</td>\n",
       "      <td>2320000.0</td>\n",
       "      <td>25.00</td>\n",
       "      <td>2017-09-27</td>\n",
       "      <td>0</td>\n",
       "      <td>2.65</td>\n",
       "      <td>14</td>\n",
       "      <td>17.00</td>\n",
       "      <td>1</td>\n",
       "      <td>False</td>\n",
       "      <td>...</td>\n",
       "      <td>0.0</td>\n",
       "      <td>NaN</td>\n",
       "      <td>45</td>\n",
       "      <td>92800.000000</td>\n",
       "      <td>2</td>\n",
       "      <td>9</td>\n",
       "      <td>2017</td>\n",
       "      <td>first</td>\n",
       "      <td>0.680000</td>\n",
       "      <td>NaN</td>\n",
       "    </tr>\n",
       "    <tr>\n",
       "      <td>440</td>\n",
       "      <td>8</td>\n",
       "      <td>2480000.0</td>\n",
       "      <td>27.11</td>\n",
       "      <td>2018-03-12</td>\n",
       "      <td>0</td>\n",
       "      <td>2.65</td>\n",
       "      <td>17</td>\n",
       "      <td>24.75</td>\n",
       "      <td>4</td>\n",
       "      <td>False</td>\n",
       "      <td>...</td>\n",
       "      <td>2.0</td>\n",
       "      <td>982.0</td>\n",
       "      <td>64</td>\n",
       "      <td>91479.158982</td>\n",
       "      <td>0</td>\n",
       "      <td>3</td>\n",
       "      <td>2018</td>\n",
       "      <td>other</td>\n",
       "      <td>0.912947</td>\n",
       "      <td>NaN</td>\n",
       "    </tr>\n",
       "    <tr>\n",
       "      <td>508</td>\n",
       "      <td>0</td>\n",
       "      <td>3375000.0</td>\n",
       "      <td>34.40</td>\n",
       "      <td>2017-03-28</td>\n",
       "      <td>0</td>\n",
       "      <td>2.65</td>\n",
       "      <td>26</td>\n",
       "      <td>24.30</td>\n",
       "      <td>19</td>\n",
       "      <td>False</td>\n",
       "      <td>...</td>\n",
       "      <td>1.0</td>\n",
       "      <td>593.0</td>\n",
       "      <td>430</td>\n",
       "      <td>98110.465116</td>\n",
       "      <td>1</td>\n",
       "      <td>3</td>\n",
       "      <td>2017</td>\n",
       "      <td>other</td>\n",
       "      <td>0.706395</td>\n",
       "      <td>NaN</td>\n",
       "    </tr>\n",
       "    <tr>\n",
       "      <td>608</td>\n",
       "      <td>2</td>\n",
       "      <td>1850000.0</td>\n",
       "      <td>25.00</td>\n",
       "      <td>2019-02-20</td>\n",
       "      <td>0</td>\n",
       "      <td>2.65</td>\n",
       "      <td>10</td>\n",
       "      <td>NaN</td>\n",
       "      <td>7</td>\n",
       "      <td>False</td>\n",
       "      <td>...</td>\n",
       "      <td>0.0</td>\n",
       "      <td>NaN</td>\n",
       "      <td>29</td>\n",
       "      <td>74000.000000</td>\n",
       "      <td>2</td>\n",
       "      <td>2</td>\n",
       "      <td>2019</td>\n",
       "      <td>other</td>\n",
       "      <td>NaN</td>\n",
       "      <td>NaN</td>\n",
       "    </tr>\n",
       "    <tr>\n",
       "      <td>...</td>\n",
       "      <td>...</td>\n",
       "      <td>...</td>\n",
       "      <td>...</td>\n",
       "      <td>...</td>\n",
       "      <td>...</td>\n",
       "      <td>...</td>\n",
       "      <td>...</td>\n",
       "      <td>...</td>\n",
       "      <td>...</td>\n",
       "      <td>...</td>\n",
       "      <td>...</td>\n",
       "      <td>...</td>\n",
       "      <td>...</td>\n",
       "      <td>...</td>\n",
       "      <td>...</td>\n",
       "      <td>...</td>\n",
       "      <td>...</td>\n",
       "      <td>...</td>\n",
       "      <td>...</td>\n",
       "      <td>...</td>\n",
       "      <td>...</td>\n",
       "    </tr>\n",
       "    <tr>\n",
       "      <td>23210</td>\n",
       "      <td>7</td>\n",
       "      <td>3200000.0</td>\n",
       "      <td>26.00</td>\n",
       "      <td>2017-09-01</td>\n",
       "      <td>0</td>\n",
       "      <td>2.65</td>\n",
       "      <td>25</td>\n",
       "      <td>18.00</td>\n",
       "      <td>16</td>\n",
       "      <td>False</td>\n",
       "      <td>...</td>\n",
       "      <td>1.0</td>\n",
       "      <td>623.0</td>\n",
       "      <td>14</td>\n",
       "      <td>123076.923077</td>\n",
       "      <td>4</td>\n",
       "      <td>9</td>\n",
       "      <td>2017</td>\n",
       "      <td>other</td>\n",
       "      <td>0.692308</td>\n",
       "      <td>NaN</td>\n",
       "    </tr>\n",
       "    <tr>\n",
       "      <td>23442</td>\n",
       "      <td>0</td>\n",
       "      <td>2500000.0</td>\n",
       "      <td>27.70</td>\n",
       "      <td>2017-09-28</td>\n",
       "      <td>0</td>\n",
       "      <td>2.65</td>\n",
       "      <td>24</td>\n",
       "      <td>18.00</td>\n",
       "      <td>4</td>\n",
       "      <td>False</td>\n",
       "      <td>...</td>\n",
       "      <td>0.0</td>\n",
       "      <td>NaN</td>\n",
       "      <td>4</td>\n",
       "      <td>90252.707581</td>\n",
       "      <td>3</td>\n",
       "      <td>9</td>\n",
       "      <td>2017</td>\n",
       "      <td>other</td>\n",
       "      <td>0.649819</td>\n",
       "      <td>NaN</td>\n",
       "    </tr>\n",
       "    <tr>\n",
       "      <td>23554</td>\n",
       "      <td>15</td>\n",
       "      <td>3350000.0</td>\n",
       "      <td>26.00</td>\n",
       "      <td>2018-09-07</td>\n",
       "      <td>0</td>\n",
       "      <td>2.65</td>\n",
       "      <td>19</td>\n",
       "      <td>NaN</td>\n",
       "      <td>8</td>\n",
       "      <td>False</td>\n",
       "      <td>...</td>\n",
       "      <td>2.0</td>\n",
       "      <td>112.0</td>\n",
       "      <td>31</td>\n",
       "      <td>128846.153846</td>\n",
       "      <td>4</td>\n",
       "      <td>9</td>\n",
       "      <td>2018</td>\n",
       "      <td>other</td>\n",
       "      <td>NaN</td>\n",
       "      <td>NaN</td>\n",
       "    </tr>\n",
       "    <tr>\n",
       "      <td>23592</td>\n",
       "      <td>10</td>\n",
       "      <td>1450000.0</td>\n",
       "      <td>29.00</td>\n",
       "      <td>2017-11-11</td>\n",
       "      <td>0</td>\n",
       "      <td>2.65</td>\n",
       "      <td>9</td>\n",
       "      <td>18.00</td>\n",
       "      <td>8</td>\n",
       "      <td>False</td>\n",
       "      <td>...</td>\n",
       "      <td>0.0</td>\n",
       "      <td>NaN</td>\n",
       "      <td>82</td>\n",
       "      <td>50000.000000</td>\n",
       "      <td>5</td>\n",
       "      <td>11</td>\n",
       "      <td>2017</td>\n",
       "      <td>other</td>\n",
       "      <td>0.620690</td>\n",
       "      <td>NaN</td>\n",
       "    </tr>\n",
       "    <tr>\n",
       "      <td>23637</td>\n",
       "      <td>8</td>\n",
       "      <td>2350000.0</td>\n",
       "      <td>26.00</td>\n",
       "      <td>2018-06-26</td>\n",
       "      <td>0</td>\n",
       "      <td>2.65</td>\n",
       "      <td>25</td>\n",
       "      <td>17.00</td>\n",
       "      <td>4</td>\n",
       "      <td>False</td>\n",
       "      <td>...</td>\n",
       "      <td>0.0</td>\n",
       "      <td>NaN</td>\n",
       "      <td>207</td>\n",
       "      <td>90384.615385</td>\n",
       "      <td>1</td>\n",
       "      <td>6</td>\n",
       "      <td>2018</td>\n",
       "      <td>other</td>\n",
       "      <td>0.653846</td>\n",
       "      <td>NaN</td>\n",
       "    </tr>\n",
       "  </tbody>\n",
       "</table>\n",
       "<p>195 rows × 29 columns</p>\n",
       "</div>"
      ],
      "text/plain": [
       "       total_images  last_price  total_area first_day_exposition  rooms  \\\n",
       "144               1   2450000.0       27.00           2017-03-30      0   \n",
       "349               4   2320000.0       25.00           2017-09-27      0   \n",
       "440               8   2480000.0       27.11           2018-03-12      0   \n",
       "508               0   3375000.0       34.40           2017-03-28      0   \n",
       "608               2   1850000.0       25.00           2019-02-20      0   \n",
       "...             ...         ...         ...                  ...    ...   \n",
       "23210             7   3200000.0       26.00           2017-09-01      0   \n",
       "23442             0   2500000.0       27.70           2017-09-28      0   \n",
       "23554            15   3350000.0       26.00           2018-09-07      0   \n",
       "23592            10   1450000.0       29.00           2017-11-11      0   \n",
       "23637             8   2350000.0       26.00           2018-06-26      0   \n",
       "\n",
       "       ceiling_height  floors_total  living_area  floor  is_apartment  ...  \\\n",
       "144              2.65            24        15.50      2         False  ...   \n",
       "349              2.65            14        17.00      1         False  ...   \n",
       "440              2.65            17        24.75      4         False  ...   \n",
       "508              2.65            26        24.30     19         False  ...   \n",
       "608              2.65            10          NaN      7         False  ...   \n",
       "...               ...           ...          ...    ...           ...  ...   \n",
       "23210            2.65            25        18.00     16         False  ...   \n",
       "23442            2.65            24        18.00      4         False  ...   \n",
       "23554            2.65            19          NaN      8         False  ...   \n",
       "23592            2.65             9        18.00      8         False  ...   \n",
       "23637            2.65            25        17.00      4         False  ...   \n",
       "\n",
       "       ponds_around3000  ponds_nearest  days_exposition  sqr_meter_price  \\\n",
       "144                 0.0            NaN              181     90740.740741   \n",
       "349                 0.0            NaN               45     92800.000000   \n",
       "440                 2.0          982.0               64     91479.158982   \n",
       "508                 1.0          593.0              430     98110.465116   \n",
       "608                 0.0            NaN               29     74000.000000   \n",
       "...                 ...            ...              ...              ...   \n",
       "23210               1.0          623.0               14    123076.923077   \n",
       "23442               0.0            NaN                4     90252.707581   \n",
       "23554               2.0          112.0               31    128846.153846   \n",
       "23592               0.0            NaN               82     50000.000000   \n",
       "23637               0.0            NaN              207     90384.615385   \n",
       "\n",
       "      weekday  month  year  floor_type  living_ratio  kitchen_ratio  \n",
       "144         3      3  2017       other      0.574074            NaN  \n",
       "349         2      9  2017       first      0.680000            NaN  \n",
       "440         0      3  2018       other      0.912947            NaN  \n",
       "508         1      3  2017       other      0.706395            NaN  \n",
       "608         2      2  2019       other           NaN            NaN  \n",
       "...       ...    ...   ...         ...           ...            ...  \n",
       "23210       4      9  2017       other      0.692308            NaN  \n",
       "23442       3      9  2017       other      0.649819            NaN  \n",
       "23554       4      9  2018       other           NaN            NaN  \n",
       "23592       5     11  2017       other      0.620690            NaN  \n",
       "23637       1      6  2018       other      0.653846            NaN  \n",
       "\n",
       "[195 rows x 29 columns]"
      ]
     },
     "execution_count": 118,
     "metadata": {},
     "output_type": "execute_result"
    }
   ],
   "source": [
    "data_flt.query('rooms == 0')"
   ]
  },
  {
   "cell_type": "markdown",
   "metadata": {},
   "source": [
    "Сразу бросается в глаза маленький метраж нулевок. Возможно это студии или квартиры с открытой планировкой?"
   ]
  },
  {
   "cell_type": "code",
   "execution_count": 119,
   "metadata": {},
   "outputs": [
    {
     "data": {
      "text/plain": [
       "195"
      ]
     },
     "execution_count": 119,
     "metadata": {},
     "output_type": "execute_result"
    }
   ],
   "source": [
    "data_flt.query('rooms == 0 and (studio != open_plan)')['rooms'].count()"
   ]
  },
  {
   "cell_type": "markdown",
   "metadata": {},
   "source": [
    "Все нулевки -- либо студии, либо с открытой планировкой! Видимо заполнявшие не знали что вводить, но ошибки в данных нет. Отфильтруем значения"
   ]
  },
  {
   "cell_type": "code",
   "execution_count": 120,
   "metadata": {},
   "outputs": [],
   "source": [
    "left, right = typical(1, 3)\n",
    "data_flt = data_flt.query('@left < rooms < @right')"
   ]
  },
  {
   "cell_type": "markdown",
   "metadata": {},
   "source": [
    "#### Потолки"
   ]
  },
  {
   "cell_type": "code",
   "execution_count": 121,
   "metadata": {},
   "outputs": [
    {
     "data": {
      "text/plain": [
       "<matplotlib.axes._subplots.AxesSubplot at 0x7f69b0827950>"
      ]
     },
     "execution_count": 121,
     "metadata": {},
     "output_type": "execute_result"
    },
    {
     "data": {
      "image/png": "[encoded data removed]",
      "text/plain": [
       "<Figure size 432x288 with 1 Axes>"
      ]
     },
     "metadata": {
      "needs_background": "light"
     },
     "output_type": "display_data"
    }
   ],
   "source": [
    "data_flt['ceiling_height'].hist(bins=50, range=(2, 4))"
   ]
  },
  {
   "cell_type": "code",
   "execution_count": 122,
   "metadata": {},
   "outputs": [
    {
     "data": {
      "text/plain": [
       "count    21455.000000\n",
       "mean         2.696693\n",
       "std          0.785792\n",
       "min          1.000000\n",
       "25%          2.600000\n",
       "50%          2.650000\n",
       "75%          2.700000\n",
       "max         32.000000\n",
       "Name: ceiling_height, dtype: float64"
      ]
     },
     "execution_count": 122,
     "metadata": {},
     "output_type": "execute_result"
    }
   ],
   "source": [
    "data_flt['ceiling_height'].describe()"
   ]
  },
  {
   "cell_type": "code",
   "execution_count": 123,
   "metadata": {},
   "outputs": [
    {
     "data": {
      "text/plain": [
       "2.65    9156\n",
       "2.50    3478\n",
       "2.60    1627\n",
       "2.70    1483\n",
       "2.55     973\n",
       "2.80     835\n",
       "2.75     824\n",
       "3.00     775\n",
       "3.20     186\n",
       "2.56     138\n",
       "Name: ceiling_height, dtype: int64"
      ]
     },
     "execution_count": 123,
     "metadata": {},
     "output_type": "execute_result"
    }
   ],
   "source": [
    "data_flt['ceiling_height'].value_counts().head(10)"
   ]
  },
  {
   "cell_type": "markdown",
   "metadata": {},
   "source": [
    "Есть слишком большие и слишком маленькие значения, но в основном значения реалистичны. Из них видно что почти в половине квартир высота потолков 2.65, и что в основном высота потолков находится в диапазоне 2.50-2.70 метра.\n",
    "Оставим типовые значения."
   ]
  },
  {
   "cell_type": "code",
   "execution_count": 124,
   "metadata": {},
   "outputs": [],
   "source": [
    "left, right = typical(2.6, 2.7)\n",
    "data_flt = data_flt.query('@left < ceiling_height < @right')"
   ]
  },
  {
   "cell_type": "markdown",
   "metadata": {},
   "source": [
    "#### Вывод\n",
    "\n",
    "Распределения велечин реалистичны и позволяют сделать выводы о том, какие квартиры чаще всего встречаются на рынке в данном регионе:\n",
    "1. Площадью от 25 до 75 метров квадратных\n",
    "2. Ценой от 2 до 7млн рублей\n",
    "3. 1- и 2-комнатные\n",
    "4. С высотой потолков 2.50-2.70м\n",
    "\n",
    "Мы отфильтровали данные, оставив лишь самые распространенные"
   ]
  },
  {
   "cell_type": "markdown",
   "metadata": {},
   "source": [
    "### Время продажи квартиры"
   ]
  },
  {
   "cell_type": "code",
   "execution_count": 125,
   "metadata": {},
   "outputs": [
    {
     "data": {
      "text/plain": [
       "<matplotlib.axes._subplots.AxesSubplot at 0x7f69b0740bd0>"
      ]
     },
     "execution_count": 125,
     "metadata": {},
     "output_type": "execute_result"
    },
    {
     "data": {
      "image/png": "[encoded data removed]",
      "text/plain": [
       "<Figure size 432x288 with 1 Axes>"
      ]
     },
     "metadata": {
      "needs_background": "light"
     },
     "output_type": "display_data"
    }
   ],
   "source": [
    "data_flt['days_exposition'].hist(bins=30)"
   ]
  },
  {
   "cell_type": "code",
   "execution_count": 126,
   "metadata": {},
   "outputs": [
    {
     "data": {
      "text/plain": [
       "count    17279.000000\n",
       "mean       167.916257\n",
       "std        206.135971\n",
       "min          1.000000\n",
       "25%         43.000000\n",
       "50%         89.000000\n",
       "75%        211.000000\n",
       "max       1580.000000\n",
       "Name: days_exposition, dtype: float64"
      ]
     },
     "execution_count": 126,
     "metadata": {},
     "output_type": "execute_result"
    }
   ],
   "source": [
    "data_flt['days_exposition'].describe()"
   ]
  },
  {
   "cell_type": "markdown",
   "metadata": {},
   "source": [
    "На гистограмме наблюдается пик возле нуля. Продажа квартиры за 1 день несколько нереалистична, обычно требуется хотя бы неделя на посещение потенциальными покупателями до того как произойдет выход на сделку и объявление уберут. Продажа за несколько лет случается, особенно для дорогих объектов. Но вот больше 5 лет уже сомнительно.\n",
    "Посмотрим поподробнее на пик."
   ]
  },
  {
   "cell_type": "code",
   "execution_count": 127,
   "metadata": {},
   "outputs": [
    {
     "data": {
      "text/plain": [
       "<matplotlib.axes._subplots.AxesSubplot at 0x7f69b0677410>"
      ]
     },
     "execution_count": 127,
     "metadata": {},
     "output_type": "execute_result"
    },
    {
     "data": {
      "image/png": "[encoded data removed]",
      "text/plain": [
       "<Figure size 432x288 with 1 Axes>"
      ]
     },
     "metadata": {
      "needs_background": "light"
     },
     "output_type": "display_data"
    }
   ],
   "source": [
    "data_flt['days_exposition'].hist(bins=50, range=(0, 100))"
   ]
  },
  {
   "cell_type": "markdown",
   "metadata": {},
   "source": [
    "Оказывается пик создают в основном всего два значения"
   ]
  },
  {
   "cell_type": "code",
   "execution_count": 128,
   "metadata": {},
   "outputs": [
    {
     "data": {
      "text/plain": [
       "45    846\n",
       "60    482\n",
       "7     206\n",
       "30    178\n",
       "4     147\n",
       "3     147\n",
       "5     135\n",
       "14    132\n",
       "44    128\n",
       "9     126\n",
       "20    125\n",
       "8     123\n",
       "11    122\n",
       "10    119\n",
       "13    118\n",
       "21    114\n",
       "6     112\n",
       "18    112\n",
       "22    110\n",
       "28    110\n",
       "Name: days_exposition, dtype: int64"
      ]
     },
     "execution_count": 128,
     "metadata": {},
     "output_type": "execute_result"
    }
   ],
   "source": [
    "data_flt['days_exposition'].value_counts().head(20)"
   ]
  },
  {
   "cell_type": "markdown",
   "metadata": {},
   "source": [
    "Вот они -- 45 и 60 дней. Да и в целом в топе наблюдается много значений с малым временем продажи."
   ]
  },
  {
   "cell_type": "code",
   "execution_count": 129,
   "metadata": {
    "scrolled": true
   },
   "outputs": [
    {
     "data": {
      "text/html": [
       "<div>\n",
       "<style scoped>\n",
       "    .dataframe tbody tr th:only-of-type {\n",
       "        vertical-align: middle;\n",
       "    }\n",
       "\n",
       "    .dataframe tbody tr th {\n",
       "        vertical-align: top;\n",
       "    }\n",
       "\n",
       "    .dataframe thead th {\n",
       "        text-align: right;\n",
       "    }\n",
       "</style>\n",
       "<table border=\"1\" class=\"dataframe\">\n",
       "  <thead>\n",
       "    <tr style=\"text-align: right;\">\n",
       "      <th></th>\n",
       "      <th>total_images</th>\n",
       "      <th>last_price</th>\n",
       "      <th>total_area</th>\n",
       "      <th>first_day_exposition</th>\n",
       "      <th>rooms</th>\n",
       "      <th>ceiling_height</th>\n",
       "      <th>floors_total</th>\n",
       "      <th>living_area</th>\n",
       "      <th>floor</th>\n",
       "      <th>is_apartment</th>\n",
       "      <th>...</th>\n",
       "      <th>ponds_around3000</th>\n",
       "      <th>ponds_nearest</th>\n",
       "      <th>days_exposition</th>\n",
       "      <th>sqr_meter_price</th>\n",
       "      <th>weekday</th>\n",
       "      <th>month</th>\n",
       "      <th>year</th>\n",
       "      <th>floor_type</th>\n",
       "      <th>living_ratio</th>\n",
       "      <th>kitchen_ratio</th>\n",
       "    </tr>\n",
       "  </thead>\n",
       "  <tbody>\n",
       "    <tr>\n",
       "      <td>78</td>\n",
       "      <td>9</td>\n",
       "      <td>4350000.0</td>\n",
       "      <td>37.0</td>\n",
       "      <td>2018-02-22</td>\n",
       "      <td>1</td>\n",
       "      <td>2.65</td>\n",
       "      <td>19</td>\n",
       "      <td>18.00</td>\n",
       "      <td>6</td>\n",
       "      <td>False</td>\n",
       "      <td>...</td>\n",
       "      <td>0.0</td>\n",
       "      <td>NaN</td>\n",
       "      <td>45</td>\n",
       "      <td>117567.567568</td>\n",
       "      <td>3</td>\n",
       "      <td>2</td>\n",
       "      <td>2018</td>\n",
       "      <td>other</td>\n",
       "      <td>0.486486</td>\n",
       "      <td>0.289189</td>\n",
       "    </tr>\n",
       "    <tr>\n",
       "      <td>89</td>\n",
       "      <td>9</td>\n",
       "      <td>2500000.0</td>\n",
       "      <td>63.0</td>\n",
       "      <td>2018-10-25</td>\n",
       "      <td>3</td>\n",
       "      <td>2.50</td>\n",
       "      <td>5</td>\n",
       "      <td>43.00</td>\n",
       "      <td>4</td>\n",
       "      <td>False</td>\n",
       "      <td>...</td>\n",
       "      <td>0.0</td>\n",
       "      <td>NaN</td>\n",
       "      <td>45</td>\n",
       "      <td>39682.539683</td>\n",
       "      <td>3</td>\n",
       "      <td>10</td>\n",
       "      <td>2018</td>\n",
       "      <td>other</td>\n",
       "      <td>0.682540</td>\n",
       "      <td>0.142857</td>\n",
       "    </tr>\n",
       "    <tr>\n",
       "      <td>110</td>\n",
       "      <td>6</td>\n",
       "      <td>3850000.0</td>\n",
       "      <td>72.3</td>\n",
       "      <td>2017-09-29</td>\n",
       "      <td>2</td>\n",
       "      <td>2.65</td>\n",
       "      <td>3</td>\n",
       "      <td>27.40</td>\n",
       "      <td>2</td>\n",
       "      <td>False</td>\n",
       "      <td>...</td>\n",
       "      <td>0.0</td>\n",
       "      <td>NaN</td>\n",
       "      <td>45</td>\n",
       "      <td>53250.345781</td>\n",
       "      <td>4</td>\n",
       "      <td>9</td>\n",
       "      <td>2017</td>\n",
       "      <td>other</td>\n",
       "      <td>0.378976</td>\n",
       "      <td>0.326418</td>\n",
       "    </tr>\n",
       "    <tr>\n",
       "      <td>153</td>\n",
       "      <td>12</td>\n",
       "      <td>4350000.0</td>\n",
       "      <td>55.0</td>\n",
       "      <td>2017-05-21</td>\n",
       "      <td>2</td>\n",
       "      <td>2.57</td>\n",
       "      <td>9</td>\n",
       "      <td>31.20</td>\n",
       "      <td>2</td>\n",
       "      <td>False</td>\n",
       "      <td>...</td>\n",
       "      <td>0.0</td>\n",
       "      <td>NaN</td>\n",
       "      <td>45</td>\n",
       "      <td>79090.909091</td>\n",
       "      <td>6</td>\n",
       "      <td>5</td>\n",
       "      <td>2017</td>\n",
       "      <td>other</td>\n",
       "      <td>0.567273</td>\n",
       "      <td>0.150909</td>\n",
       "    </tr>\n",
       "    <tr>\n",
       "      <td>158</td>\n",
       "      <td>15</td>\n",
       "      <td>3100000.0</td>\n",
       "      <td>47.3</td>\n",
       "      <td>2017-11-07</td>\n",
       "      <td>2</td>\n",
       "      <td>2.65</td>\n",
       "      <td>5</td>\n",
       "      <td>27.50</td>\n",
       "      <td>2</td>\n",
       "      <td>False</td>\n",
       "      <td>...</td>\n",
       "      <td>0.0</td>\n",
       "      <td>NaN</td>\n",
       "      <td>45</td>\n",
       "      <td>65539.112051</td>\n",
       "      <td>1</td>\n",
       "      <td>11</td>\n",
       "      <td>2017</td>\n",
       "      <td>other</td>\n",
       "      <td>0.581395</td>\n",
       "      <td>0.179704</td>\n",
       "    </tr>\n",
       "    <tr>\n",
       "      <td>166</td>\n",
       "      <td>0</td>\n",
       "      <td>2300000.0</td>\n",
       "      <td>60.0</td>\n",
       "      <td>2017-12-02</td>\n",
       "      <td>2</td>\n",
       "      <td>2.65</td>\n",
       "      <td>3</td>\n",
       "      <td>NaN</td>\n",
       "      <td>1</td>\n",
       "      <td>False</td>\n",
       "      <td>...</td>\n",
       "      <td>0.0</td>\n",
       "      <td>NaN</td>\n",
       "      <td>45</td>\n",
       "      <td>38333.333333</td>\n",
       "      <td>5</td>\n",
       "      <td>12</td>\n",
       "      <td>2017</td>\n",
       "      <td>first</td>\n",
       "      <td>NaN</td>\n",
       "      <td>NaN</td>\n",
       "    </tr>\n",
       "    <tr>\n",
       "      <td>189</td>\n",
       "      <td>0</td>\n",
       "      <td>6150000.0</td>\n",
       "      <td>62.0</td>\n",
       "      <td>2017-10-13</td>\n",
       "      <td>3</td>\n",
       "      <td>2.65</td>\n",
       "      <td>9</td>\n",
       "      <td>41.50</td>\n",
       "      <td>5</td>\n",
       "      <td>False</td>\n",
       "      <td>...</td>\n",
       "      <td>0.0</td>\n",
       "      <td>NaN</td>\n",
       "      <td>45</td>\n",
       "      <td>99193.548387</td>\n",
       "      <td>4</td>\n",
       "      <td>10</td>\n",
       "      <td>2017</td>\n",
       "      <td>other</td>\n",
       "      <td>0.669355</td>\n",
       "      <td>0.137097</td>\n",
       "    </tr>\n",
       "    <tr>\n",
       "      <td>210</td>\n",
       "      <td>4</td>\n",
       "      <td>4300000.0</td>\n",
       "      <td>58.5</td>\n",
       "      <td>2016-06-15</td>\n",
       "      <td>2</td>\n",
       "      <td>2.65</td>\n",
       "      <td>9</td>\n",
       "      <td>28.73</td>\n",
       "      <td>7</td>\n",
       "      <td>False</td>\n",
       "      <td>...</td>\n",
       "      <td>1.0</td>\n",
       "      <td>353.0</td>\n",
       "      <td>45</td>\n",
       "      <td>73504.273504</td>\n",
       "      <td>2</td>\n",
       "      <td>6</td>\n",
       "      <td>2016</td>\n",
       "      <td>other</td>\n",
       "      <td>0.491111</td>\n",
       "      <td>0.192137</td>\n",
       "    </tr>\n",
       "    <tr>\n",
       "      <td>289</td>\n",
       "      <td>11</td>\n",
       "      <td>3150000.0</td>\n",
       "      <td>33.0</td>\n",
       "      <td>2017-06-05</td>\n",
       "      <td>1</td>\n",
       "      <td>2.65</td>\n",
       "      <td>6</td>\n",
       "      <td>18.00</td>\n",
       "      <td>4</td>\n",
       "      <td>False</td>\n",
       "      <td>...</td>\n",
       "      <td>0.0</td>\n",
       "      <td>NaN</td>\n",
       "      <td>45</td>\n",
       "      <td>95454.545455</td>\n",
       "      <td>0</td>\n",
       "      <td>6</td>\n",
       "      <td>2017</td>\n",
       "      <td>other</td>\n",
       "      <td>0.545455</td>\n",
       "      <td>0.212121</td>\n",
       "    </tr>\n",
       "    <tr>\n",
       "      <td>322</td>\n",
       "      <td>6</td>\n",
       "      <td>2000000.0</td>\n",
       "      <td>25.0</td>\n",
       "      <td>2017-02-07</td>\n",
       "      <td>1</td>\n",
       "      <td>2.65</td>\n",
       "      <td>5</td>\n",
       "      <td>NaN</td>\n",
       "      <td>5</td>\n",
       "      <td>False</td>\n",
       "      <td>...</td>\n",
       "      <td>0.0</td>\n",
       "      <td>NaN</td>\n",
       "      <td>45</td>\n",
       "      <td>80000.000000</td>\n",
       "      <td>1</td>\n",
       "      <td>2</td>\n",
       "      <td>2017</td>\n",
       "      <td>last</td>\n",
       "      <td>NaN</td>\n",
       "      <td>NaN</td>\n",
       "    </tr>\n",
       "  </tbody>\n",
       "</table>\n",
       "<p>10 rows × 29 columns</p>\n",
       "</div>"
      ],
      "text/plain": [
       "     total_images  last_price  total_area first_day_exposition  rooms  \\\n",
       "78              9   4350000.0        37.0           2018-02-22      1   \n",
       "89              9   2500000.0        63.0           2018-10-25      3   \n",
       "110             6   3850000.0        72.3           2017-09-29      2   \n",
       "153            12   4350000.0        55.0           2017-05-21      2   \n",
       "158            15   3100000.0        47.3           2017-11-07      2   \n",
       "166             0   2300000.0        60.0           2017-12-02      2   \n",
       "189             0   6150000.0        62.0           2017-10-13      3   \n",
       "210             4   4300000.0        58.5           2016-06-15      2   \n",
       "289            11   3150000.0        33.0           2017-06-05      1   \n",
       "322             6   2000000.0        25.0           2017-02-07      1   \n",
       "\n",
       "     ceiling_height  floors_total  living_area  floor  is_apartment  ...  \\\n",
       "78             2.65            19        18.00      6         False  ...   \n",
       "89             2.50             5        43.00      4         False  ...   \n",
       "110            2.65             3        27.40      2         False  ...   \n",
       "153            2.57             9        31.20      2         False  ...   \n",
       "158            2.65             5        27.50      2         False  ...   \n",
       "166            2.65             3          NaN      1         False  ...   \n",
       "189            2.65             9        41.50      5         False  ...   \n",
       "210            2.65             9        28.73      7         False  ...   \n",
       "289            2.65             6        18.00      4         False  ...   \n",
       "322            2.65             5          NaN      5         False  ...   \n",
       "\n",
       "     ponds_around3000  ponds_nearest  days_exposition  sqr_meter_price  \\\n",
       "78                0.0            NaN               45    117567.567568   \n",
       "89                0.0            NaN               45     39682.539683   \n",
       "110               0.0            NaN               45     53250.345781   \n",
       "153               0.0            NaN               45     79090.909091   \n",
       "158               0.0            NaN               45     65539.112051   \n",
       "166               0.0            NaN               45     38333.333333   \n",
       "189               0.0            NaN               45     99193.548387   \n",
       "210               1.0          353.0               45     73504.273504   \n",
       "289               0.0            NaN               45     95454.545455   \n",
       "322               0.0            NaN               45     80000.000000   \n",
       "\n",
       "    weekday  month  year  floor_type  living_ratio  kitchen_ratio  \n",
       "78        3      2  2018       other      0.486486       0.289189  \n",
       "89        3     10  2018       other      0.682540       0.142857  \n",
       "110       4      9  2017       other      0.378976       0.326418  \n",
       "153       6      5  2017       other      0.567273       0.150909  \n",
       "158       1     11  2017       other      0.581395       0.179704  \n",
       "166       5     12  2017       first           NaN            NaN  \n",
       "189       4     10  2017       other      0.669355       0.137097  \n",
       "210       2      6  2016       other      0.491111       0.192137  \n",
       "289       0      6  2017       other      0.545455       0.212121  \n",
       "322       1      2  2017        last           NaN            NaN  \n",
       "\n",
       "[10 rows x 29 columns]"
      ]
     },
     "execution_count": 129,
     "metadata": {},
     "output_type": "execute_result"
    }
   ],
   "source": [
    "data_flt.query('days_exposition == 45').head(10)"
   ]
  },
  {
   "cell_type": "markdown",
   "metadata": {},
   "source": [
    "Данные достаточно разные, не выглядят так будто это жопустим созданные ботом объявления.\n",
    "Как можно объяснить эти два пика? Возможно эти объявления публиковали не собственники, а какие-то определенные агенства, которые убирают публикацию через определенный срок -- полтора и два месяца соответственно -- если квартира так и не была продана. Убирать эти значения особо нет резона, остальные данные в них никак не мешают. Но фильтровать данные как раньше не стоит -- эти два пика сильно сдвинут квартили влево, и часть данных потеряется.\n",
    "\n",
    "Имеет ли смысл убирать данные в которых \"время продажи\" меньше недели? В целом они не обязательно являются подозрительными -- возможно квартиру не продали, но объявление решили снять по своим причинам. Тогда это время нельзя считать временем продажи. Таких данных довольно много, многовато для передумавших продавать собственников.\n",
    "\n",
    "Поступим так: все же уберем эти данные. Пики на 45 и 60 временно уберем. По этим данным найдем квартили, и уже по ним отфильтруем данные."
   ]
  },
  {
   "cell_type": "code",
   "execution_count": 130,
   "metadata": {},
   "outputs": [
    {
     "data": {
      "text/plain": [
       "count    15202.000000\n",
       "mean       186.200105\n",
       "std        213.183616\n",
       "min          8.000000\n",
       "25%         46.000000\n",
       "50%        109.000000\n",
       "75%        240.000000\n",
       "max       1580.000000\n",
       "Name: days_exposition, dtype: float64"
      ]
     },
     "execution_count": 130,
     "metadata": {},
     "output_type": "execute_result"
    }
   ],
   "source": [
    "data_flt = data_flt.query('days_exposition > 7')\n",
    "data_temp = data_flt.query('days_exposition not in [45, 60]')\n",
    "data_temp['days_exposition'].describe()"
   ]
  },
  {
   "cell_type": "code",
   "execution_count": 131,
   "metadata": {},
   "outputs": [],
   "source": [
    "left, right = typical(46, 240)\n",
    "data_flt = data_flt.query('@left < days_exposition < @right')"
   ]
  },
  {
   "cell_type": "code",
   "execution_count": 132,
   "metadata": {},
   "outputs": [
    {
     "data": {
      "text/plain": [
       "<matplotlib.axes._subplots.AxesSubplot at 0x7f69b08cefd0>"
      ]
     },
     "execution_count": 132,
     "metadata": {},
     "output_type": "execute_result"
    },
    {
     "data": {
      "image/png": "[encoded data removed]",
      "text/plain": [
       "<Figure size 432x288 with 1 Axes>"
      ]
     },
     "metadata": {
      "needs_background": "light"
     },
     "output_type": "display_data"
    }
   ],
   "source": [
    "data_flt['days_exposition'].hist(bins=30)"
   ]
  },
  {
   "cell_type": "markdown",
   "metadata": {},
   "source": [
    "#### Вывод"
   ]
  },
  {
   "cell_type": "markdown",
   "metadata": {},
   "source": [
    "Продажи в основном происходят в первые месяцы. Но не стоит забывать о том, что убранное с сайта объявление не обязательно сигнализирует о продаже."
   ]
  },
  {
   "cell_type": "markdown",
   "metadata": {},
   "source": [
    "### Влияние разных факторов на стоимость квартиры"
   ]
  },
  {
   "cell_type": "markdown",
   "metadata": {},
   "source": [
    "Построим графики зависимости для цены и площади, комнатности, расстояния до центра, а так же корреляцию этих параметров"
   ]
  },
  {
   "cell_type": "code",
   "execution_count": 133,
   "metadata": {},
   "outputs": [
    {
     "data": {
      "text/html": [
       "<div>\n",
       "<style scoped>\n",
       "    .dataframe tbody tr th:only-of-type {\n",
       "        vertical-align: middle;\n",
       "    }\n",
       "\n",
       "    .dataframe tbody tr th {\n",
       "        vertical-align: top;\n",
       "    }\n",
       "\n",
       "    .dataframe thead th {\n",
       "        text-align: right;\n",
       "    }\n",
       "</style>\n",
       "<table border=\"1\" class=\"dataframe\">\n",
       "  <thead>\n",
       "    <tr style=\"text-align: right;\">\n",
       "      <th></th>\n",
       "      <th>last_price</th>\n",
       "      <th>total_area</th>\n",
       "      <th>rooms</th>\n",
       "      <th>cityCenters_nearest</th>\n",
       "    </tr>\n",
       "  </thead>\n",
       "  <tbody>\n",
       "    <tr>\n",
       "      <td>last_price</td>\n",
       "      <td>1.000000</td>\n",
       "      <td>0.686979</td>\n",
       "      <td>0.420851</td>\n",
       "      <td>-0.312909</td>\n",
       "    </tr>\n",
       "    <tr>\n",
       "      <td>total_area</td>\n",
       "      <td>0.686979</td>\n",
       "      <td>1.000000</td>\n",
       "      <td>0.801824</td>\n",
       "      <td>-0.076565</td>\n",
       "    </tr>\n",
       "    <tr>\n",
       "      <td>rooms</td>\n",
       "      <td>0.420851</td>\n",
       "      <td>0.801824</td>\n",
       "      <td>1.000000</td>\n",
       "      <td>-0.034456</td>\n",
       "    </tr>\n",
       "    <tr>\n",
       "      <td>cityCenters_nearest</td>\n",
       "      <td>-0.312909</td>\n",
       "      <td>-0.076565</td>\n",
       "      <td>-0.034456</td>\n",
       "      <td>1.000000</td>\n",
       "    </tr>\n",
       "  </tbody>\n",
       "</table>\n",
       "</div>"
      ],
      "text/plain": [
       "                     last_price  total_area     rooms  cityCenters_nearest\n",
       "last_price             1.000000    0.686979  0.420851            -0.312909\n",
       "total_area             0.686979    1.000000  0.801824            -0.076565\n",
       "rooms                  0.420851    0.801824  1.000000            -0.034456\n",
       "cityCenters_nearest   -0.312909   -0.076565 -0.034456             1.000000"
      ]
     },
     "execution_count": 133,
     "metadata": {},
     "output_type": "execute_result"
    }
   ],
   "source": [
    "data_flt[['last_price', 'total_area', 'rooms', 'cityCenters_nearest']].corr()"
   ]
  },
  {
   "cell_type": "code",
   "execution_count": 134,
   "metadata": {
    "scrolled": false
   },
   "outputs": [
    {
     "data": {
      "text/plain": [
       "<seaborn.axisgrid.PairGrid at 0x7f69b0495710>"
      ]
     },
     "execution_count": 134,
     "metadata": {},
     "output_type": "execute_result"
    },
    {
     "data": {
      "image/png": "[encoded data removed]",
      "text/plain": [
       "<Figure size 720x720 with 20 Axes>"
      ]
     },
     "metadata": {
      "needs_background": "light"
     },
     "output_type": "display_data"
    }
   ],
   "source": [
    "sns.pairplot(data_flt[['last_price', 'total_area', 'rooms', 'cityCenters_nearest']])"
   ]
  },
  {
   "cell_type": "markdown",
   "metadata": {},
   "source": [
    "Нам интересна зависимость стоимости от остальных параметров. Рассмотрим первую строку:\n",
    "1. Цена растет с площадью. Причем маленьких квартир больше и разброс цены у них меньше. Наблюдается положительная корреляция.\n",
    "2. У нулевок -- как мы помним это студии или квартиры с открытой планировкой, самые маленькие цены. А вот цены на остальные квартиры проходят почти весь спектр цен, только однушки немного ограничены. Видимо цена больше зависит от метража чем от количества комнат. Корреляция положительная, но ближе к нулю.\n",
    "3. Квартиры ближе к центру бывают разной стоимости, от минимума до максимума, но вот чем дальше от центра тем больше падает максимально возможная стоимость квартиры. Это соответствует и отрицательной корреляции.\n"
   ]
  },
  {
   "cell_type": "code",
   "execution_count": 135,
   "metadata": {},
   "outputs": [
    {
     "data": {
      "image/png": "[encoded data removed]",
      "text/plain": [
       "<Figure size 432x288 with 1 Axes>"
      ]
     },
     "metadata": {
      "needs_background": "light"
     },
     "output_type": "display_data"
    },
    {
     "data": {
      "image/png": "[encoded data removed]",
      "text/plain": [
       "<Figure size 432x288 with 1 Axes>"
      ]
     },
     "metadata": {
      "needs_background": "light"
     },
     "output_type": "display_data"
    },
    {
     "data": {
      "image/png": "[encoded data removed]",
      "text/plain": [
       "<Figure size 432x288 with 1 Axes>"
      ]
     },
     "metadata": {
      "needs_background": "light"
     },
     "output_type": "display_data"
    }
   ],
   "source": [
    "\n",
    "data_flt.plot(x='weekday', y='last_price', style='o', xlim=(-1, 7))\n",
    "plt.show()\n",
    "data_flt.plot(x='month', y='last_price', style='o', xlim=(0, 13))\n",
    "plt.show()\n",
    "data_flt.plot(x='year', y='last_price', style='o', xlim=(2014, 2020))\n",
    "plt.show()\n"
   ]
  },
  {
   "cell_type": "markdown",
   "metadata": {},
   "source": [
    "Зависимости цены от дня недели и месяца размещения не наблюдается.\n",
    "В 2016-2018 годах цены были практически одинаковые, выше чем в 2015. в 2019 году цены снизились.\n",
    "\n",
    "Посмотрим на связь между типом этажа и ценой квартиры"
   ]
  },
  {
   "cell_type": "code",
   "execution_count": 136,
   "metadata": {},
   "outputs": [
    {
     "data": {
      "text/plain": [
       "<matplotlib.axes._subplots.AxesSubplot at 0x7f69afe9bb50>"
      ]
     },
     "execution_count": 136,
     "metadata": {},
     "output_type": "execute_result"
    },
    {
     "data": {
      "image/png": "[encoded data removed]",
      "text/plain": [
       "<Figure size 432x288 with 1 Axes>"
      ]
     },
     "metadata": {
      "needs_background": "light"
     },
     "output_type": "display_data"
    }
   ],
   "source": [
    "def floor_type_to_numeric(floor):\n",
    "    if floor == 'first':\n",
    "        return 1\n",
    "    elif floor == 'last':\n",
    "        return 100\n",
    "    else:\n",
    "        return 50\n",
    "    \n",
    "data_flt['floor_num'] = data_flt['floor_type'].apply(floor_type_to_numeric)\n",
    "data_flt.plot(x='floor_num', y='last_price', kind='scatter') #для использования диаграммы рассеяния \n",
    "# -- первый этаж вззяли за 1, последний за 100, другие за 50"
   ]
  },
  {
   "cell_type": "markdown",
   "metadata": {},
   "source": [
    "Квартиры на первом этаже несколько дешевле"
   ]
  },
  {
   "cell_type": "markdown",
   "metadata": {},
   "source": [
    "#### Вывод"
   ]
  },
  {
   "cell_type": "markdown",
   "metadata": {},
   "source": [
    "Диаграммы рассеяния и коэффециенты корреляции позволяют определить, что\n",
    "1. Между ценой и площадью квартиры присутствует положительная корреляция\n",
    "2. Между ценой и комнатностью квартиры наблюдается положительная корреляция, но слабее\n",
    "3. Между ценой и расстоянием до центра присутствует средне-слабая отрицательная корреляция -- чем ближе к центру тем дороже\n",
    "4. Между ценой и днем недели и месяцом размещения объявления зависимости не наблюдается, а вот от года цена зависит -- в 2015 и 2019 цены были ниже.\n",
    "5. Квартиры на первом этаже несколько дешевле"
   ]
  },
  {
   "cell_type": "markdown",
   "metadata": {},
   "source": [
    "### Населенные пункты-лидеры"
   ]
  },
  {
   "cell_type": "markdown",
   "metadata": {},
   "source": [
    "Выделим города с наибольшим числом объявлений"
   ]
  },
  {
   "cell_type": "code",
   "execution_count": 137,
   "metadata": {},
   "outputs": [
    {
     "data": {
      "text/plain": [
       "санкт-петербург      9569\n",
       "поселок мурино        488\n",
       "поселок шушары        371\n",
       "всеволожск            286\n",
       "поселок парголово     270\n",
       "колпино               261\n",
       "деревня кудрово       256\n",
       "пушкин                222\n",
       "гатчина               217\n",
       "выборг                169\n",
       "Name: locality_name, dtype: int64"
      ]
     },
     "execution_count": 137,
     "metadata": {},
     "output_type": "execute_result"
    }
   ],
   "source": [
    "data_flt['locality_name'].value_counts().head(10)"
   ]
  },
  {
   "cell_type": "code",
   "execution_count": 138,
   "metadata": {},
   "outputs": [
    {
     "data": {
      "text/plain": [
       "санкт-петербург      9569\n",
       "поселок мурино        488\n",
       "поселок шушары        371\n",
       "всеволожск            286\n",
       "поселок парголово     270\n",
       "колпино               261\n",
       "деревня кудрово       256\n",
       "пушкин                222\n",
       "гатчина               217\n",
       "выборг                169\n",
       "Name: locality_name, dtype: int64"
      ]
     },
     "execution_count": 138,
     "metadata": {},
     "output_type": "execute_result"
    }
   ],
   "source": [
    "big_ten = ['санкт-петербург', 'поселок мурино', 'поселок шушары', 'всеволожск', 'поселок парголово', 'колпино', 'деревня кудрово', 'пушкин', 'гатчина', 'выборг']\n",
    "data_big_ten = data_flt.query('locality_name in @big_ten')\n",
    "data_big_ten['locality_name'].value_counts()"
   ]
  },
  {
   "cell_type": "code",
   "execution_count": 139,
   "metadata": {},
   "outputs": [
    {
     "data": {
      "text/html": [
       "<div>\n",
       "<style scoped>\n",
       "    .dataframe tbody tr th:only-of-type {\n",
       "        vertical-align: middle;\n",
       "    }\n",
       "\n",
       "    .dataframe tbody tr th {\n",
       "        vertical-align: top;\n",
       "    }\n",
       "\n",
       "    .dataframe thead th {\n",
       "        text-align: right;\n",
       "    }\n",
       "</style>\n",
       "<table border=\"1\" class=\"dataframe\">\n",
       "  <thead>\n",
       "    <tr style=\"text-align: right;\">\n",
       "      <th></th>\n",
       "      <th>sqr_meter_price</th>\n",
       "    </tr>\n",
       "    <tr>\n",
       "      <th>locality_name</th>\n",
       "      <th></th>\n",
       "    </tr>\n",
       "  </thead>\n",
       "  <tbody>\n",
       "    <tr>\n",
       "      <td>выборг</td>\n",
       "      <td>56871.951697</td>\n",
       "    </tr>\n",
       "    <tr>\n",
       "      <td>всеволожск</td>\n",
       "      <td>66843.198984</td>\n",
       "    </tr>\n",
       "    <tr>\n",
       "      <td>гатчина</td>\n",
       "      <td>67777.228144</td>\n",
       "    </tr>\n",
       "    <tr>\n",
       "      <td>колпино</td>\n",
       "      <td>74572.333695</td>\n",
       "    </tr>\n",
       "    <tr>\n",
       "      <td>поселок шушары</td>\n",
       "      <td>77963.094893</td>\n",
       "    </tr>\n",
       "    <tr>\n",
       "      <td>поселок мурино</td>\n",
       "      <td>85954.007862</td>\n",
       "    </tr>\n",
       "    <tr>\n",
       "      <td>поселок парголово</td>\n",
       "      <td>88836.203410</td>\n",
       "    </tr>\n",
       "    <tr>\n",
       "      <td>деревня кудрово</td>\n",
       "      <td>92559.714092</td>\n",
       "    </tr>\n",
       "    <tr>\n",
       "      <td>пушкин</td>\n",
       "      <td>97807.731138</td>\n",
       "    </tr>\n",
       "    <tr>\n",
       "      <td>санкт-петербург</td>\n",
       "      <td>103621.565683</td>\n",
       "    </tr>\n",
       "  </tbody>\n",
       "</table>\n",
       "</div>"
      ],
      "text/plain": [
       "                   sqr_meter_price\n",
       "locality_name                     \n",
       "выборг                56871.951697\n",
       "всеволожск            66843.198984\n",
       "гатчина               67777.228144\n",
       "колпино               74572.333695\n",
       "поселок шушары        77963.094893\n",
       "поселок мурино        85954.007862\n",
       "поселок парголово     88836.203410\n",
       "деревня кудрово       92559.714092\n",
       "пушкин                97807.731138\n",
       "санкт-петербург      103621.565683"
      ]
     },
     "execution_count": 139,
     "metadata": {},
     "output_type": "execute_result"
    }
   ],
   "source": [
    "data_big_ten.pivot_table(index='locality_name', values='sqr_meter_price').sort_values(by='sqr_meter_price')"
   ]
  },
  {
   "cell_type": "markdown",
   "metadata": {},
   "source": [
    "#### Вывод"
   ]
  },
  {
   "cell_type": "markdown",
   "metadata": {},
   "source": [
    "Мы получили средние цены квадратного метра в самых популярных населенных пунктах. Самое дорогое жилье -- в Санкт-Петербурге, самое дешевое -- в Выборге"
   ]
  },
  {
   "cell_type": "markdown",
   "metadata": {},
   "source": [
    "### Определение зоны центра Санкт-Петербурга"
   ]
  },
  {
   "cell_type": "markdown",
   "metadata": {},
   "source": [
    "Выделим квартиры в Санкт-Петербурге и создадим столбец с расстоянием до центра в километрах"
   ]
  },
  {
   "cell_type": "code",
   "execution_count": 140,
   "metadata": {},
   "outputs": [
    {
     "data": {
      "text/plain": [
       "14    1110\n",
       "12    1109\n",
       "13    1034\n",
       "15    1002\n",
       "11     988\n",
       "16     834\n",
       "10     602\n",
       "9      435\n",
       "17     389\n",
       "8      318\n",
       "5      254\n",
       "4      240\n",
       "7      198\n",
       "6      171\n",
       "21     153\n",
       "18     136\n",
       "3      126\n",
       "22      98\n",
       "25      72\n",
       "19      68\n",
       "2       63\n",
       "1       45\n",
       "20      40\n",
       "24      22\n",
       "23      22\n",
       "0       17\n",
       "28       7\n",
       "26       2\n",
       "27       1\n",
       "29       1\n",
       "Name: centre_km, dtype: int64"
      ]
     },
     "execution_count": 140,
     "metadata": {},
     "output_type": "execute_result"
    }
   ],
   "source": [
    "def to_km(m):\n",
    "    km = int(m / 1000)\n",
    "    return km\n",
    "    \n",
    "data_spb = data_flt.query('locality_name == \"санкт-петербург\"')\n",
    "data_spb = data_spb.dropna(subset = ['cityCenters_nearest'])\n",
    "data_spb['centre_km'] = data_spb['cityCenters_nearest'].apply(to_km)\n",
    "data_spb['centre_km'].value_counts()"
   ]
  },
  {
   "cell_type": "code",
   "execution_count": 141,
   "metadata": {},
   "outputs": [
    {
     "data": {
      "text/plain": [
       "<matplotlib.axes._subplots.AxesSubplot at 0x7f69afe0e4d0>"
      ]
     },
     "execution_count": 141,
     "metadata": {},
     "output_type": "execute_result"
    },
    {
     "data": {
      "image/png": "[encoded data removed]",
      "text/plain": [
       "<Figure size 432x288 with 1 Axes>"
      ]
     },
     "metadata": {
      "needs_background": "light"
     },
     "output_type": "display_data"
    }
   ],
   "source": [
    "data_spb.pivot_table(index='centre_km', values='last_price').plot(style='o-')"
   ]
  },
  {
   "cell_type": "markdown",
   "metadata": {},
   "source": [
    "#### Вывод"
   ]
  },
  {
   "cell_type": "markdown",
   "metadata": {},
   "source": [
    "Цена на квартиры начинает разко падать от 7км -- видимо там и заканчивается центр города."
   ]
  },
  {
   "cell_type": "markdown",
   "metadata": {},
   "source": [
    "### Анализ квартир в центре"
   ]
  },
  {
   "cell_type": "markdown",
   "metadata": {},
   "source": [
    "#### Площадь"
   ]
  },
  {
   "cell_type": "code",
   "execution_count": 142,
   "metadata": {},
   "outputs": [
    {
     "data": {
      "image/png": "[encoded data removed]",
      "text/plain": [
       "<Figure size 432x288 with 1 Axes>"
      ]
     },
     "metadata": {
      "needs_background": "light"
     },
     "output_type": "display_data"
    },
    {
     "data": {
      "image/png": "[encoded data removed]",
      "text/plain": [
       "<Figure size 432x288 with 1 Axes>"
      ]
     },
     "metadata": {
      "needs_background": "light"
     },
     "output_type": "display_data"
    }
   ],
   "source": [
    "data_centre = data_spb.query('centre_km <= 7')\n",
    "data_centre['total_area'].hist(bins=30)\n",
    "plt.title('Centre')\n",
    "plt.show()\n",
    "data_flt['total_area'].hist(bins=30)\n",
    "plt.title('All')\n",
    "plt.show()"
   ]
  },
  {
   "cell_type": "code",
   "execution_count": 143,
   "metadata": {},
   "outputs": [
    {
     "data": {
      "text/plain": [
       "count    1114.000000\n",
       "mean       60.224937\n",
       "std        20.059062\n",
       "min        12.000000\n",
       "25%        44.225000\n",
       "50%        58.000000\n",
       "75%        73.000000\n",
       "max       114.200000\n",
       "Name: total_area, dtype: float64"
      ]
     },
     "execution_count": 143,
     "metadata": {},
     "output_type": "execute_result"
    }
   ],
   "source": [
    "data_centre['total_area'].describe()"
   ]
  },
  {
   "cell_type": "code",
   "execution_count": 144,
   "metadata": {},
   "outputs": [
    {
     "data": {
      "text/plain": [
       "count    15378.000000\n",
       "mean        50.859336\n",
       "std         16.720875\n",
       "min         12.000000\n",
       "25%         38.000000\n",
       "50%         46.800000\n",
       "75%         61.000000\n",
       "max        114.500000\n",
       "Name: total_area, dtype: float64"
      ]
     },
     "execution_count": 144,
     "metadata": {},
     "output_type": "execute_result"
    }
   ],
   "source": [
    "data_flt['total_area'].describe()"
   ]
  },
  {
   "cell_type": "markdown",
   "metadata": {},
   "source": [
    "**Вывод**"
   ]
  },
  {
   "cell_type": "markdown",
   "metadata": {},
   "source": [
    "Средняя и медианная площади квартир в центре больше, чем для всего датасета. По гистограмме можно заметить что пропорция квартир площадью до $40м^2$ меньше в центре."
   ]
  },
  {
   "cell_type": "markdown",
   "metadata": {},
   "source": [
    "#### Цена"
   ]
  },
  {
   "cell_type": "code",
   "execution_count": 145,
   "metadata": {},
   "outputs": [
    {
     "data": {
      "image/png": "[encoded data removed]",
      "text/plain": [
       "<Figure size 432x288 with 1 Axes>"
      ]
     },
     "metadata": {
      "needs_background": "light"
     },
     "output_type": "display_data"
    },
    {
     "data": {
      "image/png": "[encoded data removed]",
      "text/plain": [
       "<Figure size 432x288 with 1 Axes>"
      ]
     },
     "metadata": {
      "needs_background": "light"
     },
     "output_type": "display_data"
    }
   ],
   "source": [
    "data_centre['last_price'].hist(bins=30)\n",
    "plt.title('Centre')\n",
    "plt.show()\n",
    "data_flt['last_price'].hist(bins=30)\n",
    "plt.title('All')\n",
    "plt.show()"
   ]
  },
  {
   "cell_type": "code",
   "execution_count": 146,
   "metadata": {},
   "outputs": [
    {
     "data": {
      "text/plain": [
       "count    1.114000e+03\n",
       "mean     6.967109e+06\n",
       "std      2.181359e+06\n",
       "min      1.686000e+06\n",
       "25%      5.250000e+06\n",
       "50%      6.761381e+06\n",
       "75%      8.500000e+06\n",
       "max      1.187925e+07\n",
       "Name: last_price, dtype: float64"
      ]
     },
     "execution_count": 146,
     "metadata": {},
     "output_type": "execute_result"
    }
   ],
   "source": [
    "data_centre['last_price'].describe()"
   ]
  },
  {
   "cell_type": "code",
   "execution_count": 147,
   "metadata": {},
   "outputs": [
    {
     "data": {
      "text/plain": [
       "count    1.537800e+04\n",
       "mean     4.554688e+06\n",
       "std      2.004354e+06\n",
       "min      1.219000e+04\n",
       "25%      3.200000e+06\n",
       "50%      4.200000e+06\n",
       "75%      5.500000e+06\n",
       "max      1.188000e+07\n",
       "Name: last_price, dtype: float64"
      ]
     },
     "execution_count": 147,
     "metadata": {},
     "output_type": "execute_result"
    }
   ],
   "source": [
    "data_flt['last_price'].describe()"
   ]
  },
  {
   "cell_type": "markdown",
   "metadata": {},
   "source": [
    "**Вывод**"
   ]
  },
  {
   "cell_type": "markdown",
   "metadata": {},
   "source": [
    "Квартиры в центре в основном дороже рынка: средняя и медианная цены выше на 2.5млн. В целом гораздо на центр приходится много квартир ценой выше среднего по рынку."
   ]
  },
  {
   "cell_type": "markdown",
   "metadata": {},
   "source": [
    "#### Комнаты"
   ]
  },
  {
   "cell_type": "code",
   "execution_count": 148,
   "metadata": {},
   "outputs": [
    {
     "data": {
      "image/png": "[encoded data removed]",
      "text/plain": [
       "<Figure size 432x288 with 1 Axes>"
      ]
     },
     "metadata": {
      "needs_background": "light"
     },
     "output_type": "display_data"
    },
    {
     "data": {
      "image/png": "[encoded data removed]",
      "text/plain": [
       "<Figure size 432x288 with 1 Axes>"
      ]
     },
     "metadata": {
      "needs_background": "light"
     },
     "output_type": "display_data"
    }
   ],
   "source": [
    "data_centre['rooms'].hist(bins=30)\n",
    "plt.title('Centre')\n",
    "plt.show()\n",
    "data_flt['rooms'].hist(bins=30)\n",
    "plt.title('All')\n",
    "plt.show()"
   ]
  },
  {
   "cell_type": "code",
   "execution_count": 149,
   "metadata": {},
   "outputs": [
    {
     "data": {
      "text/plain": [
       "count    1114.000000\n",
       "mean        2.089767\n",
       "std         0.897748\n",
       "min         0.000000\n",
       "25%         1.000000\n",
       "50%         2.000000\n",
       "75%         3.000000\n",
       "max         5.000000\n",
       "Name: rooms, dtype: float64"
      ]
     },
     "execution_count": 149,
     "metadata": {},
     "output_type": "execute_result"
    }
   ],
   "source": [
    "data_centre['rooms'].describe()"
   ]
  },
  {
   "cell_type": "code",
   "execution_count": 150,
   "metadata": {},
   "outputs": [
    {
     "data": {
      "text/plain": [
       "count    15378.000000\n",
       "mean         1.844713\n",
       "std          0.860844\n",
       "min          0.000000\n",
       "25%          1.000000\n",
       "50%          2.000000\n",
       "75%          2.000000\n",
       "max          5.000000\n",
       "Name: rooms, dtype: float64"
      ]
     },
     "execution_count": 150,
     "metadata": {},
     "output_type": "execute_result"
    }
   ],
   "source": [
    "data_flt['rooms'].describe()"
   ]
  },
  {
   "cell_type": "markdown",
   "metadata": {},
   "source": [
    "**Вывод**\n",
    "\n",
    "В центре больше всего двушек, примерно одинаковое количество однушек и трешек. В то время как в целом на рынке больше всего однушек. "
   ]
  },
  {
   "cell_type": "markdown",
   "metadata": {},
   "source": [
    "#### Потолки"
   ]
  },
  {
   "cell_type": "code",
   "execution_count": 151,
   "metadata": {},
   "outputs": [
    {
     "data": {
      "image/png": "[encoded data removed]",
      "text/plain": [
       "<Figure size 432x288 with 1 Axes>"
      ]
     },
     "metadata": {
      "needs_background": "light"
     },
     "output_type": "display_data"
    },
    {
     "data": {
      "image/png": "[encoded data removed]",
      "text/plain": [
       "<Figure size 432x288 with 1 Axes>"
      ]
     },
     "metadata": {
      "needs_background": "light"
     },
     "output_type": "display_data"
    }
   ],
   "source": [
    "data_centre['ceiling_height'].hist(bins=30)\n",
    "plt.title('Centre')\n",
    "plt.show()\n",
    "data_flt['ceiling_height'].hist(bins=30)\n",
    "plt.title('All')\n",
    "plt.show()"
   ]
  },
  {
   "cell_type": "code",
   "execution_count": 152,
   "metadata": {},
   "outputs": [
    {
     "data": {
      "text/plain": [
       "count    1114.000000\n",
       "mean        2.657594\n",
       "std         0.073193\n",
       "min         2.460000\n",
       "25%         2.650000\n",
       "50%         2.650000\n",
       "75%         2.650000\n",
       "max         2.850000\n",
       "Name: ceiling_height, dtype: float64"
      ]
     },
     "execution_count": 152,
     "metadata": {},
     "output_type": "execute_result"
    }
   ],
   "source": [
    "data_centre['ceiling_height'].describe()"
   ]
  },
  {
   "cell_type": "code",
   "execution_count": 153,
   "metadata": {},
   "outputs": [
    {
     "data": {
      "text/plain": [
       "count    15378.000000\n",
       "mean         2.629681\n",
       "std          0.078626\n",
       "min          2.460000\n",
       "25%          2.600000\n",
       "50%          2.650000\n",
       "75%          2.650000\n",
       "max          2.850000\n",
       "Name: ceiling_height, dtype: float64"
      ]
     },
     "execution_count": 153,
     "metadata": {},
     "output_type": "execute_result"
    }
   ],
   "source": [
    "data_flt['ceiling_height'].describe()"
   ]
  },
  {
   "cell_type": "markdown",
   "metadata": {},
   "source": [
    "**Вывод**\n",
    "\n",
    "В центре меньше квартир высотой потолков меньше 2.65м, но в основном распределение такое же как по рынку."
   ]
  },
  {
   "cell_type": "markdown",
   "metadata": {},
   "source": [
    "#### Влияние различных факторов на цену"
   ]
  },
  {
   "cell_type": "code",
   "execution_count": 154,
   "metadata": {},
   "outputs": [
    {
     "data": {
      "text/plain": [
       "<matplotlib.axes._subplots.AxesSubplot at 0x7f69af712750>"
      ]
     },
     "execution_count": 154,
     "metadata": {},
     "output_type": "execute_result"
    },
    {
     "data": {
      "image/png": "[encoded data removed]",
      "text/plain": [
       "<Figure size 432x288 with 1 Axes>"
      ]
     },
     "metadata": {
      "needs_background": "light"
     },
     "output_type": "display_data"
    }
   ],
   "source": [
    "data_centre.plot(x='rooms', y='last_price', kind='scatter')"
   ]
  },
  {
   "cell_type": "markdown",
   "metadata": {},
   "source": [
    "Минимум цены растет с наличием комнат, но для любой комнатности верхняя граница цен близка к максимальным ценам датасета."
   ]
  },
  {
   "cell_type": "code",
   "execution_count": 155,
   "metadata": {},
   "outputs": [
    {
     "data": {
      "text/plain": [
       "<matplotlib.axes._subplots.AxesSubplot at 0x7f69af6e5790>"
      ]
     },
     "execution_count": 155,
     "metadata": {},
     "output_type": "execute_result"
    },
    {
     "data": {
      "image/png": "[encoded data removed]",
      "text/plain": [
       "<Figure size 432x288 with 1 Axes>"
      ]
     },
     "metadata": {
      "needs_background": "light"
     },
     "output_type": "display_data"
    }
   ],
   "source": [
    "data_centre.plot(x='floor_num', y='last_price', kind='scatter') "
   ]
  },
  {
   "cell_type": "markdown",
   "metadata": {},
   "source": [
    "Цены квартир на первом этаже ниже, а на последнем -- выше среднего"
   ]
  },
  {
   "cell_type": "code",
   "execution_count": 156,
   "metadata": {},
   "outputs": [
    {
     "data": {
      "text/plain": [
       "<matplotlib.axes._subplots.AxesSubplot at 0x7f69af670810>"
      ]
     },
     "execution_count": 156,
     "metadata": {},
     "output_type": "execute_result"
    },
    {
     "data": {
      "image/png": "[encoded data removed]",
      "text/plain": [
       "<Figure size 432x288 with 1 Axes>"
      ]
     },
     "metadata": {
      "needs_background": "light"
     },
     "output_type": "display_data"
    }
   ],
   "source": [
    "data_centre.plot(x='cityCenters_nearest', y='last_price', kind='scatter')"
   ]
  },
  {
   "cell_type": "code",
   "execution_count": 157,
   "metadata": {},
   "outputs": [
    {
     "data": {
      "text/plain": [
       "-0.13020397854331298"
      ]
     },
     "execution_count": 157,
     "metadata": {},
     "output_type": "execute_result"
    }
   ],
   "source": [
    "data_centre['cityCenters_nearest'].corr(data['last_price'])"
   ]
  },
  {
   "cell_type": "markdown",
   "metadata": {},
   "source": [
    "Внутри центра не наблюдается особой корреляции между ценой и удаленностью от \"точки центра\""
   ]
  },
  {
   "cell_type": "code",
   "execution_count": 158,
   "metadata": {
    "scrolled": false
   },
   "outputs": [
    {
     "data": {
      "image/png": "[encoded data removed]",
      "text/plain": [
       "<Figure size 432x288 with 1 Axes>"
      ]
     },
     "metadata": {
      "needs_background": "light"
     },
     "output_type": "display_data"
    },
    {
     "data": {
      "image/png": "[encoded data removed]",
      "text/plain": [
       "<Figure size 432x288 with 1 Axes>"
      ]
     },
     "metadata": {
      "needs_background": "light"
     },
     "output_type": "display_data"
    },
    {
     "data": {
      "image/png": "[encoded data removed]",
      "text/plain": [
       "<Figure size 432x288 with 1 Axes>"
      ]
     },
     "metadata": {
      "needs_background": "light"
     },
     "output_type": "display_data"
    }
   ],
   "source": [
    "data_centre.plot(x='weekday', y='last_price', style='o', xlim=(-1, 7))\n",
    "plt.show()\n",
    "data_centre.plot(x='month', y='last_price', style='o', xlim=(0, 13))\n",
    "plt.show()\n",
    "data_centre.plot(x='year', y='last_price', style='o', xlim=(2014, 2020))\n",
    "plt.show()"
   ]
  },
  {
   "cell_type": "markdown",
   "metadata": {},
   "source": [
    "Зависимости от дня недели не наблюдается. В мае и июле цены чуть ниже чем в остальные месяцы. В 2019 году цены явно ниже чем в остальных, максимума они достигают в 2017 и 2018 годах, в 2015 и 2016 цены росли."
   ]
  },
  {
   "cell_type": "markdown",
   "metadata": {},
   "source": [
    "**Вывод**\n",
    "\n",
    "Квартиры с бОльшим количеством комнат дороже, так же как и квартиры на последних этажах, в то время как квартиры на первом этаже в среднем дешевле. От расположения внутри центра цены не зависят, как и от дня недели.\n",
    "Значительная зависимость наблюдается от года: в 2015-2016 цены росли, в 2017-2018 достигли максимума, а в 2019 упали.\n"
   ]
  },
  {
   "cell_type": "markdown",
   "metadata": {},
   "source": [
    "## Общий вывод"
   ]
  },
  {
   "cell_type": "markdown",
   "metadata": {},
   "source": [
    "Был проведен анализ данных по объявлениям о продаже квартир\n",
    "\n",
    "Мы выделили наиболее типовые квартиры, избавившись от выбросов в данных. Проанализировали время продажи, найдя аномальные значения, предположили как они могли возникнуть, и отфильтровали типовые данные игнориря аномальности. \n",
    "Определили, что на цену квартир влияет их площадь, количество комнат, тип этажа, а так же близость к центру. В то время как день недели и месяц размещения объявления не оказывает влияния, в зависимости от года цена менялась.\n",
    "Нашли самые популярные населенные пункты по продаже квартир, и определили что дороже всего среди них квартиры в Санкт-Петербурге, а дешевле всего -- в Выборге.\n",
    "Определили что центр Санкт-Петербурга обладает радиусом 7км, и проанализировали квартиры в центре, обнаружив что они дороже, чем в основном по рынку и несколько больше. \n",
    "Для квартир в центре мы выяснили что цена так же зависит от количества комнат, а так же от типа этажа, но что расположение и день недели и месяц размещения объявления не оказывают влияния. Мы увидели что в 2015-2016 цены росли, в 2017-2018 достигли максимума, а в 2019 упали."
   ]
  }
 ],
 "metadata": {
  "ExecuteTimeLog": [
   {
    "duration": 518,
    "start_time": "2022-01-25T11:07:07.660Z"
   },
   {
    "duration": 74,
    "start_time": "2022-01-25T11:09:12.934Z"
   },
   {
    "duration": 63,
    "start_time": "2022-01-25T11:13:09.890Z"
   },
   {
    "duration": 64,
    "start_time": "2022-01-25T11:13:15.310Z"
   },
   {
    "duration": 90,
    "start_time": "2022-01-25T11:13:26.821Z"
   },
   {
    "duration": 11,
    "start_time": "2022-01-25T11:16:18.884Z"
   },
   {
    "duration": 1421,
    "start_time": "2022-01-25T12:06:40.705Z"
   },
   {
    "duration": 9,
    "start_time": "2022-01-25T12:07:52.377Z"
   },
   {
    "duration": 7,
    "start_time": "2022-01-25T12:10:49.320Z"
   },
   {
    "duration": 148,
    "start_time": "2022-01-25T12:17:07.395Z"
   },
   {
    "duration": 135,
    "start_time": "2022-01-25T12:17:19.446Z"
   },
   {
    "duration": 7,
    "start_time": "2022-01-25T12:21:25.589Z"
   },
   {
    "duration": 8,
    "start_time": "2022-01-25T12:21:45.126Z"
   },
   {
    "duration": 5,
    "start_time": "2022-01-25T12:21:53.433Z"
   },
   {
    "duration": 6,
    "start_time": "2022-01-25T12:21:57.741Z"
   },
   {
    "duration": 7,
    "start_time": "2022-01-25T12:22:23.714Z"
   },
   {
    "duration": 4188,
    "start_time": "2022-01-25T12:42:23.066Z"
   },
   {
    "duration": 6,
    "start_time": "2022-01-25T12:42:28.855Z"
   },
   {
    "duration": 7,
    "start_time": "2022-01-25T12:43:24.587Z"
   },
   {
    "duration": 13,
    "start_time": "2022-01-25T12:44:03.980Z"
   },
   {
    "duration": 8,
    "start_time": "2022-01-25T12:46:49.394Z"
   },
   {
    "duration": 11,
    "start_time": "2022-01-25T12:48:02.274Z"
   },
   {
    "duration": 7,
    "start_time": "2022-01-25T12:48:26.944Z"
   },
   {
    "duration": 5,
    "start_time": "2022-01-25T12:51:03.551Z"
   },
   {
    "duration": 14,
    "start_time": "2022-01-25T12:51:11.286Z"
   },
   {
    "duration": 12,
    "start_time": "2022-01-25T12:56:26.973Z"
   },
   {
    "duration": 5,
    "start_time": "2022-01-25T12:57:17.707Z"
   },
   {
    "duration": 9,
    "start_time": "2022-01-25T12:59:40.298Z"
   },
   {
    "duration": 9,
    "start_time": "2022-01-25T12:59:41.457Z"
   },
   {
    "duration": 8,
    "start_time": "2022-01-25T12:59:44.039Z"
   },
   {
    "duration": 4,
    "start_time": "2022-01-25T13:02:23.706Z"
   },
   {
    "duration": 6,
    "start_time": "2022-01-25T13:04:13.603Z"
   },
   {
    "duration": 9,
    "start_time": "2022-01-25T13:04:49.751Z"
   },
   {
    "duration": 11,
    "start_time": "2022-01-25T13:05:00.005Z"
   },
   {
    "duration": 10,
    "start_time": "2022-01-25T13:05:06.773Z"
   },
   {
    "duration": 14,
    "start_time": "2022-01-25T13:08:43.854Z"
   },
   {
    "duration": 46,
    "start_time": "2022-01-25T13:08:56.954Z"
   },
   {
    "duration": 20,
    "start_time": "2022-01-25T13:09:02.177Z"
   },
   {
    "duration": 18,
    "start_time": "2022-01-25T13:09:08.681Z"
   },
   {
    "duration": 3,
    "start_time": "2022-01-25T13:10:04.569Z"
   },
   {
    "duration": 4,
    "start_time": "2022-01-25T13:21:32.188Z"
   },
   {
    "duration": 5,
    "start_time": "2022-01-25T13:22:45.546Z"
   },
   {
    "duration": 131,
    "start_time": "2022-01-25T13:53:17.471Z"
   },
   {
    "duration": 145,
    "start_time": "2022-01-25T13:53:24.963Z"
   },
   {
    "duration": 1780,
    "start_time": "2022-01-25T13:53:39.989Z"
   },
   {
    "duration": 365,
    "start_time": "2022-01-25T13:54:27.378Z"
   },
   {
    "duration": 401,
    "start_time": "2022-01-25T13:54:38.861Z"
   },
   {
    "duration": 2868,
    "start_time": "2022-01-25T14:00:26.336Z"
   },
   {
    "duration": 3446,
    "start_time": "2022-01-25T14:01:19.075Z"
   },
   {
    "duration": 3526,
    "start_time": "2022-01-25T14:02:00.201Z"
   },
   {
    "duration": 2834,
    "start_time": "2022-01-25T14:03:10.543Z"
   },
   {
    "duration": 5432,
    "start_time": "2022-01-25T14:03:20.872Z"
   },
   {
    "duration": 5500,
    "start_time": "2022-01-25T14:03:36.492Z"
   },
   {
    "duration": 5477,
    "start_time": "2022-01-25T14:04:10.636Z"
   },
   {
    "duration": 330,
    "start_time": "2022-01-25T14:04:34.354Z"
   },
   {
    "duration": 4226,
    "start_time": "2022-01-25T14:09:44.129Z"
   },
   {
    "duration": 3657,
    "start_time": "2022-01-25T14:10:32.421Z"
   },
   {
    "duration": 550,
    "start_time": "2022-01-25T14:10:54.115Z"
   },
   {
    "duration": 102,
    "start_time": "2022-01-25T14:10:54.667Z"
   },
   {
    "duration": 10,
    "start_time": "2022-01-25T14:10:54.771Z"
   },
   {
    "duration": 19,
    "start_time": "2022-01-25T14:10:54.784Z"
   },
   {
    "duration": 14,
    "start_time": "2022-01-25T14:10:54.805Z"
   },
   {
    "duration": 4,
    "start_time": "2022-01-25T14:10:54.821Z"
   },
   {
    "duration": 10,
    "start_time": "2022-01-25T14:10:54.826Z"
   },
   {
    "duration": 7,
    "start_time": "2022-01-25T14:10:54.839Z"
   },
   {
    "duration": 9,
    "start_time": "2022-01-25T14:10:54.848Z"
   },
   {
    "duration": 4,
    "start_time": "2022-01-25T14:10:54.897Z"
   },
   {
    "duration": 8,
    "start_time": "2022-01-25T14:10:54.903Z"
   },
   {
    "duration": 20,
    "start_time": "2022-01-25T14:10:54.913Z"
   },
   {
    "duration": 4,
    "start_time": "2022-01-25T14:10:54.935Z"
   },
   {
    "duration": 11,
    "start_time": "2022-01-25T14:10:54.941Z"
   },
   {
    "duration": 6,
    "start_time": "2022-01-25T14:10:54.954Z"
   },
   {
    "duration": 3405,
    "start_time": "2022-01-25T14:11:11.249Z"
   },
   {
    "duration": 3461,
    "start_time": "2022-01-25T14:11:54.596Z"
   },
   {
    "duration": 572,
    "start_time": "2022-01-25T14:12:23.137Z"
   },
   {
    "duration": 101,
    "start_time": "2022-01-25T14:12:23.711Z"
   },
   {
    "duration": 11,
    "start_time": "2022-01-25T14:12:23.814Z"
   },
   {
    "duration": 7,
    "start_time": "2022-01-25T14:12:23.827Z"
   },
   {
    "duration": 17,
    "start_time": "2022-01-25T14:12:23.836Z"
   },
   {
    "duration": 7,
    "start_time": "2022-01-25T14:12:23.855Z"
   },
   {
    "duration": 34,
    "start_time": "2022-01-25T14:12:23.864Z"
   },
   {
    "duration": 10,
    "start_time": "2022-01-25T14:12:23.902Z"
   },
   {
    "duration": 30,
    "start_time": "2022-01-25T14:12:23.914Z"
   },
   {
    "duration": 13,
    "start_time": "2022-01-25T14:12:23.946Z"
   },
   {
    "duration": 21,
    "start_time": "2022-01-25T14:12:23.961Z"
   },
   {
    "duration": 32,
    "start_time": "2022-01-25T14:12:23.984Z"
   },
   {
    "duration": 5,
    "start_time": "2022-01-25T14:12:24.018Z"
   },
   {
    "duration": 14,
    "start_time": "2022-01-25T14:12:24.025Z"
   },
   {
    "duration": 10,
    "start_time": "2022-01-25T14:12:24.040Z"
   },
   {
    "duration": 3446,
    "start_time": "2022-01-25T14:12:24.051Z"
   },
   {
    "duration": 3519,
    "start_time": "2022-01-25T14:13:30.633Z"
   },
   {
    "duration": 519,
    "start_time": "2022-01-25T14:13:37.236Z"
   },
   {
    "duration": 99,
    "start_time": "2022-01-25T14:13:37.757Z"
   },
   {
    "duration": 12,
    "start_time": "2022-01-25T14:13:37.859Z"
   },
   {
    "duration": 24,
    "start_time": "2022-01-25T14:13:37.873Z"
   },
   {
    "duration": 12,
    "start_time": "2022-01-25T14:13:37.899Z"
   },
   {
    "duration": 3,
    "start_time": "2022-01-25T14:13:37.913Z"
   },
   {
    "duration": 11,
    "start_time": "2022-01-25T14:13:37.917Z"
   },
   {
    "duration": 7,
    "start_time": "2022-01-25T14:13:37.931Z"
   },
   {
    "duration": 7,
    "start_time": "2022-01-25T14:13:37.941Z"
   },
   {
    "duration": 7,
    "start_time": "2022-01-25T14:13:37.950Z"
   },
   {
    "duration": 38,
    "start_time": "2022-01-25T14:13:37.959Z"
   },
   {
    "duration": 16,
    "start_time": "2022-01-25T14:13:37.999Z"
   },
   {
    "duration": 3,
    "start_time": "2022-01-25T14:13:38.017Z"
   },
   {
    "duration": 7,
    "start_time": "2022-01-25T14:13:38.022Z"
   },
   {
    "duration": 11,
    "start_time": "2022-01-25T14:13:38.031Z"
   },
   {
    "duration": 3402,
    "start_time": "2022-01-25T14:13:38.044Z"
   },
   {
    "duration": 3459,
    "start_time": "2022-01-25T14:18:59.351Z"
   },
   {
    "duration": 577,
    "start_time": "2022-01-25T14:19:20.511Z"
   },
   {
    "duration": 109,
    "start_time": "2022-01-25T14:19:21.090Z"
   },
   {
    "duration": 12,
    "start_time": "2022-01-25T14:19:21.202Z"
   },
   {
    "duration": 10,
    "start_time": "2022-01-25T14:19:21.217Z"
   },
   {
    "duration": 19,
    "start_time": "2022-01-25T14:19:21.228Z"
   },
   {
    "duration": 5,
    "start_time": "2022-01-25T14:19:21.250Z"
   },
   {
    "duration": 50,
    "start_time": "2022-01-25T14:19:21.257Z"
   },
   {
    "duration": 14,
    "start_time": "2022-01-25T14:19:21.310Z"
   },
   {
    "duration": 12,
    "start_time": "2022-01-25T14:19:21.328Z"
   },
   {
    "duration": 5,
    "start_time": "2022-01-25T14:19:21.343Z"
   },
   {
    "duration": 16,
    "start_time": "2022-01-25T14:19:21.351Z"
   },
   {
    "duration": 49,
    "start_time": "2022-01-25T14:19:21.369Z"
   },
   {
    "duration": 4,
    "start_time": "2022-01-25T14:19:21.419Z"
   },
   {
    "duration": 8,
    "start_time": "2022-01-25T14:19:21.425Z"
   },
   {
    "duration": 7,
    "start_time": "2022-01-25T14:19:21.435Z"
   },
   {
    "duration": 3512,
    "start_time": "2022-01-25T14:19:21.444Z"
   },
   {
    "duration": 3316,
    "start_time": "2022-01-25T14:20:09.130Z"
   },
   {
    "duration": 4,
    "start_time": "2022-01-25T14:20:13.345Z"
   },
   {
    "duration": 106,
    "start_time": "2022-01-25T14:20:13.353Z"
   },
   {
    "duration": 11,
    "start_time": "2022-01-25T14:20:13.461Z"
   },
   {
    "duration": 24,
    "start_time": "2022-01-25T14:20:13.474Z"
   },
   {
    "duration": 15,
    "start_time": "2022-01-25T14:20:13.500Z"
   },
   {
    "duration": 4,
    "start_time": "2022-01-25T14:20:13.517Z"
   },
   {
    "duration": 15,
    "start_time": "2022-01-25T14:20:13.523Z"
   },
   {
    "duration": 8,
    "start_time": "2022-01-25T14:20:13.540Z"
   },
   {
    "duration": 49,
    "start_time": "2022-01-25T14:20:13.550Z"
   },
   {
    "duration": 8,
    "start_time": "2022-01-25T14:20:13.602Z"
   },
   {
    "duration": 9,
    "start_time": "2022-01-25T14:20:13.612Z"
   },
   {
    "duration": 19,
    "start_time": "2022-01-25T14:20:13.624Z"
   },
   {
    "duration": 4,
    "start_time": "2022-01-25T14:20:13.645Z"
   },
   {
    "duration": 46,
    "start_time": "2022-01-25T14:20:13.651Z"
   },
   {
    "duration": 7,
    "start_time": "2022-01-25T14:20:13.700Z"
   },
   {
    "duration": 3797,
    "start_time": "2022-01-25T14:20:13.709Z"
   },
   {
    "duration": 3724,
    "start_time": "2022-01-25T14:21:32.068Z"
   },
   {
    "duration": 3,
    "start_time": "2022-01-25T14:22:57.016Z"
   },
   {
    "duration": 103,
    "start_time": "2022-01-25T14:22:57.021Z"
   },
   {
    "duration": 12,
    "start_time": "2022-01-25T14:22:57.127Z"
   },
   {
    "duration": 14,
    "start_time": "2022-01-25T14:22:57.141Z"
   },
   {
    "duration": 18,
    "start_time": "2022-01-25T14:22:57.156Z"
   },
   {
    "duration": 24,
    "start_time": "2022-01-25T14:22:57.176Z"
   },
   {
    "duration": 13,
    "start_time": "2022-01-25T14:22:57.201Z"
   },
   {
    "duration": 16,
    "start_time": "2022-01-25T14:22:57.217Z"
   },
   {
    "duration": 14,
    "start_time": "2022-01-25T14:22:57.235Z"
   },
   {
    "duration": 16,
    "start_time": "2022-01-25T14:22:57.251Z"
   },
   {
    "duration": 11,
    "start_time": "2022-01-25T14:22:57.269Z"
   },
   {
    "duration": 29,
    "start_time": "2022-01-25T14:22:57.282Z"
   },
   {
    "duration": 4,
    "start_time": "2022-01-25T14:22:57.313Z"
   },
   {
    "duration": 10,
    "start_time": "2022-01-25T14:22:57.320Z"
   },
   {
    "duration": 14,
    "start_time": "2022-01-25T14:22:57.332Z"
   },
   {
    "duration": 3613,
    "start_time": "2022-01-25T14:22:57.348Z"
   },
   {
    "duration": 3581,
    "start_time": "2022-01-25T14:24:20.178Z"
   },
   {
    "duration": 2,
    "start_time": "2022-01-25T14:24:24.997Z"
   },
   {
    "duration": 108,
    "start_time": "2022-01-25T14:24:25.001Z"
   },
   {
    "duration": 12,
    "start_time": "2022-01-25T14:24:25.112Z"
   },
   {
    "duration": 7,
    "start_time": "2022-01-25T14:24:25.126Z"
   },
   {
    "duration": 16,
    "start_time": "2022-01-25T14:24:25.135Z"
   },
   {
    "duration": 3,
    "start_time": "2022-01-25T14:24:25.153Z"
   },
   {
    "duration": 44,
    "start_time": "2022-01-25T14:24:25.158Z"
   },
   {
    "duration": 14,
    "start_time": "2022-01-25T14:24:25.205Z"
   },
   {
    "duration": 8,
    "start_time": "2022-01-25T14:24:25.221Z"
   },
   {
    "duration": 7,
    "start_time": "2022-01-25T14:24:25.231Z"
   },
   {
    "duration": 16,
    "start_time": "2022-01-25T14:24:25.240Z"
   },
   {
    "duration": 20,
    "start_time": "2022-01-25T14:24:25.258Z"
   },
   {
    "duration": 20,
    "start_time": "2022-01-25T14:24:25.279Z"
   },
   {
    "duration": 10,
    "start_time": "2022-01-25T14:24:25.301Z"
   },
   {
    "duration": 16,
    "start_time": "2022-01-25T14:24:25.313Z"
   },
   {
    "duration": 3689,
    "start_time": "2022-01-25T14:24:25.330Z"
   },
   {
    "duration": 192,
    "start_time": "2022-01-25T14:37:22.318Z"
   },
   {
    "duration": 2,
    "start_time": "2022-01-25T14:37:50.919Z"
   },
   {
    "duration": 106,
    "start_time": "2022-01-25T14:37:50.923Z"
   },
   {
    "duration": 11,
    "start_time": "2022-01-25T14:37:51.031Z"
   },
   {
    "duration": 30,
    "start_time": "2022-01-25T14:37:51.044Z"
   },
   {
    "duration": 28,
    "start_time": "2022-01-25T14:37:51.076Z"
   },
   {
    "duration": 21,
    "start_time": "2022-01-25T14:37:51.106Z"
   },
   {
    "duration": 20,
    "start_time": "2022-01-25T14:37:51.130Z"
   },
   {
    "duration": 28,
    "start_time": "2022-01-25T14:37:51.152Z"
   },
   {
    "duration": 28,
    "start_time": "2022-01-25T14:37:51.182Z"
   },
   {
    "duration": 29,
    "start_time": "2022-01-25T14:37:51.212Z"
   },
   {
    "duration": 15,
    "start_time": "2022-01-25T14:37:51.243Z"
   },
   {
    "duration": 23,
    "start_time": "2022-01-25T14:37:51.260Z"
   },
   {
    "duration": 3,
    "start_time": "2022-01-25T14:37:51.285Z"
   },
   {
    "duration": 6,
    "start_time": "2022-01-25T14:37:51.290Z"
   },
   {
    "duration": 17,
    "start_time": "2022-01-25T14:37:51.298Z"
   },
   {
    "duration": 181,
    "start_time": "2022-01-25T14:37:55.346Z"
   },
   {
    "duration": 567,
    "start_time": "2022-01-25T14:38:15.715Z"
   },
   {
    "duration": 101,
    "start_time": "2022-01-25T14:38:16.284Z"
   },
   {
    "duration": 17,
    "start_time": "2022-01-25T14:38:16.388Z"
   },
   {
    "duration": 6,
    "start_time": "2022-01-25T14:38:16.407Z"
   },
   {
    "duration": 19,
    "start_time": "2022-01-25T14:38:16.414Z"
   },
   {
    "duration": 12,
    "start_time": "2022-01-25T14:38:16.434Z"
   },
   {
    "duration": 11,
    "start_time": "2022-01-25T14:38:16.448Z"
   },
   {
    "duration": 12,
    "start_time": "2022-01-25T14:38:16.461Z"
   },
   {
    "duration": 27,
    "start_time": "2022-01-25T14:38:16.475Z"
   },
   {
    "duration": 7,
    "start_time": "2022-01-25T14:38:16.503Z"
   },
   {
    "duration": 53,
    "start_time": "2022-01-25T14:38:16.512Z"
   },
   {
    "duration": 21,
    "start_time": "2022-01-25T14:38:16.567Z"
   },
   {
    "duration": 4,
    "start_time": "2022-01-25T14:38:16.590Z"
   },
   {
    "duration": 16,
    "start_time": "2022-01-25T14:38:16.596Z"
   },
   {
    "duration": 56,
    "start_time": "2022-01-25T14:38:16.614Z"
   },
   {
    "duration": 240,
    "start_time": "2022-01-25T14:38:19.794Z"
   },
   {
    "duration": 3394,
    "start_time": "2022-01-25T14:38:55.928Z"
   },
   {
    "duration": 309,
    "start_time": "2022-01-25T14:39:53.793Z"
   },
   {
    "duration": 3689,
    "start_time": "2022-01-25T14:41:07.623Z"
   },
   {
    "duration": 4462,
    "start_time": "2022-01-25T14:44:58.626Z"
   },
   {
    "duration": 3288,
    "start_time": "2022-01-25T14:45:34.401Z"
   },
   {
    "duration": 3390,
    "start_time": "2022-01-25T14:46:24.497Z"
   },
   {
    "duration": 3308,
    "start_time": "2022-01-25T14:46:48.733Z"
   },
   {
    "duration": 4300,
    "start_time": "2022-01-25T14:47:20.576Z"
   },
   {
    "duration": 3369,
    "start_time": "2022-01-25T14:47:26.532Z"
   },
   {
    "duration": 3575,
    "start_time": "2022-01-25T14:47:55.800Z"
   },
   {
    "duration": 3639,
    "start_time": "2022-01-25T14:48:28.031Z"
   },
   {
    "duration": 3165,
    "start_time": "2022-01-25T14:48:37.989Z"
   },
   {
    "duration": 3385,
    "start_time": "2022-01-25T14:48:48.084Z"
   },
   {
    "duration": 3546,
    "start_time": "2022-01-25T14:56:27.936Z"
   },
   {
    "duration": 3860,
    "start_time": "2022-01-25T14:56:58.607Z"
   },
   {
    "duration": 3380,
    "start_time": "2022-01-25T14:57:26.044Z"
   },
   {
    "duration": 3267,
    "start_time": "2022-01-25T14:58:39.134Z"
   },
   {
    "duration": 144,
    "start_time": "2022-01-25T14:59:08.986Z"
   },
   {
    "duration": 3545,
    "start_time": "2022-01-25T14:59:20.961Z"
   },
   {
    "duration": 570,
    "start_time": "2022-01-25T14:59:43.573Z"
   },
   {
    "duration": 99,
    "start_time": "2022-01-25T14:59:44.145Z"
   },
   {
    "duration": 12,
    "start_time": "2022-01-25T14:59:44.246Z"
   },
   {
    "duration": 10,
    "start_time": "2022-01-25T14:59:44.260Z"
   },
   {
    "duration": 29,
    "start_time": "2022-01-25T14:59:44.271Z"
   },
   {
    "duration": 4,
    "start_time": "2022-01-25T14:59:44.302Z"
   },
   {
    "duration": 12,
    "start_time": "2022-01-25T14:59:44.308Z"
   },
   {
    "duration": 10,
    "start_time": "2022-01-25T14:59:44.322Z"
   },
   {
    "duration": 9,
    "start_time": "2022-01-25T14:59:44.334Z"
   },
   {
    "duration": 4,
    "start_time": "2022-01-25T14:59:44.345Z"
   },
   {
    "duration": 15,
    "start_time": "2022-01-25T14:59:44.351Z"
   },
   {
    "duration": 37,
    "start_time": "2022-01-25T14:59:44.368Z"
   },
   {
    "duration": 3,
    "start_time": "2022-01-25T14:59:44.407Z"
   },
   {
    "duration": 7,
    "start_time": "2022-01-25T14:59:44.412Z"
   },
   {
    "duration": 5,
    "start_time": "2022-01-25T14:59:44.664Z"
   },
   {
    "duration": 4031,
    "start_time": "2022-01-25T14:59:48.056Z"
   },
   {
    "duration": 168,
    "start_time": "2022-01-25T15:00:05.261Z"
   },
   {
    "duration": 3454,
    "start_time": "2022-01-25T15:00:24.504Z"
   },
   {
    "duration": 3200,
    "start_time": "2022-01-25T15:01:22.970Z"
   },
   {
    "duration": 4070,
    "start_time": "2022-01-25T15:07:30.510Z"
   },
   {
    "duration": 5,
    "start_time": "2022-01-25T15:10:27.527Z"
   },
   {
    "duration": 5,
    "start_time": "2022-01-25T15:10:48.468Z"
   },
   {
    "duration": 12,
    "start_time": "2022-01-25T15:11:06.168Z"
   },
   {
    "duration": 17,
    "start_time": "2022-01-25T15:12:58.125Z"
   },
   {
    "duration": 52,
    "start_time": "2022-01-25T15:13:13.514Z"
   },
   {
    "duration": 3191,
    "start_time": "2022-01-25T15:13:35.598Z"
   },
   {
    "duration": 3544,
    "start_time": "2022-01-25T15:14:00.220Z"
   },
   {
    "duration": 546,
    "start_time": "2022-01-25T15:14:50.390Z"
   },
   {
    "duration": 543,
    "start_time": "2022-01-25T15:15:15.501Z"
   },
   {
    "duration": 147,
    "start_time": "2022-01-25T15:15:32.941Z"
   },
   {
    "duration": 3327,
    "start_time": "2022-01-25T15:15:48.096Z"
   },
   {
    "duration": 3433,
    "start_time": "2022-01-25T15:16:11.949Z"
   },
   {
    "duration": 149,
    "start_time": "2022-01-25T15:16:32.365Z"
   },
   {
    "duration": 59,
    "start_time": "2022-01-25T15:19:42.688Z"
   },
   {
    "duration": 159,
    "start_time": "2022-01-25T15:19:53.365Z"
   },
   {
    "duration": 3292,
    "start_time": "2022-01-25T15:20:04.775Z"
   },
   {
    "duration": 3337,
    "start_time": "2022-01-25T15:24:39.498Z"
   },
   {
    "duration": 3101,
    "start_time": "2022-01-25T15:24:46.063Z"
   },
   {
    "duration": 140,
    "start_time": "2022-01-25T15:25:07.446Z"
   },
   {
    "duration": 579,
    "start_time": "2022-01-25T15:25:19.294Z"
   },
   {
    "duration": 101,
    "start_time": "2022-01-25T15:25:19.875Z"
   },
   {
    "duration": 19,
    "start_time": "2022-01-25T15:25:19.978Z"
   },
   {
    "duration": 11,
    "start_time": "2022-01-25T15:25:19.999Z"
   },
   {
    "duration": 36,
    "start_time": "2022-01-25T15:25:20.012Z"
   },
   {
    "duration": 13,
    "start_time": "2022-01-25T15:25:20.050Z"
   },
   {
    "duration": 28,
    "start_time": "2022-01-25T15:25:20.065Z"
   },
   {
    "duration": 17,
    "start_time": "2022-01-25T15:25:20.096Z"
   },
   {
    "duration": 23,
    "start_time": "2022-01-25T15:25:20.115Z"
   },
   {
    "duration": 27,
    "start_time": "2022-01-25T15:25:20.140Z"
   },
   {
    "duration": 13,
    "start_time": "2022-01-25T15:25:20.169Z"
   },
   {
    "duration": 29,
    "start_time": "2022-01-25T15:25:20.184Z"
   },
   {
    "duration": 21,
    "start_time": "2022-01-25T15:25:20.214Z"
   },
   {
    "duration": 24,
    "start_time": "2022-01-25T15:25:20.237Z"
   },
   {
    "duration": 16,
    "start_time": "2022-01-25T15:25:20.263Z"
   },
   {
    "duration": 217,
    "start_time": "2022-01-25T15:25:20.281Z"
   },
   {
    "duration": 5,
    "start_time": "2022-01-25T15:25:50.166Z"
   },
   {
    "duration": 147,
    "start_time": "2022-01-25T15:26:01.367Z"
   },
   {
    "duration": 13,
    "start_time": "2022-01-25T15:26:11.844Z"
   },
   {
    "duration": 579,
    "start_time": "2022-01-25T15:26:22.571Z"
   },
   {
    "duration": 102,
    "start_time": "2022-01-25T15:26:23.152Z"
   },
   {
    "duration": 10,
    "start_time": "2022-01-25T15:26:23.256Z"
   },
   {
    "duration": 17,
    "start_time": "2022-01-25T15:26:23.268Z"
   },
   {
    "duration": 25,
    "start_time": "2022-01-25T15:26:23.287Z"
   },
   {
    "duration": 6,
    "start_time": "2022-01-25T15:26:23.315Z"
   },
   {
    "duration": 21,
    "start_time": "2022-01-25T15:26:23.322Z"
   },
   {
    "duration": 21,
    "start_time": "2022-01-25T15:26:23.346Z"
   },
   {
    "duration": 10,
    "start_time": "2022-01-25T15:26:23.370Z"
   },
   {
    "duration": 24,
    "start_time": "2022-01-25T15:26:23.381Z"
   },
   {
    "duration": 12,
    "start_time": "2022-01-25T15:26:23.406Z"
   },
   {
    "duration": 30,
    "start_time": "2022-01-25T15:26:23.420Z"
   },
   {
    "duration": 7,
    "start_time": "2022-01-25T15:26:23.452Z"
   },
   {
    "duration": 13,
    "start_time": "2022-01-25T15:26:23.461Z"
   },
   {
    "duration": 17,
    "start_time": "2022-01-25T15:26:23.476Z"
   },
   {
    "duration": 41,
    "start_time": "2022-01-25T15:26:23.494Z"
   },
   {
    "duration": 3485,
    "start_time": "2022-01-25T15:27:17.413Z"
   },
   {
    "duration": 569,
    "start_time": "2022-01-25T16:18:28.266Z"
   },
   {
    "duration": 104,
    "start_time": "2022-01-25T16:18:28.837Z"
   },
   {
    "duration": 12,
    "start_time": "2022-01-25T16:18:28.943Z"
   },
   {
    "duration": 8,
    "start_time": "2022-01-25T16:18:28.958Z"
   },
   {
    "duration": 29,
    "start_time": "2022-01-25T16:18:28.968Z"
   },
   {
    "duration": 3,
    "start_time": "2022-01-25T16:18:28.999Z"
   },
   {
    "duration": 13,
    "start_time": "2022-01-25T16:18:29.004Z"
   },
   {
    "duration": 8,
    "start_time": "2022-01-25T16:18:29.019Z"
   },
   {
    "duration": 9,
    "start_time": "2022-01-25T16:18:29.029Z"
   },
   {
    "duration": 7,
    "start_time": "2022-01-25T16:18:29.039Z"
   },
   {
    "duration": 16,
    "start_time": "2022-01-25T16:18:29.047Z"
   },
   {
    "duration": 43,
    "start_time": "2022-01-25T16:18:29.064Z"
   },
   {
    "duration": 2,
    "start_time": "2022-01-25T16:18:29.110Z"
   },
   {
    "duration": 10,
    "start_time": "2022-01-25T16:18:29.113Z"
   },
   {
    "duration": 3331,
    "start_time": "2022-01-25T16:18:31.687Z"
   },
   {
    "duration": 3339,
    "start_time": "2022-01-25T16:26:15.923Z"
   },
   {
    "duration": 182,
    "start_time": "2022-01-25T16:27:08.897Z"
   },
   {
    "duration": 543,
    "start_time": "2022-01-25T16:37:09.918Z"
   },
   {
    "duration": 96,
    "start_time": "2022-01-25T16:37:10.463Z"
   },
   {
    "duration": 10,
    "start_time": "2022-01-25T16:37:10.561Z"
   },
   {
    "duration": 13,
    "start_time": "2022-01-25T16:37:10.573Z"
   },
   {
    "duration": 24,
    "start_time": "2022-01-25T16:37:10.587Z"
   },
   {
    "duration": 29,
    "start_time": "2022-01-25T16:37:10.613Z"
   },
   {
    "duration": 21,
    "start_time": "2022-01-25T16:37:10.644Z"
   },
   {
    "duration": 18,
    "start_time": "2022-01-25T16:37:10.667Z"
   },
   {
    "duration": 16,
    "start_time": "2022-01-25T16:37:10.687Z"
   },
   {
    "duration": 33,
    "start_time": "2022-01-25T16:37:10.705Z"
   },
   {
    "duration": 4,
    "start_time": "2022-01-25T16:37:10.739Z"
   },
   {
    "duration": 3421,
    "start_time": "2022-01-25T16:37:14.479Z"
   },
   {
    "duration": 139,
    "start_time": "2022-01-25T16:38:11.164Z"
   },
   {
    "duration": 159,
    "start_time": "2022-01-25T16:38:42.565Z"
   },
   {
    "duration": 363,
    "start_time": "2022-01-26T10:40:54.793Z"
   },
   {
    "duration": 788,
    "start_time": "2022-01-26T10:45:04.620Z"
   },
   {
    "duration": 172,
    "start_time": "2022-01-26T10:45:05.410Z"
   },
   {
    "duration": 21,
    "start_time": "2022-01-26T10:45:05.586Z"
   },
   {
    "duration": 11,
    "start_time": "2022-01-26T10:45:05.622Z"
   },
   {
    "duration": 25,
    "start_time": "2022-01-26T10:45:05.636Z"
   },
   {
    "duration": 13,
    "start_time": "2022-01-26T10:45:05.664Z"
   },
   {
    "duration": 46,
    "start_time": "2022-01-26T10:45:05.680Z"
   },
   {
    "duration": 10,
    "start_time": "2022-01-26T10:45:05.729Z"
   },
   {
    "duration": 13,
    "start_time": "2022-01-26T10:45:05.741Z"
   },
   {
    "duration": 25,
    "start_time": "2022-01-26T10:45:05.756Z"
   },
   {
    "duration": 4,
    "start_time": "2022-01-26T10:45:05.783Z"
   },
   {
    "duration": 11,
    "start_time": "2022-01-26T10:45:08.329Z"
   },
   {
    "duration": 421,
    "start_time": "2022-01-26T10:46:03.379Z"
   },
   {
    "duration": 17,
    "start_time": "2022-01-26T10:46:41.640Z"
   },
   {
    "duration": 22,
    "start_time": "2022-01-26T10:47:23.270Z"
   },
   {
    "duration": 4,
    "start_time": "2022-01-26T10:48:35.008Z"
   },
   {
    "duration": 119,
    "start_time": "2022-01-26T10:48:35.014Z"
   },
   {
    "duration": 14,
    "start_time": "2022-01-26T10:48:35.136Z"
   },
   {
    "duration": 20,
    "start_time": "2022-01-26T10:48:35.152Z"
   },
   {
    "duration": 32,
    "start_time": "2022-01-26T10:48:35.174Z"
   },
   {
    "duration": 29,
    "start_time": "2022-01-26T10:48:35.208Z"
   },
   {
    "duration": 21,
    "start_time": "2022-01-26T10:48:35.240Z"
   },
   {
    "duration": 25,
    "start_time": "2022-01-26T10:48:35.263Z"
   },
   {
    "duration": 11,
    "start_time": "2022-01-26T10:48:35.290Z"
   },
   {
    "duration": 25,
    "start_time": "2022-01-26T10:48:35.304Z"
   },
   {
    "duration": 7,
    "start_time": "2022-01-26T10:48:35.331Z"
   },
   {
    "duration": 9,
    "start_time": "2022-01-26T10:48:38.471Z"
   },
   {
    "duration": 13,
    "start_time": "2022-01-26T10:48:52.461Z"
   },
   {
    "duration": 703,
    "start_time": "2022-01-26T10:49:19.043Z"
   },
   {
    "duration": 113,
    "start_time": "2022-01-26T10:49:19.749Z"
   },
   {
    "duration": 13,
    "start_time": "2022-01-26T10:49:19.865Z"
   },
   {
    "duration": 8,
    "start_time": "2022-01-26T10:49:19.881Z"
   },
   {
    "duration": 41,
    "start_time": "2022-01-26T10:49:19.892Z"
   },
   {
    "duration": 12,
    "start_time": "2022-01-26T10:49:19.935Z"
   },
   {
    "duration": 12,
    "start_time": "2022-01-26T10:49:19.950Z"
   },
   {
    "duration": 12,
    "start_time": "2022-01-26T10:49:19.964Z"
   },
   {
    "duration": 7,
    "start_time": "2022-01-26T10:49:20.023Z"
   },
   {
    "duration": 29,
    "start_time": "2022-01-26T10:49:20.033Z"
   },
   {
    "duration": 4,
    "start_time": "2022-01-26T10:49:20.065Z"
   },
   {
    "duration": 12,
    "start_time": "2022-01-26T10:49:22.130Z"
   },
   {
    "duration": 11,
    "start_time": "2022-01-26T10:49:32.714Z"
   },
   {
    "duration": 751,
    "start_time": "2022-01-26T11:02:18.739Z"
   },
   {
    "duration": 119,
    "start_time": "2022-01-26T11:02:19.493Z"
   },
   {
    "duration": 19,
    "start_time": "2022-01-26T11:02:19.615Z"
   },
   {
    "duration": 10,
    "start_time": "2022-01-26T11:02:19.636Z"
   },
   {
    "duration": 18,
    "start_time": "2022-01-26T11:02:19.649Z"
   },
   {
    "duration": 55,
    "start_time": "2022-01-26T11:02:19.669Z"
   },
   {
    "duration": 12,
    "start_time": "2022-01-26T11:02:19.727Z"
   },
   {
    "duration": 10,
    "start_time": "2022-01-26T11:02:19.741Z"
   },
   {
    "duration": 6,
    "start_time": "2022-01-26T11:02:19.755Z"
   },
   {
    "duration": 20,
    "start_time": "2022-01-26T11:02:19.764Z"
   },
   {
    "duration": 38,
    "start_time": "2022-01-26T11:02:19.787Z"
   },
   {
    "duration": 6,
    "start_time": "2022-01-26T11:02:21.513Z"
   },
   {
    "duration": 403,
    "start_time": "2022-01-26T11:04:12.174Z"
   },
   {
    "duration": 16,
    "start_time": "2022-01-26T11:04:26.697Z"
   },
   {
    "duration": 10,
    "start_time": "2022-01-26T11:05:12.977Z"
   },
   {
    "duration": 10,
    "start_time": "2022-01-26T11:05:22.348Z"
   },
   {
    "duration": 126,
    "start_time": "2022-01-26T11:06:02.984Z"
   },
   {
    "duration": 14,
    "start_time": "2022-01-26T11:06:30.688Z"
   },
   {
    "duration": 419,
    "start_time": "2022-01-26T11:10:36.509Z"
   },
   {
    "duration": 403,
    "start_time": "2022-01-26T11:14:43.044Z"
   },
   {
    "duration": 4,
    "start_time": "2022-01-26T11:16:23.403Z"
   },
   {
    "duration": 11,
    "start_time": "2022-01-26T11:16:44.417Z"
   },
   {
    "duration": 14,
    "start_time": "2022-01-26T11:16:52.164Z"
   },
   {
    "duration": 336,
    "start_time": "2022-01-26T11:18:37.213Z"
   },
   {
    "duration": 40,
    "start_time": "2022-01-26T11:18:44.158Z"
   },
   {
    "duration": 35,
    "start_time": "2022-01-26T11:18:49.382Z"
   },
   {
    "duration": 38,
    "start_time": "2022-01-26T11:18:55.250Z"
   },
   {
    "duration": 8,
    "start_time": "2022-01-26T11:23:26.286Z"
   },
   {
    "duration": 6,
    "start_time": "2022-01-26T11:23:44.396Z"
   },
   {
    "duration": 310,
    "start_time": "2022-01-26T11:23:58.986Z"
   },
   {
    "duration": 18,
    "start_time": "2022-01-26T11:24:34.588Z"
   },
   {
    "duration": 36,
    "start_time": "2022-01-26T11:25:03.635Z"
   },
   {
    "duration": 774,
    "start_time": "2022-01-26T11:25:22.118Z"
   },
   {
    "duration": 117,
    "start_time": "2022-01-26T11:25:22.895Z"
   },
   {
    "duration": 19,
    "start_time": "2022-01-26T11:25:23.015Z"
   },
   {
    "duration": 8,
    "start_time": "2022-01-26T11:25:23.036Z"
   },
   {
    "duration": 15,
    "start_time": "2022-01-26T11:25:23.046Z"
   },
   {
    "duration": 9,
    "start_time": "2022-01-26T11:25:23.063Z"
   },
   {
    "duration": 54,
    "start_time": "2022-01-26T11:25:23.075Z"
   },
   {
    "duration": 10,
    "start_time": "2022-01-26T11:25:23.131Z"
   },
   {
    "duration": 10,
    "start_time": "2022-01-26T11:25:23.145Z"
   },
   {
    "duration": 25,
    "start_time": "2022-01-26T11:25:23.160Z"
   },
   {
    "duration": 6,
    "start_time": "2022-01-26T11:25:23.223Z"
   },
   {
    "duration": 9,
    "start_time": "2022-01-26T11:25:23.231Z"
   },
   {
    "duration": 14,
    "start_time": "2022-01-26T11:25:23.242Z"
   },
   {
    "duration": 5,
    "start_time": "2022-01-26T11:25:23.258Z"
   },
   {
    "duration": 21,
    "start_time": "2022-01-26T11:25:23.265Z"
   },
   {
    "duration": 44,
    "start_time": "2022-01-26T11:25:23.288Z"
   },
   {
    "duration": 35,
    "start_time": "2022-01-26T11:25:23.334Z"
   },
   {
    "duration": 20,
    "start_time": "2022-01-26T11:25:25.695Z"
   },
   {
    "duration": 35,
    "start_time": "2022-01-26T11:25:30.472Z"
   },
   {
    "duration": 10,
    "start_time": "2022-01-26T11:31:13.291Z"
   },
   {
    "duration": 17,
    "start_time": "2022-01-26T11:37:18.357Z"
   },
   {
    "duration": 524,
    "start_time": "2022-01-26T11:41:36.704Z"
   },
   {
    "duration": 880,
    "start_time": "2022-01-26T11:43:34.835Z"
   },
   {
    "duration": 899,
    "start_time": "2022-01-26T11:43:44.653Z"
   },
   {
    "duration": 873,
    "start_time": "2022-01-26T11:44:10.750Z"
   },
   {
    "duration": 6,
    "start_time": "2022-01-26T11:46:07.460Z"
   },
   {
    "duration": 63,
    "start_time": "2022-01-26T11:46:12.342Z"
   },
   {
    "duration": 6,
    "start_time": "2022-01-26T11:46:34.512Z"
   },
   {
    "duration": 351,
    "start_time": "2022-01-26T11:53:58.595Z"
   },
   {
    "duration": 305,
    "start_time": "2022-01-26T11:54:09.861Z"
   },
   {
    "duration": 356,
    "start_time": "2022-01-26T11:54:18.220Z"
   },
   {
    "duration": 295,
    "start_time": "2022-01-26T11:54:24.345Z"
   },
   {
    "duration": 456,
    "start_time": "2022-01-26T11:54:41.343Z"
   },
   {
    "duration": 3,
    "start_time": "2022-01-26T11:56:04.870Z"
   },
   {
    "duration": 113,
    "start_time": "2022-01-26T11:56:04.875Z"
   },
   {
    "duration": 32,
    "start_time": "2022-01-26T11:56:04.991Z"
   },
   {
    "duration": 8,
    "start_time": "2022-01-26T11:56:05.026Z"
   },
   {
    "duration": 17,
    "start_time": "2022-01-26T11:56:05.036Z"
   },
   {
    "duration": 85,
    "start_time": "2022-01-26T11:56:05.055Z"
   },
   {
    "duration": 9,
    "start_time": "2022-01-26T11:56:05.143Z"
   },
   {
    "duration": 12,
    "start_time": "2022-01-26T11:56:05.155Z"
   },
   {
    "duration": 7,
    "start_time": "2022-01-26T11:56:05.169Z"
   },
   {
    "duration": 57,
    "start_time": "2022-01-26T11:56:05.178Z"
   },
   {
    "duration": 5,
    "start_time": "2022-01-26T11:56:05.237Z"
   },
   {
    "duration": 5,
    "start_time": "2022-01-26T11:56:05.244Z"
   },
   {
    "duration": 11,
    "start_time": "2022-01-26T11:56:05.251Z"
   },
   {
    "duration": 4,
    "start_time": "2022-01-26T11:56:05.264Z"
   },
   {
    "duration": 56,
    "start_time": "2022-01-26T11:56:05.270Z"
   },
   {
    "duration": 13,
    "start_time": "2022-01-26T11:56:05.329Z"
   },
   {
    "duration": 32,
    "start_time": "2022-01-26T11:56:05.344Z"
   },
   {
    "duration": 5,
    "start_time": "2022-01-26T11:56:05.378Z"
   },
   {
    "duration": 66,
    "start_time": "2022-01-26T11:56:05.386Z"
   },
   {
    "duration": 5,
    "start_time": "2022-01-26T11:56:05.454Z"
   },
   {
    "duration": 17,
    "start_time": "2022-01-26T11:56:05.462Z"
   },
   {
    "duration": 936,
    "start_time": "2022-01-26T11:56:05.481Z"
   },
   {
    "duration": 6,
    "start_time": "2022-01-26T11:56:06.421Z"
   },
   {
    "duration": 638,
    "start_time": "2022-01-26T11:56:07.938Z"
   },
   {
    "duration": 1232,
    "start_time": "2022-01-26T11:56:58.043Z"
   },
   {
    "duration": 1288,
    "start_time": "2022-01-26T11:57:49.446Z"
   },
   {
    "duration": 350,
    "start_time": "2022-01-26T21:41:54.944Z"
   },
   {
    "duration": 876,
    "start_time": "2022-01-26T21:42:00.289Z"
   },
   {
    "duration": 134,
    "start_time": "2022-01-26T21:42:01.168Z"
   },
   {
    "duration": 14,
    "start_time": "2022-01-26T21:42:01.305Z"
   },
   {
    "duration": 13,
    "start_time": "2022-01-26T21:42:01.335Z"
   },
   {
    "duration": 19,
    "start_time": "2022-01-26T21:42:01.351Z"
   },
   {
    "duration": 10,
    "start_time": "2022-01-26T21:42:01.373Z"
   },
   {
    "duration": 54,
    "start_time": "2022-01-26T21:42:01.385Z"
   },
   {
    "duration": 13,
    "start_time": "2022-01-26T21:42:01.444Z"
   },
   {
    "duration": 13,
    "start_time": "2022-01-26T21:42:01.460Z"
   },
   {
    "duration": 41,
    "start_time": "2022-01-26T21:42:01.476Z"
   },
   {
    "duration": 13,
    "start_time": "2022-01-26T21:42:01.519Z"
   },
   {
    "duration": 6,
    "start_time": "2022-01-26T21:42:01.536Z"
   },
   {
    "duration": 14,
    "start_time": "2022-01-26T21:42:01.545Z"
   },
   {
    "duration": 4,
    "start_time": "2022-01-26T21:42:01.561Z"
   },
   {
    "duration": 23,
    "start_time": "2022-01-26T21:42:01.567Z"
   },
   {
    "duration": 56,
    "start_time": "2022-01-26T21:42:01.594Z"
   },
   {
    "duration": 48,
    "start_time": "2022-01-26T21:42:01.653Z"
   },
   {
    "duration": 31,
    "start_time": "2022-01-26T21:42:01.704Z"
   },
   {
    "duration": 48,
    "start_time": "2022-01-26T21:42:01.738Z"
   },
   {
    "duration": 10,
    "start_time": "2022-01-26T21:42:01.789Z"
   },
   {
    "duration": 54,
    "start_time": "2022-01-26T21:42:01.802Z"
   },
   {
    "duration": 983,
    "start_time": "2022-01-26T21:42:01.859Z"
   },
   {
    "duration": 8,
    "start_time": "2022-01-26T21:42:02.847Z"
   },
   {
    "duration": 1473,
    "start_time": "2022-01-26T21:42:03.835Z"
   },
   {
    "duration": 395,
    "start_time": "2022-01-26T21:45:29.260Z"
   },
   {
    "duration": 353,
    "start_time": "2022-01-26T21:45:50.724Z"
   },
   {
    "duration": 412,
    "start_time": "2022-01-26T21:45:57.106Z"
   },
   {
    "duration": 392,
    "start_time": "2022-01-26T21:46:09.944Z"
   },
   {
    "duration": 352,
    "start_time": "2022-01-26T21:46:26.096Z"
   },
   {
    "duration": 388,
    "start_time": "2022-01-26T21:46:44.858Z"
   },
   {
    "duration": 432,
    "start_time": "2022-01-26T21:47:12.430Z"
   },
   {
    "duration": 28,
    "start_time": "2022-01-26T21:49:40.218Z"
   },
   {
    "duration": 14,
    "start_time": "2022-01-26T21:49:49.704Z"
   },
   {
    "duration": 15,
    "start_time": "2022-01-26T21:49:57.059Z"
   },
   {
    "duration": 92,
    "start_time": "2022-01-26T21:50:03.672Z"
   },
   {
    "duration": 14,
    "start_time": "2022-01-26T21:50:20.674Z"
   },
   {
    "duration": 15,
    "start_time": "2022-01-26T21:50:58.295Z"
   },
   {
    "duration": 17,
    "start_time": "2022-01-26T21:51:04.811Z"
   },
   {
    "duration": 24,
    "start_time": "2022-01-26T21:51:20.372Z"
   },
   {
    "duration": 19,
    "start_time": "2022-01-26T21:52:26.706Z"
   },
   {
    "duration": 18,
    "start_time": "2022-01-26T21:52:47.685Z"
   },
   {
    "duration": 19,
    "start_time": "2022-01-26T21:52:54.445Z"
   },
   {
    "duration": 19,
    "start_time": "2022-01-26T21:55:06.473Z"
   },
   {
    "duration": 13,
    "start_time": "2022-01-26T21:59:20.628Z"
   },
   {
    "duration": 96,
    "start_time": "2022-01-26T21:59:38.768Z"
   },
   {
    "duration": 17,
    "start_time": "2022-01-26T21:59:55.984Z"
   },
   {
    "duration": 17,
    "start_time": "2022-01-26T22:01:36.967Z"
   },
   {
    "duration": 76,
    "start_time": "2022-01-26T22:01:49.239Z"
   },
   {
    "duration": 6863,
    "start_time": "2022-01-26T22:03:09.229Z"
   },
   {
    "duration": 276,
    "start_time": "2022-01-26T22:03:45.772Z"
   },
   {
    "duration": 12,
    "start_time": "2022-01-26T22:03:58.498Z"
   },
   {
    "duration": 14,
    "start_time": "2022-01-26T22:04:22.481Z"
   },
   {
    "duration": 13,
    "start_time": "2022-01-26T22:04:46.599Z"
   },
   {
    "duration": 13,
    "start_time": "2022-01-26T22:06:39.390Z"
   },
   {
    "duration": 51,
    "start_time": "2022-01-26T22:07:27.045Z"
   },
   {
    "duration": 12,
    "start_time": "2022-01-26T22:09:40.813Z"
   },
   {
    "duration": 12,
    "start_time": "2022-01-26T22:09:47.369Z"
   },
   {
    "duration": 43,
    "start_time": "2022-01-26T22:09:54.284Z"
   },
   {
    "duration": 356,
    "start_time": "2022-01-26T22:14:04.937Z"
   },
   {
    "duration": 702,
    "start_time": "2022-01-26T22:14:17.536Z"
   },
   {
    "duration": 358,
    "start_time": "2022-01-26T22:14:21.756Z"
   },
   {
    "duration": 357,
    "start_time": "2022-01-26T22:14:54.456Z"
   },
   {
    "duration": 13,
    "start_time": "2022-01-26T22:15:24.373Z"
   },
   {
    "duration": 13,
    "start_time": "2022-01-26T22:22:04.008Z"
   },
   {
    "duration": 16,
    "start_time": "2022-01-26T22:22:15.043Z"
   },
   {
    "duration": 272,
    "start_time": "2022-01-26T22:22:30.616Z"
   },
   {
    "duration": 13,
    "start_time": "2022-01-26T22:22:50.008Z"
   },
   {
    "duration": 849,
    "start_time": "2022-01-26T22:22:58.483Z"
   },
   {
    "duration": 383,
    "start_time": "2022-01-26T22:23:07.405Z"
   },
   {
    "duration": 11,
    "start_time": "2022-01-26T22:24:22.064Z"
   },
   {
    "duration": 36,
    "start_time": "2022-01-26T22:24:58.266Z"
   },
   {
    "duration": 348,
    "start_time": "2022-01-26T22:28:02.863Z"
   },
   {
    "duration": 10,
    "start_time": "2022-01-26T22:28:23.743Z"
   },
   {
    "duration": 8,
    "start_time": "2022-01-26T22:30:43.985Z"
   },
   {
    "duration": 99,
    "start_time": "2022-01-26T22:32:01.151Z"
   },
   {
    "duration": 59,
    "start_time": "2022-01-26T22:32:08.934Z"
   },
   {
    "duration": 14,
    "start_time": "2022-01-26T22:32:47.534Z"
   },
   {
    "duration": 13,
    "start_time": "2022-01-26T22:32:59.259Z"
   },
   {
    "duration": 12,
    "start_time": "2022-01-26T22:33:06.453Z"
   },
   {
    "duration": 13,
    "start_time": "2022-01-26T22:33:13.337Z"
   },
   {
    "duration": 12,
    "start_time": "2022-01-26T22:33:22.792Z"
   },
   {
    "duration": 62,
    "start_time": "2022-01-26T22:33:34.169Z"
   },
   {
    "duration": 87,
    "start_time": "2022-01-26T22:35:23.250Z"
   },
   {
    "duration": 15,
    "start_time": "2022-01-26T22:36:17.854Z"
   },
   {
    "duration": 12,
    "start_time": "2022-01-26T22:36:36.856Z"
   },
   {
    "duration": 15,
    "start_time": "2022-01-26T22:37:31.106Z"
   },
   {
    "duration": 13,
    "start_time": "2022-01-26T22:38:38.233Z"
   },
   {
    "duration": 13,
    "start_time": "2022-01-26T22:38:47.507Z"
   },
   {
    "duration": 11,
    "start_time": "2022-01-26T22:39:06.608Z"
   },
   {
    "duration": 11,
    "start_time": "2022-01-26T22:39:19.623Z"
   },
   {
    "duration": 12,
    "start_time": "2022-01-26T22:39:51.040Z"
   },
   {
    "duration": 985,
    "start_time": "2022-01-26T22:41:49.879Z"
   },
   {
    "duration": 342,
    "start_time": "2022-01-26T22:41:58.355Z"
   },
   {
    "duration": 454,
    "start_time": "2022-01-26T22:42:03.678Z"
   },
   {
    "duration": 346,
    "start_time": "2022-01-26T22:42:12.496Z"
   },
   {
    "duration": 12,
    "start_time": "2022-01-26T22:42:22.327Z"
   },
   {
    "duration": 10,
    "start_time": "2022-01-26T22:43:43.531Z"
   },
   {
    "duration": 365,
    "start_time": "2022-01-26T22:43:57.771Z"
   },
   {
    "duration": 336,
    "start_time": "2022-01-26T22:44:16.747Z"
   },
   {
    "duration": 9,
    "start_time": "2022-01-26T22:44:41.300Z"
   },
   {
    "duration": 840,
    "start_time": "2022-01-26T22:44:54.042Z"
   },
   {
    "duration": 122,
    "start_time": "2022-01-26T22:44:54.885Z"
   },
   {
    "duration": 27,
    "start_time": "2022-01-26T22:44:55.010Z"
   },
   {
    "duration": 8,
    "start_time": "2022-01-26T22:44:55.041Z"
   },
   {
    "duration": 16,
    "start_time": "2022-01-26T22:44:55.051Z"
   },
   {
    "duration": 10,
    "start_time": "2022-01-26T22:44:55.069Z"
   },
   {
    "duration": 52,
    "start_time": "2022-01-26T22:44:55.081Z"
   },
   {
    "duration": 10,
    "start_time": "2022-01-26T22:44:55.135Z"
   },
   {
    "duration": 7,
    "start_time": "2022-01-26T22:44:55.149Z"
   },
   {
    "duration": 27,
    "start_time": "2022-01-26T22:44:55.159Z"
   },
   {
    "duration": 7,
    "start_time": "2022-01-26T22:44:55.188Z"
   },
   {
    "duration": 35,
    "start_time": "2022-01-26T22:44:55.197Z"
   },
   {
    "duration": 20,
    "start_time": "2022-01-26T22:44:55.234Z"
   },
   {
    "duration": 4,
    "start_time": "2022-01-26T22:44:55.256Z"
   },
   {
    "duration": 28,
    "start_time": "2022-01-26T22:44:55.263Z"
   },
   {
    "duration": 13,
    "start_time": "2022-01-26T22:44:55.294Z"
   },
   {
    "duration": 61,
    "start_time": "2022-01-26T22:44:55.310Z"
   },
   {
    "duration": 8,
    "start_time": "2022-01-26T22:44:55.374Z"
   },
   {
    "duration": 72,
    "start_time": "2022-01-26T22:44:55.385Z"
   },
   {
    "duration": 10,
    "start_time": "2022-01-26T22:44:55.460Z"
   },
   {
    "duration": 22,
    "start_time": "2022-01-26T22:44:55.472Z"
   },
   {
    "duration": 936,
    "start_time": "2022-01-26T22:44:55.496Z"
   },
   {
    "duration": 6,
    "start_time": "2022-01-26T22:44:56.435Z"
   },
   {
    "duration": 1418,
    "start_time": "2022-01-26T22:44:56.444Z"
   },
   {
    "duration": 418,
    "start_time": "2022-01-26T22:44:57.864Z"
   },
   {
    "duration": 14,
    "start_time": "2022-01-26T22:44:58.285Z"
   },
   {
    "duration": 46,
    "start_time": "2022-01-26T22:44:58.306Z"
   },
   {
    "duration": 47,
    "start_time": "2022-01-26T22:44:58.355Z"
   },
   {
    "duration": 374,
    "start_time": "2022-01-26T22:44:58.433Z"
   },
   {
    "duration": 26,
    "start_time": "2022-01-26T22:44:58.810Z"
   },
   {
    "duration": 403,
    "start_time": "2022-01-26T22:44:58.838Z"
   },
   {
    "duration": 38,
    "start_time": "2022-01-26T22:44:59.244Z"
   },
   {
    "duration": 13,
    "start_time": "2022-01-26T22:44:59.286Z"
   },
   {
    "duration": 360,
    "start_time": "2022-01-26T22:44:59.333Z"
   },
   {
    "duration": 10,
    "start_time": "2022-01-26T22:44:59.696Z"
   },
   {
    "duration": 75,
    "start_time": "2022-01-26T22:44:59.709Z"
   },
   {
    "duration": 15,
    "start_time": "2022-01-26T22:44:59.786Z"
   },
   {
    "duration": 378,
    "start_time": "2022-01-26T22:44:59.804Z"
   },
   {
    "duration": 11,
    "start_time": "2022-01-26T22:45:00.185Z"
   },
   {
    "duration": 348,
    "start_time": "2022-01-26T22:45:10.673Z"
   },
   {
    "duration": 12,
    "start_time": "2022-01-26T22:46:19.443Z"
   },
   {
    "duration": 11,
    "start_time": "2022-01-26T22:46:26.761Z"
   },
   {
    "duration": 52,
    "start_time": "2022-01-26T22:46:41.404Z"
   },
   {
    "duration": 276,
    "start_time": "2022-01-27T10:30:10.144Z"
   },
   {
    "duration": 685,
    "start_time": "2022-01-27T10:30:15.213Z"
   },
   {
    "duration": 94,
    "start_time": "2022-01-27T10:30:15.900Z"
   },
   {
    "duration": 22,
    "start_time": "2022-01-27T10:30:15.997Z"
   },
   {
    "duration": 9,
    "start_time": "2022-01-27T10:30:16.022Z"
   },
   {
    "duration": 16,
    "start_time": "2022-01-27T10:30:16.033Z"
   },
   {
    "duration": 9,
    "start_time": "2022-01-27T10:30:16.051Z"
   },
   {
    "duration": 7,
    "start_time": "2022-01-27T10:30:16.062Z"
   },
   {
    "duration": 45,
    "start_time": "2022-01-27T10:30:16.071Z"
   },
   {
    "duration": 8,
    "start_time": "2022-01-27T10:30:16.120Z"
   },
   {
    "duration": 16,
    "start_time": "2022-01-27T10:30:16.131Z"
   },
   {
    "duration": 5,
    "start_time": "2022-01-27T10:30:16.149Z"
   },
   {
    "duration": 5,
    "start_time": "2022-01-27T10:30:16.156Z"
   },
   {
    "duration": 9,
    "start_time": "2022-01-27T10:30:16.163Z"
   },
   {
    "duration": 40,
    "start_time": "2022-01-27T10:30:16.174Z"
   },
   {
    "duration": 14,
    "start_time": "2022-01-27T10:30:16.216Z"
   },
   {
    "duration": 10,
    "start_time": "2022-01-27T10:30:16.232Z"
   },
   {
    "duration": 28,
    "start_time": "2022-01-27T10:30:16.246Z"
   },
   {
    "duration": 4,
    "start_time": "2022-01-27T10:30:16.276Z"
   },
   {
    "duration": 54,
    "start_time": "2022-01-27T10:30:16.281Z"
   },
   {
    "duration": 5,
    "start_time": "2022-01-27T10:30:16.337Z"
   },
   {
    "duration": 13,
    "start_time": "2022-01-27T10:30:16.344Z"
   },
   {
    "duration": 657,
    "start_time": "2022-01-27T10:30:16.359Z"
   },
   {
    "duration": 6,
    "start_time": "2022-01-27T10:30:17.018Z"
   },
   {
    "duration": 999,
    "start_time": "2022-01-27T10:30:17.026Z"
   },
   {
    "duration": 286,
    "start_time": "2022-01-27T10:30:18.027Z"
   },
   {
    "duration": 9,
    "start_time": "2022-01-27T10:30:18.314Z"
   },
   {
    "duration": 14,
    "start_time": "2022-01-27T10:30:18.326Z"
   },
   {
    "duration": 28,
    "start_time": "2022-01-27T10:30:18.342Z"
   },
   {
    "duration": 261,
    "start_time": "2022-01-27T10:30:18.371Z"
   },
   {
    "duration": 9,
    "start_time": "2022-01-27T10:30:18.634Z"
   },
   {
    "duration": 272,
    "start_time": "2022-01-27T10:30:18.645Z"
   },
   {
    "duration": 22,
    "start_time": "2022-01-27T10:30:18.918Z"
   },
   {
    "duration": 9,
    "start_time": "2022-01-27T10:30:18.942Z"
   },
   {
    "duration": 235,
    "start_time": "2022-01-27T10:30:18.952Z"
   },
   {
    "duration": 8,
    "start_time": "2022-01-27T10:30:19.189Z"
   },
   {
    "duration": 48,
    "start_time": "2022-01-27T10:30:19.199Z"
   },
   {
    "duration": 7,
    "start_time": "2022-01-27T10:30:19.249Z"
   },
   {
    "duration": 279,
    "start_time": "2022-01-27T10:30:20.390Z"
   },
   {
    "duration": 9,
    "start_time": "2022-01-27T10:30:22.804Z"
   },
   {
    "duration": 10,
    "start_time": "2022-01-27T10:32:54.610Z"
   },
   {
    "duration": 7,
    "start_time": "2022-01-27T10:33:22.435Z"
   },
   {
    "duration": 226,
    "start_time": "2022-01-27T10:49:20.729Z"
   },
   {
    "duration": 17,
    "start_time": "2022-01-27T10:51:48.995Z"
   },
   {
    "duration": 7,
    "start_time": "2022-01-27T11:03:53.641Z"
   },
   {
    "duration": 76,
    "start_time": "2022-01-27T11:04:32.459Z"
   },
   {
    "duration": 10,
    "start_time": "2022-01-27T11:04:37.816Z"
   },
   {
    "duration": 10,
    "start_time": "2022-01-27T11:07:29.480Z"
   },
   {
    "duration": 295,
    "start_time": "2022-01-27T11:08:13.363Z"
   },
   {
    "duration": 1846,
    "start_time": "2022-01-27T11:08:45.198Z"
   },
   {
    "duration": 13,
    "start_time": "2022-01-27T11:11:04.430Z"
   },
   {
    "duration": 305,
    "start_time": "2022-01-27T11:12:54.494Z"
   },
   {
    "duration": 224,
    "start_time": "2022-01-27T11:13:11.473Z"
   },
   {
    "duration": 269,
    "start_time": "2022-01-27T11:13:24.140Z"
   },
   {
    "duration": 345,
    "start_time": "2022-01-27T11:13:33.367Z"
   },
   {
    "duration": 269,
    "start_time": "2022-01-27T11:13:40.961Z"
   },
   {
    "duration": 7,
    "start_time": "2022-01-27T11:14:20.965Z"
   },
   {
    "duration": 7,
    "start_time": "2022-01-27T11:14:51.962Z"
   },
   {
    "duration": 7,
    "start_time": "2022-01-27T11:14:57.857Z"
   },
   {
    "duration": 7,
    "start_time": "2022-01-27T11:23:34.740Z"
   },
   {
    "duration": 6,
    "start_time": "2022-01-27T11:23:45.828Z"
   },
   {
    "duration": 7,
    "start_time": "2022-01-27T11:24:00.660Z"
   },
   {
    "duration": 12,
    "start_time": "2022-01-27T11:24:45.620Z"
   },
   {
    "duration": 234,
    "start_time": "2022-01-27T11:24:59.334Z"
   },
   {
    "duration": 18,
    "start_time": "2022-01-27T11:25:00.688Z"
   },
   {
    "duration": 246,
    "start_time": "2022-01-27T11:25:06.060Z"
   },
   {
    "duration": 260,
    "start_time": "2022-01-27T11:25:20.707Z"
   },
   {
    "duration": 260,
    "start_time": "2022-01-27T11:25:28.814Z"
   },
   {
    "duration": 8,
    "start_time": "2022-01-27T11:25:36.251Z"
   },
   {
    "duration": 7,
    "start_time": "2022-01-27T11:26:11.245Z"
   },
   {
    "duration": 38,
    "start_time": "2022-01-27T11:34:55.525Z"
   },
   {
    "duration": 11,
    "start_time": "2022-01-27T11:35:45.057Z"
   },
   {
    "duration": 79,
    "start_time": "2022-01-27T11:36:19.771Z"
   },
   {
    "duration": 10,
    "start_time": "2022-01-27T11:36:24.051Z"
   },
   {
    "duration": 11,
    "start_time": "2022-01-27T11:36:34.978Z"
   },
   {
    "duration": 269,
    "start_time": "2022-01-27T11:36:51.335Z"
   },
   {
    "duration": 79,
    "start_time": "2022-01-27T11:36:58.450Z"
   },
   {
    "duration": 10,
    "start_time": "2022-01-27T11:37:01.166Z"
   },
   {
    "duration": 11,
    "start_time": "2022-01-27T11:39:01.725Z"
   },
   {
    "duration": 10,
    "start_time": "2022-01-27T11:39:14.205Z"
   },
   {
    "duration": 8,
    "start_time": "2022-01-27T11:40:04.806Z"
   },
   {
    "duration": 9,
    "start_time": "2022-01-27T11:40:20.104Z"
   },
   {
    "duration": 26,
    "start_time": "2022-01-27T11:44:02.947Z"
   },
   {
    "duration": 25,
    "start_time": "2022-01-27T11:51:36.760Z"
   },
   {
    "duration": 27,
    "start_time": "2022-01-27T11:52:07.214Z"
   },
   {
    "duration": 222,
    "start_time": "2022-01-27T12:12:45.187Z"
   },
   {
    "duration": 1093,
    "start_time": "2022-01-27T12:13:14.157Z"
   },
   {
    "duration": 246,
    "start_time": "2022-01-27T12:13:31.425Z"
   },
   {
    "duration": 385,
    "start_time": "2022-01-27T12:15:24.288Z"
   },
   {
    "duration": 131,
    "start_time": "2022-01-27T12:15:28.247Z"
   },
   {
    "duration": 3,
    "start_time": "2022-01-27T12:21:51.968Z"
   },
   {
    "duration": 651,
    "start_time": "2022-01-27T12:22:02.395Z"
   },
   {
    "duration": 83,
    "start_time": "2022-01-27T12:22:03.048Z"
   },
   {
    "duration": 10,
    "start_time": "2022-01-27T12:22:03.133Z"
   },
   {
    "duration": 5,
    "start_time": "2022-01-27T12:22:03.145Z"
   },
   {
    "duration": 10,
    "start_time": "2022-01-27T12:22:03.152Z"
   },
   {
    "duration": 6,
    "start_time": "2022-01-27T12:22:03.164Z"
   },
   {
    "duration": 6,
    "start_time": "2022-01-27T12:22:03.171Z"
   },
   {
    "duration": 39,
    "start_time": "2022-01-27T12:22:03.179Z"
   },
   {
    "duration": 5,
    "start_time": "2022-01-27T12:22:03.221Z"
   },
   {
    "duration": 15,
    "start_time": "2022-01-27T12:22:03.228Z"
   },
   {
    "duration": 3,
    "start_time": "2022-01-27T12:22:03.245Z"
   },
   {
    "duration": 5,
    "start_time": "2022-01-27T12:22:03.250Z"
   },
   {
    "duration": 9,
    "start_time": "2022-01-27T12:22:03.256Z"
   },
   {
    "duration": 2,
    "start_time": "2022-01-27T12:22:03.267Z"
   },
   {
    "duration": 52,
    "start_time": "2022-01-27T12:22:03.271Z"
   },
   {
    "duration": 11,
    "start_time": "2022-01-27T12:22:03.325Z"
   },
   {
    "duration": 26,
    "start_time": "2022-01-27T12:22:03.338Z"
   },
   {
    "duration": 5,
    "start_time": "2022-01-27T12:22:03.366Z"
   },
   {
    "duration": 58,
    "start_time": "2022-01-27T12:22:03.373Z"
   },
   {
    "duration": 6,
    "start_time": "2022-01-27T12:22:03.433Z"
   },
   {
    "duration": 15,
    "start_time": "2022-01-27T12:22:03.441Z"
   },
   {
    "duration": 561,
    "start_time": "2022-01-27T12:22:03.457Z"
   },
   {
    "duration": 5,
    "start_time": "2022-01-27T12:22:04.020Z"
   },
   {
    "duration": 901,
    "start_time": "2022-01-27T12:22:04.026Z"
   },
   {
    "duration": 261,
    "start_time": "2022-01-27T12:22:04.928Z"
   },
   {
    "duration": 9,
    "start_time": "2022-01-27T12:22:05.190Z"
   },
   {
    "duration": 155,
    "start_time": "2022-01-27T12:22:05.202Z"
   },
   {
    "duration": 2,
    "start_time": "2022-01-27T12:22:09.880Z"
   },
   {
    "duration": 336,
    "start_time": "2022-01-27T12:23:32.241Z"
   },
   {
    "duration": 11,
    "start_time": "2022-01-27T12:24:10.308Z"
   },
   {
    "duration": 11,
    "start_time": "2022-01-27T12:24:17.179Z"
   },
   {
    "duration": 212,
    "start_time": "2022-01-27T12:24:33.894Z"
   },
   {
    "duration": 10,
    "start_time": "2022-01-27T13:16:19.575Z"
   },
   {
    "duration": 599,
    "start_time": "2022-01-27T13:20:02.455Z"
   },
   {
    "duration": 86,
    "start_time": "2022-01-27T13:20:03.056Z"
   },
   {
    "duration": 10,
    "start_time": "2022-01-27T13:20:03.144Z"
   },
   {
    "duration": 6,
    "start_time": "2022-01-27T13:20:03.156Z"
   },
   {
    "duration": 11,
    "start_time": "2022-01-27T13:20:03.163Z"
   },
   {
    "duration": 7,
    "start_time": "2022-01-27T13:20:03.176Z"
   },
   {
    "duration": 34,
    "start_time": "2022-01-27T13:20:03.184Z"
   },
   {
    "duration": 7,
    "start_time": "2022-01-27T13:20:03.220Z"
   },
   {
    "duration": 7,
    "start_time": "2022-01-27T13:20:03.229Z"
   },
   {
    "duration": 15,
    "start_time": "2022-01-27T13:20:03.237Z"
   },
   {
    "duration": 3,
    "start_time": "2022-01-27T13:20:03.253Z"
   },
   {
    "duration": 12,
    "start_time": "2022-01-27T13:20:03.258Z"
   },
   {
    "duration": 13,
    "start_time": "2022-01-27T13:20:03.271Z"
   },
   {
    "duration": 28,
    "start_time": "2022-01-27T13:20:03.286Z"
   },
   {
    "duration": 22,
    "start_time": "2022-01-27T13:20:03.315Z"
   },
   {
    "duration": 9,
    "start_time": "2022-01-27T13:20:03.338Z"
   },
   {
    "duration": 27,
    "start_time": "2022-01-27T13:20:03.349Z"
   },
   {
    "duration": 4,
    "start_time": "2022-01-27T13:20:03.377Z"
   },
   {
    "duration": 48,
    "start_time": "2022-01-27T13:20:03.383Z"
   },
   {
    "duration": 10,
    "start_time": "2022-01-27T13:20:03.433Z"
   },
   {
    "duration": 15,
    "start_time": "2022-01-27T13:20:03.445Z"
   },
   {
    "duration": 572,
    "start_time": "2022-01-27T13:20:03.462Z"
   },
   {
    "duration": 5,
    "start_time": "2022-01-27T13:20:04.036Z"
   },
   {
    "duration": 914,
    "start_time": "2022-01-27T13:20:04.043Z"
   },
   {
    "duration": 273,
    "start_time": "2022-01-27T13:20:04.960Z"
   },
   {
    "duration": 9,
    "start_time": "2022-01-27T13:20:05.235Z"
   },
   {
    "duration": 159,
    "start_time": "2022-01-27T13:20:05.246Z"
   },
   {
    "duration": 3,
    "start_time": "2022-01-27T13:20:05.413Z"
   },
   {
    "duration": 12,
    "start_time": "2022-01-27T13:20:05.418Z"
   },
   {
    "duration": 254,
    "start_time": "2022-01-27T13:20:05.431Z"
   },
   {
    "duration": 9,
    "start_time": "2022-01-27T13:20:05.687Z"
   },
   {
    "duration": 270,
    "start_time": "2022-01-27T13:20:05.698Z"
   },
   {
    "duration": 23,
    "start_time": "2022-01-27T13:20:05.970Z"
   },
   {
    "duration": 13,
    "start_time": "2022-01-27T13:20:11.346Z"
   },
   {
    "duration": 230,
    "start_time": "2022-01-27T13:20:12.862Z"
   },
   {
    "duration": 8,
    "start_time": "2022-01-27T13:20:14.253Z"
   },
   {
    "duration": 38,
    "start_time": "2022-01-27T13:20:18.843Z"
   },
   {
    "duration": 8,
    "start_time": "2022-01-27T13:20:20.541Z"
   },
   {
    "duration": 10,
    "start_time": "2022-01-27T13:20:38.903Z"
   },
   {
    "duration": 9,
    "start_time": "2022-01-27T13:22:10.836Z"
   },
   {
    "duration": 7,
    "start_time": "2022-01-27T13:22:11.715Z"
   },
   {
    "duration": 10,
    "start_time": "2022-01-27T13:23:31.419Z"
   },
   {
    "duration": 10,
    "start_time": "2022-01-27T13:24:46.936Z"
   },
   {
    "duration": 12,
    "start_time": "2022-01-27T13:24:55.397Z"
   },
   {
    "duration": 229,
    "start_time": "2022-01-27T13:26:55.106Z"
   },
   {
    "duration": 333,
    "start_time": "2022-01-27T14:07:27.214Z"
   },
   {
    "duration": 583,
    "start_time": "2022-01-27T14:07:38.271Z"
   },
   {
    "duration": 85,
    "start_time": "2022-01-27T14:07:38.855Z"
   },
   {
    "duration": 9,
    "start_time": "2022-01-27T14:07:38.942Z"
   },
   {
    "duration": 6,
    "start_time": "2022-01-27T14:07:38.953Z"
   },
   {
    "duration": 17,
    "start_time": "2022-01-27T14:07:38.960Z"
   },
   {
    "duration": 7,
    "start_time": "2022-01-27T14:07:38.978Z"
   },
   {
    "duration": 6,
    "start_time": "2022-01-27T14:07:39.012Z"
   },
   {
    "duration": 16,
    "start_time": "2022-01-27T14:07:39.020Z"
   },
   {
    "duration": 5,
    "start_time": "2022-01-27T14:07:39.037Z"
   },
   {
    "duration": 20,
    "start_time": "2022-01-27T14:07:39.044Z"
   },
   {
    "duration": 6,
    "start_time": "2022-01-27T14:07:39.066Z"
   },
   {
    "duration": 8,
    "start_time": "2022-01-27T14:07:39.073Z"
   },
   {
    "duration": 29,
    "start_time": "2022-01-27T14:07:39.083Z"
   },
   {
    "duration": 3,
    "start_time": "2022-01-27T14:07:39.114Z"
   },
   {
    "duration": 20,
    "start_time": "2022-01-27T14:07:39.118Z"
   },
   {
    "duration": 11,
    "start_time": "2022-01-27T14:07:39.140Z"
   },
   {
    "duration": 25,
    "start_time": "2022-01-27T14:07:39.153Z"
   },
   {
    "duration": 4,
    "start_time": "2022-01-27T14:07:39.179Z"
   },
   {
    "duration": 49,
    "start_time": "2022-01-27T14:07:39.185Z"
   },
   {
    "duration": 5,
    "start_time": "2022-01-27T14:07:39.236Z"
   },
   {
    "duration": 16,
    "start_time": "2022-01-27T14:07:39.242Z"
   },
   {
    "duration": 555,
    "start_time": "2022-01-27T14:07:39.259Z"
   },
   {
    "duration": 4,
    "start_time": "2022-01-27T14:07:39.818Z"
   },
   {
    "duration": 900,
    "start_time": "2022-01-27T14:07:39.824Z"
   },
   {
    "duration": 258,
    "start_time": "2022-01-27T14:07:40.726Z"
   },
   {
    "duration": 7,
    "start_time": "2022-01-27T14:07:40.986Z"
   },
   {
    "duration": 161,
    "start_time": "2022-01-27T14:07:40.995Z"
   },
   {
    "duration": 2,
    "start_time": "2022-01-27T14:07:41.158Z"
   },
   {
    "duration": 13,
    "start_time": "2022-01-27T14:07:41.162Z"
   },
   {
    "duration": 247,
    "start_time": "2022-01-27T14:07:41.176Z"
   },
   {
    "duration": 8,
    "start_time": "2022-01-27T14:07:41.424Z"
   },
   {
    "duration": 269,
    "start_time": "2022-01-27T14:07:41.434Z"
   },
   {
    "duration": 21,
    "start_time": "2022-01-27T14:07:41.712Z"
   },
   {
    "duration": 11,
    "start_time": "2022-01-27T14:07:41.735Z"
   },
   {
    "duration": 234,
    "start_time": "2022-01-27T14:07:41.747Z"
   },
   {
    "duration": 8,
    "start_time": "2022-01-27T14:07:41.982Z"
   },
   {
    "duration": 52,
    "start_time": "2022-01-27T14:07:41.991Z"
   },
   {
    "duration": 7,
    "start_time": "2022-01-27T14:07:42.045Z"
   },
   {
    "duration": 8,
    "start_time": "2022-01-27T14:07:42.054Z"
   },
   {
    "duration": 284,
    "start_time": "2022-01-27T14:07:42.064Z"
   },
   {
    "duration": 8,
    "start_time": "2022-01-27T14:07:42.349Z"
   },
   {
    "duration": 7,
    "start_time": "2022-01-27T14:07:42.358Z"
   },
   {
    "duration": 12,
    "start_time": "2022-01-27T14:07:42.366Z"
   },
   {
    "duration": 304,
    "start_time": "2022-01-27T14:07:42.379Z"
   },
   {
    "duration": 15,
    "start_time": "2022-01-27T14:07:42.685Z"
   },
   {
    "duration": 246,
    "start_time": "2022-01-27T14:07:42.712Z"
   },
   {
    "duration": 7,
    "start_time": "2022-01-27T14:07:42.959Z"
   },
   {
    "duration": 28,
    "start_time": "2022-01-27T14:07:42.967Z"
   },
   {
    "duration": 319,
    "start_time": "2022-01-27T14:07:45.166Z"
   },
   {
    "duration": 13,
    "start_time": "2022-01-27T14:07:54.940Z"
   },
   {
    "duration": 16,
    "start_time": "2022-01-27T14:08:47.675Z"
   },
   {
    "duration": 13,
    "start_time": "2022-01-27T14:10:05.956Z"
   },
   {
    "duration": 16,
    "start_time": "2022-01-27T14:10:14.111Z"
   },
   {
    "duration": 204,
    "start_time": "2022-01-27T14:12:07.618Z"
   },
   {
    "duration": 271,
    "start_time": "2022-01-27T14:12:38.003Z"
   },
   {
    "duration": 15,
    "start_time": "2022-01-27T14:12:46.082Z"
   },
   {
    "duration": 300,
    "start_time": "2022-01-27T14:36:20.996Z"
   },
   {
    "duration": 301,
    "start_time": "2022-01-27T14:36:29.780Z"
   },
   {
    "duration": 254,
    "start_time": "2022-01-27T14:38:28.291Z"
   },
   {
    "duration": 236,
    "start_time": "2022-01-27T14:38:43.663Z"
   },
   {
    "duration": 166,
    "start_time": "2022-01-27T14:38:55.254Z"
   },
   {
    "duration": 4245,
    "start_time": "2022-01-27T14:39:21.785Z"
   },
   {
    "duration": 629,
    "start_time": "2022-01-27T14:39:54.127Z"
   },
   {
    "duration": 90,
    "start_time": "2022-01-27T14:39:54.758Z"
   },
   {
    "duration": 10,
    "start_time": "2022-01-27T14:39:54.850Z"
   },
   {
    "duration": 16,
    "start_time": "2022-01-27T14:39:54.862Z"
   },
   {
    "duration": 25,
    "start_time": "2022-01-27T14:39:54.879Z"
   },
   {
    "duration": 13,
    "start_time": "2022-01-27T14:39:54.906Z"
   },
   {
    "duration": 14,
    "start_time": "2022-01-27T14:39:54.921Z"
   },
   {
    "duration": 19,
    "start_time": "2022-01-27T14:39:54.936Z"
   },
   {
    "duration": 19,
    "start_time": "2022-01-27T14:39:54.958Z"
   },
   {
    "duration": 30,
    "start_time": "2022-01-27T14:39:54.979Z"
   },
   {
    "duration": 6,
    "start_time": "2022-01-27T14:39:55.011Z"
   },
   {
    "duration": 18,
    "start_time": "2022-01-27T14:39:55.018Z"
   },
   {
    "duration": 32,
    "start_time": "2022-01-27T14:39:55.038Z"
   },
   {
    "duration": 13,
    "start_time": "2022-01-27T14:39:55.072Z"
   },
   {
    "duration": 29,
    "start_time": "2022-01-27T14:39:55.086Z"
   },
   {
    "duration": 19,
    "start_time": "2022-01-27T14:39:55.116Z"
   },
   {
    "duration": 26,
    "start_time": "2022-01-27T14:39:55.136Z"
   },
   {
    "duration": 5,
    "start_time": "2022-01-27T14:39:55.163Z"
   },
   {
    "duration": 46,
    "start_time": "2022-01-27T14:39:55.170Z"
   },
   {
    "duration": 4,
    "start_time": "2022-01-27T14:39:55.218Z"
   },
   {
    "duration": 38,
    "start_time": "2022-01-27T14:39:55.224Z"
   },
   {
    "duration": 546,
    "start_time": "2022-01-27T14:39:55.263Z"
   },
   {
    "duration": 5,
    "start_time": "2022-01-27T14:39:55.812Z"
   },
   {
    "duration": 914,
    "start_time": "2022-01-27T14:39:55.818Z"
   },
   {
    "duration": 267,
    "start_time": "2022-01-27T14:39:56.733Z"
   },
   {
    "duration": 12,
    "start_time": "2022-01-27T14:39:57.002Z"
   },
   {
    "duration": 155,
    "start_time": "2022-01-27T14:39:57.018Z"
   },
   {
    "duration": 3,
    "start_time": "2022-01-27T14:39:57.175Z"
   },
   {
    "duration": 22,
    "start_time": "2022-01-27T14:39:57.180Z"
   },
   {
    "duration": 239,
    "start_time": "2022-01-27T14:39:57.203Z"
   },
   {
    "duration": 8,
    "start_time": "2022-01-27T14:39:57.444Z"
   },
   {
    "duration": 258,
    "start_time": "2022-01-27T14:39:57.454Z"
   },
   {
    "duration": 23,
    "start_time": "2022-01-27T14:39:57.714Z"
   },
   {
    "duration": 10,
    "start_time": "2022-01-27T14:39:57.738Z"
   },
   {
    "duration": 231,
    "start_time": "2022-01-27T14:39:57.750Z"
   },
   {
    "duration": 7,
    "start_time": "2022-01-27T14:39:57.983Z"
   },
   {
    "duration": 55,
    "start_time": "2022-01-27T14:39:57.992Z"
   },
   {
    "duration": 9,
    "start_time": "2022-01-27T14:39:58.049Z"
   },
   {
    "duration": 10,
    "start_time": "2022-01-27T14:39:58.060Z"
   },
   {
    "duration": 295,
    "start_time": "2022-01-27T14:39:58.072Z"
   },
   {
    "duration": 9,
    "start_time": "2022-01-27T14:39:58.369Z"
   },
   {
    "duration": 8,
    "start_time": "2022-01-27T14:39:58.380Z"
   },
   {
    "duration": 11,
    "start_time": "2022-01-27T14:39:58.413Z"
   },
   {
    "duration": 314,
    "start_time": "2022-01-27T14:39:58.426Z"
   },
   {
    "duration": 18,
    "start_time": "2022-01-27T14:39:58.742Z"
   },
   {
    "duration": 276,
    "start_time": "2022-01-27T14:39:58.762Z"
   },
   {
    "duration": 9,
    "start_time": "2022-01-27T14:39:59.040Z"
   },
   {
    "duration": 30,
    "start_time": "2022-01-27T14:39:59.051Z"
   },
   {
    "duration": 4135,
    "start_time": "2022-01-27T14:40:00.438Z"
   },
   {
    "duration": 3788,
    "start_time": "2022-01-27T14:40:49.307Z"
   },
   {
    "duration": 3685,
    "start_time": "2022-01-27T14:41:54.044Z"
   },
   {
    "duration": 3994,
    "start_time": "2022-01-27T14:42:34.997Z"
   },
   {
    "duration": 3627,
    "start_time": "2022-01-27T14:42:50.218Z"
   },
   {
    "duration": 3935,
    "start_time": "2022-01-27T14:43:59.777Z"
   },
   {
    "duration": 118,
    "start_time": "2022-01-27T14:44:07.132Z"
   },
   {
    "duration": 14,
    "start_time": "2022-01-27T14:47:54.160Z"
   },
   {
    "duration": 98,
    "start_time": "2022-01-27T14:48:07.560Z"
   },
   {
    "duration": 98,
    "start_time": "2022-01-27T14:48:33.795Z"
   },
   {
    "duration": 642,
    "start_time": "2022-01-27T14:48:43.053Z"
   },
   {
    "duration": 90,
    "start_time": "2022-01-27T14:48:43.697Z"
   },
   {
    "duration": 23,
    "start_time": "2022-01-27T14:48:43.789Z"
   },
   {
    "duration": 7,
    "start_time": "2022-01-27T14:48:43.814Z"
   },
   {
    "duration": 15,
    "start_time": "2022-01-27T14:48:43.824Z"
   },
   {
    "duration": 9,
    "start_time": "2022-01-27T14:48:43.841Z"
   },
   {
    "duration": 8,
    "start_time": "2022-01-27T14:48:43.852Z"
   },
   {
    "duration": 56,
    "start_time": "2022-01-27T14:48:43.863Z"
   },
   {
    "duration": 5,
    "start_time": "2022-01-27T14:48:43.921Z"
   },
   {
    "duration": 18,
    "start_time": "2022-01-27T14:48:43.928Z"
   },
   {
    "duration": 4,
    "start_time": "2022-01-27T14:48:43.948Z"
   },
   {
    "duration": 7,
    "start_time": "2022-01-27T14:48:43.954Z"
   },
   {
    "duration": 55,
    "start_time": "2022-01-27T14:48:43.963Z"
   },
   {
    "duration": 4,
    "start_time": "2022-01-27T14:48:44.021Z"
   },
   {
    "duration": 17,
    "start_time": "2022-01-27T14:48:44.027Z"
   },
   {
    "duration": 12,
    "start_time": "2022-01-27T14:48:44.045Z"
   },
   {
    "duration": 70,
    "start_time": "2022-01-27T14:48:44.059Z"
   },
   {
    "duration": 7,
    "start_time": "2022-01-27T14:48:44.131Z"
   },
   {
    "duration": 32,
    "start_time": "2022-01-27T14:48:44.140Z"
   },
   {
    "duration": 5,
    "start_time": "2022-01-27T14:48:44.174Z"
   },
   {
    "duration": 41,
    "start_time": "2022-01-27T14:48:44.181Z"
   },
   {
    "duration": 570,
    "start_time": "2022-01-27T14:48:44.224Z"
   },
   {
    "duration": 5,
    "start_time": "2022-01-27T14:48:44.797Z"
   },
   {
    "duration": 902,
    "start_time": "2022-01-27T14:48:44.804Z"
   },
   {
    "duration": 279,
    "start_time": "2022-01-27T14:48:45.708Z"
   },
   {
    "duration": 8,
    "start_time": "2022-01-27T14:48:45.989Z"
   },
   {
    "duration": 155,
    "start_time": "2022-01-27T14:48:45.998Z"
   },
   {
    "duration": 3,
    "start_time": "2022-01-27T14:48:46.155Z"
   },
   {
    "duration": 14,
    "start_time": "2022-01-27T14:48:46.159Z"
   },
   {
    "duration": 263,
    "start_time": "2022-01-27T14:48:46.175Z"
   },
   {
    "duration": 10,
    "start_time": "2022-01-27T14:48:46.440Z"
   },
   {
    "duration": 269,
    "start_time": "2022-01-27T14:48:46.452Z"
   },
   {
    "duration": 23,
    "start_time": "2022-01-27T14:48:46.723Z"
   },
   {
    "duration": 10,
    "start_time": "2022-01-27T14:48:46.747Z"
   },
   {
    "duration": 246,
    "start_time": "2022-01-27T14:48:46.759Z"
   },
   {
    "duration": 12,
    "start_time": "2022-01-27T14:48:47.007Z"
   },
   {
    "duration": 38,
    "start_time": "2022-01-27T14:48:47.021Z"
   },
   {
    "duration": 9,
    "start_time": "2022-01-27T14:48:47.061Z"
   },
   {
    "duration": 11,
    "start_time": "2022-01-27T14:48:47.072Z"
   },
   {
    "duration": 283,
    "start_time": "2022-01-27T14:48:47.084Z"
   },
   {
    "duration": 8,
    "start_time": "2022-01-27T14:48:47.369Z"
   },
   {
    "duration": 6,
    "start_time": "2022-01-27T14:48:47.379Z"
   },
   {
    "duration": 35,
    "start_time": "2022-01-27T14:48:47.386Z"
   },
   {
    "duration": 342,
    "start_time": "2022-01-27T14:48:47.423Z"
   },
   {
    "duration": 15,
    "start_time": "2022-01-27T14:48:47.767Z"
   },
   {
    "duration": 271,
    "start_time": "2022-01-27T14:48:47.784Z"
   },
   {
    "duration": 6,
    "start_time": "2022-01-27T14:48:48.057Z"
   },
   {
    "duration": 26,
    "start_time": "2022-01-27T14:48:48.065Z"
   },
   {
    "duration": 24,
    "start_time": "2022-01-27T14:49:35.249Z"
   },
   {
    "duration": 9,
    "start_time": "2022-01-27T14:50:35.997Z"
   },
   {
    "duration": 729,
    "start_time": "2022-01-27T14:50:49.073Z"
   },
   {
    "duration": 36,
    "start_time": "2022-01-27T14:50:53.413Z"
   },
   {
    "duration": 10,
    "start_time": "2022-01-27T14:51:03.275Z"
   },
   {
    "duration": 205,
    "start_time": "2022-01-27T14:51:48.638Z"
   },
   {
    "duration": 6984,
    "start_time": "2022-01-27T15:00:59.217Z"
   },
   {
    "duration": 56665,
    "start_time": "2022-01-27T15:01:17.041Z"
   },
   {
    "duration": 55933,
    "start_time": "2022-01-27T15:03:57.472Z"
   },
   {
    "duration": 236,
    "start_time": "2022-01-27T15:05:29.120Z"
   },
   {
    "duration": 3433,
    "start_time": "2022-01-27T15:05:37.768Z"
   },
   {
    "duration": 3650,
    "start_time": "2022-01-27T15:06:01.315Z"
   },
   {
    "duration": 7,
    "start_time": "2022-01-27T15:19:20.468Z"
   },
   {
    "duration": 5,
    "start_time": "2022-01-27T15:19:29.186Z"
   },
   {
    "duration": 5,
    "start_time": "2022-01-27T15:19:31.580Z"
   },
   {
    "duration": 7,
    "start_time": "2022-01-27T15:19:39.129Z"
   },
   {
    "duration": 5,
    "start_time": "2022-01-27T15:19:58.536Z"
   },
   {
    "duration": 9,
    "start_time": "2022-01-27T15:32:57.527Z"
   },
   {
    "duration": 412,
    "start_time": "2022-01-27T15:35:45.792Z"
   },
   {
    "duration": 40,
    "start_time": "2022-01-27T15:35:53.518Z"
   },
   {
    "duration": 13,
    "start_time": "2022-01-27T15:36:10.706Z"
   },
   {
    "duration": 15,
    "start_time": "2022-01-27T15:38:32.731Z"
   },
   {
    "duration": 254,
    "start_time": "2022-01-27T15:38:49.558Z"
   },
   {
    "duration": 15,
    "start_time": "2022-01-27T15:39:01.417Z"
   },
   {
    "duration": 12,
    "start_time": "2022-01-27T15:41:54.932Z"
   },
   {
    "duration": 10,
    "start_time": "2022-01-27T15:43:20.726Z"
   },
   {
    "duration": 9,
    "start_time": "2022-01-27T15:43:30.162Z"
   },
   {
    "duration": 9,
    "start_time": "2022-01-27T15:43:38.956Z"
   },
   {
    "duration": 9,
    "start_time": "2022-01-27T15:43:48.517Z"
   },
   {
    "duration": 10,
    "start_time": "2022-01-27T15:44:20.856Z"
   },
   {
    "duration": 224,
    "start_time": "2022-01-27T15:47:25.659Z"
   },
   {
    "duration": 4033,
    "start_time": "2022-01-27T15:47:32.749Z"
   },
   {
    "duration": 1038,
    "start_time": "2022-01-27T15:47:47.399Z"
   },
   {
    "duration": 3,
    "start_time": "2022-01-27T15:48:54.434Z"
   },
   {
    "duration": 252,
    "start_time": "2022-01-27T15:51:49.043Z"
   },
   {
    "duration": 245,
    "start_time": "2022-01-27T15:52:20.225Z"
   },
   {
    "duration": 371,
    "start_time": "2022-01-27T15:52:31.512Z"
   },
   {
    "duration": 659,
    "start_time": "2022-01-27T15:54:45.985Z"
   },
   {
    "duration": 89,
    "start_time": "2022-01-27T15:54:46.647Z"
   },
   {
    "duration": 10,
    "start_time": "2022-01-27T15:54:46.737Z"
   },
   {
    "duration": 6,
    "start_time": "2022-01-27T15:54:46.748Z"
   },
   {
    "duration": 11,
    "start_time": "2022-01-27T15:54:46.756Z"
   },
   {
    "duration": 6,
    "start_time": "2022-01-27T15:54:46.769Z"
   },
   {
    "duration": 8,
    "start_time": "2022-01-27T15:54:46.811Z"
   },
   {
    "duration": 9,
    "start_time": "2022-01-27T15:54:46.820Z"
   },
   {
    "duration": 5,
    "start_time": "2022-01-27T15:54:46.831Z"
   },
   {
    "duration": 14,
    "start_time": "2022-01-27T15:54:46.838Z"
   },
   {
    "duration": 3,
    "start_time": "2022-01-27T15:54:46.854Z"
   },
   {
    "duration": 5,
    "start_time": "2022-01-27T15:54:46.858Z"
   },
   {
    "duration": 47,
    "start_time": "2022-01-27T15:54:46.865Z"
   },
   {
    "duration": 3,
    "start_time": "2022-01-27T15:54:46.914Z"
   },
   {
    "duration": 14,
    "start_time": "2022-01-27T15:54:46.919Z"
   },
   {
    "duration": 9,
    "start_time": "2022-01-27T15:54:46.934Z"
   },
   {
    "duration": 26,
    "start_time": "2022-01-27T15:54:46.944Z"
   },
   {
    "duration": 40,
    "start_time": "2022-01-27T15:54:46.974Z"
   },
   {
    "duration": 26,
    "start_time": "2022-01-27T15:54:47.017Z"
   },
   {
    "duration": 4,
    "start_time": "2022-01-27T15:54:47.045Z"
   },
   {
    "duration": 13,
    "start_time": "2022-01-27T15:54:47.050Z"
   },
   {
    "duration": 570,
    "start_time": "2022-01-27T15:54:47.065Z"
   },
   {
    "duration": 4,
    "start_time": "2022-01-27T15:54:47.637Z"
   },
   {
    "duration": 869,
    "start_time": "2022-01-27T15:54:47.643Z"
   },
   {
    "duration": 256,
    "start_time": "2022-01-27T15:54:48.514Z"
   },
   {
    "duration": 9,
    "start_time": "2022-01-27T15:54:48.771Z"
   },
   {
    "duration": 156,
    "start_time": "2022-01-27T15:54:48.781Z"
   },
   {
    "duration": 2,
    "start_time": "2022-01-27T15:54:48.939Z"
   },
   {
    "duration": 19,
    "start_time": "2022-01-27T15:54:48.943Z"
   },
   {
    "duration": 241,
    "start_time": "2022-01-27T15:54:48.964Z"
   },
   {
    "duration": 12,
    "start_time": "2022-01-27T15:54:49.207Z"
   },
   {
    "duration": 253,
    "start_time": "2022-01-27T15:54:49.221Z"
   },
   {
    "duration": 37,
    "start_time": "2022-01-27T15:54:49.476Z"
   },
   {
    "duration": 13,
    "start_time": "2022-01-27T15:54:49.515Z"
   },
   {
    "duration": 230,
    "start_time": "2022-01-27T15:54:49.530Z"
   },
   {
    "duration": 9,
    "start_time": "2022-01-27T15:54:49.762Z"
   },
   {
    "duration": 61,
    "start_time": "2022-01-27T15:54:49.773Z"
   },
   {
    "duration": 7,
    "start_time": "2022-01-27T15:54:49.836Z"
   },
   {
    "duration": 9,
    "start_time": "2022-01-27T15:54:49.844Z"
   },
   {
    "duration": 275,
    "start_time": "2022-01-27T15:54:49.854Z"
   },
   {
    "duration": 11,
    "start_time": "2022-01-27T15:54:50.130Z"
   },
   {
    "duration": 7,
    "start_time": "2022-01-27T15:54:50.143Z"
   },
   {
    "duration": 13,
    "start_time": "2022-01-27T15:54:50.152Z"
   },
   {
    "duration": 314,
    "start_time": "2022-01-27T15:54:50.168Z"
   },
   {
    "duration": 14,
    "start_time": "2022-01-27T15:54:50.484Z"
   },
   {
    "duration": 246,
    "start_time": "2022-01-27T15:54:50.512Z"
   },
   {
    "duration": 7,
    "start_time": "2022-01-27T15:54:50.759Z"
   },
   {
    "duration": 45,
    "start_time": "2022-01-27T15:54:50.768Z"
   },
   {
    "duration": 23,
    "start_time": "2022-01-27T15:54:50.815Z"
   },
   {
    "duration": 9,
    "start_time": "2022-01-27T15:54:50.839Z"
   },
   {
    "duration": 236,
    "start_time": "2022-01-27T15:54:50.850Z"
   },
   {
    "duration": 3654,
    "start_time": "2022-01-27T15:54:51.087Z"
   },
   {
    "duration": 5,
    "start_time": "2022-01-27T15:54:54.743Z"
   },
   {
    "duration": 5,
    "start_time": "2022-01-27T15:54:54.751Z"
   },
   {
    "duration": 5,
    "start_time": "2022-01-27T15:54:54.757Z"
   },
   {
    "duration": 50,
    "start_time": "2022-01-27T15:54:54.763Z"
   },
   {
    "duration": 13,
    "start_time": "2022-01-27T15:54:54.814Z"
   },
   {
    "duration": 14,
    "start_time": "2022-01-27T15:54:54.829Z"
   },
   {
    "duration": 303,
    "start_time": "2022-01-27T15:54:58.000Z"
   },
   {
    "duration": 246,
    "start_time": "2022-01-27T15:59:12.642Z"
   },
   {
    "duration": 287,
    "start_time": "2022-01-27T16:01:42.956Z"
   },
   {
    "duration": 233,
    "start_time": "2022-01-27T16:01:56.730Z"
   },
   {
    "duration": 235,
    "start_time": "2022-01-27T16:02:38.662Z"
   },
   {
    "duration": 261,
    "start_time": "2022-01-27T16:03:31.821Z"
   },
   {
    "duration": 259,
    "start_time": "2022-01-27T16:03:59.787Z"
   },
   {
    "duration": 264,
    "start_time": "2022-01-27T16:04:16.742Z"
   },
   {
    "duration": 248,
    "start_time": "2022-01-27T16:04:35.534Z"
   },
   {
    "duration": 14,
    "start_time": "2022-01-27T16:04:49.944Z"
   },
   {
    "duration": 16,
    "start_time": "2022-01-27T16:05:02.929Z"
   },
   {
    "duration": 48,
    "start_time": "2022-01-27T16:05:10.253Z"
   },
   {
    "duration": 13,
    "start_time": "2022-01-27T16:08:38.126Z"
   },
   {
    "duration": 186,
    "start_time": "2022-01-27T16:08:47.713Z"
   },
   {
    "duration": 20,
    "start_time": "2022-01-27T16:09:30.954Z"
   },
   {
    "duration": 168,
    "start_time": "2022-01-27T16:09:34.890Z"
   },
   {
    "duration": 266,
    "start_time": "2022-01-27T16:10:02.374Z"
   },
   {
    "duration": 19,
    "start_time": "2022-01-27T16:10:08.171Z"
   },
   {
    "duration": 263,
    "start_time": "2022-01-27T16:13:12.185Z"
   },
   {
    "duration": 270,
    "start_time": "2022-01-27T16:13:26.168Z"
   },
   {
    "duration": 179,
    "start_time": "2022-01-27T16:17:14.636Z"
   },
   {
    "duration": 186,
    "start_time": "2022-01-27T16:17:22.491Z"
   },
   {
    "duration": 180,
    "start_time": "2022-01-27T16:18:25.420Z"
   },
   {
    "duration": 183,
    "start_time": "2022-01-27T16:19:17.224Z"
   },
   {
    "duration": 191,
    "start_time": "2022-01-27T16:19:42.675Z"
   },
   {
    "duration": 68,
    "start_time": "2022-01-27T16:21:12.300Z"
   },
   {
    "duration": 898,
    "start_time": "2022-01-27T17:53:50.150Z"
   },
   {
    "duration": 442,
    "start_time": "2022-01-27T17:54:46.750Z"
   },
   {
    "duration": 534,
    "start_time": "2022-01-27T17:58:18.750Z"
   },
   {
    "duration": 8,
    "start_time": "2022-01-27T17:58:36.673Z"
   },
   {
    "duration": 495,
    "start_time": "2022-01-30T11:21:15.368Z"
   },
   {
    "duration": 943,
    "start_time": "2022-01-30T11:21:30.305Z"
   },
   {
    "duration": 132,
    "start_time": "2022-01-30T11:21:31.251Z"
   },
   {
    "duration": 17,
    "start_time": "2022-01-30T11:21:31.387Z"
   },
   {
    "duration": 11,
    "start_time": "2022-01-30T11:21:31.422Z"
   },
   {
    "duration": 42,
    "start_time": "2022-01-30T11:21:31.436Z"
   },
   {
    "duration": 31,
    "start_time": "2022-01-30T11:21:31.481Z"
   },
   {
    "duration": 13,
    "start_time": "2022-01-30T11:21:31.515Z"
   },
   {
    "duration": 16,
    "start_time": "2022-01-30T11:21:31.533Z"
   },
   {
    "duration": 18,
    "start_time": "2022-01-30T11:21:31.553Z"
   },
   {
    "duration": 27,
    "start_time": "2022-01-30T11:21:31.574Z"
   },
   {
    "duration": 22,
    "start_time": "2022-01-30T11:21:31.603Z"
   },
   {
    "duration": 13,
    "start_time": "2022-01-30T11:21:31.627Z"
   },
   {
    "duration": 20,
    "start_time": "2022-01-30T11:21:31.642Z"
   },
   {
    "duration": 4,
    "start_time": "2022-01-30T11:21:31.665Z"
   },
   {
    "duration": 21,
    "start_time": "2022-01-30T11:21:31.672Z"
   },
   {
    "duration": 40,
    "start_time": "2022-01-30T11:21:31.695Z"
   },
   {
    "duration": 47,
    "start_time": "2022-01-30T11:21:31.738Z"
   },
   {
    "duration": 7,
    "start_time": "2022-01-30T11:21:31.787Z"
   },
   {
    "duration": 105,
    "start_time": "2022-01-30T11:21:31.796Z"
   },
   {
    "duration": 34,
    "start_time": "2022-01-30T11:21:31.904Z"
   },
   {
    "duration": 53,
    "start_time": "2022-01-30T11:21:31.941Z"
   },
   {
    "duration": 1113,
    "start_time": "2022-01-30T11:21:31.997Z"
   },
   {
    "duration": 11,
    "start_time": "2022-01-30T11:21:33.124Z"
   },
   {
    "duration": 1471,
    "start_time": "2022-01-30T11:21:33.138Z"
   },
   {
    "duration": 541,
    "start_time": "2022-01-30T11:21:34.611Z"
   },
   {
    "duration": 11,
    "start_time": "2022-01-30T11:21:35.154Z"
   },
   {
    "duration": 232,
    "start_time": "2022-01-30T11:21:35.168Z"
   },
   {
    "duration": 4,
    "start_time": "2022-01-30T11:21:35.403Z"
   },
   {
    "duration": 24,
    "start_time": "2022-01-30T11:21:35.409Z"
   },
   {
    "duration": 405,
    "start_time": "2022-01-30T11:21:35.436Z"
   },
   {
    "duration": 13,
    "start_time": "2022-01-30T11:21:35.844Z"
   },
   {
    "duration": 445,
    "start_time": "2022-01-30T11:21:35.860Z"
   },
   {
    "duration": 51,
    "start_time": "2022-01-30T11:21:36.307Z"
   },
   {
    "duration": 16,
    "start_time": "2022-01-30T11:21:36.361Z"
   },
   {
    "duration": 394,
    "start_time": "2022-01-30T11:21:36.380Z"
   },
   {
    "duration": 12,
    "start_time": "2022-01-30T11:21:36.776Z"
   },
   {
    "duration": 82,
    "start_time": "2022-01-30T11:21:36.790Z"
   },
   {
    "duration": 11,
    "start_time": "2022-01-30T11:21:36.874Z"
   },
   {
    "duration": 38,
    "start_time": "2022-01-30T11:21:36.887Z"
   },
   {
    "duration": 434,
    "start_time": "2022-01-30T11:21:36.928Z"
   },
   {
    "duration": 13,
    "start_time": "2022-01-30T11:21:37.365Z"
   },
   {
    "duration": 10,
    "start_time": "2022-01-30T11:21:37.381Z"
   },
   {
    "duration": 44,
    "start_time": "2022-01-30T11:21:37.393Z"
   },
   {
    "duration": 457,
    "start_time": "2022-01-30T11:21:37.441Z"
   },
   {
    "duration": 38,
    "start_time": "2022-01-30T11:21:37.902Z"
   },
   {
    "duration": 414,
    "start_time": "2022-01-30T11:21:37.943Z"
   },
   {
    "duration": 12,
    "start_time": "2022-01-30T11:21:38.359Z"
   },
   {
    "duration": 72,
    "start_time": "2022-01-30T11:21:38.373Z"
   },
   {
    "duration": 33,
    "start_time": "2022-01-30T11:21:38.447Z"
   },
   {
    "duration": 13,
    "start_time": "2022-01-30T11:21:38.482Z"
   },
   {
    "duration": 394,
    "start_time": "2022-01-30T11:21:38.498Z"
   },
   {
    "duration": 6279,
    "start_time": "2022-01-30T11:21:38.894Z"
   },
   {
    "duration": 8,
    "start_time": "2022-01-30T11:21:45.175Z"
   },
   {
    "duration": 14,
    "start_time": "2022-01-30T11:21:45.185Z"
   },
   {
    "duration": 8,
    "start_time": "2022-01-30T11:21:45.223Z"
   },
   {
    "duration": 20,
    "start_time": "2022-01-30T11:21:45.234Z"
   },
   {
    "duration": 18,
    "start_time": "2022-01-30T11:21:45.257Z"
   },
   {
    "duration": 51,
    "start_time": "2022-01-30T11:21:45.278Z"
   },
   {
    "duration": 33,
    "start_time": "2022-01-30T11:21:45.331Z"
   },
   {
    "duration": 310,
    "start_time": "2022-01-30T11:21:45.367Z"
   },
   {
    "duration": 764,
    "start_time": "2022-01-30T11:22:15.791Z"
   },
   {
    "duration": 12,
    "start_time": "2022-01-30T11:23:29.507Z"
   },
   {
    "duration": 801,
    "start_time": "2022-01-30T11:39:03.129Z"
   },
   {
    "duration": 11,
    "start_time": "2022-01-30T11:39:41.862Z"
   },
   {
    "duration": 11,
    "start_time": "2022-01-30T11:39:44.046Z"
   },
   {
    "duration": 635,
    "start_time": "2022-01-30T11:45:46.015Z"
   },
   {
    "duration": 11,
    "start_time": "2022-01-30T11:45:53.348Z"
   },
   {
    "duration": 11,
    "start_time": "2022-01-30T11:45:54.656Z"
   },
   {
    "duration": 698,
    "start_time": "2022-01-30T11:48:55.539Z"
   },
   {
    "duration": 12,
    "start_time": "2022-01-30T11:48:57.231Z"
   },
   {
    "duration": 11,
    "start_time": "2022-01-30T11:48:57.993Z"
   },
   {
    "duration": 102,
    "start_time": "2022-01-30T11:55:13.828Z"
   },
   {
    "duration": 1530,
    "start_time": "2022-01-30T11:55:21.398Z"
   },
   {
    "duration": 568,
    "start_time": "2022-01-30T11:58:25.721Z"
   },
   {
    "duration": 460,
    "start_time": "2022-01-30T11:58:48.099Z"
   },
   {
    "duration": 373,
    "start_time": "2022-01-30T12:00:27.438Z"
   },
   {
    "duration": 436,
    "start_time": "2022-01-30T12:03:27.775Z"
   },
   {
    "duration": 415,
    "start_time": "2022-01-30T12:04:45.353Z"
   },
   {
    "duration": 460,
    "start_time": "2022-01-30T12:06:19.551Z"
   },
   {
    "duration": 8,
    "start_time": "2022-01-30T12:06:54.390Z"
   },
   {
    "duration": 9394,
    "start_time": "2022-01-30T12:08:09.979Z"
   },
   {
    "duration": 518,
    "start_time": "2022-01-30T12:08:48.336Z"
   },
   {
    "duration": 7081,
    "start_time": "2022-01-30T12:10:39.442Z"
   },
   {
    "duration": 8,
    "start_time": "2022-01-30T12:12:37.478Z"
   },
   {
    "duration": 7,
    "start_time": "2022-01-30T12:12:53.687Z"
   },
   {
    "duration": 13,
    "start_time": "2022-01-30T12:12:55.188Z"
   },
   {
    "duration": 2802,
    "start_time": "2022-01-30T12:14:49.639Z"
   },
   {
    "duration": 7,
    "start_time": "2022-01-30T12:15:57.262Z"
   },
   {
    "duration": 7,
    "start_time": "2022-01-30T12:15:58.999Z"
   },
   {
    "duration": 15,
    "start_time": "2022-01-30T12:15:59.926Z"
   },
   {
    "duration": 7,
    "start_time": "2022-01-30T12:16:43.979Z"
   },
   {
    "duration": 6,
    "start_time": "2022-01-30T12:17:21.317Z"
   },
   {
    "duration": 8,
    "start_time": "2022-01-30T12:17:21.840Z"
   },
   {
    "duration": 6,
    "start_time": "2022-01-30T12:17:22.379Z"
   },
   {
    "duration": 600,
    "start_time": "2022-01-30T12:26:45.012Z"
   },
   {
    "duration": 406,
    "start_time": "2022-01-30T12:27:30.112Z"
   },
   {
    "duration": 1025,
    "start_time": "2022-01-30T12:28:25.772Z"
   },
   {
    "duration": 156,
    "start_time": "2022-01-30T12:28:26.800Z"
   },
   {
    "duration": 15,
    "start_time": "2022-01-30T12:28:26.959Z"
   },
   {
    "duration": 12,
    "start_time": "2022-01-30T12:28:26.977Z"
   },
   {
    "duration": 38,
    "start_time": "2022-01-30T12:28:26.992Z"
   },
   {
    "duration": 11,
    "start_time": "2022-01-30T12:28:27.032Z"
   },
   {
    "duration": 11,
    "start_time": "2022-01-30T12:28:27.046Z"
   },
   {
    "duration": 13,
    "start_time": "2022-01-30T12:28:27.060Z"
   },
   {
    "duration": 50,
    "start_time": "2022-01-30T12:28:27.077Z"
   },
   {
    "duration": 24,
    "start_time": "2022-01-30T12:28:27.129Z"
   },
   {
    "duration": 4,
    "start_time": "2022-01-30T12:28:27.155Z"
   },
   {
    "duration": 7,
    "start_time": "2022-01-30T12:28:27.163Z"
   },
   {
    "duration": 19,
    "start_time": "2022-01-30T12:28:27.173Z"
   },
   {
    "duration": 31,
    "start_time": "2022-01-30T12:28:27.195Z"
   },
   {
    "duration": 25,
    "start_time": "2022-01-30T12:28:27.228Z"
   },
   {
    "duration": 20,
    "start_time": "2022-01-30T12:28:27.256Z"
   },
   {
    "duration": 55,
    "start_time": "2022-01-30T12:28:27.279Z"
   },
   {
    "duration": 7,
    "start_time": "2022-01-30T12:28:27.337Z"
   },
   {
    "duration": 42,
    "start_time": "2022-01-30T12:28:27.346Z"
   },
   {
    "duration": 34,
    "start_time": "2022-01-30T12:28:27.390Z"
   },
   {
    "duration": 17,
    "start_time": "2022-01-30T12:28:27.426Z"
   },
   {
    "duration": 1004,
    "start_time": "2022-01-30T12:28:27.446Z"
   },
   {
    "duration": 9,
    "start_time": "2022-01-30T12:28:28.458Z"
   },
   {
    "duration": 1393,
    "start_time": "2022-01-30T12:28:28.472Z"
   },
   {
    "duration": 430,
    "start_time": "2022-01-30T12:28:29.867Z"
   },
   {
    "duration": 11,
    "start_time": "2022-01-30T12:28:30.299Z"
   },
   {
    "duration": 231,
    "start_time": "2022-01-30T12:28:30.323Z"
   },
   {
    "duration": 4,
    "start_time": "2022-01-30T12:28:30.556Z"
   },
   {
    "duration": 25,
    "start_time": "2022-01-30T12:28:30.563Z"
   },
   {
    "duration": 390,
    "start_time": "2022-01-30T12:28:30.590Z"
   },
   {
    "duration": 11,
    "start_time": "2022-01-30T12:28:30.982Z"
   },
   {
    "duration": 415,
    "start_time": "2022-01-30T12:28:30.996Z"
   },
   {
    "duration": 44,
    "start_time": "2022-01-30T12:28:31.413Z"
   },
   {
    "duration": 15,
    "start_time": "2022-01-30T12:28:31.460Z"
   },
   {
    "duration": 372,
    "start_time": "2022-01-30T12:28:31.477Z"
   },
   {
    "duration": 10,
    "start_time": "2022-01-30T12:28:31.851Z"
   },
   {
    "duration": 85,
    "start_time": "2022-01-30T12:28:31.864Z"
   },
   {
    "duration": 11,
    "start_time": "2022-01-30T12:28:31.951Z"
   },
   {
    "duration": 12,
    "start_time": "2022-01-30T12:28:31.964Z"
   },
   {
    "duration": 421,
    "start_time": "2022-01-30T12:28:31.979Z"
   },
   {
    "duration": 22,
    "start_time": "2022-01-30T12:28:32.403Z"
   },
   {
    "duration": 9,
    "start_time": "2022-01-30T12:28:32.428Z"
   },
   {
    "duration": 17,
    "start_time": "2022-01-30T12:28:32.440Z"
   },
   {
    "duration": 468,
    "start_time": "2022-01-30T12:28:32.459Z"
   },
   {
    "duration": 23,
    "start_time": "2022-01-30T12:28:32.929Z"
   },
   {
    "duration": 445,
    "start_time": "2022-01-30T12:28:32.955Z"
   },
   {
    "duration": 24,
    "start_time": "2022-01-30T12:28:33.403Z"
   },
   {
    "duration": 44,
    "start_time": "2022-01-30T12:28:33.430Z"
   },
   {
    "duration": 63,
    "start_time": "2022-01-30T12:28:33.476Z"
   },
   {
    "duration": 12,
    "start_time": "2022-01-30T12:28:33.541Z"
   },
   {
    "duration": 349,
    "start_time": "2022-01-30T12:28:33.556Z"
   },
   {
    "duration": 5655,
    "start_time": "2022-01-30T12:28:33.907Z"
   },
   {
    "duration": 6,
    "start_time": "2022-01-30T12:28:39.565Z"
   },
   {
    "duration": 9,
    "start_time": "2022-01-30T12:28:39.574Z"
   },
   {
    "duration": 39,
    "start_time": "2022-01-30T12:28:39.585Z"
   },
   {
    "duration": 6709,
    "start_time": "2022-01-30T12:28:39.627Z"
   },
   {
    "duration": 6,
    "start_time": "2022-01-30T12:28:46.339Z"
   },
   {
    "duration": 19,
    "start_time": "2022-01-30T12:28:46.347Z"
   },
   {
    "duration": 10,
    "start_time": "2022-01-30T12:28:46.368Z"
   },
   {
    "duration": 613,
    "start_time": "2022-01-30T12:28:46.380Z"
   },
   {
    "duration": 28,
    "start_time": "2022-01-30T12:28:46.997Z"
   },
   {
    "duration": 18,
    "start_time": "2022-01-30T12:28:47.027Z"
   },
   {
    "duration": 24,
    "start_time": "2022-01-30T12:28:47.048Z"
   },
   {
    "duration": 65,
    "start_time": "2022-01-30T12:28:47.074Z"
   },
   {
    "duration": 290,
    "start_time": "2022-01-30T12:28:47.141Z"
   },
   {
    "duration": 665,
    "start_time": "2022-01-30T12:28:47.433Z"
   },
   {
    "duration": 22,
    "start_time": "2022-01-30T12:28:48.101Z"
   },
   {
    "duration": 10,
    "start_time": "2022-01-30T12:28:48.131Z"
   },
   {
    "duration": 758,
    "start_time": "2022-01-30T12:28:48.144Z"
   },
   {
    "duration": 20,
    "start_time": "2022-01-30T12:28:48.904Z"
   },
   {
    "duration": 11,
    "start_time": "2022-01-30T12:28:48.926Z"
   },
   {
    "duration": 786,
    "start_time": "2022-01-30T12:28:48.940Z"
   },
   {
    "duration": 11,
    "start_time": "2022-01-30T12:28:49.729Z"
   },
   {
    "duration": 29,
    "start_time": "2022-01-30T12:28:49.743Z"
   },
   {
    "duration": 727,
    "start_time": "2022-01-30T12:28:49.775Z"
   },
   {
    "duration": 25,
    "start_time": "2022-01-30T12:28:50.504Z"
   },
   {
    "duration": 11,
    "start_time": "2022-01-30T12:28:50.531Z"
   },
   {
    "duration": 405,
    "start_time": "2022-01-30T12:28:50.544Z"
   },
   {
    "duration": 390,
    "start_time": "2022-01-30T12:28:50.952Z"
   },
   {
    "duration": 402,
    "start_time": "2022-01-30T12:28:51.344Z"
   },
   {
    "duration": 7,
    "start_time": "2022-01-30T12:28:51.748Z"
   },
   {
    "duration": 2370,
    "start_time": "2022-01-30T12:28:51.757Z"
   },
   {
    "duration": 7,
    "start_time": "2022-01-30T12:28:54.129Z"
   },
   {
    "duration": 8,
    "start_time": "2022-01-30T12:28:54.139Z"
   },
   {
    "duration": 8,
    "start_time": "2022-01-30T12:28:54.150Z"
   },
   {
    "duration": 251,
    "start_time": "2022-02-08T11:49:41.605Z"
   },
   {
    "duration": 711,
    "start_time": "2022-02-08T11:49:46.453Z"
   },
   {
    "duration": 212,
    "start_time": "2022-02-08T11:49:47.167Z"
   },
   {
    "duration": 12,
    "start_time": "2022-02-08T11:49:47.381Z"
   },
   {
    "duration": 17,
    "start_time": "2022-02-08T11:49:47.395Z"
   },
   {
    "duration": 15,
    "start_time": "2022-02-08T11:49:47.414Z"
   },
   {
    "duration": 9,
    "start_time": "2022-02-08T11:49:47.431Z"
   },
   {
    "duration": 11,
    "start_time": "2022-02-08T11:49:47.442Z"
   },
   {
    "duration": 8,
    "start_time": "2022-02-08T11:49:47.457Z"
   },
   {
    "duration": 41,
    "start_time": "2022-02-08T11:49:47.467Z"
   },
   {
    "duration": 20,
    "start_time": "2022-02-08T11:49:47.510Z"
   },
   {
    "duration": 4,
    "start_time": "2022-02-08T11:49:47.532Z"
   },
   {
    "duration": 9,
    "start_time": "2022-02-08T11:49:47.538Z"
   },
   {
    "duration": 12,
    "start_time": "2022-02-08T11:49:47.549Z"
   },
   {
    "duration": 4,
    "start_time": "2022-02-08T11:49:47.562Z"
   },
   {
    "duration": 50,
    "start_time": "2022-02-08T11:49:47.568Z"
   },
   {
    "duration": 11,
    "start_time": "2022-02-08T11:49:47.620Z"
   },
   {
    "duration": 29,
    "start_time": "2022-02-08T11:49:47.633Z"
   },
   {
    "duration": 5,
    "start_time": "2022-02-08T11:49:47.664Z"
   },
   {
    "duration": 57,
    "start_time": "2022-02-08T11:49:47.671Z"
   },
   {
    "duration": 8,
    "start_time": "2022-02-08T11:49:47.730Z"
   },
   {
    "duration": 20,
    "start_time": "2022-02-08T11:49:47.740Z"
   },
   {
    "duration": 612,
    "start_time": "2022-02-08T11:49:47.762Z"
   },
   {
    "duration": 6,
    "start_time": "2022-02-08T11:49:48.378Z"
   },
   {
    "duration": 941,
    "start_time": "2022-02-08T11:49:48.386Z"
   },
   {
    "duration": 268,
    "start_time": "2022-02-08T11:49:49.329Z"
   },
   {
    "duration": 14,
    "start_time": "2022-02-08T11:49:49.599Z"
   },
   {
    "duration": 158,
    "start_time": "2022-02-08T11:49:49.615Z"
   },
   {
    "duration": 4,
    "start_time": "2022-02-08T11:49:49.774Z"
   },
   {
    "duration": 14,
    "start_time": "2022-02-08T11:49:49.780Z"
   },
   {
    "duration": 259,
    "start_time": "2022-02-08T11:49:49.808Z"
   },
   {
    "duration": 10,
    "start_time": "2022-02-08T11:49:50.069Z"
   },
   {
    "duration": 275,
    "start_time": "2022-02-08T11:49:50.081Z"
   },
   {
    "duration": 27,
    "start_time": "2022-02-08T11:49:50.358Z"
   },
   {
    "duration": 29,
    "start_time": "2022-02-08T11:49:50.387Z"
   },
   {
    "duration": 240,
    "start_time": "2022-02-08T11:49:50.418Z"
   },
   {
    "duration": 8,
    "start_time": "2022-02-08T11:49:50.660Z"
   },
   {
    "duration": 55,
    "start_time": "2022-02-08T11:49:50.670Z"
   },
   {
    "duration": 9,
    "start_time": "2022-02-08T11:49:50.727Z"
   },
   {
    "duration": 15,
    "start_time": "2022-02-08T11:49:50.738Z"
   },
   {
    "duration": 283,
    "start_time": "2022-02-08T11:49:50.755Z"
   },
   {
    "duration": 9,
    "start_time": "2022-02-08T11:49:51.040Z"
   },
   {
    "duration": 12,
    "start_time": "2022-02-08T11:49:51.051Z"
   },
   {
    "duration": 20,
    "start_time": "2022-02-08T11:49:51.065Z"
   },
   {
    "duration": 332,
    "start_time": "2022-02-08T11:49:51.087Z"
   },
   {
    "duration": 17,
    "start_time": "2022-02-08T11:49:51.421Z"
   },
   {
    "duration": 278,
    "start_time": "2022-02-08T11:49:51.440Z"
   },
   {
    "duration": 8,
    "start_time": "2022-02-08T11:49:51.719Z"
   },
   {
    "duration": 34,
    "start_time": "2022-02-08T11:49:51.728Z"
   },
   {
    "duration": 49,
    "start_time": "2022-02-08T11:49:51.764Z"
   },
   {
    "duration": 11,
    "start_time": "2022-02-08T11:49:51.815Z"
   },
   {
    "duration": 244,
    "start_time": "2022-02-08T11:49:51.828Z"
   },
   {
    "duration": 4070,
    "start_time": "2022-02-08T11:49:52.075Z"
   },
   {
    "duration": 6,
    "start_time": "2022-02-08T11:49:56.147Z"
   },
   {
    "duration": 15,
    "start_time": "2022-02-08T11:49:56.154Z"
   },
   {
    "duration": 13,
    "start_time": "2022-02-08T11:49:56.170Z"
   },
   {
    "duration": 13,
    "start_time": "2022-02-08T11:50:00.617Z"
   },
   {
    "duration": 221,
    "start_time": "2022-02-08T11:50:46.246Z"
   },
   {
    "duration": 231,
    "start_time": "2022-02-08T11:52:03.379Z"
   },
   {
    "duration": 532,
    "start_time": "2022-02-08T11:52:43.185Z"
   },
   {
    "duration": 12634,
    "start_time": "2022-02-08T11:52:51.615Z"
   },
   {
    "duration": 12,
    "start_time": "2022-02-08T11:59:22.863Z"
   },
   {
    "duration": 7470,
    "start_time": "2022-02-08T11:59:24.717Z"
   },
   {
    "duration": 6,
    "start_time": "2022-02-08T12:06:12.679Z"
   },
   {
    "duration": 102,
    "start_time": "2022-02-08T12:09:28.669Z"
   },
   {
    "duration": 68,
    "start_time": "2022-02-08T12:09:45.888Z"
   },
   {
    "duration": 1181,
    "start_time": "2022-02-08T12:10:16.697Z"
   },
   {
    "duration": 282,
    "start_time": "2022-02-08T12:10:38.715Z"
   },
   {
    "duration": 410,
    "start_time": "2022-02-08T12:11:04.164Z"
   },
   {
    "duration": 284,
    "start_time": "2022-02-08T12:11:13.981Z"
   },
   {
    "duration": 739,
    "start_time": "2022-02-08T14:14:43.643Z"
   },
   {
    "duration": 97,
    "start_time": "2022-02-08T14:15:03.495Z"
   },
   {
    "duration": 860,
    "start_time": "2022-02-08T14:15:09.454Z"
   },
   {
    "duration": 821,
    "start_time": "2022-02-08T14:15:35.160Z"
   },
   {
    "duration": 66,
    "start_time": "2022-02-08T14:21:45.196Z"
   },
   {
    "duration": 63,
    "start_time": "2022-02-08T14:21:50.508Z"
   },
   {
    "duration": 67,
    "start_time": "2022-02-08T14:21:57.124Z"
   },
   {
    "duration": 111,
    "start_time": "2022-02-08T14:22:36.639Z"
   },
   {
    "duration": 99,
    "start_time": "2022-02-08T14:23:06.851Z"
   },
   {
    "duration": 79,
    "start_time": "2022-02-08T14:23:28.854Z"
   },
   {
    "duration": 232,
    "start_time": "2022-02-08T14:34:12.016Z"
   },
   {
    "duration": 4,
    "start_time": "2022-02-08T14:34:16.717Z"
   },
   {
    "duration": 88,
    "start_time": "2022-02-08T14:34:16.726Z"
   },
   {
    "duration": 11,
    "start_time": "2022-02-08T14:34:16.816Z"
   },
   {
    "duration": 9,
    "start_time": "2022-02-08T14:34:16.957Z"
   },
   {
    "duration": 15,
    "start_time": "2022-02-08T14:34:16.969Z"
   },
   {
    "duration": 8,
    "start_time": "2022-02-08T14:34:16.987Z"
   },
   {
    "duration": 11,
    "start_time": "2022-02-08T14:34:16.997Z"
   },
   {
    "duration": 8,
    "start_time": "2022-02-08T14:34:17.010Z"
   },
   {
    "duration": 6,
    "start_time": "2022-02-08T14:34:17.020Z"
   },
   {
    "duration": 23,
    "start_time": "2022-02-08T14:34:17.028Z"
   },
   {
    "duration": 4,
    "start_time": "2022-02-08T14:34:17.054Z"
   },
   {
    "duration": 12,
    "start_time": "2022-02-08T14:34:17.061Z"
   },
   {
    "duration": 55,
    "start_time": "2022-02-08T14:34:17.075Z"
   },
   {
    "duration": 5,
    "start_time": "2022-02-08T14:34:17.133Z"
   },
   {
    "duration": 24,
    "start_time": "2022-02-08T14:34:17.140Z"
   },
   {
    "duration": 18,
    "start_time": "2022-02-08T14:34:17.166Z"
   },
   {
    "duration": 45,
    "start_time": "2022-02-08T14:34:17.186Z"
   },
   {
    "duration": 5,
    "start_time": "2022-02-08T14:34:17.233Z"
   },
   {
    "duration": 35,
    "start_time": "2022-02-08T14:34:17.241Z"
   },
   {
    "duration": 34,
    "start_time": "2022-02-08T14:34:17.278Z"
   },
   {
    "duration": 25,
    "start_time": "2022-02-08T14:34:17.315Z"
   },
   {
    "duration": 768,
    "start_time": "2022-02-08T14:34:17.342Z"
   },
   {
    "duration": 5,
    "start_time": "2022-02-08T14:34:18.113Z"
   },
   {
    "duration": 997,
    "start_time": "2022-02-08T14:34:18.121Z"
   },
   {
    "duration": 274,
    "start_time": "2022-02-08T14:34:19.120Z"
   },
   {
    "duration": 17,
    "start_time": "2022-02-08T14:34:19.396Z"
   },
   {
    "duration": 159,
    "start_time": "2022-02-08T14:34:19.416Z"
   },
   {
    "duration": 3,
    "start_time": "2022-02-08T14:34:19.577Z"
   },
   {
    "duration": 13,
    "start_time": "2022-02-08T14:34:19.582Z"
   },
   {
    "duration": 255,
    "start_time": "2022-02-08T14:34:19.608Z"
   },
   {
    "duration": 11,
    "start_time": "2022-02-08T14:34:19.865Z"
   },
   {
    "duration": 283,
    "start_time": "2022-02-08T14:34:19.878Z"
   },
   {
    "duration": 26,
    "start_time": "2022-02-08T14:34:20.163Z"
   },
   {
    "duration": 10,
    "start_time": "2022-02-08T14:34:20.207Z"
   },
   {
    "duration": 251,
    "start_time": "2022-02-08T14:34:20.219Z"
   },
   {
    "duration": 10,
    "start_time": "2022-02-08T14:34:20.472Z"
   },
   {
    "duration": 60,
    "start_time": "2022-02-08T14:34:20.484Z"
   },
   {
    "duration": 10,
    "start_time": "2022-02-08T14:34:20.546Z"
   },
   {
    "duration": 12,
    "start_time": "2022-02-08T14:34:20.557Z"
   },
   {
    "duration": 287,
    "start_time": "2022-02-08T14:34:20.571Z"
   },
   {
    "duration": 8,
    "start_time": "2022-02-08T14:34:20.860Z"
   },
   {
    "duration": 8,
    "start_time": "2022-02-08T14:34:20.869Z"
   },
   {
    "duration": 34,
    "start_time": "2022-02-08T14:34:20.879Z"
   },
   {
    "duration": 266,
    "start_time": "2022-02-08T14:34:20.915Z"
   },
   {
    "duration": 26,
    "start_time": "2022-02-08T14:34:21.183Z"
   },
   {
    "duration": 277,
    "start_time": "2022-02-08T14:34:21.210Z"
   },
   {
    "duration": 19,
    "start_time": "2022-02-08T14:34:21.489Z"
   },
   {
    "duration": 33,
    "start_time": "2022-02-08T14:34:21.511Z"
   },
   {
    "duration": 28,
    "start_time": "2022-02-08T14:34:21.546Z"
   },
   {
    "duration": 35,
    "start_time": "2022-02-08T14:34:21.580Z"
   },
   {
    "duration": 240,
    "start_time": "2022-02-08T14:34:21.618Z"
   },
   {
    "duration": 13,
    "start_time": "2022-02-08T14:34:21.860Z"
   },
   {
    "duration": 6508,
    "start_time": "2022-02-08T14:34:21.876Z"
   },
   {
    "duration": 871,
    "start_time": "2022-02-08T14:34:28.386Z"
   },
   {
    "duration": 478,
    "start_time": "2022-02-08T14:34:29.259Z"
   },
   {
    "duration": 10,
    "start_time": "2022-02-08T14:34:29.739Z"
   },
   {
    "duration": 37,
    "start_time": "2022-02-08T14:34:29.751Z"
   },
   {
    "duration": 22,
    "start_time": "2022-02-08T14:34:29.790Z"
   },
   {
    "duration": 21,
    "start_time": "2022-02-08T14:34:29.814Z"
   },
   {
    "duration": 220,
    "start_time": "2022-02-08T14:34:29.837Z"
   },
   {
    "duration": 463,
    "start_time": "2022-02-08T14:34:30.059Z"
   },
   {
    "duration": 8,
    "start_time": "2022-02-08T14:34:30.524Z"
   },
   {
    "duration": 48,
    "start_time": "2022-02-08T14:34:30.534Z"
   },
   {
    "duration": 504,
    "start_time": "2022-02-08T14:34:30.584Z"
   },
   {
    "duration": 19,
    "start_time": "2022-02-08T14:34:31.090Z"
   },
   {
    "duration": 15,
    "start_time": "2022-02-08T14:34:31.111Z"
   },
   {
    "duration": 634,
    "start_time": "2022-02-08T14:34:31.129Z"
   },
   {
    "duration": 11,
    "start_time": "2022-02-08T14:34:31.765Z"
   },
   {
    "duration": 69,
    "start_time": "2022-02-08T14:34:31.779Z"
   },
   {
    "duration": 576,
    "start_time": "2022-02-08T14:34:31.850Z"
   },
   {
    "duration": 10,
    "start_time": "2022-02-08T14:34:32.428Z"
   },
   {
    "duration": 28,
    "start_time": "2022-02-08T14:34:32.440Z"
   },
   {
    "duration": 364,
    "start_time": "2022-02-08T14:34:32.470Z"
   },
   {
    "duration": 319,
    "start_time": "2022-02-08T14:34:32.837Z"
   },
   {
    "duration": 392,
    "start_time": "2022-02-08T14:34:33.158Z"
   },
   {
    "duration": 6,
    "start_time": "2022-02-08T14:34:33.552Z"
   },
   {
    "duration": 670,
    "start_time": "2022-02-08T14:35:31.971Z"
   },
   {
    "duration": 407,
    "start_time": "2022-02-08T14:46:43.398Z"
   },
   {
    "duration": 1133,
    "start_time": "2022-02-08T14:46:52.960Z"
   },
   {
    "duration": 568,
    "start_time": "2022-02-08T14:48:08.873Z"
   },
   {
    "duration": 883,
    "start_time": "2022-02-08T14:48:14.735Z"
   },
   {
    "duration": 923,
    "start_time": "2022-02-08T14:48:53.015Z"
   }
  ],
  "kernelspec": {
   "display_name": "Python 3",
   "language": "python",
   "name": "python3"
  },
  "language_info": {
   "codemirror_mode": {
    "name": "ipython",
    "version": 3
   },
   "file_extension": ".py",
   "mimetype": "text/x-python",
   "name": "python",
   "nbconvert_exporter": "python",
   "pygments_lexer": "ipython3",
   "version": "3.8.8"
  },
  "toc": {
   "base_numbering": 1,
   "nav_menu": {},
   "number_sections": true,
   "sideBar": true,
   "skip_h1_title": true,
   "title_cell": "Содержание",
   "title_sidebar": "Contents",
   "toc_cell": true,
   "toc_position": {
    "height": "calc(100% - 180px)",
    "left": "10px",
    "top": "150px",
    "width": "165px"
   },
   "toc_section_display": true,
   "toc_window_display": true
  }
 },
 "nbformat": 4,
 "nbformat_minor": 2
}
