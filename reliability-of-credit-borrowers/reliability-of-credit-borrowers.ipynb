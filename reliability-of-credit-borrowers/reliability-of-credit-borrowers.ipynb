{
 "cells": [
  {
   "cell_type": "markdown",
   "metadata": {},
   "source": [
    "# Исследование надёжности заёмщиков\n",
    "\n",
    "Заказчик — кредитный отдел банка. Нужно разобраться, влияет ли семейное положение и количество детей клиента на факт погашения кредита в срок. Входные данные от банка — статистика о платёжеспособности клиентов.\n",
    "\n",
    "Результаты исследования будут учтены при построении модели **кредитного скоринга** — специальной системы, которая оценивает способность потенциального заёмщика вернуть кредит банку."
   ]
  },
  {
   "cell_type": "markdown",
   "metadata": {},
   "source": [
    "## Обзор данных"
   ]
  },
  {
   "cell_type": "markdown",
   "metadata": {},
   "source": [
    "Первым делом откроем данные и ознакомимся с первыми 10 строками"
   ]
  },
  {
   "cell_type": "code",
   "execution_count": null,
   "metadata": {},
   "outputs": [],
   "source": [
    "import pandas as pd\n",
    "from pymystem3 import Mystem\n",
    "m = Mystem()"
   ]
  },
  {
   "cell_type": "code",
   "execution_count": 1,
   "metadata": {},
   "outputs": [
    {
     "data": {
      "text/html": [
       "<div>\n",
       "<style scoped>\n",
       "    .dataframe tbody tr th:only-of-type {\n",
       "        vertical-align: middle;\n",
       "    }\n",
       "\n",
       "    .dataframe tbody tr th {\n",
       "        vertical-align: top;\n",
       "    }\n",
       "\n",
       "    .dataframe thead th {\n",
       "        text-align: right;\n",
       "    }\n",
       "</style>\n",
       "<table border=\"1\" class=\"dataframe\">\n",
       "  <thead>\n",
       "    <tr style=\"text-align: right;\">\n",
       "      <th></th>\n",
       "      <th>children</th>\n",
       "      <th>days_employed</th>\n",
       "      <th>dob_years</th>\n",
       "      <th>education</th>\n",
       "      <th>education_id</th>\n",
       "      <th>family_status</th>\n",
       "      <th>family_status_id</th>\n",
       "      <th>gender</th>\n",
       "      <th>income_type</th>\n",
       "      <th>debt</th>\n",
       "      <th>total_income</th>\n",
       "      <th>purpose</th>\n",
       "    </tr>\n",
       "  </thead>\n",
       "  <tbody>\n",
       "    <tr>\n",
       "      <td>0</td>\n",
       "      <td>1</td>\n",
       "      <td>-8437.673028</td>\n",
       "      <td>42</td>\n",
       "      <td>высшее</td>\n",
       "      <td>0</td>\n",
       "      <td>женат / замужем</td>\n",
       "      <td>0</td>\n",
       "      <td>F</td>\n",
       "      <td>сотрудник</td>\n",
       "      <td>0</td>\n",
       "      <td>253875.639453</td>\n",
       "      <td>покупка жилья</td>\n",
       "    </tr>\n",
       "    <tr>\n",
       "      <td>1</td>\n",
       "      <td>1</td>\n",
       "      <td>-4024.803754</td>\n",
       "      <td>36</td>\n",
       "      <td>среднее</td>\n",
       "      <td>1</td>\n",
       "      <td>женат / замужем</td>\n",
       "      <td>0</td>\n",
       "      <td>F</td>\n",
       "      <td>сотрудник</td>\n",
       "      <td>0</td>\n",
       "      <td>112080.014102</td>\n",
       "      <td>приобретение автомобиля</td>\n",
       "    </tr>\n",
       "    <tr>\n",
       "      <td>2</td>\n",
       "      <td>0</td>\n",
       "      <td>-5623.422610</td>\n",
       "      <td>33</td>\n",
       "      <td>Среднее</td>\n",
       "      <td>1</td>\n",
       "      <td>женат / замужем</td>\n",
       "      <td>0</td>\n",
       "      <td>M</td>\n",
       "      <td>сотрудник</td>\n",
       "      <td>0</td>\n",
       "      <td>145885.952297</td>\n",
       "      <td>покупка жилья</td>\n",
       "    </tr>\n",
       "    <tr>\n",
       "      <td>3</td>\n",
       "      <td>3</td>\n",
       "      <td>-4124.747207</td>\n",
       "      <td>32</td>\n",
       "      <td>среднее</td>\n",
       "      <td>1</td>\n",
       "      <td>женат / замужем</td>\n",
       "      <td>0</td>\n",
       "      <td>M</td>\n",
       "      <td>сотрудник</td>\n",
       "      <td>0</td>\n",
       "      <td>267628.550329</td>\n",
       "      <td>дополнительное образование</td>\n",
       "    </tr>\n",
       "    <tr>\n",
       "      <td>4</td>\n",
       "      <td>0</td>\n",
       "      <td>340266.072047</td>\n",
       "      <td>53</td>\n",
       "      <td>среднее</td>\n",
       "      <td>1</td>\n",
       "      <td>гражданский брак</td>\n",
       "      <td>1</td>\n",
       "      <td>F</td>\n",
       "      <td>пенсионер</td>\n",
       "      <td>0</td>\n",
       "      <td>158616.077870</td>\n",
       "      <td>сыграть свадьбу</td>\n",
       "    </tr>\n",
       "    <tr>\n",
       "      <td>5</td>\n",
       "      <td>0</td>\n",
       "      <td>-926.185831</td>\n",
       "      <td>27</td>\n",
       "      <td>высшее</td>\n",
       "      <td>0</td>\n",
       "      <td>гражданский брак</td>\n",
       "      <td>1</td>\n",
       "      <td>M</td>\n",
       "      <td>компаньон</td>\n",
       "      <td>0</td>\n",
       "      <td>255763.565419</td>\n",
       "      <td>покупка жилья</td>\n",
       "    </tr>\n",
       "    <tr>\n",
       "      <td>6</td>\n",
       "      <td>0</td>\n",
       "      <td>-2879.202052</td>\n",
       "      <td>43</td>\n",
       "      <td>высшее</td>\n",
       "      <td>0</td>\n",
       "      <td>женат / замужем</td>\n",
       "      <td>0</td>\n",
       "      <td>F</td>\n",
       "      <td>компаньон</td>\n",
       "      <td>0</td>\n",
       "      <td>240525.971920</td>\n",
       "      <td>операции с жильем</td>\n",
       "    </tr>\n",
       "    <tr>\n",
       "      <td>7</td>\n",
       "      <td>0</td>\n",
       "      <td>-152.779569</td>\n",
       "      <td>50</td>\n",
       "      <td>СРЕДНЕЕ</td>\n",
       "      <td>1</td>\n",
       "      <td>женат / замужем</td>\n",
       "      <td>0</td>\n",
       "      <td>M</td>\n",
       "      <td>сотрудник</td>\n",
       "      <td>0</td>\n",
       "      <td>135823.934197</td>\n",
       "      <td>образование</td>\n",
       "    </tr>\n",
       "    <tr>\n",
       "      <td>8</td>\n",
       "      <td>2</td>\n",
       "      <td>-6929.865299</td>\n",
       "      <td>35</td>\n",
       "      <td>ВЫСШЕЕ</td>\n",
       "      <td>0</td>\n",
       "      <td>гражданский брак</td>\n",
       "      <td>1</td>\n",
       "      <td>F</td>\n",
       "      <td>сотрудник</td>\n",
       "      <td>0</td>\n",
       "      <td>95856.832424</td>\n",
       "      <td>на проведение свадьбы</td>\n",
       "    </tr>\n",
       "    <tr>\n",
       "      <td>9</td>\n",
       "      <td>0</td>\n",
       "      <td>-2188.756445</td>\n",
       "      <td>41</td>\n",
       "      <td>среднее</td>\n",
       "      <td>1</td>\n",
       "      <td>женат / замужем</td>\n",
       "      <td>0</td>\n",
       "      <td>M</td>\n",
       "      <td>сотрудник</td>\n",
       "      <td>0</td>\n",
       "      <td>144425.938277</td>\n",
       "      <td>покупка жилья для семьи</td>\n",
       "    </tr>\n",
       "  </tbody>\n",
       "</table>\n",
       "</div>"
      ],
      "text/plain": [
       "   children  days_employed  dob_years education  education_id  \\\n",
       "0         1   -8437.673028         42    высшее             0   \n",
       "1         1   -4024.803754         36   среднее             1   \n",
       "2         0   -5623.422610         33   Среднее             1   \n",
       "3         3   -4124.747207         32   среднее             1   \n",
       "4         0  340266.072047         53   среднее             1   \n",
       "5         0    -926.185831         27    высшее             0   \n",
       "6         0   -2879.202052         43    высшее             0   \n",
       "7         0    -152.779569         50   СРЕДНЕЕ             1   \n",
       "8         2   -6929.865299         35    ВЫСШЕЕ             0   \n",
       "9         0   -2188.756445         41   среднее             1   \n",
       "\n",
       "      family_status  family_status_id gender income_type  debt   total_income  \\\n",
       "0   женат / замужем                 0      F   сотрудник     0  253875.639453   \n",
       "1   женат / замужем                 0      F   сотрудник     0  112080.014102   \n",
       "2   женат / замужем                 0      M   сотрудник     0  145885.952297   \n",
       "3   женат / замужем                 0      M   сотрудник     0  267628.550329   \n",
       "4  гражданский брак                 1      F   пенсионер     0  158616.077870   \n",
       "5  гражданский брак                 1      M   компаньон     0  255763.565419   \n",
       "6   женат / замужем                 0      F   компаньон     0  240525.971920   \n",
       "7   женат / замужем                 0      M   сотрудник     0  135823.934197   \n",
       "8  гражданский брак                 1      F   сотрудник     0   95856.832424   \n",
       "9   женат / замужем                 0      M   сотрудник     0  144425.938277   \n",
       "\n",
       "                      purpose  \n",
       "0               покупка жилья  \n",
       "1     приобретение автомобиля  \n",
       "2               покупка жилья  \n",
       "3  дополнительное образование  \n",
       "4             сыграть свадьбу  \n",
       "5               покупка жилья  \n",
       "6           операции с жильем  \n",
       "7                 образование  \n",
       "8       на проведение свадьбы  \n",
       "9     покупка жилья для семьи  "
      ]
     },
     "execution_count": 1,
     "metadata": {},
     "output_type": "execute_result"
    }
   ],
   "source": [
    "data = pd.read_csv('/datasets/data.csv')\n",
    "data.head(10)"
   ]
  },
  {
   "cell_type": "markdown",
   "metadata": {},
   "source": [
    "Глядя на строки уже можно заметить несколько особенностей:\n",
    "\n",
    "1. Значения в столбце трудового стажа вещественные, зачастую отрицательные, а так же местами слишком большие. Скорее  всего в столбец с данными пробрались ошибки.\n",
    "2. В столбце `education` можно заметить \"разные\" из-за регистра значения, стоит проверить текстовые столбцы на неявные дубликаты и привести к одному формату\n",
    "3. В столбце `purpose` одни и те же цели описаны разными выражениями, для анализа понадобится лемматизация данного столбца\n",
    "\n",
    "Посмотрим общую информацию о таблице:"
   ]
  },
  {
   "cell_type": "code",
   "execution_count": 2,
   "metadata": {},
   "outputs": [
    {
     "name": "stdout",
     "output_type": "stream",
     "text": [
      "<class 'pandas.core.frame.DataFrame'>\n",
      "RangeIndex: 21525 entries, 0 to 21524\n",
      "Data columns (total 12 columns):\n",
      "children            21525 non-null int64\n",
      "days_employed       19351 non-null float64\n",
      "dob_years           21525 non-null int64\n",
      "education           21525 non-null object\n",
      "education_id        21525 non-null int64\n",
      "family_status       21525 non-null object\n",
      "family_status_id    21525 non-null int64\n",
      "gender              21525 non-null object\n",
      "income_type         21525 non-null object\n",
      "debt                21525 non-null int64\n",
      "total_income        19351 non-null float64\n",
      "purpose             21525 non-null object\n",
      "dtypes: float64(2), int64(5), object(5)\n",
      "memory usage: 2.0+ MB\n"
     ]
    }
   ],
   "source": [
    "data.info()"
   ]
  },
  {
   "cell_type": "markdown",
   "metadata": {},
   "source": [
    "Только в двух столбцах есть пропуски, считываемые питоном, причем одинаковое количество.\n",
    "Так же нас устраивает тип значений всех столбцов, кроме `days_employed` -- вещественное количество дней трудового стажа невозможно."
   ]
  },
  {
   "cell_type": "markdown",
   "metadata": {},
   "source": [
    "**Вывод:**\n",
    "\n",
    "**Понадобится дальнейшее изучение столбца `days_employed`, проверка таблицы на пропуски и дубликаты, а так же категоризация данных**"
   ]
  },
  {
   "cell_type": "markdown",
   "metadata": {},
   "source": [
    "## Предобработка данных"
   ]
  },
  {
   "cell_type": "markdown",
   "metadata": {},
   "source": [
    "### Обработка пропусков"
   ]
  },
  {
   "cell_type": "markdown",
   "metadata": {},
   "source": [
    "Первым делом посмотрим на уникальные значения столбца `debt` -- так мы будем знать сколько из клиентов имели заолженность по возвратам кредита. Это значимый для анализа фактор, поэтому хорошо бы знать какое относительное количество данных будут \"портить\" пропуски."
   ]
  },
  {
   "cell_type": "code",
   "execution_count": 3,
   "metadata": {},
   "outputs": [
    {
     "data": {
      "text/plain": [
       "0    19784\n",
       "1     1741\n",
       "Name: debt, dtype: int64"
      ]
     },
     "execution_count": 3,
     "metadata": {},
     "output_type": "execute_result"
    }
   ],
   "source": [
    "data['debt'].value_counts()"
   ]
  },
  {
   "cell_type": "markdown",
   "metadata": {},
   "source": [
    "Всего два значения 1 и 0. Скорее всего 1 -- была задолженность, 0 -- не было. Запомним их соотношение -- всего должников в данных около 8%\n",
    "\n",
    "Далее посмотрим на уникальные значения каждого столбца"
   ]
  },
  {
   "cell_type": "code",
   "execution_count": 4,
   "metadata": {},
   "outputs": [
    {
     "data": {
      "text/plain": [
       " 0     14149\n",
       " 1      4818\n",
       " 2      2055\n",
       " 3       330\n",
       " 20       76\n",
       "-1        47\n",
       " 4        41\n",
       " 5         9\n",
       "Name: children, dtype: int64"
      ]
     },
     "execution_count": 4,
     "metadata": {},
     "output_type": "execute_result"
    }
   ],
   "source": [
    "data['children'].value_counts()"
   ]
  },
  {
   "cell_type": "markdown",
   "metadata": {},
   "source": [
    "В основном все логично и схоже с общей статистикой по России. Выбиваются 2 значения `-1` и `20`: первое невозможно, а второе, хоть и случается, но вряд ли чаще чем семьи с 4 или 5 детьми. Можно предположить, что этими значениями отмечали пропуски, или что это ошибка при заполнении `1` и `2`. Давайте посмотрим какие значенния `debt` принимают эти строки."
   ]
  },
  {
   "cell_type": "code",
   "execution_count": 5,
   "metadata": {},
   "outputs": [
    {
     "data": {
      "text/plain": [
       "0    46\n",
       "1     1\n",
       "Name: debt, dtype: int64"
      ]
     },
     "execution_count": 5,
     "metadata": {},
     "output_type": "execute_result"
    }
   ],
   "source": [
    "data[data['children'] == -1]['debt'].value_counts()"
   ]
  },
  {
   "cell_type": "code",
   "execution_count": 6,
   "metadata": {},
   "outputs": [
    {
     "data": {
      "text/plain": [
       "0    68\n",
       "1     8\n",
       "Name: debt, dtype: int64"
      ]
     },
     "execution_count": 6,
     "metadata": {},
     "output_type": "execute_result"
    }
   ],
   "source": [
    "data[data['children'] == 20]['debt'].value_counts()"
   ]
  },
  {
   "cell_type": "markdown",
   "metadata": {},
   "source": [
    "Соотношение примерно такое же как в данных в целом, к тому же строк с непонятными значениями довольно мало. Это категориальные переменные, приведем их все к -1 -- это значение сразу дает понять, что не несет в себе ничего близкого к реальности."
   ]
  },
  {
   "cell_type": "code",
   "execution_count": 7,
   "metadata": {},
   "outputs": [
    {
     "data": {
      "text/plain": [
       " 0    14149\n",
       " 1     4818\n",
       " 2     2055\n",
       " 3      330\n",
       "-1      123\n",
       " 4       41\n",
       " 5        9\n",
       "Name: children, dtype: int64"
      ]
     },
     "execution_count": 7,
     "metadata": {},
     "output_type": "execute_result"
    }
   ],
   "source": [
    "data['children'] = data['children'].replace(20, -1)\n",
    "data['children'].value_counts()"
   ]
  },
  {
   "cell_type": "markdown",
   "metadata": {},
   "source": [
    "Отлично, остались только реальные и положительные дети :) Продолжим работу со столбцами"
   ]
  },
  {
   "cell_type": "code",
   "execution_count": 8,
   "metadata": {},
   "outputs": [
    {
     "data": {
      "text/plain": [
       "35    617\n",
       "40    609\n",
       "41    607\n",
       "34    603\n",
       "38    598\n",
       "42    597\n",
       "33    581\n",
       "39    573\n",
       "31    560\n",
       "36    555\n",
       "44    547\n",
       "29    545\n",
       "30    540\n",
       "48    538\n",
       "37    537\n",
       "50    514\n",
       "43    513\n",
       "32    510\n",
       "49    508\n",
       "28    503\n",
       "45    497\n",
       "27    493\n",
       "56    487\n",
       "52    484\n",
       "47    480\n",
       "54    479\n",
       "46    475\n",
       "58    461\n",
       "57    460\n",
       "53    459\n",
       "51    448\n",
       "59    444\n",
       "55    443\n",
       "26    408\n",
       "60    377\n",
       "25    357\n",
       "61    355\n",
       "62    352\n",
       "63    269\n",
       "64    265\n",
       "24    264\n",
       "23    254\n",
       "65    194\n",
       "66    183\n",
       "22    183\n",
       "67    167\n",
       "21    111\n",
       "0     101\n",
       "68     99\n",
       "69     85\n",
       "70     65\n",
       "71     58\n",
       "20     51\n",
       "72     33\n",
       "19     14\n",
       "73      8\n",
       "74      6\n",
       "75      1\n",
       "Name: dob_years, dtype: int64"
      ]
     },
     "execution_count": 8,
     "metadata": {},
     "output_type": "execute_result"
    }
   ],
   "source": [
    "data['dob_years'].value_counts()"
   ]
  },
  {
   "cell_type": "markdown",
   "metadata": {},
   "source": [
    "Из странных значений -- 0. Что за груднички собрались взять кредит? Взглянем на них."
   ]
  },
  {
   "cell_type": "code",
   "execution_count": 9,
   "metadata": {
    "scrolled": false
   },
   "outputs": [
    {
     "data": {
      "text/html": [
       "<div>\n",
       "<style scoped>\n",
       "    .dataframe tbody tr th:only-of-type {\n",
       "        vertical-align: middle;\n",
       "    }\n",
       "\n",
       "    .dataframe tbody tr th {\n",
       "        vertical-align: top;\n",
       "    }\n",
       "\n",
       "    .dataframe thead th {\n",
       "        text-align: right;\n",
       "    }\n",
       "</style>\n",
       "<table border=\"1\" class=\"dataframe\">\n",
       "  <thead>\n",
       "    <tr style=\"text-align: right;\">\n",
       "      <th></th>\n",
       "      <th>children</th>\n",
       "      <th>days_employed</th>\n",
       "      <th>dob_years</th>\n",
       "      <th>education</th>\n",
       "      <th>education_id</th>\n",
       "      <th>family_status</th>\n",
       "      <th>family_status_id</th>\n",
       "      <th>gender</th>\n",
       "      <th>income_type</th>\n",
       "      <th>debt</th>\n",
       "      <th>total_income</th>\n",
       "      <th>purpose</th>\n",
       "    </tr>\n",
       "  </thead>\n",
       "  <tbody>\n",
       "    <tr>\n",
       "      <td>99</td>\n",
       "      <td>0</td>\n",
       "      <td>346541.618895</td>\n",
       "      <td>0</td>\n",
       "      <td>Среднее</td>\n",
       "      <td>1</td>\n",
       "      <td>женат / замужем</td>\n",
       "      <td>0</td>\n",
       "      <td>F</td>\n",
       "      <td>пенсионер</td>\n",
       "      <td>0</td>\n",
       "      <td>71291.522491</td>\n",
       "      <td>автомобиль</td>\n",
       "    </tr>\n",
       "    <tr>\n",
       "      <td>149</td>\n",
       "      <td>0</td>\n",
       "      <td>-2664.273168</td>\n",
       "      <td>0</td>\n",
       "      <td>среднее</td>\n",
       "      <td>1</td>\n",
       "      <td>в разводе</td>\n",
       "      <td>3</td>\n",
       "      <td>F</td>\n",
       "      <td>сотрудник</td>\n",
       "      <td>0</td>\n",
       "      <td>70176.435951</td>\n",
       "      <td>операции с жильем</td>\n",
       "    </tr>\n",
       "    <tr>\n",
       "      <td>270</td>\n",
       "      <td>3</td>\n",
       "      <td>-1872.663186</td>\n",
       "      <td>0</td>\n",
       "      <td>среднее</td>\n",
       "      <td>1</td>\n",
       "      <td>женат / замужем</td>\n",
       "      <td>0</td>\n",
       "      <td>F</td>\n",
       "      <td>сотрудник</td>\n",
       "      <td>0</td>\n",
       "      <td>102166.458894</td>\n",
       "      <td>ремонт жилью</td>\n",
       "    </tr>\n",
       "    <tr>\n",
       "      <td>578</td>\n",
       "      <td>0</td>\n",
       "      <td>397856.565013</td>\n",
       "      <td>0</td>\n",
       "      <td>среднее</td>\n",
       "      <td>1</td>\n",
       "      <td>женат / замужем</td>\n",
       "      <td>0</td>\n",
       "      <td>F</td>\n",
       "      <td>пенсионер</td>\n",
       "      <td>0</td>\n",
       "      <td>97620.687042</td>\n",
       "      <td>строительство собственной недвижимости</td>\n",
       "    </tr>\n",
       "    <tr>\n",
       "      <td>1040</td>\n",
       "      <td>0</td>\n",
       "      <td>-1158.029561</td>\n",
       "      <td>0</td>\n",
       "      <td>высшее</td>\n",
       "      <td>0</td>\n",
       "      <td>в разводе</td>\n",
       "      <td>3</td>\n",
       "      <td>F</td>\n",
       "      <td>компаньон</td>\n",
       "      <td>0</td>\n",
       "      <td>303994.134987</td>\n",
       "      <td>свой автомобиль</td>\n",
       "    </tr>\n",
       "    <tr>\n",
       "      <td>1149</td>\n",
       "      <td>0</td>\n",
       "      <td>-934.654854</td>\n",
       "      <td>0</td>\n",
       "      <td>среднее</td>\n",
       "      <td>1</td>\n",
       "      <td>женат / замужем</td>\n",
       "      <td>0</td>\n",
       "      <td>F</td>\n",
       "      <td>компаньон</td>\n",
       "      <td>0</td>\n",
       "      <td>201852.430096</td>\n",
       "      <td>покупка недвижимости</td>\n",
       "    </tr>\n",
       "    <tr>\n",
       "      <td>1175</td>\n",
       "      <td>0</td>\n",
       "      <td>370879.508002</td>\n",
       "      <td>0</td>\n",
       "      <td>среднее</td>\n",
       "      <td>1</td>\n",
       "      <td>женат / замужем</td>\n",
       "      <td>0</td>\n",
       "      <td>F</td>\n",
       "      <td>пенсионер</td>\n",
       "      <td>0</td>\n",
       "      <td>313949.845188</td>\n",
       "      <td>получение дополнительного образования</td>\n",
       "    </tr>\n",
       "    <tr>\n",
       "      <td>1386</td>\n",
       "      <td>0</td>\n",
       "      <td>-5043.219890</td>\n",
       "      <td>0</td>\n",
       "      <td>высшее</td>\n",
       "      <td>0</td>\n",
       "      <td>женат / замужем</td>\n",
       "      <td>0</td>\n",
       "      <td>M</td>\n",
       "      <td>госслужащий</td>\n",
       "      <td>0</td>\n",
       "      <td>240523.618071</td>\n",
       "      <td>сделка с автомобилем</td>\n",
       "    </tr>\n",
       "    <tr>\n",
       "      <td>1890</td>\n",
       "      <td>0</td>\n",
       "      <td>NaN</td>\n",
       "      <td>0</td>\n",
       "      <td>высшее</td>\n",
       "      <td>0</td>\n",
       "      <td>Не женат / не замужем</td>\n",
       "      <td>4</td>\n",
       "      <td>F</td>\n",
       "      <td>сотрудник</td>\n",
       "      <td>0</td>\n",
       "      <td>NaN</td>\n",
       "      <td>жилье</td>\n",
       "    </tr>\n",
       "    <tr>\n",
       "      <td>1898</td>\n",
       "      <td>0</td>\n",
       "      <td>370144.537021</td>\n",
       "      <td>0</td>\n",
       "      <td>среднее</td>\n",
       "      <td>1</td>\n",
       "      <td>вдовец / вдова</td>\n",
       "      <td>2</td>\n",
       "      <td>F</td>\n",
       "      <td>пенсионер</td>\n",
       "      <td>0</td>\n",
       "      <td>127400.268338</td>\n",
       "      <td>на покупку автомобиля</td>\n",
       "    </tr>\n",
       "  </tbody>\n",
       "</table>\n",
       "</div>"
      ],
      "text/plain": [
       "      children  days_employed  dob_years education  education_id  \\\n",
       "99           0  346541.618895          0   Среднее             1   \n",
       "149          0   -2664.273168          0   среднее             1   \n",
       "270          3   -1872.663186          0   среднее             1   \n",
       "578          0  397856.565013          0   среднее             1   \n",
       "1040         0   -1158.029561          0    высшее             0   \n",
       "1149         0    -934.654854          0   среднее             1   \n",
       "1175         0  370879.508002          0   среднее             1   \n",
       "1386         0   -5043.219890          0    высшее             0   \n",
       "1890         0            NaN          0    высшее             0   \n",
       "1898         0  370144.537021          0   среднее             1   \n",
       "\n",
       "              family_status  family_status_id gender  income_type  debt  \\\n",
       "99          женат / замужем                 0      F    пенсионер     0   \n",
       "149               в разводе                 3      F    сотрудник     0   \n",
       "270         женат / замужем                 0      F    сотрудник     0   \n",
       "578         женат / замужем                 0      F    пенсионер     0   \n",
       "1040              в разводе                 3      F    компаньон     0   \n",
       "1149        женат / замужем                 0      F    компаньон     0   \n",
       "1175        женат / замужем                 0      F    пенсионер     0   \n",
       "1386        женат / замужем                 0      M  госслужащий     0   \n",
       "1890  Не женат / не замужем                 4      F    сотрудник     0   \n",
       "1898         вдовец / вдова                 2      F    пенсионер     0   \n",
       "\n",
       "       total_income                                 purpose  \n",
       "99     71291.522491                              автомобиль  \n",
       "149    70176.435951                       операции с жильем  \n",
       "270   102166.458894                            ремонт жилью  \n",
       "578    97620.687042  строительство собственной недвижимости  \n",
       "1040  303994.134987                         свой автомобиль  \n",
       "1149  201852.430096                    покупка недвижимости  \n",
       "1175  313949.845188   получение дополнительного образования  \n",
       "1386  240523.618071                    сделка с автомобилем  \n",
       "1890            NaN                                   жилье  \n",
       "1898  127400.268338                   на покупку автомобиля  "
      ]
     },
     "execution_count": 9,
     "metadata": {},
     "output_type": "execute_result"
    }
   ],
   "source": [
    "data[data['dob_years'] == 0].head(10)"
   ]
  },
  {
   "cell_type": "markdown",
   "metadata": {},
   "source": [
    "Разное образование, работа, доходы и цели... А что у них с выплатой долгов?"
   ]
  },
  {
   "cell_type": "code",
   "execution_count": 10,
   "metadata": {},
   "outputs": [
    {
     "data": {
      "text/plain": [
       "0    93\n",
       "1     8\n",
       "Name: debt, dtype: int64"
      ]
     },
     "execution_count": 10,
     "metadata": {},
     "output_type": "execute_result"
    }
   ],
   "source": [
    "data[data['dob_years'] == 0]['debt'].value_counts()"
   ]
  },
  {
   "cell_type": "markdown",
   "metadata": {},
   "source": [
    "Снова примерно то же соотношение -- видимо это полностью случайные пропуски. Заменим их на -1."
   ]
  },
  {
   "cell_type": "code",
   "execution_count": 11,
   "metadata": {},
   "outputs": [
    {
     "data": {
      "text/plain": [
       " 35    617\n",
       " 40    609\n",
       " 41    607\n",
       " 34    603\n",
       " 38    598\n",
       " 42    597\n",
       " 33    581\n",
       " 39    573\n",
       " 31    560\n",
       " 36    555\n",
       " 44    547\n",
       " 29    545\n",
       " 30    540\n",
       " 48    538\n",
       " 37    537\n",
       " 50    514\n",
       " 43    513\n",
       " 32    510\n",
       " 49    508\n",
       " 28    503\n",
       " 45    497\n",
       " 27    493\n",
       " 56    487\n",
       " 52    484\n",
       " 47    480\n",
       " 54    479\n",
       " 46    475\n",
       " 58    461\n",
       " 57    460\n",
       " 53    459\n",
       " 51    448\n",
       " 59    444\n",
       " 55    443\n",
       " 26    408\n",
       " 60    377\n",
       " 25    357\n",
       " 61    355\n",
       " 62    352\n",
       " 63    269\n",
       " 64    265\n",
       " 24    264\n",
       " 23    254\n",
       " 65    194\n",
       " 22    183\n",
       " 66    183\n",
       " 67    167\n",
       " 21    111\n",
       "-1     101\n",
       " 68     99\n",
       " 69     85\n",
       " 70     65\n",
       " 71     58\n",
       " 20     51\n",
       " 72     33\n",
       " 19     14\n",
       " 73      8\n",
       " 74      6\n",
       " 75      1\n",
       "Name: dob_years, dtype: int64"
      ]
     },
     "execution_count": 11,
     "metadata": {},
     "output_type": "execute_result"
    }
   ],
   "source": [
    "data['dob_years'] = data['dob_years'].replace(0, -1)\n",
    "data['dob_years'].value_counts()"
   ]
  },
  {
   "cell_type": "code",
   "execution_count": 12,
   "metadata": {},
   "outputs": [
    {
     "data": {
      "text/plain": [
       "среднее                13750\n",
       "высшее                  4718\n",
       "СРЕДНЕЕ                  772\n",
       "Среднее                  711\n",
       "неоконченное высшее      668\n",
       "ВЫСШЕЕ                   274\n",
       "Высшее                   268\n",
       "начальное                250\n",
       "Неоконченное высшее       47\n",
       "НЕОКОНЧЕННОЕ ВЫСШЕЕ       29\n",
       "НАЧАЛЬНОЕ                 17\n",
       "Начальное                 15\n",
       "ученая степень             4\n",
       "Ученая степень             1\n",
       "УЧЕНАЯ СТЕПЕНЬ             1\n",
       "Name: education, dtype: int64"
      ]
     },
     "execution_count": 12,
     "metadata": {},
     "output_type": "execute_result"
    }
   ],
   "source": [
    "data['education'].value_counts()"
   ]
  },
  {
   "cell_type": "markdown",
   "metadata": {},
   "source": [
    "Здесь нет пропусков, только дубликаты. Пока оставим все как есть."
   ]
  },
  {
   "cell_type": "code",
   "execution_count": 13,
   "metadata": {
    "scrolled": true
   },
   "outputs": [
    {
     "data": {
      "text/plain": [
       "1    15233\n",
       "0     5260\n",
       "2      744\n",
       "3      282\n",
       "4        6\n",
       "Name: education_id, dtype: int64"
      ]
     },
     "execution_count": 13,
     "metadata": {},
     "output_type": "execute_result"
    }
   ],
   "source": [
    "data['education_id'].value_counts()"
   ]
  },
  {
   "cell_type": "code",
   "execution_count": 14,
   "metadata": {},
   "outputs": [
    {
     "data": {
      "text/plain": [
       "женат / замужем          12380\n",
       "гражданский брак          4177\n",
       "Не женат / не замужем     2813\n",
       "в разводе                 1195\n",
       "вдовец / вдова             960\n",
       "Name: family_status, dtype: int64"
      ]
     },
     "execution_count": 14,
     "metadata": {},
     "output_type": "execute_result"
    }
   ],
   "source": [
    "data['family_status'].value_counts()"
   ]
  },
  {
   "cell_type": "code",
   "execution_count": 15,
   "metadata": {},
   "outputs": [
    {
     "data": {
      "text/plain": [
       "0    12380\n",
       "1     4177\n",
       "4     2813\n",
       "3     1195\n",
       "2      960\n",
       "Name: family_status_id, dtype: int64"
      ]
     },
     "execution_count": 15,
     "metadata": {},
     "output_type": "execute_result"
    }
   ],
   "source": [
    "data['family_status_id'].value_counts()"
   ]
  },
  {
   "cell_type": "markdown",
   "metadata": {},
   "source": [
    "Пока все в порядке"
   ]
  },
  {
   "cell_type": "code",
   "execution_count": 16,
   "metadata": {},
   "outputs": [
    {
     "data": {
      "text/plain": [
       "F      14236\n",
       "M       7288\n",
       "XNA        1\n",
       "Name: gender, dtype: int64"
      ]
     },
     "execution_count": 16,
     "metadata": {},
     "output_type": "execute_result"
    }
   ],
   "source": [
    "data['gender'].value_counts()"
   ]
  },
  {
   "cell_type": "markdown",
   "metadata": {},
   "source": [
    "Одно странное значение -- заменим его на 'NA' для ясности"
   ]
  },
  {
   "cell_type": "code",
   "execution_count": 17,
   "metadata": {},
   "outputs": [
    {
     "data": {
      "text/plain": [
       "F     14236\n",
       "M      7288\n",
       "NA        1\n",
       "Name: gender, dtype: int64"
      ]
     },
     "execution_count": 17,
     "metadata": {},
     "output_type": "execute_result"
    }
   ],
   "source": [
    "data['gender'] = data['gender'].replace('XNA', 'NA')\n",
    "data['gender'].value_counts()"
   ]
  },
  {
   "cell_type": "code",
   "execution_count": 18,
   "metadata": {},
   "outputs": [
    {
     "data": {
      "text/plain": [
       "сотрудник          11119\n",
       "компаньон           5085\n",
       "пенсионер           3856\n",
       "госслужащий         1459\n",
       "безработный            2\n",
       "предприниматель        2\n",
       "студент                1\n",
       "в декрете              1\n",
       "Name: income_type, dtype: int64"
      ]
     },
     "execution_count": 18,
     "metadata": {},
     "output_type": "execute_result"
    }
   ],
   "source": [
    "data['income_type'].value_counts()"
   ]
  },
  {
   "cell_type": "code",
   "execution_count": 19,
   "metadata": {},
   "outputs": [
    {
     "data": {
      "text/plain": [
       "свадьба                                   797\n",
       "на проведение свадьбы                     777\n",
       "сыграть свадьбу                           774\n",
       "операции с недвижимостью                  676\n",
       "покупка коммерческой недвижимости         664\n",
       "покупка жилья для сдачи                   653\n",
       "операции с жильем                         653\n",
       "операции с коммерческой недвижимостью     651\n",
       "покупка жилья                             647\n",
       "жилье                                     647\n",
       "покупка жилья для семьи                   641\n",
       "строительство собственной недвижимости    635\n",
       "недвижимость                              634\n",
       "операции со своей недвижимостью           630\n",
       "строительство жилой недвижимости          626\n",
       "покупка недвижимости                      624\n",
       "покупка своего жилья                      620\n",
       "строительство недвижимости                620\n",
       "ремонт жилью                              612\n",
       "покупка жилой недвижимости                607\n",
       "на покупку своего автомобиля              505\n",
       "заняться высшим образованием              496\n",
       "автомобиль                                495\n",
       "сделка с подержанным автомобилем          489\n",
       "свой автомобиль                           480\n",
       "на покупку подержанного автомобиля        479\n",
       "автомобили                                478\n",
       "на покупку автомобиля                     472\n",
       "дополнительное образование                462\n",
       "приобретение автомобиля                   462\n",
       "сделка с автомобилем                      455\n",
       "высшее образование                        453\n",
       "получение дополнительного образования     447\n",
       "образование                               447\n",
       "получение образования                     443\n",
       "профильное образование                    436\n",
       "получение высшего образования             426\n",
       "заняться образованием                     412\n",
       "Name: purpose, dtype: int64"
      ]
     },
     "execution_count": 19,
     "metadata": {},
     "output_type": "execute_result"
    }
   ],
   "source": [
    "data['purpose'].value_counts()"
   ]
  },
  {
   "cell_type": "markdown",
   "metadata": {},
   "source": [
    "Придется поработать с дубликатами, но без пропусков!\n",
    "\n",
    "А вот в столбцах `days_employed` и `total_income` пропусков, как мы помним, полно:"
   ]
  },
  {
   "cell_type": "code",
   "execution_count": 20,
   "metadata": {},
   "outputs": [
    {
     "name": "stdout",
     "output_type": "stream",
     "text": [
      "2174\n"
     ]
    },
    {
     "data": {
      "text/plain": [
       "2174"
      ]
     },
     "execution_count": 20,
     "metadata": {},
     "output_type": "execute_result"
    }
   ],
   "source": [
    "print(data['days_employed'].isna().sum())\n",
    "data['total_income'].isna().sum()"
   ]
  },
  {
   "cell_type": "markdown",
   "metadata": {},
   "source": [
    "Да и данные в days_employed как мы помним странные... Посмотрим на таблицу еще раз:"
   ]
  },
  {
   "cell_type": "code",
   "execution_count": 21,
   "metadata": {},
   "outputs": [
    {
     "data": {
      "text/html": [
       "<div>\n",
       "<style scoped>\n",
       "    .dataframe tbody tr th:only-of-type {\n",
       "        vertical-align: middle;\n",
       "    }\n",
       "\n",
       "    .dataframe tbody tr th {\n",
       "        vertical-align: top;\n",
       "    }\n",
       "\n",
       "    .dataframe thead th {\n",
       "        text-align: right;\n",
       "    }\n",
       "</style>\n",
       "<table border=\"1\" class=\"dataframe\">\n",
       "  <thead>\n",
       "    <tr style=\"text-align: right;\">\n",
       "      <th></th>\n",
       "      <th>children</th>\n",
       "      <th>days_employed</th>\n",
       "      <th>dob_years</th>\n",
       "      <th>education</th>\n",
       "      <th>education_id</th>\n",
       "      <th>family_status</th>\n",
       "      <th>family_status_id</th>\n",
       "      <th>gender</th>\n",
       "      <th>income_type</th>\n",
       "      <th>debt</th>\n",
       "      <th>total_income</th>\n",
       "      <th>purpose</th>\n",
       "    </tr>\n",
       "  </thead>\n",
       "  <tbody>\n",
       "    <tr>\n",
       "      <td>0</td>\n",
       "      <td>1</td>\n",
       "      <td>-8437.673028</td>\n",
       "      <td>42</td>\n",
       "      <td>высшее</td>\n",
       "      <td>0</td>\n",
       "      <td>женат / замужем</td>\n",
       "      <td>0</td>\n",
       "      <td>F</td>\n",
       "      <td>сотрудник</td>\n",
       "      <td>0</td>\n",
       "      <td>253875.639453</td>\n",
       "      <td>покупка жилья</td>\n",
       "    </tr>\n",
       "    <tr>\n",
       "      <td>1</td>\n",
       "      <td>1</td>\n",
       "      <td>-4024.803754</td>\n",
       "      <td>36</td>\n",
       "      <td>среднее</td>\n",
       "      <td>1</td>\n",
       "      <td>женат / замужем</td>\n",
       "      <td>0</td>\n",
       "      <td>F</td>\n",
       "      <td>сотрудник</td>\n",
       "      <td>0</td>\n",
       "      <td>112080.014102</td>\n",
       "      <td>приобретение автомобиля</td>\n",
       "    </tr>\n",
       "    <tr>\n",
       "      <td>2</td>\n",
       "      <td>0</td>\n",
       "      <td>-5623.422610</td>\n",
       "      <td>33</td>\n",
       "      <td>Среднее</td>\n",
       "      <td>1</td>\n",
       "      <td>женат / замужем</td>\n",
       "      <td>0</td>\n",
       "      <td>M</td>\n",
       "      <td>сотрудник</td>\n",
       "      <td>0</td>\n",
       "      <td>145885.952297</td>\n",
       "      <td>покупка жилья</td>\n",
       "    </tr>\n",
       "    <tr>\n",
       "      <td>3</td>\n",
       "      <td>3</td>\n",
       "      <td>-4124.747207</td>\n",
       "      <td>32</td>\n",
       "      <td>среднее</td>\n",
       "      <td>1</td>\n",
       "      <td>женат / замужем</td>\n",
       "      <td>0</td>\n",
       "      <td>M</td>\n",
       "      <td>сотрудник</td>\n",
       "      <td>0</td>\n",
       "      <td>267628.550329</td>\n",
       "      <td>дополнительное образование</td>\n",
       "    </tr>\n",
       "    <tr>\n",
       "      <td>4</td>\n",
       "      <td>0</td>\n",
       "      <td>340266.072047</td>\n",
       "      <td>53</td>\n",
       "      <td>среднее</td>\n",
       "      <td>1</td>\n",
       "      <td>гражданский брак</td>\n",
       "      <td>1</td>\n",
       "      <td>F</td>\n",
       "      <td>пенсионер</td>\n",
       "      <td>0</td>\n",
       "      <td>158616.077870</td>\n",
       "      <td>сыграть свадьбу</td>\n",
       "    </tr>\n",
       "    <tr>\n",
       "      <td>5</td>\n",
       "      <td>0</td>\n",
       "      <td>-926.185831</td>\n",
       "      <td>27</td>\n",
       "      <td>высшее</td>\n",
       "      <td>0</td>\n",
       "      <td>гражданский брак</td>\n",
       "      <td>1</td>\n",
       "      <td>M</td>\n",
       "      <td>компаньон</td>\n",
       "      <td>0</td>\n",
       "      <td>255763.565419</td>\n",
       "      <td>покупка жилья</td>\n",
       "    </tr>\n",
       "    <tr>\n",
       "      <td>6</td>\n",
       "      <td>0</td>\n",
       "      <td>-2879.202052</td>\n",
       "      <td>43</td>\n",
       "      <td>высшее</td>\n",
       "      <td>0</td>\n",
       "      <td>женат / замужем</td>\n",
       "      <td>0</td>\n",
       "      <td>F</td>\n",
       "      <td>компаньон</td>\n",
       "      <td>0</td>\n",
       "      <td>240525.971920</td>\n",
       "      <td>операции с жильем</td>\n",
       "    </tr>\n",
       "    <tr>\n",
       "      <td>7</td>\n",
       "      <td>0</td>\n",
       "      <td>-152.779569</td>\n",
       "      <td>50</td>\n",
       "      <td>СРЕДНЕЕ</td>\n",
       "      <td>1</td>\n",
       "      <td>женат / замужем</td>\n",
       "      <td>0</td>\n",
       "      <td>M</td>\n",
       "      <td>сотрудник</td>\n",
       "      <td>0</td>\n",
       "      <td>135823.934197</td>\n",
       "      <td>образование</td>\n",
       "    </tr>\n",
       "    <tr>\n",
       "      <td>8</td>\n",
       "      <td>2</td>\n",
       "      <td>-6929.865299</td>\n",
       "      <td>35</td>\n",
       "      <td>ВЫСШЕЕ</td>\n",
       "      <td>0</td>\n",
       "      <td>гражданский брак</td>\n",
       "      <td>1</td>\n",
       "      <td>F</td>\n",
       "      <td>сотрудник</td>\n",
       "      <td>0</td>\n",
       "      <td>95856.832424</td>\n",
       "      <td>на проведение свадьбы</td>\n",
       "    </tr>\n",
       "    <tr>\n",
       "      <td>9</td>\n",
       "      <td>0</td>\n",
       "      <td>-2188.756445</td>\n",
       "      <td>41</td>\n",
       "      <td>среднее</td>\n",
       "      <td>1</td>\n",
       "      <td>женат / замужем</td>\n",
       "      <td>0</td>\n",
       "      <td>M</td>\n",
       "      <td>сотрудник</td>\n",
       "      <td>0</td>\n",
       "      <td>144425.938277</td>\n",
       "      <td>покупка жилья для семьи</td>\n",
       "    </tr>\n",
       "    <tr>\n",
       "      <td>10</td>\n",
       "      <td>2</td>\n",
       "      <td>-4171.483647</td>\n",
       "      <td>36</td>\n",
       "      <td>высшее</td>\n",
       "      <td>0</td>\n",
       "      <td>женат / замужем</td>\n",
       "      <td>0</td>\n",
       "      <td>M</td>\n",
       "      <td>компаньон</td>\n",
       "      <td>0</td>\n",
       "      <td>113943.491460</td>\n",
       "      <td>покупка недвижимости</td>\n",
       "    </tr>\n",
       "    <tr>\n",
       "      <td>11</td>\n",
       "      <td>0</td>\n",
       "      <td>-792.701887</td>\n",
       "      <td>40</td>\n",
       "      <td>среднее</td>\n",
       "      <td>1</td>\n",
       "      <td>женат / замужем</td>\n",
       "      <td>0</td>\n",
       "      <td>F</td>\n",
       "      <td>сотрудник</td>\n",
       "      <td>0</td>\n",
       "      <td>77069.234271</td>\n",
       "      <td>покупка коммерческой недвижимости</td>\n",
       "    </tr>\n",
       "    <tr>\n",
       "      <td>12</td>\n",
       "      <td>0</td>\n",
       "      <td>NaN</td>\n",
       "      <td>65</td>\n",
       "      <td>среднее</td>\n",
       "      <td>1</td>\n",
       "      <td>гражданский брак</td>\n",
       "      <td>1</td>\n",
       "      <td>M</td>\n",
       "      <td>пенсионер</td>\n",
       "      <td>0</td>\n",
       "      <td>NaN</td>\n",
       "      <td>сыграть свадьбу</td>\n",
       "    </tr>\n",
       "    <tr>\n",
       "      <td>13</td>\n",
       "      <td>0</td>\n",
       "      <td>-1846.641941</td>\n",
       "      <td>54</td>\n",
       "      <td>неоконченное высшее</td>\n",
       "      <td>2</td>\n",
       "      <td>женат / замужем</td>\n",
       "      <td>0</td>\n",
       "      <td>F</td>\n",
       "      <td>сотрудник</td>\n",
       "      <td>0</td>\n",
       "      <td>130458.228857</td>\n",
       "      <td>приобретение автомобиля</td>\n",
       "    </tr>\n",
       "    <tr>\n",
       "      <td>14</td>\n",
       "      <td>0</td>\n",
       "      <td>-1844.956182</td>\n",
       "      <td>56</td>\n",
       "      <td>высшее</td>\n",
       "      <td>0</td>\n",
       "      <td>гражданский брак</td>\n",
       "      <td>1</td>\n",
       "      <td>F</td>\n",
       "      <td>компаньон</td>\n",
       "      <td>1</td>\n",
       "      <td>165127.911772</td>\n",
       "      <td>покупка жилой недвижимости</td>\n",
       "    </tr>\n",
       "    <tr>\n",
       "      <td>15</td>\n",
       "      <td>1</td>\n",
       "      <td>-972.364419</td>\n",
       "      <td>26</td>\n",
       "      <td>среднее</td>\n",
       "      <td>1</td>\n",
       "      <td>женат / замужем</td>\n",
       "      <td>0</td>\n",
       "      <td>F</td>\n",
       "      <td>сотрудник</td>\n",
       "      <td>0</td>\n",
       "      <td>116820.904450</td>\n",
       "      <td>строительство собственной недвижимости</td>\n",
       "    </tr>\n",
       "    <tr>\n",
       "      <td>16</td>\n",
       "      <td>0</td>\n",
       "      <td>-1719.934226</td>\n",
       "      <td>35</td>\n",
       "      <td>среднее</td>\n",
       "      <td>1</td>\n",
       "      <td>женат / замужем</td>\n",
       "      <td>0</td>\n",
       "      <td>F</td>\n",
       "      <td>сотрудник</td>\n",
       "      <td>0</td>\n",
       "      <td>289202.704229</td>\n",
       "      <td>недвижимость</td>\n",
       "    </tr>\n",
       "    <tr>\n",
       "      <td>17</td>\n",
       "      <td>0</td>\n",
       "      <td>-2369.999720</td>\n",
       "      <td>33</td>\n",
       "      <td>высшее</td>\n",
       "      <td>0</td>\n",
       "      <td>гражданский брак</td>\n",
       "      <td>1</td>\n",
       "      <td>M</td>\n",
       "      <td>сотрудник</td>\n",
       "      <td>0</td>\n",
       "      <td>90410.586745</td>\n",
       "      <td>строительство недвижимости</td>\n",
       "    </tr>\n",
       "    <tr>\n",
       "      <td>18</td>\n",
       "      <td>0</td>\n",
       "      <td>400281.136913</td>\n",
       "      <td>53</td>\n",
       "      <td>среднее</td>\n",
       "      <td>1</td>\n",
       "      <td>вдовец / вдова</td>\n",
       "      <td>2</td>\n",
       "      <td>F</td>\n",
       "      <td>пенсионер</td>\n",
       "      <td>0</td>\n",
       "      <td>56823.777243</td>\n",
       "      <td>на покупку подержанного автомобиля</td>\n",
       "    </tr>\n",
       "    <tr>\n",
       "      <td>19</td>\n",
       "      <td>0</td>\n",
       "      <td>-10038.818549</td>\n",
       "      <td>48</td>\n",
       "      <td>СРЕДНЕЕ</td>\n",
       "      <td>1</td>\n",
       "      <td>в разводе</td>\n",
       "      <td>3</td>\n",
       "      <td>F</td>\n",
       "      <td>сотрудник</td>\n",
       "      <td>0</td>\n",
       "      <td>242831.107982</td>\n",
       "      <td>на покупку своего автомобиля</td>\n",
       "    </tr>\n",
       "  </tbody>\n",
       "</table>\n",
       "</div>"
      ],
      "text/plain": [
       "    children  days_employed  dob_years            education  education_id  \\\n",
       "0          1   -8437.673028         42               высшее             0   \n",
       "1          1   -4024.803754         36              среднее             1   \n",
       "2          0   -5623.422610         33              Среднее             1   \n",
       "3          3   -4124.747207         32              среднее             1   \n",
       "4          0  340266.072047         53              среднее             1   \n",
       "5          0    -926.185831         27               высшее             0   \n",
       "6          0   -2879.202052         43               высшее             0   \n",
       "7          0    -152.779569         50              СРЕДНЕЕ             1   \n",
       "8          2   -6929.865299         35               ВЫСШЕЕ             0   \n",
       "9          0   -2188.756445         41              среднее             1   \n",
       "10         2   -4171.483647         36               высшее             0   \n",
       "11         0    -792.701887         40              среднее             1   \n",
       "12         0            NaN         65              среднее             1   \n",
       "13         0   -1846.641941         54  неоконченное высшее             2   \n",
       "14         0   -1844.956182         56               высшее             0   \n",
       "15         1    -972.364419         26              среднее             1   \n",
       "16         0   -1719.934226         35              среднее             1   \n",
       "17         0   -2369.999720         33               высшее             0   \n",
       "18         0  400281.136913         53              среднее             1   \n",
       "19         0  -10038.818549         48              СРЕДНЕЕ             1   \n",
       "\n",
       "       family_status  family_status_id gender income_type  debt  \\\n",
       "0    женат / замужем                 0      F   сотрудник     0   \n",
       "1    женат / замужем                 0      F   сотрудник     0   \n",
       "2    женат / замужем                 0      M   сотрудник     0   \n",
       "3    женат / замужем                 0      M   сотрудник     0   \n",
       "4   гражданский брак                 1      F   пенсионер     0   \n",
       "5   гражданский брак                 1      M   компаньон     0   \n",
       "6    женат / замужем                 0      F   компаньон     0   \n",
       "7    женат / замужем                 0      M   сотрудник     0   \n",
       "8   гражданский брак                 1      F   сотрудник     0   \n",
       "9    женат / замужем                 0      M   сотрудник     0   \n",
       "10   женат / замужем                 0      M   компаньон     0   \n",
       "11   женат / замужем                 0      F   сотрудник     0   \n",
       "12  гражданский брак                 1      M   пенсионер     0   \n",
       "13   женат / замужем                 0      F   сотрудник     0   \n",
       "14  гражданский брак                 1      F   компаньон     1   \n",
       "15   женат / замужем                 0      F   сотрудник     0   \n",
       "16   женат / замужем                 0      F   сотрудник     0   \n",
       "17  гражданский брак                 1      M   сотрудник     0   \n",
       "18    вдовец / вдова                 2      F   пенсионер     0   \n",
       "19         в разводе                 3      F   сотрудник     0   \n",
       "\n",
       "     total_income                                 purpose  \n",
       "0   253875.639453                           покупка жилья  \n",
       "1   112080.014102                 приобретение автомобиля  \n",
       "2   145885.952297                           покупка жилья  \n",
       "3   267628.550329              дополнительное образование  \n",
       "4   158616.077870                         сыграть свадьбу  \n",
       "5   255763.565419                           покупка жилья  \n",
       "6   240525.971920                       операции с жильем  \n",
       "7   135823.934197                             образование  \n",
       "8    95856.832424                   на проведение свадьбы  \n",
       "9   144425.938277                 покупка жилья для семьи  \n",
       "10  113943.491460                    покупка недвижимости  \n",
       "11   77069.234271       покупка коммерческой недвижимости  \n",
       "12            NaN                         сыграть свадьбу  \n",
       "13  130458.228857                 приобретение автомобиля  \n",
       "14  165127.911772              покупка жилой недвижимости  \n",
       "15  116820.904450  строительство собственной недвижимости  \n",
       "16  289202.704229                            недвижимость  \n",
       "17   90410.586745              строительство недвижимости  \n",
       "18   56823.777243      на покупку подержанного автомобиля  \n",
       "19  242831.107982            на покупку своего автомобиля  "
      ]
     },
     "execution_count": 21,
     "metadata": {},
     "output_type": "execute_result"
    }
   ],
   "source": [
    "data.head(20)"
   ]
  },
  {
   "cell_type": "markdown",
   "metadata": {},
   "source": [
    "Интересно, пока все у кого отрицательное количество дней стажа -- компаньоны и сотрудники. Давайте посмотрим, сколько их таких всего и что у них за доход?"
   ]
  },
  {
   "cell_type": "code",
   "execution_count": 22,
   "metadata": {},
   "outputs": [
    {
     "name": "stdout",
     "output_type": "stream",
     "text": [
      "<class 'pandas.core.frame.DataFrame'>\n",
      "Int64Index: 15906 entries, 0 to 21524\n",
      "Data columns (total 12 columns):\n",
      "children            15906 non-null int64\n",
      "days_employed       15906 non-null float64\n",
      "dob_years           15906 non-null int64\n",
      "education           15906 non-null object\n",
      "education_id        15906 non-null int64\n",
      "family_status       15906 non-null object\n",
      "family_status_id    15906 non-null int64\n",
      "gender              15906 non-null object\n",
      "income_type         15906 non-null object\n",
      "debt                15906 non-null int64\n",
      "total_income        15906 non-null float64\n",
      "purpose             15906 non-null object\n",
      "dtypes: float64(2), int64(5), object(5)\n",
      "memory usage: 1.6+ MB\n"
     ]
    }
   ],
   "source": [
    "data[data['days_employed'] < 0].info()"
   ]
  },
  {
   "cell_type": "markdown",
   "metadata": {},
   "source": [
    "15906! Получается положительные значения более \"аномальны\"!"
   ]
  },
  {
   "cell_type": "code",
   "execution_count": 23,
   "metadata": {},
   "outputs": [
    {
     "data": {
      "text/plain": [
       "сотрудник          10014\n",
       "компаньон           4577\n",
       "госслужащий         1312\n",
       "предприниматель        1\n",
       "студент                1\n",
       "в декрете              1\n",
       "Name: income_type, dtype: int64"
      ]
     },
     "execution_count": 23,
     "metadata": {},
     "output_type": "execute_result"
    }
   ],
   "source": [
    "data[data['days_employed'] < 0]['income_type'].value_counts()"
   ]
  },
  {
   "cell_type": "code",
   "execution_count": 24,
   "metadata": {},
   "outputs": [
    {
     "data": {
      "text/plain": [
       "пенсионер      3443\n",
       "безработный       2\n",
       "Name: income_type, dtype: int64"
      ]
     },
     "execution_count": 24,
     "metadata": {},
     "output_type": "execute_result"
    }
   ],
   "source": [
    "data[data['days_employed'] >= 0]['income_type'].value_counts()"
   ]
  },
  {
   "cell_type": "code",
   "execution_count": 25,
   "metadata": {},
   "outputs": [
    {
     "name": "stdout",
     "output_type": "stream",
     "text": [
      "сотрудник          1105\n",
      "компаньон           508\n",
      "пенсионер           413\n",
      "госслужащий         147\n",
      "предприниматель       1\n",
      "Name: income_type, dtype: int64\n"
     ]
    },
    {
     "data": {
      "text/plain": [
       "сотрудник          1105\n",
       "компаньон           508\n",
       "пенсионер           413\n",
       "госслужащий         147\n",
       "предприниматель       1\n",
       "Name: income_type, dtype: int64"
      ]
     },
     "execution_count": 25,
     "metadata": {},
     "output_type": "execute_result"
    }
   ],
   "source": [
    "print(data[data['days_employed'].isna()]['income_type'].value_counts())\n",
    "data[data['total_income'].isna()]['income_type'].value_counts() #посмотрим как распределен доход для строк у которых пропуски в двух столбцах"
   ]
  },
  {
   "cell_type": "markdown",
   "metadata": {},
   "source": [
    "Пустые значения распределены равномерно -- видимо это ошибки заполнения. Их заполним, когда разберемся, что произошло с остальными данными.\n",
    "\n",
    "Зато непустые показывают интересную картину: почти все положительные значения -- у пенсионеров, отрицательные -- у тех, кто на пенсию пока не вышел. Как же так вышло? Давайте посмотрим среднее значения для положительного стажа."
   ]
  },
  {
   "cell_type": "code",
   "execution_count": 26,
   "metadata": {},
   "outputs": [
    {
     "data": {
      "text/plain": [
       "365004.3099162686"
      ]
     },
     "execution_count": 26,
     "metadata": {},
     "output_type": "execute_result"
    }
   ],
   "source": [
    "data[data['days_employed'] >= 0]['days_employed'].mean()"
   ]
  },
  {
   "cell_type": "markdown",
   "metadata": {},
   "source": [
    "Пенсионеры проработали по 1000 лет! Давайте посмотрим на них"
   ]
  },
  {
   "cell_type": "code",
   "execution_count": 27,
   "metadata": {},
   "outputs": [
    {
     "data": {
      "text/html": [
       "<div>\n",
       "<style scoped>\n",
       "    .dataframe tbody tr th:only-of-type {\n",
       "        vertical-align: middle;\n",
       "    }\n",
       "\n",
       "    .dataframe tbody tr th {\n",
       "        vertical-align: top;\n",
       "    }\n",
       "\n",
       "    .dataframe thead th {\n",
       "        text-align: right;\n",
       "    }\n",
       "</style>\n",
       "<table border=\"1\" class=\"dataframe\">\n",
       "  <thead>\n",
       "    <tr style=\"text-align: right;\">\n",
       "      <th></th>\n",
       "      <th>children</th>\n",
       "      <th>days_employed</th>\n",
       "      <th>dob_years</th>\n",
       "      <th>education</th>\n",
       "      <th>education_id</th>\n",
       "      <th>family_status</th>\n",
       "      <th>family_status_id</th>\n",
       "      <th>gender</th>\n",
       "      <th>income_type</th>\n",
       "      <th>debt</th>\n",
       "      <th>total_income</th>\n",
       "      <th>purpose</th>\n",
       "    </tr>\n",
       "  </thead>\n",
       "  <tbody>\n",
       "    <tr>\n",
       "      <td>4</td>\n",
       "      <td>0</td>\n",
       "      <td>340266.072047</td>\n",
       "      <td>53</td>\n",
       "      <td>среднее</td>\n",
       "      <td>1</td>\n",
       "      <td>гражданский брак</td>\n",
       "      <td>1</td>\n",
       "      <td>F</td>\n",
       "      <td>пенсионер</td>\n",
       "      <td>0</td>\n",
       "      <td>158616.077870</td>\n",
       "      <td>сыграть свадьбу</td>\n",
       "    </tr>\n",
       "    <tr>\n",
       "      <td>18</td>\n",
       "      <td>0</td>\n",
       "      <td>400281.136913</td>\n",
       "      <td>53</td>\n",
       "      <td>среднее</td>\n",
       "      <td>1</td>\n",
       "      <td>вдовец / вдова</td>\n",
       "      <td>2</td>\n",
       "      <td>F</td>\n",
       "      <td>пенсионер</td>\n",
       "      <td>0</td>\n",
       "      <td>56823.777243</td>\n",
       "      <td>на покупку подержанного автомобиля</td>\n",
       "    </tr>\n",
       "    <tr>\n",
       "      <td>24</td>\n",
       "      <td>1</td>\n",
       "      <td>338551.952911</td>\n",
       "      <td>57</td>\n",
       "      <td>среднее</td>\n",
       "      <td>1</td>\n",
       "      <td>Не женат / не замужем</td>\n",
       "      <td>4</td>\n",
       "      <td>F</td>\n",
       "      <td>пенсионер</td>\n",
       "      <td>0</td>\n",
       "      <td>290547.235997</td>\n",
       "      <td>операции с коммерческой недвижимостью</td>\n",
       "    </tr>\n",
       "    <tr>\n",
       "      <td>25</td>\n",
       "      <td>0</td>\n",
       "      <td>363548.489348</td>\n",
       "      <td>67</td>\n",
       "      <td>среднее</td>\n",
       "      <td>1</td>\n",
       "      <td>женат / замужем</td>\n",
       "      <td>0</td>\n",
       "      <td>M</td>\n",
       "      <td>пенсионер</td>\n",
       "      <td>0</td>\n",
       "      <td>55112.757732</td>\n",
       "      <td>покупка недвижимости</td>\n",
       "    </tr>\n",
       "    <tr>\n",
       "      <td>30</td>\n",
       "      <td>1</td>\n",
       "      <td>335581.668515</td>\n",
       "      <td>62</td>\n",
       "      <td>среднее</td>\n",
       "      <td>1</td>\n",
       "      <td>женат / замужем</td>\n",
       "      <td>0</td>\n",
       "      <td>F</td>\n",
       "      <td>пенсионер</td>\n",
       "      <td>0</td>\n",
       "      <td>171456.067993</td>\n",
       "      <td>операции с коммерческой недвижимостью</td>\n",
       "    </tr>\n",
       "    <tr>\n",
       "      <td>35</td>\n",
       "      <td>0</td>\n",
       "      <td>394021.072184</td>\n",
       "      <td>68</td>\n",
       "      <td>среднее</td>\n",
       "      <td>1</td>\n",
       "      <td>гражданский брак</td>\n",
       "      <td>1</td>\n",
       "      <td>M</td>\n",
       "      <td>пенсионер</td>\n",
       "      <td>0</td>\n",
       "      <td>77805.677436</td>\n",
       "      <td>на проведение свадьбы</td>\n",
       "    </tr>\n",
       "    <tr>\n",
       "      <td>50</td>\n",
       "      <td>0</td>\n",
       "      <td>353731.432338</td>\n",
       "      <td>63</td>\n",
       "      <td>среднее</td>\n",
       "      <td>1</td>\n",
       "      <td>женат / замужем</td>\n",
       "      <td>0</td>\n",
       "      <td>F</td>\n",
       "      <td>пенсионер</td>\n",
       "      <td>0</td>\n",
       "      <td>92342.730612</td>\n",
       "      <td>автомобили</td>\n",
       "    </tr>\n",
       "    <tr>\n",
       "      <td>56</td>\n",
       "      <td>0</td>\n",
       "      <td>370145.087237</td>\n",
       "      <td>64</td>\n",
       "      <td>среднее</td>\n",
       "      <td>1</td>\n",
       "      <td>вдовец / вдова</td>\n",
       "      <td>2</td>\n",
       "      <td>F</td>\n",
       "      <td>пенсионер</td>\n",
       "      <td>0</td>\n",
       "      <td>149141.043533</td>\n",
       "      <td>образование</td>\n",
       "    </tr>\n",
       "    <tr>\n",
       "      <td>71</td>\n",
       "      <td>0</td>\n",
       "      <td>338113.529892</td>\n",
       "      <td>62</td>\n",
       "      <td>среднее</td>\n",
       "      <td>1</td>\n",
       "      <td>женат / замужем</td>\n",
       "      <td>0</td>\n",
       "      <td>F</td>\n",
       "      <td>пенсионер</td>\n",
       "      <td>0</td>\n",
       "      <td>43929.696397</td>\n",
       "      <td>автомобили</td>\n",
       "    </tr>\n",
       "    <tr>\n",
       "      <td>78</td>\n",
       "      <td>0</td>\n",
       "      <td>359722.945074</td>\n",
       "      <td>61</td>\n",
       "      <td>высшее</td>\n",
       "      <td>0</td>\n",
       "      <td>женат / замужем</td>\n",
       "      <td>0</td>\n",
       "      <td>M</td>\n",
       "      <td>пенсионер</td>\n",
       "      <td>0</td>\n",
       "      <td>175127.646000</td>\n",
       "      <td>сделка с автомобилем</td>\n",
       "    </tr>\n",
       "  </tbody>\n",
       "</table>\n",
       "</div>"
      ],
      "text/plain": [
       "    children  days_employed  dob_years education  education_id  \\\n",
       "4          0  340266.072047         53   среднее             1   \n",
       "18         0  400281.136913         53   среднее             1   \n",
       "24         1  338551.952911         57   среднее             1   \n",
       "25         0  363548.489348         67   среднее             1   \n",
       "30         1  335581.668515         62   среднее             1   \n",
       "35         0  394021.072184         68   среднее             1   \n",
       "50         0  353731.432338         63   среднее             1   \n",
       "56         0  370145.087237         64   среднее             1   \n",
       "71         0  338113.529892         62   среднее             1   \n",
       "78         0  359722.945074         61    высшее             0   \n",
       "\n",
       "            family_status  family_status_id gender income_type  debt  \\\n",
       "4        гражданский брак                 1      F   пенсионер     0   \n",
       "18         вдовец / вдова                 2      F   пенсионер     0   \n",
       "24  Не женат / не замужем                 4      F   пенсионер     0   \n",
       "25        женат / замужем                 0      M   пенсионер     0   \n",
       "30        женат / замужем                 0      F   пенсионер     0   \n",
       "35       гражданский брак                 1      M   пенсионер     0   \n",
       "50        женат / замужем                 0      F   пенсионер     0   \n",
       "56         вдовец / вдова                 2      F   пенсионер     0   \n",
       "71        женат / замужем                 0      F   пенсионер     0   \n",
       "78        женат / замужем                 0      M   пенсионер     0   \n",
       "\n",
       "     total_income                                purpose  \n",
       "4   158616.077870                        сыграть свадьбу  \n",
       "18   56823.777243     на покупку подержанного автомобиля  \n",
       "24  290547.235997  операции с коммерческой недвижимостью  \n",
       "25   55112.757732                   покупка недвижимости  \n",
       "30  171456.067993  операции с коммерческой недвижимостью  \n",
       "35   77805.677436                  на проведение свадьбы  \n",
       "50   92342.730612                             автомобили  \n",
       "56  149141.043533                            образование  \n",
       "71   43929.696397                             автомобили  \n",
       "78  175127.646000                   сделка с автомобилем  "
      ]
     },
     "execution_count": 27,
     "metadata": {},
     "output_type": "execute_result"
    }
   ],
   "source": [
    "data[data['days_employed'] >= 0].head(10)"
   ]
  },
  {
   "cell_type": "markdown",
   "metadata": {},
   "source": [
    "Никакой закономерности пока не бросается в глаза. Давайте тогда посмотрим, что же у не пенсионеров? Отрицательный стаж -- очень странно, но может, сгруппировав их по возрасту мы увидим закономерность?"
   ]
  },
  {
   "cell_type": "code",
   "execution_count": 28,
   "metadata": {},
   "outputs": [
    {
     "data": {
      "text/plain": [
       "dob_years\n",
       "-1    -2200.375775\n",
       " 19    -633.678086\n",
       " 20    -684.944308\n",
       " 21    -709.440930\n",
       " 22    -781.376775\n",
       " 23    -827.309437\n",
       " 24   -1026.405485\n",
       " 25   -1088.406453\n",
       " 26   -1200.288052\n",
       " 27   -1358.153479\n",
       " 28   -1397.672853\n",
       " 29   -1553.823200\n",
       " 30   -1696.039355\n",
       " 31   -1652.717935\n",
       " 32   -1735.782175\n",
       " 33   -1868.655183\n",
       " 34   -1983.724384\n",
       " 35   -2108.881612\n",
       " 36   -2272.773915\n",
       " 37   -2178.934808\n",
       " 38   -2307.062965\n",
       " 39   -2406.564360\n",
       " 40   -2345.284329\n",
       " 41   -2433.612130\n",
       " 42   -2793.169884\n",
       " 43   -2492.648991\n",
       " 44   -2814.375145\n",
       " 45   -2791.307088\n",
       " 46   -2867.112262\n",
       " 47   -2963.394330\n",
       " 48   -2898.197374\n",
       " 49   -3096.942310\n",
       " 50   -3096.417569\n",
       " 51   -3050.331333\n",
       " 52   -3262.730016\n",
       " 53   -3280.806279\n",
       " 54   -2979.965858\n",
       " 55   -3577.539706\n",
       " 56   -3271.207884\n",
       " 57   -3436.439512\n",
       " 58   -3269.127650\n",
       " 59   -3865.467480\n",
       " 60   -3789.996829\n",
       " 61   -4033.667004\n",
       " 62   -3029.123002\n",
       " 63   -4385.872648\n",
       " 64   -4045.360383\n",
       " 65   -4059.315441\n",
       " 66   -3899.935741\n",
       " 67   -3614.078059\n",
       " 68   -4551.440293\n",
       " 69   -3775.909777\n",
       " 70   -4666.178573\n",
       " 71   -2774.862819\n",
       " 72   -6603.920060\n",
       " 73   -3429.205485\n",
       " 74   -4206.250173\n",
       " 75   -1678.969771\n",
       "Name: days_employed, dtype: float64"
      ]
     },
     "execution_count": 28,
     "metadata": {},
     "output_type": "execute_result"
    }
   ],
   "source": [
    "data[data['days_employed'] < 0].groupby('dob_years')['days_employed'].mean()"
   ]
  },
  {
   "cell_type": "markdown",
   "metadata": {},
   "source": [
    "В основном с годами модуль среднего стажа растет. Может стаж случайно записали со знаком минус? Давайте прикинем: 365 дней в году, выходит 1000 дней -- чуть меньше трех лет стажа, 3650 -- 10 лет. Вроде правдоподобно, но выходит большая часть клиентов не имеет 10 лет стажа. Но среди клиентов далеко не все -- \"сотрудники\", значимая часть -- \"компаньоны\", а так же \"госслужащие\". Может из-за этого стаж так мал?"
   ]
  },
  {
   "cell_type": "code",
   "execution_count": 29,
   "metadata": {
    "scrolled": true
   },
   "outputs": [
    {
     "data": {
      "text/plain": [
       "dob_years\n",
       "-1    -1907.113148\n",
       " 19    -810.376486\n",
       " 20    -777.254312\n",
       " 21    -707.903013\n",
       " 22    -760.590433\n",
       " 23    -862.964863\n",
       " 24   -1043.795200\n",
       " 25   -1066.464525\n",
       " 26   -1148.979988\n",
       " 27   -1393.772026\n",
       " 28   -1367.667936\n",
       " 29   -1522.776378\n",
       " 30   -1644.749953\n",
       " 31   -1647.525900\n",
       " 32   -1752.478057\n",
       " 33   -1883.868442\n",
       " 34   -2002.640035\n",
       " 35   -2058.176983\n",
       " 36   -2121.547324\n",
       " 37   -2175.431266\n",
       " 38   -2342.979009\n",
       " 39   -2417.399665\n",
       " 40   -2259.786189\n",
       " 41   -2393.871444\n",
       " 42   -2690.040740\n",
       " 43   -2533.553737\n",
       " 44   -2937.997276\n",
       " 45   -2736.069751\n",
       " 46   -2784.016688\n",
       " 47   -2816.761427\n",
       " 48   -2792.069282\n",
       " 49   -2930.574467\n",
       " 50   -3311.271589\n",
       " 51   -3007.122001\n",
       " 52   -3208.468192\n",
       " 53   -3268.822463\n",
       " 54   -2744.184105\n",
       " 55   -3660.896084\n",
       " 56   -3393.431800\n",
       " 57   -3216.243419\n",
       " 58   -3096.614286\n",
       " 59   -3918.284305\n",
       " 60   -3948.506447\n",
       " 61   -3877.419502\n",
       " 62   -3103.741487\n",
       " 63   -4213.770041\n",
       " 64   -3995.522060\n",
       " 65   -5208.817492\n",
       " 66   -4062.117423\n",
       " 67   -4523.325571\n",
       " 68   -4564.150928\n",
       " 69   -3212.316192\n",
       " 70   -2036.672075\n",
       " 71   -3460.651739\n",
       " 74   -6682.867814\n",
       "Name: days_employed, dtype: float64"
      ]
     },
     "execution_count": 29,
     "metadata": {},
     "output_type": "execute_result"
    }
   ],
   "source": [
    "data_employed = data[data['income_type'] == 'сотрудник']\n",
    "data_unemployed = data[data['income_type'] == 'компаньон']\n",
    "data_gos = data[data['income_type'] == 'госслужащий']\n",
    "data_employed[data_employed['days_employed'] < 0].groupby('dob_years')['days_employed'].mean()"
   ]
  },
  {
   "cell_type": "markdown",
   "metadata": {},
   "source": [
    "Это уже больше походит на правду! А что у компаньонов и госслужащих?"
   ]
  },
  {
   "cell_type": "code",
   "execution_count": 30,
   "metadata": {},
   "outputs": [
    {
     "data": {
      "text/plain": [
       "dob_years\n",
       "-1    -1788.865798\n",
       " 19    -525.137538\n",
       " 20    -511.714732\n",
       " 21    -651.260075\n",
       " 22    -830.277392\n",
       " 23    -755.057502\n",
       " 24    -935.311845\n",
       " 25   -1030.711110\n",
       " 26   -1134.899176\n",
       " 27   -1216.406777\n",
       " 28   -1403.828892\n",
       " 29   -1462.418319\n",
       " 30   -1650.216462\n",
       " 31   -1503.948911\n",
       " 32   -1548.322836\n",
       " 33   -1757.231438\n",
       " 34   -1852.848207\n",
       " 35   -2024.113883\n",
       " 36   -2252.807542\n",
       " 37   -1767.134947\n",
       " 38   -1957.163738\n",
       " 39   -2126.955267\n",
       " 40   -2094.129544\n",
       " 41   -2189.150589\n",
       " 42   -2591.164138\n",
       " 43   -2040.824380\n",
       " 44   -2334.887108\n",
       " 45   -2381.526321\n",
       " 46   -2757.230559\n",
       " 47   -2926.534481\n",
       " 48   -2777.256187\n",
       " 49   -2924.807074\n",
       " 50   -2310.226541\n",
       " 51   -2623.710893\n",
       " 52   -2907.625292\n",
       " 53   -2965.982675\n",
       " 54   -3077.793099\n",
       " 55   -2726.164069\n",
       " 56   -2702.140190\n",
       " 57   -3042.590548\n",
       " 58   -3093.714611\n",
       " 59   -2903.706639\n",
       " 60   -3201.990044\n",
       " 61   -4338.516232\n",
       " 62   -2585.873812\n",
       " 63   -4325.744342\n",
       " 64   -4250.146506\n",
       " 65   -2600.578826\n",
       " 66   -2943.113111\n",
       " 67   -2055.368039\n",
       " 68   -4437.044585\n",
       " 70   -6298.476459\n",
       " 71   -2761.484453\n",
       " 72   -6603.920060\n",
       " 73   -3429.205485\n",
       " 74   -1729.632531\n",
       "Name: days_employed, dtype: float64"
      ]
     },
     "execution_count": 30,
     "metadata": {},
     "output_type": "execute_result"
    }
   ],
   "source": [
    "data_unemployed[data_unemployed['days_employed'] < 0].groupby('dob_years')['days_employed'].mean()"
   ]
  },
  {
   "cell_type": "code",
   "execution_count": 31,
   "metadata": {},
   "outputs": [
    {
     "data": {
      "text/plain": [
       "dob_years\n",
       "-1    -5878.760924\n",
       " 19    -509.969922\n",
       " 20    -645.671074\n",
       " 21    -996.074430\n",
       " 22    -688.880725\n",
       " 23    -754.702208\n",
       " 24   -1248.994331\n",
       " 25   -1546.767090\n",
       " 26   -1720.762795\n",
       " 27   -1658.511522\n",
       " 28   -1617.946413\n",
       " 29   -2069.672071\n",
       " 30   -2200.472018\n",
       " 31   -2179.922272\n",
       " 32   -2209.350465\n",
       " 33   -2236.636413\n",
       " 34   -2278.741445\n",
       " 35   -2841.374496\n",
       " 36   -3389.530826\n",
       " 37   -3392.247218\n",
       " 38   -3345.208262\n",
       " 39   -3450.815579\n",
       " 40   -4178.889245\n",
       " 41   -3578.643392\n",
       " 42   -3983.819597\n",
       " 43   -3896.927449\n",
       " 44   -3719.556845\n",
       " 45   -4090.647432\n",
       " 46   -4042.344483\n",
       " 47   -4086.566213\n",
       " 48   -4095.856269\n",
       " 49   -4681.640583\n",
       " 50   -4165.464774\n",
       " 51   -4405.220393\n",
       " 52   -4843.424537\n",
       " 53   -4653.008114\n",
       " 54   -5043.854088\n",
       " 55   -5157.666709\n",
       " 56   -4544.644256\n",
       " 57   -5868.449809\n",
       " 58   -4801.960239\n",
       " 59   -6172.126533\n",
       " 60   -4865.641237\n",
       " 61   -4195.697927\n",
       " 62   -3726.286587\n",
       " 63   -5153.957270\n",
       " 64   -3332.919288\n",
       " 65   -4639.130249\n",
       " 66   -4767.533800\n",
       " 69   -4903.096948\n",
       " 70   -6025.506521\n",
       " 71    -730.874426\n",
       " 75   -1678.969771\n",
       "Name: days_employed, dtype: float64"
      ]
     },
     "execution_count": 31,
     "metadata": {},
     "output_type": "execute_result"
    }
   ],
   "source": [
    "data_gos[data_gos['days_employed'] < 0].groupby('dob_years')['days_employed'].mean()"
   ]
  },
  {
   "cell_type": "markdown",
   "metadata": {},
   "source": [
    "У госслужащих -- самый большой стаж, в среднем доходящий до 20 лет, у работающих -- больше чем у неработающих. Теперь я убеждена -- нужно просто взять модуль столбца!\n",
    "\n",
    "Что же делать делать с пенсионерами? Возможно их стаж случайно умножили на 100, цифры примерно подходят. Но не будем гадать: у не пенсионеров возраст доходит до 75 -- заменим \"тысячелетние\" стажи на медианный стаж их возраста. Это будет не самое точное значение, но достаточно точное для наших задач. То же самое сделаем для NaN, предварительно заполнив их в этом столбце единицами"
   ]
  },
  {
   "cell_type": "code",
   "execution_count": 32,
   "metadata": {
    "scrolled": true
   },
   "outputs": [],
   "source": [
    "data['days_employed'] = data['days_employed'].fillna(1)"
   ]
  },
  {
   "cell_type": "code",
   "execution_count": 33,
   "metadata": {
    "scrolled": true
   },
   "outputs": [
    {
     "name": "stdout",
     "output_type": "stream",
     "text": [
      "<class 'pandas.core.frame.DataFrame'>\n",
      "RangeIndex: 21525 entries, 0 to 21524\n",
      "Data columns (total 12 columns):\n",
      "children            21525 non-null int64\n",
      "days_employed       21525 non-null float64\n",
      "dob_years           21525 non-null int64\n",
      "education           21525 non-null object\n",
      "education_id        21525 non-null int64\n",
      "family_status       21525 non-null object\n",
      "family_status_id    21525 non-null int64\n",
      "gender              21525 non-null object\n",
      "income_type         21525 non-null object\n",
      "debt                21525 non-null int64\n",
      "total_income        19351 non-null float64\n",
      "purpose             21525 non-null object\n",
      "dtypes: float64(2), int64(5), object(5)\n",
      "memory usage: 2.0+ MB\n"
     ]
    }
   ],
   "source": [
    "empl_days_by_age = data[data['days_employed'] < 0].groupby('dob_years')['days_employed'].median()\n",
    "for i in range(len(data)):\n",
    "    if data.loc[i, 'days_employed'] > 0:\n",
    "        data.loc[i, 'days_employed'] = empl_days_by_age[data.loc[i, 'dob_years']]\n",
    "data['days_employed'] = data['days_employed'].abs()\n",
    "data.info()"
   ]
  },
  {
   "cell_type": "markdown",
   "metadata": {},
   "source": [
    "Что же делать с пропусками в `total_income`? Как мы помним, значения в этом столбце были пустыми там же где были пустыми `days_employed`, причем у разных типов занятости. Заполним их средним значением в зависимости от типа занятости"
   ]
  },
  {
   "cell_type": "code",
   "execution_count": 34,
   "metadata": {
    "scrolled": true
   },
   "outputs": [
    {
     "name": "stdout",
     "output_type": "stream",
     "text": [
      "<class 'pandas.core.frame.DataFrame'>\n",
      "RangeIndex: 21525 entries, 0 to 21524\n",
      "Data columns (total 12 columns):\n",
      "children            21525 non-null int64\n",
      "days_employed       21525 non-null float64\n",
      "dob_years           21525 non-null int64\n",
      "education           21525 non-null object\n",
      "education_id        21525 non-null int64\n",
      "family_status       21525 non-null object\n",
      "family_status_id    21525 non-null int64\n",
      "gender              21525 non-null object\n",
      "income_type         21525 non-null object\n",
      "debt                21525 non-null int64\n",
      "total_income        21525 non-null float64\n",
      "purpose             21525 non-null object\n",
      "dtypes: float64(2), int64(5), object(5)\n",
      "memory usage: 2.0+ MB\n"
     ]
    }
   ],
   "source": [
    "income_by_type = data.groupby('income_type')['total_income'].median()\n",
    "data['total_income'] = data['total_income'].fillna(-1)\n",
    "for i in range(len(data)):\n",
    "    if data.loc[i, 'total_income'] < 0:\n",
    "        data.loc[i, 'total_income'] = income_by_type[data.loc[i, 'income_type']]\n",
    "data.info()"
   ]
  },
  {
   "cell_type": "markdown",
   "metadata": {},
   "source": [
    "**Вывод:**\n",
    "\n",
    "**Явные и неявные пропуски заполнены, ошибки устранены, можно приступать к дальнейшей обработке данных**"
   ]
  },
  {
   "cell_type": "markdown",
   "metadata": {},
   "source": [
    "### Замена типа данных"
   ]
  },
  {
   "cell_type": "markdown",
   "metadata": {},
   "source": [
    "Типы данных которые нам не подходят -- в столбцах `days_employed`. Дробное число дней стажа просто не имеет смысла. Заменим его на int -- это отбросит дробную часть. Наши значения порядка 1000, так что отброшенная часть будет составлять менее 1% и не сильно повлияет на данные."
   ]
  },
  {
   "cell_type": "code",
   "execution_count": 35,
   "metadata": {},
   "outputs": [
    {
     "name": "stdout",
     "output_type": "stream",
     "text": [
      "<class 'pandas.core.frame.DataFrame'>\n",
      "RangeIndex: 21525 entries, 0 to 21524\n",
      "Data columns (total 12 columns):\n",
      "children            21525 non-null int64\n",
      "days_employed       21525 non-null int64\n",
      "dob_years           21525 non-null int64\n",
      "education           21525 non-null object\n",
      "education_id        21525 non-null int64\n",
      "family_status       21525 non-null object\n",
      "family_status_id    21525 non-null int64\n",
      "gender              21525 non-null object\n",
      "income_type         21525 non-null object\n",
      "debt                21525 non-null int64\n",
      "total_income        21525 non-null float64\n",
      "purpose             21525 non-null object\n",
      "dtypes: float64(1), int64(6), object(5)\n",
      "memory usage: 2.0+ MB\n"
     ]
    }
   ],
   "source": [
    "data['days_employed'] = data['days_employed'].astype(int)\n",
    "data.info()"
   ]
  },
  {
   "cell_type": "markdown",
   "metadata": {},
   "source": [
    "**Вывод:**\n",
    "\n",
    "**Теперь все столбцы нужных форматов**"
   ]
  },
  {
   "cell_type": "markdown",
   "metadata": {},
   "source": [
    "### Обработка дубликатов"
   ]
  },
  {
   "cell_type": "markdown",
   "metadata": {},
   "source": [
    "Для начала посмотрим, сколько явных дубликатов в таблице"
   ]
  },
  {
   "cell_type": "code",
   "execution_count": 36,
   "metadata": {},
   "outputs": [
    {
     "data": {
      "text/plain": [
       "54"
      ]
     },
     "execution_count": 36,
     "metadata": {},
     "output_type": "execute_result"
    }
   ],
   "source": [
    "data.duplicated().sum()"
   ]
  },
  {
   "cell_type": "markdown",
   "metadata": {},
   "source": [
    "Избавимся от них"
   ]
  },
  {
   "cell_type": "code",
   "execution_count": 37,
   "metadata": {},
   "outputs": [
    {
     "data": {
      "text/plain": [
       "0"
      ]
     },
     "execution_count": 37,
     "metadata": {},
     "output_type": "execute_result"
    }
   ],
   "source": [
    "data = data.drop_duplicates().reset_index(drop=True)\n",
    "data.duplicated().sum()"
   ]
  },
  {
   "cell_type": "markdown",
   "metadata": {},
   "source": [
    "Так-то лучше. Теперь вспомним какие неявные дубликаты мы нашли: они были в столбцах `education`, `income_type` и `purpose`. Чтобы разобраться с последним понадобится лемматизация. А вот с первыми двумя все проще."
   ]
  },
  {
   "cell_type": "code",
   "execution_count": 38,
   "metadata": {},
   "outputs": [
    {
     "data": {
      "text/plain": [
       "среднее                13705\n",
       "высшее                  4710\n",
       "СРЕДНЕЕ                  772\n",
       "Среднее                  711\n",
       "неоконченное высшее      668\n",
       "ВЫСШЕЕ                   273\n",
       "Высшее                   268\n",
       "начальное                250\n",
       "Неоконченное высшее       47\n",
       "НЕОКОНЧЕННОЕ ВЫСШЕЕ       29\n",
       "НАЧАЛЬНОЕ                 17\n",
       "Начальное                 15\n",
       "ученая степень             4\n",
       "Ученая степень             1\n",
       "УЧЕНАЯ СТЕПЕНЬ             1\n",
       "Name: education, dtype: int64"
      ]
     },
     "execution_count": 38,
     "metadata": {},
     "output_type": "execute_result"
    }
   ],
   "source": [
    "data['education'].value_counts()"
   ]
  },
  {
   "cell_type": "markdown",
   "metadata": {},
   "source": [
    "Приведем все значения к одному регистру"
   ]
  },
  {
   "cell_type": "code",
   "execution_count": 39,
   "metadata": {},
   "outputs": [
    {
     "data": {
      "text/plain": [
       "среднее                15188\n",
       "высшее                  5251\n",
       "неоконченное высшее      744\n",
       "начальное                282\n",
       "ученая степень             6\n",
       "Name: education, dtype: int64"
      ]
     },
     "execution_count": 39,
     "metadata": {},
     "output_type": "execute_result"
    }
   ],
   "source": [
    "data['education'] = data['education'].str.lower()\n",
    "data['education'].value_counts()"
   ]
  },
  {
   "cell_type": "code",
   "execution_count": 40,
   "metadata": {},
   "outputs": [
    {
     "data": {
      "text/plain": [
       "1    15188\n",
       "0     5251\n",
       "2      744\n",
       "3      282\n",
       "4        6\n",
       "Name: education_id, dtype: int64"
      ]
     },
     "execution_count": 40,
     "metadata": {},
     "output_type": "execute_result"
    }
   ],
   "source": [
    "data['education_id'].value_counts()"
   ]
  },
  {
   "cell_type": "markdown",
   "metadata": {},
   "source": [
    "Теперь id соответсвуют определенным значениям, а не десятке разных! Видимо дубликаты были получены из-за человеческого фактора -- разные люди вводят информацию в разном регистре"
   ]
  },
  {
   "cell_type": "code",
   "execution_count": 41,
   "metadata": {},
   "outputs": [
    {
     "data": {
      "text/plain": [
       "сотрудник          11091\n",
       "компаньон           5080\n",
       "пенсионер           3837\n",
       "госслужащий         1457\n",
       "безработный            2\n",
       "предприниматель        2\n",
       "студент                1\n",
       "в декрете              1\n",
       "Name: income_type, dtype: int64"
      ]
     },
     "execution_count": 41,
     "metadata": {},
     "output_type": "execute_result"
    }
   ],
   "source": [
    "income_type_number = data['income_type'].value_counts()\n",
    "income_type_number"
   ]
  },
  {
   "cell_type": "markdown",
   "metadata": {},
   "source": [
    "Можно распределить единичные значения по категориям: студента, безработных и в декрете отправять к компаньонам, а предпринимателей -- к сотрудникам. Но не испортит ли это статистику?"
   ]
  },
  {
   "cell_type": "code",
   "execution_count": 42,
   "metadata": {},
   "outputs": [
    {
     "data": {
      "text/plain": [
       "income_type\n",
       "безработный        131339.751676\n",
       "в декрете           53829.130729\n",
       "госслужащий        170898.309923\n",
       "компаньон          202417.461462\n",
       "пенсионер          137127.465690\n",
       "предприниматель    499163.144947\n",
       "сотрудник          161380.260488\n",
       "студент             98201.625314\n",
       "Name: total_income, dtype: float64"
      ]
     },
     "execution_count": 42,
     "metadata": {},
     "output_type": "execute_result"
    }
   ],
   "source": [
    "income_by_type #вспомним средние доходы для различных категорий"
   ]
  },
  {
   "cell_type": "markdown",
   "metadata": {},
   "source": [
    "Конечно значения разнятся, но не в десятки раз. Прикинем на сколько поменяют среднее наши обобщения:"
   ]
  },
  {
   "cell_type": "code",
   "execution_count": 43,
   "metadata": {},
   "outputs": [
    {
     "name": "stdout",
     "output_type": "stream",
     "text": [
      "202339.7746823806\n"
     ]
    }
   ],
   "source": [
    "print((income_by_type['безработный']*income_type_number['безработный'] \n",
    "        + income_by_type['в декрете']*income_type_number['в декрете']\n",
    "      + income_by_type['студент']*income_type_number['студент']\n",
    "      + income_by_type['компаньон']*income_type_number['компаньон'])/income_type_number[['безработный', 'в декрете', 'студент', 'компаньон']].sum())"
   ]
  },
  {
   "cell_type": "markdown",
   "metadata": {},
   "source": [
    "Совсем не сильно! Так же и с сотрудниками -- можно объединять"
   ]
  },
  {
   "cell_type": "code",
   "execution_count": 44,
   "metadata": {},
   "outputs": [
    {
     "data": {
      "text/plain": [
       "сотрудник      11093\n",
       "компаньон       5084\n",
       "пенсионер       3837\n",
       "госслужащий     1457\n",
       "Name: income_type, dtype: int64"
      ]
     },
     "execution_count": 44,
     "metadata": {},
     "output_type": "execute_result"
    }
   ],
   "source": [
    "data['income_type'] = data['income_type'].replace('предприниматель', 'сотрудник')\n",
    "data['income_type'] = data['income_type'].replace('безработный', 'компаньон')\n",
    "data['income_type'] = data['income_type'].replace('в декрете', 'компаньон')\n",
    "data['income_type'] = data['income_type'].replace('студент', 'компаньон')\n",
    "income_type_number = data['income_type'].value_counts()\n",
    "income_type_number"
   ]
  },
  {
   "cell_type": "markdown",
   "metadata": {},
   "source": [
    "Также для порядка приведем столбец `family_status` к нижнему регистру"
   ]
  },
  {
   "cell_type": "code",
   "execution_count": 45,
   "metadata": {},
   "outputs": [
    {
     "data": {
      "text/plain": [
       "женат / замужем          12344\n",
       "гражданский брак          4163\n",
       "не женат / не замужем     2810\n",
       "в разводе                 1195\n",
       "вдовец / вдова             959\n",
       "Name: family_status, dtype: int64"
      ]
     },
     "execution_count": 45,
     "metadata": {},
     "output_type": "execute_result"
    }
   ],
   "source": [
    "data['family_status'] = data['family_status'].str.lower()\n",
    "data['family_status'].value_counts()"
   ]
  },
  {
   "cell_type": "markdown",
   "metadata": {},
   "source": [
    "**Вывод:**\n",
    "\n",
    "**Явные и неявные дубликаты устранены, данные более читаемы**"
   ]
  },
  {
   "cell_type": "markdown",
   "metadata": {},
   "source": [
    "### Лемматизация"
   ]
  },
  {
   "cell_type": "markdown",
   "metadata": {},
   "source": [
    "В данных о целях, на которые берется кредит, очень много разнообразных причин. Посмотрим на них:"
   ]
  },
  {
   "cell_type": "code",
   "execution_count": 46,
   "metadata": {},
   "outputs": [
    {
     "data": {
      "text/plain": [
       "свадьба                                   793\n",
       "на проведение свадьбы                     773\n",
       "сыграть свадьбу                           769\n",
       "операции с недвижимостью                  675\n",
       "покупка коммерческой недвижимости         662\n",
       "покупка жилья для сдачи                   652\n",
       "операции с жильем                         652\n",
       "операции с коммерческой недвижимостью     650\n",
       "покупка жилья                             646\n",
       "жилье                                     646\n",
       "покупка жилья для семьи                   638\n",
       "строительство собственной недвижимости    635\n",
       "недвижимость                              633\n",
       "операции со своей недвижимостью           627\n",
       "строительство жилой недвижимости          625\n",
       "покупка недвижимости                      621\n",
       "покупка своего жилья                      620\n",
       "строительство недвижимости                619\n",
       "ремонт жилью                              607\n",
       "покупка жилой недвижимости                606\n",
       "на покупку своего автомобиля              505\n",
       "заняться высшим образованием              496\n",
       "автомобиль                                494\n",
       "сделка с подержанным автомобилем          486\n",
       "свой автомобиль                           479\n",
       "автомобили                                478\n",
       "на покупку подержанного автомобиля        478\n",
       "на покупку автомобиля                     472\n",
       "приобретение автомобиля                   461\n",
       "дополнительное образование                460\n",
       "сделка с автомобилем                      455\n",
       "высшее образование                        452\n",
       "получение дополнительного образования     447\n",
       "образование                               447\n",
       "получение образования                     442\n",
       "профильное образование                    436\n",
       "получение высшего образования             426\n",
       "заняться образованием                     408\n",
       "Name: purpose, dtype: int64"
      ]
     },
     "execution_count": 46,
     "metadata": {},
     "output_type": "execute_result"
    }
   ],
   "source": [
    "data['purpose'].value_counts()"
   ]
  },
  {
   "cell_type": "markdown",
   "metadata": {},
   "source": [
    "Десятки разных значений, анализ по ним может быть не особо наглядным. Можно ли разделить их на какие-то категории?\n",
    "Если посмотреть на данные, то сразу бросается в глаза, что в целом многие из целей одинаковые, просто сформулированны по-разному.  Например \"автомобиль\" и \"свой автомобиль\" и \"на покупку подержанного автомобиля\". Все эти значения и многие другие по сути одна цель -- покупка автомобиля.\n",
    "Оценив данные можно выделить 4 основные категории: свадьба, операции с недвижимостью, покупка автомобиля и образование. Потенциально еще можно выделить категорию Строительство и ремонт, но добавим их к недвижимости.\n",
    "\n",
    "Вручную избавляться от дубликатов как в других столбцах будет затруднительно. Лемматизируем столбец, а потом поменяем разные леммы на название общей категории.\n",
    "Применим лемматизацию к столбцу:"
   ]
  },
  {
   "cell_type": "code",
   "execution_count": 48,
   "metadata": {},
   "outputs": [
    {
     "data": {
      "text/plain": [
       "[автомобиль, \\n]                                          972\n",
       "[свадьба, \\n]                                             793\n",
       "[на,  , проведение,  , свадьба, \\n]                       773\n",
       "[сыграть,  , свадьба, \\n]                                 769\n",
       "[операция,  , с,  , недвижимость, \\n]                     675\n",
       "[покупка,  , коммерческий,  , недвижимость, \\n]           662\n",
       "[операция,  , с,  , жилье, \\n]                            652\n",
       "[покупка,  , жилье,  , для,  , сдача, \\n]                 652\n",
       "[операция,  , с,  , коммерческий,  , недвижимость, \\n]    650\n",
       "[покупка,  , жилье, \\n]                                   646\n",
       "[жилье, \\n]                                               646\n",
       "[покупка,  , жилье,  , для,  , семья, \\n]                 638\n",
       "[строительство,  , собственный,  , недвижимость, \\n]      635\n",
       "[недвижимость, \\n]                                        633\n",
       "[операция,  , со,  , свой,  , недвижимость, \\n]           627\n",
       "[строительство,  , жилой,  , недвижимость, \\n]            625\n",
       "[покупка,  , недвижимость, \\n]                            621\n",
       "[покупка,  , свой,  , жилье, \\n]                          620\n",
       "[строительство,  , недвижимость, \\n]                      619\n",
       "[ремонт,  , жилье, \\n]                                    607\n",
       "[покупка,  , жилой,  , недвижимость, \\n]                  606\n",
       "[на,  , покупка,  , свой,  , автомобиль, \\n]              505\n",
       "[заниматься,  , высокий,  , образование, \\n]              496\n",
       "[сделка,  , с,  , подержанный,  , автомобиль, \\n]         486\n",
       "[свой,  , автомобиль, \\n]                                 479\n",
       "[на,  , покупка,  , подержать,  , автомобиль, \\n]         478\n",
       "[на,  , покупка,  , автомобиль, \\n]                       472\n",
       "[приобретение,  , автомобиль, \\n]                         461\n",
       "[дополнительный,  , образование, \\n]                      460\n",
       "[сделка,  , с,  , автомобиль, \\n]                         455\n",
       "[высокий,  , образование, \\n]                             452\n",
       "[получение,  , дополнительный,  , образование, \\n]        447\n",
       "[образование, \\n]                                         447\n",
       "[получение,  , образование, \\n]                           442\n",
       "[профильный,  , образование, \\n]                          436\n",
       "[получение,  , высокий,  , образование, \\n]               426\n",
       "[заниматься,  , образование, \\n]                          408\n",
       "Name: purpose, dtype: int64"
      ]
     },
     "execution_count": 48,
     "metadata": {},
     "output_type": "execute_result"
    }
   ],
   "source": [
    "data['purpose'] = data['purpose'].apply(m.lemmatize)\n",
    "data['purpose'].value_counts()"
   ]
  },
  {
   "cell_type": "markdown",
   "metadata": {},
   "source": [
    "Лемматизация прошла успешно! Посмотрим на список и прикинем какие слова указывают о принадлежности к выделенным нами категориям:\n",
    "1. свадьба: \"свадьба\"\n",
    "2. операции с недвижимостью: \"недвижимость\", \"жилье\"\n",
    "3. покупка автомобиля: \"автомобиль\"\n",
    "4. образование: \"образование\"\n",
    "\n",
    "Возможно мы что-то упустили, но мы заметим это после первой замены, когда уберется основная масса смысловых дубликатов.\n",
    "Напишем функцию, которая проверяет принадлежность значения к одной из категорий и применим ее к столбцу."
   ]
  },
  {
   "cell_type": "code",
   "execution_count": 49,
   "metadata": {},
   "outputs": [
    {
     "data": {
      "text/plain": [
       "операции с недвижимостью    10814\n",
       "автомобиль                   4308\n",
       "образование                  4014\n",
       "свадьба                      2335\n",
       "Name: purpose, dtype: int64"
      ]
     },
     "execution_count": 49,
     "metadata": {},
     "output_type": "execute_result"
    }
   ],
   "source": [
    "def categorize_purpose(purpose):\n",
    "    if 'свадьба' in purpose:\n",
    "        return 'свадьба'\n",
    "    if 'недвижимость' in purpose or 'жилье' in purpose:\n",
    "        return 'операции с недвижимостью'\n",
    "    if 'автомобиль' in purpose:\n",
    "        return 'автомобиль'\n",
    "    if 'образование' in purpose:\n",
    "        return 'образование'\n",
    "    return purpose\n",
    "    \n",
    "\n",
    "data['purpose'] = data['purpose'].apply(categorize_purpose)\n",
    "data['purpose'].value_counts()"
   ]
  },
  {
   "cell_type": "markdown",
   "metadata": {},
   "source": [
    "Никаких лишних данных не осталось! Теперь цели явно распределены по 4 понятным категориям"
   ]
  },
  {
   "cell_type": "markdown",
   "metadata": {},
   "source": [
    "**Вывод:**\n",
    "\n",
    "**Мы привели данные в столбце с целями к единому виду, распределив их по понятным для анализа категориям**"
   ]
  },
  {
   "cell_type": "markdown",
   "metadata": {},
   "source": [
    "### Категоризация данных"
   ]
  },
  {
   "cell_type": "markdown",
   "metadata": {},
   "source": [
    "Можно разделить данные на категории многими подходами и способами. Но нам нужно категоризировать их под наши цели, чтобы анализ стал удобнее и нагляднее. Наш анализ будет проходить по 4 столбцам:\n",
    "1. количество детей\n",
    "2. семейное положение\n",
    "3. доход\n",
    "4. цели кредита\n",
    "\n",
    "1, 2 и 4 данные у нас уже неплохо категоризированны. Но 1 и 2 можно улучшить. А 3 нужно категоризировать в целом -- в этом столбце у нас тысячи разных значений, о которых мы мало что знаем на данный момент.\n",
    "\n",
    "Начем с столбца `children`. В нем у нас указано количество детей. Кто выплачивает кредиты чаще, семьи с одним ребенком или многодетные -- это интересный вопрос, *но перед нами стоит другой*: влияет ли *наличие* детей на возврат кредита в срок. Значит мы можем категоризировать данные попросту на три значения: есть дети(**1**), нет детей(**0**), данные отсутствуют(**-1**). Сделаем это."
   ]
  },
  {
   "cell_type": "code",
   "execution_count": 50,
   "metadata": {},
   "outputs": [
    {
     "data": {
      "text/plain": [
       " 0    14107\n",
       " 1     7241\n",
       "-1      123\n",
       "Name: have_children, dtype: int64"
      ]
     },
     "execution_count": 50,
     "metadata": {},
     "output_type": "execute_result"
    }
   ],
   "source": [
    "def childless(quantity):\n",
    "    if quantity > 0:\n",
    "        return 1\n",
    "    if quantity == 0:\n",
    "        return 0\n",
    "    if quantity < 0:\n",
    "        return -1\n",
    "\n",
    "data['have_children'] = data['children'].apply(childless)\n",
    "data['have_children'].value_counts()"
   ]
  },
  {
   "cell_type": "markdown",
   "metadata": {},
   "source": [
    "Данные по детям для анализа готовы!\n",
    "\n",
    "Теперь вспомним значения столбца `family_status`:"
   ]
  },
  {
   "cell_type": "code",
   "execution_count": 51,
   "metadata": {},
   "outputs": [
    {
     "data": {
      "text/plain": [
       "женат / замужем          12344\n",
       "гражданский брак          4163\n",
       "не женат / не замужем     2810\n",
       "в разводе                 1195\n",
       "вдовец / вдова             959\n",
       "Name: family_status, dtype: int64"
      ]
     },
     "execution_count": 51,
     "metadata": {},
     "output_type": "execute_result"
    }
   ],
   "source": [
    "data['family_status'].value_counts()"
   ]
  },
  {
   "cell_type": "markdown",
   "metadata": {},
   "source": [
    "В целом казалось бы можно разделить их на 2 категории: есть партнер или нет. Однако для финансовых вопросов официальность брака имеет значение: в гражданском браке имущество не считается совместно накопленным. Лучше оставим эту категорию как есть, а вот разведенных, вдо_в и незамужних объединим в одну -- вдовство или развод не должны влиять на имущество, а если бы клиент хотель взять кредит вместе с новым партнер_ом он вероятно указал бы гражданский брак.\n",
    "\n",
    "Для удобства категоризацию произведем по столбцу `family_status_id` и создадим новый столбец со значениям \"брак\", \"гражданский брак\", \"нет брака\""
   ]
  },
  {
   "cell_type": "code",
   "execution_count": 52,
   "metadata": {},
   "outputs": [
    {
     "data": {
      "text/plain": [
       "0    12344\n",
       "1     4163\n",
       "4     2810\n",
       "3     1195\n",
       "2      959\n",
       "Name: family_status_id, dtype: int64"
      ]
     },
     "execution_count": 52,
     "metadata": {},
     "output_type": "execute_result"
    }
   ],
   "source": [
    "data['family_status_id'].value_counts()"
   ]
  },
  {
   "cell_type": "code",
   "execution_count": 53,
   "metadata": {},
   "outputs": [
    {
     "data": {
      "text/plain": [
       "брак                12344\n",
       "нет брака            4964\n",
       "гражданский брак     4163\n",
       "Name: marriage, dtype: int64"
      ]
     },
     "execution_count": 53,
     "metadata": {},
     "output_type": "execute_result"
    }
   ],
   "source": [
    "def marriage(id):\n",
    "    if id == 0:\n",
    "        return 'брак'\n",
    "    if id == 1:\n",
    "        return 'гражданский брак'\n",
    "    if id == 2 or id == 3 or id == 4:\n",
    "        return 'нет брака'\n",
    "\n",
    "data['marriage'] = data['family_status_id'].apply(marriage)\n",
    "data['marriage'].value_counts()"
   ]
  },
  {
   "cell_type": "markdown",
   "metadata": {},
   "source": [
    "Теперь нужно решить как категоризировать информацию о доходе. Посмотрим минимум, максимум, среднее и медианное значения столбца:"
   ]
  },
  {
   "cell_type": "code",
   "execution_count": 54,
   "metadata": {},
   "outputs": [
    {
     "name": "stdout",
     "output_type": "stream",
     "text": [
      "20667.26379327158\n",
      "2265604.028722744\n",
      "167422.06386552742\n",
      "151898.6934377726\n"
     ]
    }
   ],
   "source": [
    "print(data['total_income'].min())\n",
    "print(data['total_income'].max())\n",
    "print(data['total_income'].mean())\n",
    "print(data['total_income'].median())"
   ]
  },
  {
   "cell_type": "markdown",
   "metadata": {},
   "source": [
    "Максимальный доход исчитывается миллионами, а минимальный - двадцать тысяч. Зато средний и медианный почти рядом -- 167 и 152 тысячи. Возможно средний скосили повыше несколько миллионеров.\n",
    "Попробуем придумать логичные категории, а потом проверим сколько клиентов в них войдут:\n",
    "1. <50к \n",
    "2. 50к<150к\n",
    "3. 150к<500к\n",
    "4. 500к+"
   ]
  },
  {
   "cell_type": "code",
   "execution_count": 55,
   "metadata": {},
   "outputs": [
    {
     "data": {
      "text/plain": [
       "upper_middle    10688\n",
       "middle          10189\n",
       "low               372\n",
       "high              222\n",
       "Name: income_category, dtype: int64"
      ]
     },
     "execution_count": 55,
     "metadata": {},
     "output_type": "execute_result"
    }
   ],
   "source": [
    "def categorize_income(income):\n",
    "    if income <= 50000:\n",
    "        return 'low'\n",
    "    if 50000 < income <= 150000:\n",
    "        return 'middle'\n",
    "    if 150000 < income <= 500000:\n",
    "        return 'upper_middle'\n",
    "    if 500000 < income:\n",
    "        return 'high'\n",
    "    \n",
    "data['income_category'] = data['total_income'].apply(categorize_income)\n",
    "data['income_category'].value_counts()"
   ]
  },
  {
   "cell_type": "markdown",
   "metadata": {},
   "source": [
    "Основная масса поместились в катгеории middle и upper_middle. Это логично но не особо показательно. Зато теперь мы знаем что почти все доходы у нас расположенны в диапазоне от 50к до 500к. Получается нам нужно разделить этот диапазон на еще несколько.\n",
    "Попробуем такую градацию:\n",
    "1. <100к \n",
    "2. 100к<150к\n",
    "3. 150к<300к\n",
    "4. 300к<500к\n",
    "5. 500к+"
   ]
  },
  {
   "cell_type": "code",
   "execution_count": 56,
   "metadata": {},
   "outputs": [
    {
     "data": {
      "text/plain": [
       "middle          9427\n",
       "lower_middle    6098\n",
       "low             4463\n",
       "upper_middle    1261\n",
       "high             222\n",
       "Name: income_category, dtype: int64"
      ]
     },
     "execution_count": 56,
     "metadata": {},
     "output_type": "execute_result"
    }
   ],
   "source": [
    "def categorize_income(income):\n",
    "    if income <= 100000:\n",
    "        return 'low'\n",
    "    if 100000 < income <= 150000:\n",
    "        return 'lower_middle'\n",
    "    if 150000 < income <= 300000:\n",
    "        return 'middle'\n",
    "    if 300000 < income <= 500000:\n",
    "        return 'upper_middle'\n",
    "    if 500000 < income:\n",
    "        return 'high'\n",
    "    \n",
    "data['income_category'] = data['total_income'].apply(categorize_income)\n",
    "data['income_category'].value_counts()"
   ]
  },
  {
   "cell_type": "markdown",
   "metadata": {},
   "source": [
    "Возможно это неидеальная категоризация, но она уже более равномерная. Она довольно логична -- люди с доходом выше 300к вероятно реже берут кредиты, им будет проще накопить нужную сумму. Оставим такую категоризацию."
   ]
  },
  {
   "cell_type": "markdown",
   "metadata": {},
   "source": [
    "**Вывод:**\n",
    "\n",
    "**Мы произвели категоризацию данных, окончательно подготовив данные к анализу для ответа на поставленные вопросы**"
   ]
  },
  {
   "cell_type": "markdown",
   "metadata": {},
   "source": [
    "## Шаг 3. Ответьте на вопросы"
   ]
  },
  {
   "cell_type": "markdown",
   "metadata": {},
   "source": [
    "### Есть ли зависимость между наличием детей и возвратом кредита в срок?\n",
    "\n",
    "Для ответа на вопрос посчитаем количество задолженностей по кредитам для двух категорий клиентов: с детьми и без(тех, для кого информация отсутствует, учитывать не будем)"
   ]
  },
  {
   "cell_type": "code",
   "execution_count": 57,
   "metadata": {},
   "outputs": [
    {
     "name": "stdout",
     "output_type": "stream",
     "text": [
      "Среди 7241 клиентов с детьми было 669 задолженностей\n",
      "Среди 14107 клиентов без детей было 1063 задолженностей\n"
     ]
    }
   ],
   "source": [
    "children_debt = data[data['have_children'] == 1]['debt'].sum()\n",
    "childless_debt = data[data['have_children'] == 0]['debt'].sum()\n",
    "print('Среди', data[data['have_children'] == 1]['debt'].count(), 'клиентов с детьми было', children_debt, 'задолженностей')\n",
    "print('Среди', data[data['have_children'] == 0]['debt'].count(), 'клиентов без детей было', childless_debt, 'задолженностей')"
   ]
  },
  {
   "cell_type": "markdown",
   "metadata": {},
   "source": [
    "По этим цифрам сложно оценить зависимость. Посчитаем конвертацию!"
   ]
  },
  {
   "cell_type": "code",
   "execution_count": 58,
   "metadata": {},
   "outputs": [
    {
     "name": "stdout",
     "output_type": "stream",
     "text": [
      "Процент задолженностей для клиентов с детьми: 9.24%\n",
      "Процент задолженностей для клентов без детей: 7.54%\n"
     ]
    }
   ],
   "source": [
    "print('Процент задолженностей для клиентов с детьми:', '{:.2%}'.format(children_debt/data[data['have_children'] == 1]['debt'].count()))\n",
    "print('Процент задолженностей для клентов без детей:', '{:.2%}'.format(childless_debt/data[data['have_children'] == 0]['debt'].count()))"
   ]
  },
  {
   "cell_type": "markdown",
   "metadata": {},
   "source": [
    "Выходит клиенты с детьми возвращают кредиты хуже, чем клиенты без детей. При этом и берут кредиты реже."
   ]
  },
  {
   "cell_type": "markdown",
   "metadata": {},
   "source": [
    "**Вывод:**\n",
    "\n",
    "**Клиенты с детьми возвращают кредиты хуже, чем клиенты без детей. Возможно это потому что при наличии детей чаще возникают непредвиденные крупные траты.\n",
    "Но порядок значений похож для двух категорий -- около 8%, так что возможно разница незначительна.**"
   ]
  },
  {
   "cell_type": "markdown",
   "metadata": {},
   "source": [
    "### Есть ли зависимость между семейным положением и возвратом кредита в срок?\n",
    "\n",
    "Вспомним наши категории семейного положения и посчитаем для них количество задолженностей:"
   ]
  },
  {
   "cell_type": "code",
   "execution_count": 59,
   "metadata": {},
   "outputs": [
    {
     "name": "stdout",
     "output_type": "stream",
     "text": [
      "Среди 12344 клиентов в браке 931 задолженностей\n",
      "Среди 4163 клиентов в гражднаском браке 388 задолженностей\n",
      "Среди 4964 клиентов не в браке 422 задолженностей\n"
     ]
    }
   ],
   "source": [
    "print('Среди', data[data['marriage'] == 'брак']['debt'].count(), 'клиентов в браке', data[data['marriage'] == 'брак']['debt'].sum(), 'задолженностей')\n",
    "print('Среди', data[data['marriage'] == 'гражданский брак']['debt'].count(), 'клиентов в гражднаском браке', data[data['marriage'] == 'гражданский брак']['debt'].sum(), 'задолженностей')\n",
    "print('Среди', data[data['marriage'] == 'нет брака']['debt'].count(), 'клиентов не в браке', data[data['marriage'] == 'нет брака']['debt'].sum(), 'задолженностей')"
   ]
  },
  {
   "cell_type": "markdown",
   "metadata": {},
   "source": [
    "И посчитаем конвертацию:"
   ]
  },
  {
   "cell_type": "code",
   "execution_count": 60,
   "metadata": {},
   "outputs": [
    {
     "name": "stdout",
     "output_type": "stream",
     "text": [
      "Процент задолженностей для клиентов в браке: 7.54%\n",
      "Процент задолженностей для клиентов в гражданском браке: 9.32%\n",
      "Процент задолженностей для клиентов не в браке: 8.50%\n"
     ]
    }
   ],
   "source": [
    "print('Процент задолженностей для клиентов в браке:', \n",
    "      '{:.2%}'.format(data[data['marriage'] == 'брак']['debt'].sum()/data[data['marriage'] == 'брак']['debt'].count()))\n",
    "print('Процент задолженностей для клиентов в гражданском браке:', \n",
    "      '{:.2%}'.format(data[data['marriage'] == 'гражданский брак']['debt'].sum()/data[data['marriage'] == 'гражданский брак']['debt'].count()))\n",
    "print('Процент задолженностей для клиентов не в браке:', \n",
    "      '{:.2%}'.format(data[data['marriage'] == 'нет брака']['debt'].sum()/data[data['marriage'] == 'нет брака']['debt'].count()))"
   ]
  },
  {
   "cell_type": "markdown",
   "metadata": {},
   "source": [
    "Не зря мы поделили клиентов в  официальном браке и гражданском браке на разные категории!"
   ]
  },
  {
   "cell_type": "markdown",
   "metadata": {},
   "source": [
    "**Вывод:**\n",
    "\n",
    "**Чаще всего задолженности случаются у клиентов в гражданском браке, а реже всего -- в официальном. Это довольно закономерно: пары в официальном браке даже в случае развода чаще всего делят кредиты пополам, долг выплачивают два человека. Клиенты без брака вероятно при взятии кредита рассчитывают только на свои доходы, и им будет сложнее его выплатить. А пары в гражданском браке скорее всего выплачивают кредит вместе, только вот в случае расставания кредит официально будет только у того кто его брал, поэтому легко взять кредит, ожидая поддержку партнера, а потом резко ее лишиться.**\n",
    "\n",
    "**Однако стоит отметить, что для трех категорий(гражданский/официальный брак, отсутствие брака) процент задолженностей близок по порядку**"
   ]
  },
  {
   "cell_type": "markdown",
   "metadata": {},
   "source": [
    "### Есть ли зависимость между уровнем дохода и возвратом кредита в срок?"
   ]
  },
  {
   "cell_type": "markdown",
   "metadata": {},
   "source": [
    "Сразу посчитаем конверсию для разных уровней дохода:"
   ]
  },
  {
   "cell_type": "code",
   "execution_count": 61,
   "metadata": {},
   "outputs": [
    {
     "name": "stdout",
     "output_type": "stream",
     "text": [
      "Процент задолженностей для клиентов с доходом ниже 100000 рублей в месяц: 7.93%\n",
      "Процент задолженностей для клиентов с доходом от 100000 до 150000 рублей в месяц: 8.63%\n",
      "Процент задолженностей для клиентов с доходом от 150000 до 300000 рублей в месяц: 8.01%\n",
      "Процент задолженностей для клиентов с доходом от 300000 до 500000 рублей в месяц: 7.30%\n",
      "Процент задолженностей для клиентов с доходом выше 500000 рублей в месяц: 6.31%\n"
     ]
    }
   ],
   "source": [
    "print('Процент задолженностей для клиентов с доходом ниже 100000 рублей в месяц:', \n",
    "      '{:.2%}'.format(data[data['income_category'] == 'low']['debt'].sum()/data[data['income_category'] == 'low']['debt'].count()))\n",
    "print('Процент задолженностей для клиентов с доходом от 100000 до 150000 рублей в месяц:', \n",
    "      '{:.2%}'.format(data[data['income_category'] == 'lower_middle']['debt'].sum()/data[data['income_category'] == 'lower_middle']['debt'].count()))\n",
    "print('Процент задолженностей для клиентов с доходом от 150000 до 300000 рублей в месяц:', \n",
    "      '{:.2%}'.format(data[data['income_category'] == 'middle']['debt'].sum()/data[data['income_category'] == 'middle']['debt'].count()))\n",
    "print('Процент задолженностей для клиентов с доходом от 300000 до 500000 рублей в месяц:', \n",
    "      '{:.2%}'.format(data[data['income_category'] == 'upper_middle']['debt'].sum()/data[data['income_category'] == 'upper_middle']['debt'].count()))\n",
    "print('Процент задолженностей для клиентов с доходом выше 500000 рублей в месяц:', \n",
    "      '{:.2%}'.format(data[data['income_category'] == 'high']['debt'].sum()/data[data['income_category'] == 'high']['debt'].count()))\n"
   ]
  },
  {
   "cell_type": "markdown",
   "metadata": {},
   "source": [
    "**Вывод:**\n",
    "\n",
    "**Хуже всех возвращают кредиты клиенты с доходом от 100000 до 150000 рублей в месяц. При этом клиенты с доходом ниже возвращают кредиты так же хорошо как клиенты с доходом до 300000 рублей. При доходе выше 300000 задолженностей меньше, а минимум задолженностей у клиентов с самым высоким доходом -- от 500000 рублей.**"
   ]
  },
  {
   "cell_type": "markdown",
   "metadata": {},
   "source": [
    "### - Как разные цели кредита влияют на его возврат в срок?\n",
    "\n",
    "Посчитаем конвертацию в должников клиентов с разными целями кредита:"
   ]
  },
  {
   "cell_type": "code",
   "execution_count": 62,
   "metadata": {},
   "outputs": [
    {
     "name": "stdout",
     "output_type": "stream",
     "text": [
      "Процент задолженностей для клиентов, которые берут кредит на свадьбу: 7.97%\n",
      "Процент задолженностей для клиентов, которые берут кредит на операции с недвижимостью: 7.23%\n",
      "Процент задолженностей для клиентов, которые берут кредит на автомобили: 9.35%\n",
      "Процент задолженностей для клиентов, которые берут кредит на образование: 9.22%\n"
     ]
    }
   ],
   "source": [
    "print('Процент задолженностей для клиентов, которые берут кредит на свадьбу:', \n",
    "      '{:.2%}'.format(data[data['purpose'] == 'свадьба']['debt'].sum()/data[data['purpose'] == 'свадьба']['debt'].count()))\n",
    "print('Процент задолженностей для клиентов, которые берут кредит на операции с недвижимостью:', \n",
    "      '{:.2%}'.format(data[data['purpose'] == 'операции с недвижимостью']['debt'].sum()/data[data['purpose'] == 'операции с недвижимостью']['debt'].count()))\n",
    "print('Процент задолженностей для клиентов, которые берут кредит на автомобили:', \n",
    "      '{:.2%}'.format(data[data['purpose'] == 'автомобиль']['debt'].sum()/data[data['purpose'] == 'автомобиль']['debt'].count()))\n",
    "print('Процент задолженностей для клиентов, которые берут кредит на образование:', \n",
    "      '{:.2%}'.format(data[data['purpose'] == 'образование']['debt'].sum()/data[data['purpose'] == 'образование']['debt'].count()))\n"
   ]
  },
  {
   "cell_type": "markdown",
   "metadata": {},
   "source": [
    "**Вывод:**\n",
    "\n",
    "**Самые надежные заемщики берут кредиты на недвижимость. Клиенты, берущие кредит на свадьбу, возвращают их чуть хуже. А вот клиенты с кредитами на автомобили и образование возвращают кредиты хуже всего: почти каждый десятый имел задолженность**\n",
    "\n",
    "**Вероятно клиенты с кредитами на недвижимость зачастую не сильно меняют свой бюджет: раньше они платили за съемное жилье, теперь примерно те же деньги уходят на кредит.**\n",
    "**Кредиты на свадьбу скорее всего выплачиваются парой, или даже несколькими семьями, как и с недвижимостью. А вот кредит на авто и тем более образование может быть индивидуальной покупкой. Возможно это объясняет разницу.**"
   ]
  },
  {
   "cell_type": "markdown",
   "metadata": {},
   "source": [
    "## Шаг 4. Общий вывод"
   ]
  },
  {
   "cell_type": "markdown",
   "metadata": {},
   "source": [
    "При выполнении задачи была произведена предобработка данных. Были найдены и заполнены пропуски, исправлены ошибки в данных, удалены дубликаты, таблица была приведена к удобному для анализа вида.\n",
    "\n",
    "Был проведен анализ для каждого из поставленных вопросов. Были обнаружены закономерности, однако так же нужно учитывать, что процент должников различался не более чем 2-3%"
   ]
  }
 ],
 "metadata": {
  "ExecuteTimeLog": [
   {
    "duration": 952,
    "start_time": "2022-01-06T11:08:58.659Z"
   },
   {
    "duration": 84,
    "start_time": "2022-01-06T11:16:26.528Z"
   },
   {
    "duration": 15,
    "start_time": "2022-01-06T11:40:07.387Z"
   },
   {
    "duration": 78,
    "start_time": "2022-01-06T11:46:44.576Z"
   },
   {
    "duration": 8,
    "start_time": "2022-01-06T11:50:44.712Z"
   },
   {
    "duration": 16,
    "start_time": "2022-01-06T11:51:42.901Z"
   },
   {
    "duration": 17,
    "start_time": "2022-01-06T11:51:50.907Z"
   },
   {
    "duration": 346,
    "start_time": "2022-01-06T11:52:25.554Z"
   },
   {
    "duration": 9,
    "start_time": "2022-01-06T11:52:30.345Z"
   },
   {
    "duration": 11,
    "start_time": "2022-01-06T11:54:37.871Z"
   },
   {
    "duration": 11,
    "start_time": "2022-01-06T11:55:21.563Z"
   },
   {
    "duration": 9,
    "start_time": "2022-01-06T11:55:41.455Z"
   },
   {
    "duration": 9,
    "start_time": "2022-01-06T11:56:03.360Z"
   },
   {
    "duration": 11,
    "start_time": "2022-01-06T11:56:37.547Z"
   },
   {
    "duration": 8,
    "start_time": "2022-01-06T11:56:52.651Z"
   },
   {
    "duration": 10,
    "start_time": "2022-01-06T11:57:08.038Z"
   },
   {
    "duration": 8,
    "start_time": "2022-01-06T11:57:19.497Z"
   },
   {
    "duration": 10,
    "start_time": "2022-01-06T11:57:41.795Z"
   },
   {
    "duration": 10,
    "start_time": "2022-01-06T11:58:09.588Z"
   },
   {
    "duration": 8,
    "start_time": "2022-01-06T11:58:33.073Z"
   },
   {
    "duration": 13,
    "start_time": "2022-01-06T11:58:46.054Z"
   },
   {
    "duration": 11,
    "start_time": "2022-01-06T11:58:58.669Z"
   },
   {
    "duration": 10,
    "start_time": "2022-01-06T11:59:23.994Z"
   },
   {
    "duration": 8,
    "start_time": "2022-01-06T12:09:07.165Z"
   },
   {
    "duration": 114,
    "start_time": "2022-01-06T12:15:44.696Z"
   },
   {
    "duration": 256,
    "start_time": "2022-01-06T12:16:20.985Z"
   },
   {
    "duration": 246,
    "start_time": "2022-01-06T12:16:57.629Z"
   },
   {
    "duration": 10,
    "start_time": "2022-01-06T12:18:36.118Z"
   },
   {
    "duration": 10,
    "start_time": "2022-01-06T12:19:03.291Z"
   },
   {
    "duration": 235,
    "start_time": "2022-01-06T12:27:42.524Z"
   },
   {
    "duration": 247,
    "start_time": "2022-01-06T12:33:17.105Z"
   },
   {
    "duration": 249,
    "start_time": "2022-01-06T12:33:25.728Z"
   },
   {
    "duration": 10,
    "start_time": "2022-01-06T12:34:12.168Z"
   },
   {
    "duration": 11,
    "start_time": "2022-01-06T12:34:47.610Z"
   },
   {
    "duration": 12,
    "start_time": "2022-01-06T12:35:11.174Z"
   },
   {
    "duration": 9,
    "start_time": "2022-01-06T12:37:20.322Z"
   },
   {
    "duration": 9,
    "start_time": "2022-01-06T12:37:45.891Z"
   },
   {
    "duration": 108,
    "start_time": "2022-01-06T12:38:22.428Z"
   },
   {
    "duration": 33,
    "start_time": "2022-01-06T12:38:26.036Z"
   },
   {
    "duration": 263,
    "start_time": "2022-01-06T12:40:28.051Z"
   },
   {
    "duration": 10,
    "start_time": "2022-01-06T12:40:44.905Z"
   },
   {
    "duration": 20,
    "start_time": "2022-01-06T12:42:32.439Z"
   },
   {
    "duration": 22,
    "start_time": "2022-01-06T12:42:37.354Z"
   },
   {
    "duration": 10,
    "start_time": "2022-01-06T12:44:19.838Z"
   },
   {
    "duration": 233,
    "start_time": "2022-01-06T12:46:25.296Z"
   },
   {
    "duration": 12,
    "start_time": "2022-01-06T12:46:31.674Z"
   },
   {
    "duration": 295,
    "start_time": "2022-01-06T12:47:05.207Z"
   },
   {
    "duration": 11,
    "start_time": "2022-01-06T12:52:47.711Z"
   },
   {
    "duration": 81,
    "start_time": "2022-01-06T12:53:01.184Z"
   },
   {
    "duration": 20,
    "start_time": "2022-01-06T12:53:01.268Z"
   },
   {
    "duration": 9,
    "start_time": "2022-01-06T12:53:01.292Z"
   },
   {
    "duration": 9,
    "start_time": "2022-01-06T12:53:01.303Z"
   },
   {
    "duration": 9,
    "start_time": "2022-01-06T12:53:01.315Z"
   },
   {
    "duration": 44,
    "start_time": "2022-01-06T12:53:01.326Z"
   },
   {
    "duration": 11,
    "start_time": "2022-01-06T12:53:11.275Z"
   },
   {
    "duration": 9,
    "start_time": "2022-01-06T12:53:47.062Z"
   },
   {
    "duration": 10,
    "start_time": "2022-01-06T12:53:52.862Z"
   },
   {
    "duration": 77,
    "start_time": "2022-01-06T12:53:57.306Z"
   },
   {
    "duration": 14,
    "start_time": "2022-01-06T12:53:57.386Z"
   },
   {
    "duration": 7,
    "start_time": "2022-01-06T12:53:57.403Z"
   },
   {
    "duration": 8,
    "start_time": "2022-01-06T12:53:57.412Z"
   },
   {
    "duration": 42,
    "start_time": "2022-01-06T12:53:57.423Z"
   },
   {
    "duration": 9,
    "start_time": "2022-01-06T12:53:57.467Z"
   },
   {
    "duration": 11,
    "start_time": "2022-01-06T12:53:59.911Z"
   },
   {
    "duration": 6,
    "start_time": "2022-01-06T12:54:56.700Z"
   },
   {
    "duration": 10,
    "start_time": "2022-01-06T12:55:08.271Z"
   },
   {
    "duration": 11,
    "start_time": "2022-01-06T12:56:03.185Z"
   },
   {
    "duration": 8,
    "start_time": "2022-01-06T12:57:05.893Z"
   },
   {
    "duration": 11,
    "start_time": "2022-01-06T12:57:38.710Z"
   },
   {
    "duration": 9,
    "start_time": "2022-01-06T12:58:06.506Z"
   },
   {
    "duration": 93,
    "start_time": "2022-01-06T12:58:16.959Z"
   },
   {
    "duration": 9,
    "start_time": "2022-01-06T12:58:50.445Z"
   },
   {
    "duration": 13,
    "start_time": "2022-01-06T13:00:40.504Z"
   },
   {
    "duration": 10,
    "start_time": "2022-01-06T13:01:09.309Z"
   },
   {
    "duration": 10,
    "start_time": "2022-01-06T13:02:02.223Z"
   },
   {
    "duration": 9,
    "start_time": "2022-01-06T13:02:07.090Z"
   },
   {
    "duration": 10,
    "start_time": "2022-01-06T13:02:19.341Z"
   },
   {
    "duration": 1994,
    "start_time": "2022-01-06T13:04:53.143Z"
   },
   {
    "duration": 77,
    "start_time": "2022-01-06T13:04:56.706Z"
   },
   {
    "duration": 16,
    "start_time": "2022-01-06T13:04:56.786Z"
   },
   {
    "duration": 8,
    "start_time": "2022-01-06T13:04:56.805Z"
   },
   {
    "duration": 8,
    "start_time": "2022-01-06T13:04:56.815Z"
   },
   {
    "duration": 11,
    "start_time": "2022-01-06T13:04:56.862Z"
   },
   {
    "duration": 8,
    "start_time": "2022-01-06T13:04:56.876Z"
   },
   {
    "duration": 9,
    "start_time": "2022-01-06T13:04:56.887Z"
   },
   {
    "duration": 8,
    "start_time": "2022-01-06T13:04:56.900Z"
   },
   {
    "duration": 79,
    "start_time": "2022-01-06T13:04:56.911Z"
   },
   {
    "duration": 10,
    "start_time": "2022-01-06T13:04:56.993Z"
   },
   {
    "duration": 11,
    "start_time": "2022-01-06T13:04:57.005Z"
   },
   {
    "duration": 10,
    "start_time": "2022-01-06T13:04:57.019Z"
   },
   {
    "duration": 11,
    "start_time": "2022-01-06T13:04:57.064Z"
   },
   {
    "duration": 10,
    "start_time": "2022-01-06T13:04:57.078Z"
   },
   {
    "duration": 7,
    "start_time": "2022-01-06T13:04:57.091Z"
   },
   {
    "duration": 9,
    "start_time": "2022-01-06T13:04:57.100Z"
   },
   {
    "duration": 12,
    "start_time": "2022-01-06T13:04:57.164Z"
   },
   {
    "duration": 14,
    "start_time": "2022-01-06T13:04:57.179Z"
   },
   {
    "duration": 11,
    "start_time": "2022-01-06T13:04:57.196Z"
   },
   {
    "duration": 7,
    "start_time": "2022-01-06T13:05:03.728Z"
   },
   {
    "duration": 9,
    "start_time": "2022-01-06T13:05:32.491Z"
   },
   {
    "duration": 95,
    "start_time": "2022-01-06T13:06:19.644Z"
   },
   {
    "duration": 32,
    "start_time": "2022-01-06T13:06:40.168Z"
   },
   {
    "duration": 19,
    "start_time": "2022-01-06T13:10:04.344Z"
   },
   {
    "duration": 247,
    "start_time": "2022-01-06T13:10:35.498Z"
   },
   {
    "duration": 88,
    "start_time": "2022-01-06T13:10:42.713Z"
   },
   {
    "duration": 255,
    "start_time": "2022-01-06T13:10:54.703Z"
   },
   {
    "duration": 19,
    "start_time": "2022-01-06T13:11:04.131Z"
   },
   {
    "duration": 14,
    "start_time": "2022-01-06T13:11:37.801Z"
   },
   {
    "duration": 11,
    "start_time": "2022-01-06T13:12:29.493Z"
   },
   {
    "duration": 11,
    "start_time": "2022-01-06T13:14:32.560Z"
   },
   {
    "duration": 11,
    "start_time": "2022-01-06T13:14:42.174Z"
   },
   {
    "duration": 14,
    "start_time": "2022-01-06T13:14:58.963Z"
   },
   {
    "duration": 11,
    "start_time": "2022-01-06T13:17:35.165Z"
   },
   {
    "duration": 12,
    "start_time": "2022-01-06T13:20:17.241Z"
   },
   {
    "duration": 12,
    "start_time": "2022-01-06T13:20:23.177Z"
   },
   {
    "duration": 312,
    "start_time": "2022-01-06T13:22:04.940Z"
   },
   {
    "duration": 9,
    "start_time": "2022-01-06T13:22:22.280Z"
   },
   {
    "duration": 12,
    "start_time": "2022-01-06T13:22:29.676Z"
   },
   {
    "duration": 12,
    "start_time": "2022-01-06T13:25:31.958Z"
   },
   {
    "duration": 10,
    "start_time": "2022-01-06T13:25:39.194Z"
   },
   {
    "duration": 30,
    "start_time": "2022-01-06T13:27:48.924Z"
   },
   {
    "duration": 11,
    "start_time": "2022-01-06T13:36:32.574Z"
   },
   {
    "duration": 14,
    "start_time": "2022-01-06T13:36:43.254Z"
   },
   {
    "duration": 13,
    "start_time": "2022-01-06T13:37:15.945Z"
   },
   {
    "duration": 16,
    "start_time": "2022-01-06T13:48:42.348Z"
   },
   {
    "duration": 19,
    "start_time": "2022-01-06T13:49:58.137Z"
   },
   {
    "duration": 18,
    "start_time": "2022-01-06T13:50:23.644Z"
   },
   {
    "duration": 16,
    "start_time": "2022-01-06T13:50:29.963Z"
   },
   {
    "duration": 275,
    "start_time": "2022-01-06T13:51:04.188Z"
   },
   {
    "duration": 24,
    "start_time": "2022-01-06T13:51:49.759Z"
   },
   {
    "duration": 279,
    "start_time": "2022-01-06T13:53:06.725Z"
   },
   {
    "duration": 12,
    "start_time": "2022-01-06T13:53:19.477Z"
   },
   {
    "duration": 11,
    "start_time": "2022-01-06T13:54:46.764Z"
   },
   {
    "duration": 5,
    "start_time": "2022-01-06T13:57:59.820Z"
   },
   {
    "duration": 46,
    "start_time": "2022-01-06T13:58:04.369Z"
   },
   {
    "duration": 8,
    "start_time": "2022-01-06T14:13:15.223Z"
   },
   {
    "duration": 10,
    "start_time": "2022-01-06T14:13:29.872Z"
   },
   {
    "duration": 11,
    "start_time": "2022-01-06T14:13:42.262Z"
   },
   {
    "duration": 8,
    "start_time": "2022-01-06T14:16:52.423Z"
   },
   {
    "duration": 7,
    "start_time": "2022-01-06T14:17:07.580Z"
   },
   {
    "duration": 7,
    "start_time": "2022-01-06T14:17:14.545Z"
   },
   {
    "duration": 39,
    "start_time": "2022-01-06T14:17:28.466Z"
   },
   {
    "duration": 6,
    "start_time": "2022-01-06T14:17:43.062Z"
   },
   {
    "duration": 2022,
    "start_time": "2022-01-06T14:18:21.097Z"
   },
   {
    "duration": 44,
    "start_time": "2022-01-06T14:19:30.873Z"
   },
   {
    "duration": 51,
    "start_time": "2022-01-06T14:19:37.375Z"
   },
   {
    "duration": 79,
    "start_time": "2022-01-06T14:19:49.762Z"
   },
   {
    "duration": 27,
    "start_time": "2022-01-06T14:19:49.843Z"
   },
   {
    "duration": 8,
    "start_time": "2022-01-06T14:19:49.872Z"
   },
   {
    "duration": 8,
    "start_time": "2022-01-06T14:19:49.882Z"
   },
   {
    "duration": 10,
    "start_time": "2022-01-06T14:19:49.892Z"
   },
   {
    "duration": 63,
    "start_time": "2022-01-06T14:19:49.906Z"
   },
   {
    "duration": 9,
    "start_time": "2022-01-06T14:19:49.972Z"
   },
   {
    "duration": 8,
    "start_time": "2022-01-06T14:19:49.985Z"
   },
   {
    "duration": 67,
    "start_time": "2022-01-06T14:19:49.996Z"
   },
   {
    "duration": 11,
    "start_time": "2022-01-06T14:19:50.065Z"
   },
   {
    "duration": 9,
    "start_time": "2022-01-06T14:19:50.078Z"
   },
   {
    "duration": 9,
    "start_time": "2022-01-06T14:19:50.090Z"
   },
   {
    "duration": 8,
    "start_time": "2022-01-06T14:19:50.102Z"
   },
   {
    "duration": 53,
    "start_time": "2022-01-06T14:19:50.112Z"
   },
   {
    "duration": 9,
    "start_time": "2022-01-06T14:19:50.167Z"
   },
   {
    "duration": 10,
    "start_time": "2022-01-06T14:19:50.179Z"
   },
   {
    "duration": 13,
    "start_time": "2022-01-06T14:19:50.191Z"
   },
   {
    "duration": 57,
    "start_time": "2022-01-06T14:19:50.206Z"
   },
   {
    "duration": 11,
    "start_time": "2022-01-06T14:19:50.266Z"
   },
   {
    "duration": 9,
    "start_time": "2022-01-06T14:19:50.280Z"
   },
   {
    "duration": 23,
    "start_time": "2022-01-06T14:19:50.291Z"
   },
   {
    "duration": 52,
    "start_time": "2022-01-06T14:19:50.317Z"
   },
   {
    "duration": 12,
    "start_time": "2022-01-06T14:19:50.374Z"
   },
   {
    "duration": 11,
    "start_time": "2022-01-06T14:19:50.388Z"
   },
   {
    "duration": 10,
    "start_time": "2022-01-06T14:19:50.401Z"
   },
   {
    "duration": 51,
    "start_time": "2022-01-06T14:19:50.414Z"
   },
   {
    "duration": 25,
    "start_time": "2022-01-06T14:19:50.467Z"
   },
   {
    "duration": 14,
    "start_time": "2022-01-06T14:19:50.494Z"
   },
   {
    "duration": 64,
    "start_time": "2022-01-06T14:19:50.511Z"
   },
   {
    "duration": 13,
    "start_time": "2022-01-06T14:19:50.577Z"
   },
   {
    "duration": 12,
    "start_time": "2022-01-06T14:19:50.593Z"
   },
   {
    "duration": 76,
    "start_time": "2022-01-06T14:19:50.608Z"
   },
   {
    "duration": 14,
    "start_time": "2022-01-06T14:20:02.369Z"
   },
   {
    "duration": 87,
    "start_time": "2022-01-06T14:23:46.407Z"
   },
   {
    "duration": 274,
    "start_time": "2022-01-06T14:23:54.100Z"
   },
   {
    "duration": 258,
    "start_time": "2022-01-06T14:24:18.984Z"
   },
   {
    "duration": 33,
    "start_time": "2022-01-06T14:24:42.926Z"
   },
   {
    "duration": 372,
    "start_time": "2022-01-06T14:25:17.326Z"
   },
   {
    "duration": 13,
    "start_time": "2022-01-06T14:25:53.739Z"
   },
   {
    "duration": 2101,
    "start_time": "2022-01-06T14:26:04.383Z"
   },
   {
    "duration": 24,
    "start_time": "2022-01-06T14:26:18.529Z"
   },
   {
    "duration": 13,
    "start_time": "2022-01-06T14:26:38.208Z"
   },
   {
    "duration": 94,
    "start_time": "2022-01-06T14:28:08.891Z"
   },
   {
    "duration": 532,
    "start_time": "2022-01-06T14:28:14.486Z"
   },
   {
    "duration": 113,
    "start_time": "2022-01-06T14:28:26.604Z"
   },
   {
    "duration": 33476,
    "start_time": "2022-01-06T14:28:43.725Z"
   },
   {
    "duration": 379,
    "start_time": "2022-01-06T14:29:57.429Z"
   },
   {
    "duration": 2139,
    "start_time": "2022-01-06T14:31:03.160Z"
   },
   {
    "duration": 8435,
    "start_time": "2022-01-06T14:31:08.260Z"
   },
   {
    "duration": 6502,
    "start_time": "2022-01-06T14:32:39.891Z"
   },
   {
    "duration": 6076,
    "start_time": "2022-01-06T14:33:06.687Z"
   },
   {
    "duration": 7037,
    "start_time": "2022-01-06T14:33:22.079Z"
   },
   {
    "duration": 36,
    "start_time": "2022-01-06T14:33:41.384Z"
   },
   {
    "duration": 528,
    "start_time": "2022-01-06T14:33:53.583Z"
   },
   {
    "duration": 533,
    "start_time": "2022-01-06T14:33:58.417Z"
   },
   {
    "duration": 568,
    "start_time": "2022-01-06T14:34:06.187Z"
   },
   {
    "duration": 4814,
    "start_time": "2022-01-06T14:34:23.706Z"
   },
   {
    "duration": 7248,
    "start_time": "2022-01-06T14:35:17.637Z"
   },
   {
    "duration": 9084,
    "start_time": "2022-01-06T14:35:53.223Z"
   },
   {
    "duration": 361,
    "start_time": "2022-01-06T14:37:21.065Z"
   },
   {
    "duration": 294,
    "start_time": "2022-01-06T14:37:39.153Z"
   },
   {
    "duration": 294,
    "start_time": "2022-01-06T14:37:43.707Z"
   },
   {
    "duration": 287,
    "start_time": "2022-01-06T14:37:52.603Z"
   },
   {
    "duration": 290,
    "start_time": "2022-01-06T14:38:11.011Z"
   },
   {
    "duration": 284,
    "start_time": "2022-01-06T14:38:25.499Z"
   },
   {
    "duration": 290,
    "start_time": "2022-01-06T14:38:30.937Z"
   },
   {
    "duration": 312,
    "start_time": "2022-01-06T14:38:44.905Z"
   },
   {
    "duration": 289,
    "start_time": "2022-01-06T14:39:01.181Z"
   },
   {
    "duration": 80,
    "start_time": "2022-01-06T14:39:56.586Z"
   },
   {
    "duration": 8040,
    "start_time": "2022-01-06T14:40:01.377Z"
   },
   {
    "duration": 450,
    "start_time": "2022-01-06T14:40:19.829Z"
   },
   {
    "duration": 453,
    "start_time": "2022-01-06T14:41:17.213Z"
   },
   {
    "duration": 8054,
    "start_time": "2022-01-06T14:41:27.449Z"
   },
   {
    "duration": 7992,
    "start_time": "2022-01-06T14:41:37.928Z"
   },
   {
    "duration": 455,
    "start_time": "2022-01-06T14:42:49.303Z"
   },
   {
    "duration": 562,
    "start_time": "2022-01-06T14:43:06.468Z"
   },
   {
    "duration": 481,
    "start_time": "2022-01-06T14:43:48.796Z"
   },
   {
    "duration": 456,
    "start_time": "2022-01-06T14:43:55.330Z"
   },
   {
    "duration": 463,
    "start_time": "2022-01-06T14:44:04.716Z"
   },
   {
    "duration": 8062,
    "start_time": "2022-01-06T14:44:08.778Z"
   },
   {
    "duration": 8243,
    "start_time": "2022-01-06T14:44:18.989Z"
   },
   {
    "duration": 445,
    "start_time": "2022-01-06T14:44:41.028Z"
   },
   {
    "duration": 85,
    "start_time": "2022-01-06T14:45:15.117Z"
   },
   {
    "duration": 19,
    "start_time": "2022-01-06T14:45:15.206Z"
   },
   {
    "duration": 11,
    "start_time": "2022-01-06T14:45:15.265Z"
   },
   {
    "duration": 10,
    "start_time": "2022-01-06T14:45:15.279Z"
   },
   {
    "duration": 9,
    "start_time": "2022-01-06T14:45:15.292Z"
   },
   {
    "duration": 10,
    "start_time": "2022-01-06T14:45:15.304Z"
   },
   {
    "duration": 54,
    "start_time": "2022-01-06T14:45:15.316Z"
   },
   {
    "duration": 8,
    "start_time": "2022-01-06T14:45:15.375Z"
   },
   {
    "duration": 23,
    "start_time": "2022-01-06T14:45:15.386Z"
   },
   {
    "duration": 52,
    "start_time": "2022-01-06T14:45:15.411Z"
   },
   {
    "duration": 11,
    "start_time": "2022-01-06T14:45:15.465Z"
   },
   {
    "duration": 9,
    "start_time": "2022-01-06T14:45:15.479Z"
   },
   {
    "duration": 9,
    "start_time": "2022-01-06T14:45:15.490Z"
   },
   {
    "duration": 9,
    "start_time": "2022-01-06T14:45:15.501Z"
   },
   {
    "duration": 52,
    "start_time": "2022-01-06T14:45:15.512Z"
   },
   {
    "duration": 10,
    "start_time": "2022-01-06T14:45:15.567Z"
   },
   {
    "duration": 15,
    "start_time": "2022-01-06T14:45:15.579Z"
   },
   {
    "duration": 11,
    "start_time": "2022-01-06T14:45:15.596Z"
   },
   {
    "duration": 10,
    "start_time": "2022-01-06T14:45:15.609Z"
   },
   {
    "duration": 9,
    "start_time": "2022-01-06T14:45:15.664Z"
   },
   {
    "duration": 24,
    "start_time": "2022-01-06T14:45:15.675Z"
   },
   {
    "duration": 17,
    "start_time": "2022-01-06T14:45:15.702Z"
   },
   {
    "duration": 51,
    "start_time": "2022-01-06T14:45:15.723Z"
   },
   {
    "duration": 10,
    "start_time": "2022-01-06T14:45:15.777Z"
   },
   {
    "duration": 11,
    "start_time": "2022-01-06T14:45:15.790Z"
   },
   {
    "duration": 8,
    "start_time": "2022-01-06T14:45:15.803Z"
   },
   {
    "duration": 67,
    "start_time": "2022-01-06T14:45:15.814Z"
   },
   {
    "duration": 12,
    "start_time": "2022-01-06T14:45:15.884Z"
   },
   {
    "duration": 23,
    "start_time": "2022-01-06T14:45:15.899Z"
   },
   {
    "duration": 40,
    "start_time": "2022-01-06T14:45:15.924Z"
   },
   {
    "duration": 11,
    "start_time": "2022-01-06T14:45:15.967Z"
   },
   {
    "duration": 31,
    "start_time": "2022-01-06T14:45:15.980Z"
   },
   {
    "duration": 284,
    "start_time": "2022-01-06T14:45:38.245Z"
   },
   {
    "duration": 7352,
    "start_time": "2022-01-06T14:46:15.827Z"
   },
   {
    "duration": 8320,
    "start_time": "2022-01-06T14:46:42.975Z"
   },
   {
    "duration": 8318,
    "start_time": "2022-01-06T14:46:53.942Z"
   },
   {
    "duration": 104,
    "start_time": "2022-01-06T14:47:13.979Z"
   },
   {
    "duration": 8572,
    "start_time": "2022-01-06T14:47:26.577Z"
   },
   {
    "duration": 7487,
    "start_time": "2022-01-06T14:48:46.956Z"
   },
   {
    "duration": 7948,
    "start_time": "2022-01-06T14:49:21.586Z"
   },
   {
    "duration": 10892,
    "start_time": "2022-01-06T14:49:52.050Z"
   },
   {
    "duration": 8976,
    "start_time": "2022-01-06T14:50:05.880Z"
   },
   {
    "duration": 7333,
    "start_time": "2022-01-06T14:50:23.618Z"
   },
   {
    "duration": 7,
    "start_time": "2022-01-06T14:50:40.143Z"
   },
   {
    "duration": 10,
    "start_time": "2022-01-06T14:50:50.923Z"
   },
   {
    "duration": 10,
    "start_time": "2022-01-06T14:51:01.364Z"
   },
   {
    "duration": 6,
    "start_time": "2022-01-06T14:51:28.029Z"
   },
   {
    "duration": 10,
    "start_time": "2022-01-06T14:52:35.380Z"
   },
   {
    "duration": 9,
    "start_time": "2022-01-06T14:52:44.050Z"
   },
   {
    "duration": 9,
    "start_time": "2022-01-06T14:53:11.530Z"
   },
   {
    "duration": 888,
    "start_time": "2022-01-06T14:53:32.818Z"
   },
   {
    "duration": 19,
    "start_time": "2022-01-06T14:53:33.708Z"
   },
   {
    "duration": 32,
    "start_time": "2022-01-06T14:53:33.731Z"
   },
   {
    "duration": 17,
    "start_time": "2022-01-06T14:53:33.766Z"
   },
   {
    "duration": 11,
    "start_time": "2022-01-06T14:53:33.786Z"
   },
   {
    "duration": 11,
    "start_time": "2022-01-06T14:53:33.800Z"
   },
   {
    "duration": 9,
    "start_time": "2022-01-06T14:53:33.813Z"
   },
   {
    "duration": 10,
    "start_time": "2022-01-06T14:53:33.863Z"
   },
   {
    "duration": 26,
    "start_time": "2022-01-06T14:53:33.877Z"
   },
   {
    "duration": 11,
    "start_time": "2022-01-06T14:53:33.907Z"
   },
   {
    "duration": 63,
    "start_time": "2022-01-06T14:53:33.920Z"
   },
   {
    "duration": 13,
    "start_time": "2022-01-06T14:53:33.986Z"
   },
   {
    "duration": 9,
    "start_time": "2022-01-06T14:53:34.002Z"
   },
   {
    "duration": 10,
    "start_time": "2022-01-06T14:53:34.013Z"
   },
   {
    "duration": 37,
    "start_time": "2022-01-06T14:53:34.026Z"
   },
   {
    "duration": 10,
    "start_time": "2022-01-06T14:53:34.066Z"
   },
   {
    "duration": 28,
    "start_time": "2022-01-06T14:53:34.094Z"
   },
   {
    "duration": 9,
    "start_time": "2022-01-06T14:53:34.124Z"
   },
   {
    "duration": 11,
    "start_time": "2022-01-06T14:53:34.135Z"
   },
   {
    "duration": 10,
    "start_time": "2022-01-06T14:53:34.164Z"
   },
   {
    "duration": 25,
    "start_time": "2022-01-06T14:53:34.177Z"
   },
   {
    "duration": 58,
    "start_time": "2022-01-06T14:53:34.205Z"
   },
   {
    "duration": 13,
    "start_time": "2022-01-06T14:53:34.266Z"
   },
   {
    "duration": 13,
    "start_time": "2022-01-06T14:53:34.281Z"
   },
   {
    "duration": 11,
    "start_time": "2022-01-06T14:53:34.298Z"
   },
   {
    "duration": 52,
    "start_time": "2022-01-06T14:53:34.311Z"
   },
   {
    "duration": 25,
    "start_time": "2022-01-06T14:53:34.368Z"
   },
   {
    "duration": 21,
    "start_time": "2022-01-06T14:53:34.398Z"
   },
   {
    "duration": 55,
    "start_time": "2022-01-06T14:53:34.421Z"
   },
   {
    "duration": 13,
    "start_time": "2022-01-06T14:53:34.480Z"
   },
   {
    "duration": 14,
    "start_time": "2022-01-06T14:53:34.496Z"
   },
   {
    "duration": 76,
    "start_time": "2022-01-06T14:53:34.514Z"
   },
   {
    "duration": 35,
    "start_time": "2022-01-06T14:53:57.667Z"
   },
   {
    "duration": 16,
    "start_time": "2022-01-06T14:54:12.096Z"
   },
   {
    "duration": 5781,
    "start_time": "2022-01-06T14:54:27.896Z"
   },
   {
    "duration": 262,
    "start_time": "2022-01-06T14:54:50.457Z"
   },
   {
    "duration": 280,
    "start_time": "2022-01-06T14:55:32.178Z"
   },
   {
    "duration": 293,
    "start_time": "2022-01-06T14:55:36.621Z"
   },
   {
    "duration": 354,
    "start_time": "2022-01-06T14:56:35.014Z"
   },
   {
    "duration": 419,
    "start_time": "2022-01-06T14:57:10.201Z"
   },
   {
    "duration": 507,
    "start_time": "2022-01-06T14:57:38.763Z"
   },
   {
    "duration": 8220,
    "start_time": "2022-01-06T14:57:49.399Z"
   },
   {
    "duration": 8097,
    "start_time": "2022-01-06T14:58:12.420Z"
   },
   {
    "duration": 878,
    "start_time": "2022-01-06T14:58:27.409Z"
   },
   {
    "duration": 14,
    "start_time": "2022-01-06T14:58:28.290Z"
   },
   {
    "duration": 7,
    "start_time": "2022-01-06T14:58:28.308Z"
   },
   {
    "duration": 7,
    "start_time": "2022-01-06T14:58:28.318Z"
   },
   {
    "duration": 42,
    "start_time": "2022-01-06T14:58:28.327Z"
   },
   {
    "duration": 10,
    "start_time": "2022-01-06T14:58:28.371Z"
   },
   {
    "duration": 9,
    "start_time": "2022-01-06T14:58:28.384Z"
   },
   {
    "duration": 8,
    "start_time": "2022-01-06T14:58:28.395Z"
   },
   {
    "duration": 66,
    "start_time": "2022-01-06T14:58:28.408Z"
   },
   {
    "duration": 15,
    "start_time": "2022-01-06T14:58:28.477Z"
   },
   {
    "duration": 17,
    "start_time": "2022-01-06T14:58:28.494Z"
   },
   {
    "duration": 10,
    "start_time": "2022-01-06T14:58:28.514Z"
   },
   {
    "duration": 41,
    "start_time": "2022-01-06T14:58:28.527Z"
   },
   {
    "duration": 10,
    "start_time": "2022-01-06T14:58:28.570Z"
   },
   {
    "duration": 8,
    "start_time": "2022-01-06T14:58:28.582Z"
   },
   {
    "duration": 9,
    "start_time": "2022-01-06T14:58:28.593Z"
   },
   {
    "duration": 12,
    "start_time": "2022-01-06T14:58:28.604Z"
   },
   {
    "duration": 52,
    "start_time": "2022-01-06T14:58:28.618Z"
   },
   {
    "duration": 10,
    "start_time": "2022-01-06T14:58:28.672Z"
   },
   {
    "duration": 8,
    "start_time": "2022-01-06T14:58:28.684Z"
   },
   {
    "duration": 23,
    "start_time": "2022-01-06T14:58:28.694Z"
   },
   {
    "duration": 56,
    "start_time": "2022-01-06T14:58:28.720Z"
   },
   {
    "duration": 12,
    "start_time": "2022-01-06T14:58:28.779Z"
   },
   {
    "duration": 10,
    "start_time": "2022-01-06T14:58:28.793Z"
   },
   {
    "duration": 9,
    "start_time": "2022-01-06T14:58:28.805Z"
   },
   {
    "duration": 51,
    "start_time": "2022-01-06T14:58:28.816Z"
   },
   {
    "duration": 21,
    "start_time": "2022-01-06T14:58:28.873Z"
   },
   {
    "duration": 12,
    "start_time": "2022-01-06T14:58:28.897Z"
   },
   {
    "duration": 59,
    "start_time": "2022-01-06T14:58:28.912Z"
   },
   {
    "duration": 10,
    "start_time": "2022-01-06T14:58:28.974Z"
   },
   {
    "duration": 10,
    "start_time": "2022-01-06T14:58:28.987Z"
   },
   {
    "duration": 2822,
    "start_time": "2022-01-06T14:59:03.513Z"
   },
   {
    "duration": 308,
    "start_time": "2022-01-06T14:59:26.707Z"
   },
   {
    "duration": 15,
    "start_time": "2022-01-06T14:59:37.132Z"
   },
   {
    "duration": 8310,
    "start_time": "2022-01-06T15:01:16.363Z"
   },
   {
    "duration": 7177,
    "start_time": "2022-01-06T15:01:47.975Z"
   },
   {
    "duration": 8002,
    "start_time": "2022-01-06T15:02:05.482Z"
   },
   {
    "duration": 829,
    "start_time": "2022-01-06T15:02:23.274Z"
   },
   {
    "duration": 14,
    "start_time": "2022-01-06T15:02:24.106Z"
   },
   {
    "duration": 8,
    "start_time": "2022-01-06T15:02:24.123Z"
   },
   {
    "duration": 32,
    "start_time": "2022-01-06T15:02:24.134Z"
   },
   {
    "duration": 10,
    "start_time": "2022-01-06T15:02:24.169Z"
   },
   {
    "duration": 10,
    "start_time": "2022-01-06T15:02:24.181Z"
   },
   {
    "duration": 13,
    "start_time": "2022-01-06T15:02:24.194Z"
   },
   {
    "duration": 55,
    "start_time": "2022-01-06T15:02:24.210Z"
   },
   {
    "duration": 31,
    "start_time": "2022-01-06T15:02:24.271Z"
   },
   {
    "duration": 10,
    "start_time": "2022-01-06T15:02:24.305Z"
   },
   {
    "duration": 47,
    "start_time": "2022-01-06T15:02:24.318Z"
   },
   {
    "duration": 11,
    "start_time": "2022-01-06T15:02:24.367Z"
   },
   {
    "duration": 13,
    "start_time": "2022-01-06T15:02:24.380Z"
   },
   {
    "duration": 11,
    "start_time": "2022-01-06T15:02:24.395Z"
   },
   {
    "duration": 10,
    "start_time": "2022-01-06T15:02:24.409Z"
   },
   {
    "duration": 13,
    "start_time": "2022-01-06T15:02:24.462Z"
   },
   {
    "duration": 14,
    "start_time": "2022-01-06T15:02:24.478Z"
   },
   {
    "duration": 12,
    "start_time": "2022-01-06T15:02:24.495Z"
   },
   {
    "duration": 58,
    "start_time": "2022-01-06T15:02:24.510Z"
   },
   {
    "duration": 9,
    "start_time": "2022-01-06T15:02:24.572Z"
   },
   {
    "duration": 27,
    "start_time": "2022-01-06T15:02:24.583Z"
   },
   {
    "duration": 50,
    "start_time": "2022-01-06T15:02:24.613Z"
   },
   {
    "duration": 14,
    "start_time": "2022-01-06T15:02:24.665Z"
   },
   {
    "duration": 11,
    "start_time": "2022-01-06T15:02:24.682Z"
   },
   {
    "duration": 23,
    "start_time": "2022-01-06T15:02:24.696Z"
   },
   {
    "duration": 11,
    "start_time": "2022-01-06T15:02:24.722Z"
   },
   {
    "duration": 22,
    "start_time": "2022-01-06T15:02:24.765Z"
   },
   {
    "duration": 15,
    "start_time": "2022-01-06T15:02:24.789Z"
   },
   {
    "duration": 22,
    "start_time": "2022-01-06T15:02:24.806Z"
   },
   {
    "duration": 40,
    "start_time": "2022-01-06T15:02:24.831Z"
   },
   {
    "duration": 11,
    "start_time": "2022-01-06T15:02:24.873Z"
   },
   {
    "duration": 2733,
    "start_time": "2022-01-06T15:02:28.314Z"
   },
   {
    "duration": 7770,
    "start_time": "2022-01-06T15:02:43.484Z"
   },
   {
    "duration": 314,
    "start_time": "2022-01-06T15:03:55.606Z"
   },
   {
    "duration": 879,
    "start_time": "2022-01-06T15:04:04.664Z"
   },
   {
    "duration": 18,
    "start_time": "2022-01-06T15:04:05.546Z"
   },
   {
    "duration": 16,
    "start_time": "2022-01-06T15:04:05.567Z"
   },
   {
    "duration": 23,
    "start_time": "2022-01-06T15:04:05.586Z"
   },
   {
    "duration": 24,
    "start_time": "2022-01-06T15:04:05.612Z"
   },
   {
    "duration": 26,
    "start_time": "2022-01-06T15:04:05.638Z"
   },
   {
    "duration": 22,
    "start_time": "2022-01-06T15:04:05.667Z"
   },
   {
    "duration": 12,
    "start_time": "2022-01-06T15:04:05.693Z"
   },
   {
    "duration": 26,
    "start_time": "2022-01-06T15:04:05.708Z"
   },
   {
    "duration": 10,
    "start_time": "2022-01-06T15:04:05.736Z"
   },
   {
    "duration": 10,
    "start_time": "2022-01-06T15:04:05.763Z"
   },
   {
    "duration": 17,
    "start_time": "2022-01-06T15:04:05.775Z"
   },
   {
    "duration": 12,
    "start_time": "2022-01-06T15:04:05.795Z"
   },
   {
    "duration": 22,
    "start_time": "2022-01-06T15:04:05.810Z"
   },
   {
    "duration": 31,
    "start_time": "2022-01-06T15:04:05.835Z"
   },
   {
    "duration": 12,
    "start_time": "2022-01-06T15:04:05.868Z"
   },
   {
    "duration": 13,
    "start_time": "2022-01-06T15:04:05.882Z"
   },
   {
    "duration": 17,
    "start_time": "2022-01-06T15:04:05.898Z"
   },
   {
    "duration": 50,
    "start_time": "2022-01-06T15:04:05.918Z"
   },
   {
    "duration": 11,
    "start_time": "2022-01-06T15:04:05.972Z"
   },
   {
    "duration": 25,
    "start_time": "2022-01-06T15:04:05.986Z"
   },
   {
    "duration": 58,
    "start_time": "2022-01-06T15:04:06.013Z"
   },
   {
    "duration": 12,
    "start_time": "2022-01-06T15:04:06.075Z"
   },
   {
    "duration": 12,
    "start_time": "2022-01-06T15:04:06.090Z"
   },
   {
    "duration": 25,
    "start_time": "2022-01-06T15:04:06.104Z"
   },
   {
    "duration": 17,
    "start_time": "2022-01-06T15:04:06.131Z"
   },
   {
    "duration": 21,
    "start_time": "2022-01-06T15:04:06.164Z"
   },
   {
    "duration": 24,
    "start_time": "2022-01-06T15:04:06.188Z"
   },
   {
    "duration": 23,
    "start_time": "2022-01-06T15:04:06.214Z"
   },
   {
    "duration": 32,
    "start_time": "2022-01-06T15:04:06.240Z"
   },
   {
    "duration": 11,
    "start_time": "2022-01-06T15:04:06.274Z"
   },
   {
    "duration": 3108,
    "start_time": "2022-01-06T15:04:06.287Z"
   },
   {
    "duration": 3378,
    "start_time": "2022-01-06T15:04:33.377Z"
   },
   {
    "duration": 793,
    "start_time": "2022-01-06T15:05:02.112Z"
   },
   {
    "duration": 17,
    "start_time": "2022-01-06T15:05:02.909Z"
   },
   {
    "duration": 8,
    "start_time": "2022-01-06T15:05:02.930Z"
   },
   {
    "duration": 8,
    "start_time": "2022-01-06T15:05:02.964Z"
   },
   {
    "duration": 10,
    "start_time": "2022-01-06T15:05:02.974Z"
   },
   {
    "duration": 11,
    "start_time": "2022-01-06T15:05:02.986Z"
   },
   {
    "duration": 10,
    "start_time": "2022-01-06T15:05:02.999Z"
   },
   {
    "duration": 58,
    "start_time": "2022-01-06T15:05:03.014Z"
   },
   {
    "duration": 25,
    "start_time": "2022-01-06T15:05:03.076Z"
   },
   {
    "duration": 9,
    "start_time": "2022-01-06T15:05:03.104Z"
   },
   {
    "duration": 48,
    "start_time": "2022-01-06T15:05:03.115Z"
   },
   {
    "duration": 10,
    "start_time": "2022-01-06T15:05:03.166Z"
   },
   {
    "duration": 7,
    "start_time": "2022-01-06T15:05:03.179Z"
   },
   {
    "duration": 10,
    "start_time": "2022-01-06T15:05:03.188Z"
   },
   {
    "duration": 7,
    "start_time": "2022-01-06T15:05:03.200Z"
   },
   {
    "duration": 54,
    "start_time": "2022-01-06T15:05:03.209Z"
   },
   {
    "duration": 13,
    "start_time": "2022-01-06T15:05:03.265Z"
   },
   {
    "duration": 11,
    "start_time": "2022-01-06T15:05:03.280Z"
   },
   {
    "duration": 10,
    "start_time": "2022-01-06T15:05:03.294Z"
   },
   {
    "duration": 8,
    "start_time": "2022-01-06T15:05:03.307Z"
   },
   {
    "duration": 69,
    "start_time": "2022-01-06T15:05:03.317Z"
   },
   {
    "duration": 19,
    "start_time": "2022-01-06T15:05:03.388Z"
   },
   {
    "duration": 13,
    "start_time": "2022-01-06T15:05:03.411Z"
   },
   {
    "duration": 44,
    "start_time": "2022-01-06T15:05:03.426Z"
   },
   {
    "duration": 9,
    "start_time": "2022-01-06T15:05:03.473Z"
   },
   {
    "duration": 8,
    "start_time": "2022-01-06T15:05:03.484Z"
   },
   {
    "duration": 21,
    "start_time": "2022-01-06T15:05:03.495Z"
   },
   {
    "duration": 55,
    "start_time": "2022-01-06T15:05:03.518Z"
   },
   {
    "duration": 23,
    "start_time": "2022-01-06T15:05:03.575Z"
   },
   {
    "duration": 11,
    "start_time": "2022-01-06T15:05:03.600Z"
   },
   {
    "duration": 10,
    "start_time": "2022-01-06T15:05:03.614Z"
   },
   {
    "duration": 4427,
    "start_time": "2022-01-06T15:05:06.204Z"
   },
   {
    "duration": 4267,
    "start_time": "2022-01-06T15:05:39.004Z"
   },
   {
    "duration": 1057,
    "start_time": "2022-01-06T15:05:58.685Z"
   },
   {
    "duration": 29,
    "start_time": "2022-01-06T15:05:59.745Z"
   },
   {
    "duration": 9,
    "start_time": "2022-01-06T15:05:59.779Z"
   },
   {
    "duration": 11,
    "start_time": "2022-01-06T15:05:59.792Z"
   },
   {
    "duration": 10,
    "start_time": "2022-01-06T15:05:59.806Z"
   },
   {
    "duration": 10,
    "start_time": "2022-01-06T15:05:59.863Z"
   },
   {
    "duration": 10,
    "start_time": "2022-01-06T15:05:59.875Z"
   },
   {
    "duration": 8,
    "start_time": "2022-01-06T15:05:59.888Z"
   },
   {
    "duration": 21,
    "start_time": "2022-01-06T15:05:59.900Z"
   },
   {
    "duration": 48,
    "start_time": "2022-01-06T15:05:59.923Z"
   },
   {
    "duration": 11,
    "start_time": "2022-01-06T15:05:59.974Z"
   },
   {
    "duration": 10,
    "start_time": "2022-01-06T15:05:59.988Z"
   },
   {
    "duration": 8,
    "start_time": "2022-01-06T15:06:00.001Z"
   },
   {
    "duration": 53,
    "start_time": "2022-01-06T15:06:00.012Z"
   },
   {
    "duration": 10,
    "start_time": "2022-01-06T15:06:00.068Z"
   },
   {
    "duration": 12,
    "start_time": "2022-01-06T15:06:00.081Z"
   },
   {
    "duration": 17,
    "start_time": "2022-01-06T15:06:00.096Z"
   },
   {
    "duration": 23,
    "start_time": "2022-01-06T15:06:00.115Z"
   },
   {
    "duration": 11,
    "start_time": "2022-01-06T15:06:00.164Z"
   },
   {
    "duration": 12,
    "start_time": "2022-01-06T15:06:00.177Z"
   },
   {
    "duration": 28,
    "start_time": "2022-01-06T15:06:00.191Z"
   },
   {
    "duration": 56,
    "start_time": "2022-01-06T15:06:00.221Z"
   },
   {
    "duration": 12,
    "start_time": "2022-01-06T15:06:00.279Z"
   },
   {
    "duration": 9,
    "start_time": "2022-01-06T15:06:00.294Z"
   },
   {
    "duration": 10,
    "start_time": "2022-01-06T15:06:00.306Z"
   },
   {
    "duration": 49,
    "start_time": "2022-01-06T15:06:00.319Z"
   },
   {
    "duration": 22,
    "start_time": "2022-01-06T15:06:00.373Z"
   },
   {
    "duration": 22,
    "start_time": "2022-01-06T15:06:00.399Z"
   },
   {
    "duration": 55,
    "start_time": "2022-01-06T15:06:00.423Z"
   },
   {
    "duration": 11,
    "start_time": "2022-01-06T15:06:00.480Z"
   },
   {
    "duration": 21,
    "start_time": "2022-01-06T15:06:00.494Z"
   },
   {
    "duration": 5,
    "start_time": "2022-01-06T15:06:04.099Z"
   },
   {
    "duration": 4006,
    "start_time": "2022-01-06T15:06:11.502Z"
   },
   {
    "duration": 8,
    "start_time": "2022-01-06T15:06:29.915Z"
   },
   {
    "duration": 8,
    "start_time": "2022-01-06T15:06:37.510Z"
   },
   {
    "duration": 1155,
    "start_time": "2022-01-06T15:06:55.361Z"
   },
   {
    "duration": 14,
    "start_time": "2022-01-06T15:06:56.519Z"
   },
   {
    "duration": 547,
    "start_time": "2022-01-06T15:06:56.536Z"
   },
   {
    "duration": 507,
    "start_time": "2022-01-06T15:06:57.086Z"
   },
   {
    "duration": 409,
    "start_time": "2022-01-06T15:06:57.596Z"
   },
   {
    "duration": 21,
    "start_time": "2022-01-06T15:06:58.007Z"
   },
   {
    "duration": 12,
    "start_time": "2022-01-06T15:06:58.030Z"
   },
   {
    "duration": 8,
    "start_time": "2022-01-06T15:06:58.046Z"
   },
   {
    "duration": 23,
    "start_time": "2022-01-06T15:06:58.058Z"
   },
   {
    "duration": 10,
    "start_time": "2022-01-06T15:06:58.084Z"
   },
   {
    "duration": 10,
    "start_time": "2022-01-06T15:06:58.097Z"
   },
   {
    "duration": 10,
    "start_time": "2022-01-06T15:06:58.109Z"
   },
   {
    "duration": 46,
    "start_time": "2022-01-06T15:06:58.122Z"
   },
   {
    "duration": 14,
    "start_time": "2022-01-06T15:06:58.170Z"
   },
   {
    "duration": 15,
    "start_time": "2022-01-06T15:06:58.187Z"
   },
   {
    "duration": 9,
    "start_time": "2022-01-06T15:06:58.204Z"
   },
   {
    "duration": 53,
    "start_time": "2022-01-06T15:06:58.216Z"
   },
   {
    "duration": 9,
    "start_time": "2022-01-06T15:06:58.271Z"
   },
   {
    "duration": 16,
    "start_time": "2022-01-06T15:06:58.283Z"
   },
   {
    "duration": 11,
    "start_time": "2022-01-06T15:06:58.302Z"
   },
   {
    "duration": 60,
    "start_time": "2022-01-06T15:06:58.316Z"
   },
   {
    "duration": 19,
    "start_time": "2022-01-06T15:06:58.380Z"
   },
   {
    "duration": 13,
    "start_time": "2022-01-06T15:06:58.406Z"
   },
   {
    "duration": 51,
    "start_time": "2022-01-06T15:06:58.423Z"
   },
   {
    "duration": 11,
    "start_time": "2022-01-06T15:06:58.476Z"
   },
   {
    "duration": 13,
    "start_time": "2022-01-06T15:06:58.489Z"
   },
   {
    "duration": 74,
    "start_time": "2022-01-06T15:06:58.505Z"
   },
   {
    "duration": 13,
    "start_time": "2022-01-06T15:06:58.581Z"
   },
   {
    "duration": 23,
    "start_time": "2022-01-06T15:06:58.596Z"
   },
   {
    "duration": 46,
    "start_time": "2022-01-06T15:06:58.622Z"
   },
   {
    "duration": 15,
    "start_time": "2022-01-06T15:06:58.671Z"
   },
   {
    "duration": 43,
    "start_time": "2022-01-06T15:06:59.104Z"
   },
   {
    "duration": 34,
    "start_time": "2022-01-06T15:07:32.262Z"
   },
   {
    "duration": 4396,
    "start_time": "2022-01-06T15:07:45.515Z"
   },
   {
    "duration": 826,
    "start_time": "2022-01-06T15:08:13.491Z"
   },
   {
    "duration": 16,
    "start_time": "2022-01-06T15:08:14.319Z"
   },
   {
    "duration": 8,
    "start_time": "2022-01-06T15:08:14.338Z"
   },
   {
    "duration": 21,
    "start_time": "2022-01-06T15:08:14.348Z"
   },
   {
    "duration": 10,
    "start_time": "2022-01-06T15:08:14.372Z"
   },
   {
    "duration": 9,
    "start_time": "2022-01-06T15:08:14.384Z"
   },
   {
    "duration": 14,
    "start_time": "2022-01-06T15:08:14.395Z"
   },
   {
    "duration": 9,
    "start_time": "2022-01-06T15:08:14.465Z"
   },
   {
    "duration": 21,
    "start_time": "2022-01-06T15:08:14.477Z"
   },
   {
    "duration": 9,
    "start_time": "2022-01-06T15:08:14.501Z"
   },
   {
    "duration": 9,
    "start_time": "2022-01-06T15:08:14.512Z"
   },
   {
    "duration": 9,
    "start_time": "2022-01-06T15:08:14.564Z"
   },
   {
    "duration": 7,
    "start_time": "2022-01-06T15:08:14.576Z"
   },
   {
    "duration": 9,
    "start_time": "2022-01-06T15:08:14.585Z"
   },
   {
    "duration": 9,
    "start_time": "2022-01-06T15:08:14.596Z"
   },
   {
    "duration": 9,
    "start_time": "2022-01-06T15:08:14.607Z"
   },
   {
    "duration": 53,
    "start_time": "2022-01-06T15:08:14.618Z"
   },
   {
    "duration": 10,
    "start_time": "2022-01-06T15:08:14.674Z"
   },
   {
    "duration": 10,
    "start_time": "2022-01-06T15:08:14.686Z"
   },
   {
    "duration": 11,
    "start_time": "2022-01-06T15:08:14.698Z"
   },
   {
    "duration": 65,
    "start_time": "2022-01-06T15:08:14.711Z"
   },
   {
    "duration": 20,
    "start_time": "2022-01-06T15:08:14.779Z"
   },
   {
    "duration": 13,
    "start_time": "2022-01-06T15:08:14.803Z"
   },
   {
    "duration": 10,
    "start_time": "2022-01-06T15:08:14.819Z"
   },
   {
    "duration": 9,
    "start_time": "2022-01-06T15:08:14.863Z"
   },
   {
    "duration": 9,
    "start_time": "2022-01-06T15:08:14.875Z"
   },
   {
    "duration": 22,
    "start_time": "2022-01-06T15:08:14.887Z"
   },
   {
    "duration": 60,
    "start_time": "2022-01-06T15:08:14.912Z"
   },
   {
    "duration": 25,
    "start_time": "2022-01-06T15:08:14.974Z"
   },
   {
    "duration": 15,
    "start_time": "2022-01-06T15:08:15.002Z"
   },
   {
    "duration": 49,
    "start_time": "2022-01-06T15:08:15.021Z"
   },
   {
    "duration": 35,
    "start_time": "2022-01-06T15:08:16.613Z"
   },
   {
    "duration": 4333,
    "start_time": "2022-01-06T15:08:22.269Z"
   },
   {
    "duration": 5,
    "start_time": "2022-01-06T15:08:39.794Z"
   },
   {
    "duration": 91,
    "start_time": "2022-01-06T15:08:52.284Z"
   },
   {
    "duration": 11579,
    "start_time": "2022-01-06T15:09:00.296Z"
   },
   {
    "duration": 81,
    "start_time": "2022-01-06T15:09:25.190Z"
   },
   {
    "duration": 14,
    "start_time": "2022-01-06T15:09:25.274Z"
   },
   {
    "duration": 8,
    "start_time": "2022-01-06T15:09:25.290Z"
   },
   {
    "duration": 7,
    "start_time": "2022-01-06T15:09:25.300Z"
   },
   {
    "duration": 56,
    "start_time": "2022-01-06T15:09:25.310Z"
   },
   {
    "duration": 9,
    "start_time": "2022-01-06T15:09:25.369Z"
   },
   {
    "duration": 12,
    "start_time": "2022-01-06T15:09:25.381Z"
   },
   {
    "duration": 8,
    "start_time": "2022-01-06T15:09:25.397Z"
   },
   {
    "duration": 59,
    "start_time": "2022-01-06T15:09:25.408Z"
   },
   {
    "duration": 14,
    "start_time": "2022-01-06T15:09:25.469Z"
   },
   {
    "duration": 11,
    "start_time": "2022-01-06T15:09:25.486Z"
   },
   {
    "duration": 9,
    "start_time": "2022-01-06T15:09:25.499Z"
   },
   {
    "duration": 53,
    "start_time": "2022-01-06T15:09:25.510Z"
   },
   {
    "duration": 10,
    "start_time": "2022-01-06T15:09:25.565Z"
   },
   {
    "duration": 11,
    "start_time": "2022-01-06T15:09:25.577Z"
   },
   {
    "duration": 10,
    "start_time": "2022-01-06T15:09:25.590Z"
   },
   {
    "duration": 14,
    "start_time": "2022-01-06T15:09:25.602Z"
   },
   {
    "duration": 50,
    "start_time": "2022-01-06T15:09:25.618Z"
   },
   {
    "duration": 15,
    "start_time": "2022-01-06T15:09:25.671Z"
   },
   {
    "duration": 10,
    "start_time": "2022-01-06T15:09:25.688Z"
   },
   {
    "duration": 23,
    "start_time": "2022-01-06T15:09:25.701Z"
   },
   {
    "duration": 36,
    "start_time": "2022-01-06T15:09:25.727Z"
   },
   {
    "duration": 14,
    "start_time": "2022-01-06T15:09:25.768Z"
   },
   {
    "duration": 11,
    "start_time": "2022-01-06T15:09:25.785Z"
   },
   {
    "duration": 23,
    "start_time": "2022-01-06T15:09:25.798Z"
   },
   {
    "duration": 12,
    "start_time": "2022-01-06T15:09:25.823Z"
   },
   {
    "duration": 21,
    "start_time": "2022-01-06T15:09:25.838Z"
   },
   {
    "duration": 15,
    "start_time": "2022-01-06T15:09:25.864Z"
   },
   {
    "duration": 22,
    "start_time": "2022-01-06T15:09:25.882Z"
   },
   {
    "duration": 11,
    "start_time": "2022-01-06T15:09:25.906Z"
   },
   {
    "duration": 10,
    "start_time": "2022-01-06T15:09:25.919Z"
   },
   {
    "duration": 2822,
    "start_time": "2022-01-06T15:09:27.656Z"
   },
   {
    "duration": 293,
    "start_time": "2022-01-06T15:09:46.325Z"
   },
   {
    "duration": 818,
    "start_time": "2022-01-06T15:09:54.018Z"
   },
   {
    "duration": 27,
    "start_time": "2022-01-06T15:09:54.839Z"
   },
   {
    "duration": 8,
    "start_time": "2022-01-06T15:09:54.870Z"
   },
   {
    "duration": 21,
    "start_time": "2022-01-06T15:09:54.881Z"
   },
   {
    "duration": 15,
    "start_time": "2022-01-06T15:09:54.904Z"
   },
   {
    "duration": 17,
    "start_time": "2022-01-06T15:09:54.922Z"
   },
   {
    "duration": 28,
    "start_time": "2022-01-06T15:09:54.942Z"
   },
   {
    "duration": 28,
    "start_time": "2022-01-06T15:09:54.972Z"
   },
   {
    "duration": 37,
    "start_time": "2022-01-06T15:09:55.004Z"
   },
   {
    "duration": 33,
    "start_time": "2022-01-06T15:09:55.044Z"
   },
   {
    "duration": 33,
    "start_time": "2022-01-06T15:09:55.079Z"
   },
   {
    "duration": 21,
    "start_time": "2022-01-06T15:09:55.115Z"
   },
   {
    "duration": 35,
    "start_time": "2022-01-06T15:09:55.139Z"
   },
   {
    "duration": 23,
    "start_time": "2022-01-06T15:09:55.177Z"
   },
   {
    "duration": 15,
    "start_time": "2022-01-06T15:09:55.203Z"
   },
   {
    "duration": 23,
    "start_time": "2022-01-06T15:09:55.221Z"
   },
   {
    "duration": 32,
    "start_time": "2022-01-06T15:09:55.246Z"
   },
   {
    "duration": 21,
    "start_time": "2022-01-06T15:09:55.280Z"
   },
   {
    "duration": 24,
    "start_time": "2022-01-06T15:09:55.303Z"
   },
   {
    "duration": 22,
    "start_time": "2022-01-06T15:09:55.329Z"
   },
   {
    "duration": 30,
    "start_time": "2022-01-06T15:09:55.353Z"
   },
   {
    "duration": 32,
    "start_time": "2022-01-06T15:09:55.386Z"
   },
   {
    "duration": 20,
    "start_time": "2022-01-06T15:09:55.421Z"
   },
   {
    "duration": 18,
    "start_time": "2022-01-06T15:09:55.444Z"
   },
   {
    "duration": 16,
    "start_time": "2022-01-06T15:09:55.465Z"
   },
   {
    "duration": 20,
    "start_time": "2022-01-06T15:09:55.483Z"
   },
   {
    "duration": 26,
    "start_time": "2022-01-06T15:09:55.508Z"
   },
   {
    "duration": 33,
    "start_time": "2022-01-06T15:09:55.536Z"
   },
   {
    "duration": 22,
    "start_time": "2022-01-06T15:09:55.572Z"
   },
   {
    "duration": 10,
    "start_time": "2022-01-06T15:09:55.596Z"
   },
   {
    "duration": 20,
    "start_time": "2022-01-06T15:09:55.609Z"
   },
   {
    "duration": 32,
    "start_time": "2022-01-06T15:09:55.631Z"
   },
   {
    "duration": 5,
    "start_time": "2022-01-06T15:09:57.057Z"
   },
   {
    "duration": 4195,
    "start_time": "2022-01-06T15:09:59.186Z"
   },
   {
    "duration": 9,
    "start_time": "2022-01-06T15:12:00.641Z"
   },
   {
    "duration": 10,
    "start_time": "2022-01-06T15:12:27.874Z"
   },
   {
    "duration": 11,
    "start_time": "2022-01-06T15:13:11.207Z"
   },
   {
    "duration": 12,
    "start_time": "2022-01-06T15:13:15.312Z"
   },
   {
    "duration": 10,
    "start_time": "2022-01-06T15:13:24.785Z"
   },
   {
    "duration": 10,
    "start_time": "2022-01-06T15:16:59.995Z"
   },
   {
    "duration": 15,
    "start_time": "2022-01-06T15:17:31.177Z"
   },
   {
    "duration": 15,
    "start_time": "2022-01-06T15:17:43.032Z"
   },
   {
    "duration": 848,
    "start_time": "2022-01-06T15:18:09.441Z"
   },
   {
    "duration": 17,
    "start_time": "2022-01-06T15:18:10.292Z"
   },
   {
    "duration": 10,
    "start_time": "2022-01-06T15:18:10.313Z"
   },
   {
    "duration": 39,
    "start_time": "2022-01-06T15:18:10.327Z"
   },
   {
    "duration": 12,
    "start_time": "2022-01-06T15:18:10.369Z"
   },
   {
    "duration": 11,
    "start_time": "2022-01-06T15:18:10.385Z"
   },
   {
    "duration": 17,
    "start_time": "2022-01-06T15:18:10.398Z"
   },
   {
    "duration": 51,
    "start_time": "2022-01-06T15:18:10.418Z"
   },
   {
    "duration": 22,
    "start_time": "2022-01-06T15:18:10.474Z"
   },
   {
    "duration": 10,
    "start_time": "2022-01-06T15:18:10.499Z"
   },
   {
    "duration": 9,
    "start_time": "2022-01-06T15:18:10.512Z"
   },
   {
    "duration": 47,
    "start_time": "2022-01-06T15:18:10.523Z"
   },
   {
    "duration": 8,
    "start_time": "2022-01-06T15:18:10.572Z"
   },
   {
    "duration": 9,
    "start_time": "2022-01-06T15:18:10.583Z"
   },
   {
    "duration": 7,
    "start_time": "2022-01-06T15:18:10.595Z"
   },
   {
    "duration": 9,
    "start_time": "2022-01-06T15:18:10.604Z"
   },
   {
    "duration": 12,
    "start_time": "2022-01-06T15:18:10.664Z"
   },
   {
    "duration": 12,
    "start_time": "2022-01-06T15:18:10.678Z"
   },
   {
    "duration": 13,
    "start_time": "2022-01-06T15:18:10.693Z"
   },
   {
    "duration": 56,
    "start_time": "2022-01-06T15:18:10.709Z"
   },
   {
    "duration": 25,
    "start_time": "2022-01-06T15:18:10.767Z"
   },
   {
    "duration": 17,
    "start_time": "2022-01-06T15:18:10.795Z"
   },
   {
    "duration": 49,
    "start_time": "2022-01-06T15:18:10.815Z"
   },
   {
    "duration": 11,
    "start_time": "2022-01-06T15:18:10.867Z"
   },
   {
    "duration": 16,
    "start_time": "2022-01-06T15:18:20.383Z"
   },
   {
    "duration": 332,
    "start_time": "2022-01-06T15:23:28.178Z"
   },
   {
    "duration": 280,
    "start_time": "2022-01-06T15:23:39.891Z"
   },
   {
    "duration": 509,
    "start_time": "2022-01-06T15:24:56.285Z"
   },
   {
    "duration": 1806,
    "start_time": "2022-01-06T15:25:39.439Z"
   },
   {
    "duration": 249,
    "start_time": "2022-01-06T15:25:52.548Z"
   },
   {
    "duration": 920,
    "start_time": "2022-01-06T15:26:15.493Z"
   },
   {
    "duration": 16,
    "start_time": "2022-01-06T15:26:16.416Z"
   },
   {
    "duration": 7,
    "start_time": "2022-01-06T15:26:16.434Z"
   },
   {
    "duration": 7,
    "start_time": "2022-01-06T15:26:16.464Z"
   },
   {
    "duration": 20,
    "start_time": "2022-01-06T15:26:16.473Z"
   },
   {
    "duration": 13,
    "start_time": "2022-01-06T15:26:16.496Z"
   },
   {
    "duration": 10,
    "start_time": "2022-01-06T15:26:16.511Z"
   },
   {
    "duration": 44,
    "start_time": "2022-01-06T15:26:16.523Z"
   },
   {
    "duration": 22,
    "start_time": "2022-01-06T15:26:16.571Z"
   },
   {
    "duration": 10,
    "start_time": "2022-01-06T15:26:16.596Z"
   },
   {
    "duration": 9,
    "start_time": "2022-01-06T15:26:16.609Z"
   },
   {
    "duration": 50,
    "start_time": "2022-01-06T15:26:16.620Z"
   },
   {
    "duration": 9,
    "start_time": "2022-01-06T15:26:16.673Z"
   },
   {
    "duration": 9,
    "start_time": "2022-01-06T15:26:16.685Z"
   },
   {
    "duration": 12,
    "start_time": "2022-01-06T15:26:16.696Z"
   },
   {
    "duration": 9,
    "start_time": "2022-01-06T15:26:16.711Z"
   },
   {
    "duration": 50,
    "start_time": "2022-01-06T15:26:16.722Z"
   },
   {
    "duration": 23,
    "start_time": "2022-01-06T15:26:16.775Z"
   },
   {
    "duration": 23,
    "start_time": "2022-01-06T15:26:16.800Z"
   },
   {
    "duration": 17,
    "start_time": "2022-01-06T15:26:16.826Z"
   },
   {
    "duration": 35,
    "start_time": "2022-01-06T15:26:16.845Z"
   },
   {
    "duration": 30,
    "start_time": "2022-01-06T15:26:16.882Z"
   },
   {
    "duration": 12,
    "start_time": "2022-01-06T15:26:16.914Z"
   },
   {
    "duration": 35,
    "start_time": "2022-01-06T15:26:16.928Z"
   },
   {
    "duration": 14,
    "start_time": "2022-01-06T15:26:16.966Z"
   },
   {
    "duration": 7,
    "start_time": "2022-01-06T15:26:16.983Z"
   },
   {
    "duration": 27,
    "start_time": "2022-01-06T15:26:16.995Z"
   },
   {
    "duration": 41,
    "start_time": "2022-01-06T15:26:17.025Z"
   },
   {
    "duration": 23,
    "start_time": "2022-01-06T15:26:17.069Z"
   },
   {
    "duration": 11,
    "start_time": "2022-01-06T15:26:17.095Z"
   },
   {
    "duration": 11,
    "start_time": "2022-01-06T15:26:17.108Z"
   },
   {
    "duration": 5,
    "start_time": "2022-01-06T15:26:17.163Z"
   },
   {
    "duration": 4320,
    "start_time": "2022-01-06T15:26:17.170Z"
   },
   {
    "duration": 1792,
    "start_time": "2022-01-06T15:26:24.612Z"
   },
   {
    "duration": 358,
    "start_time": "2022-01-06T15:34:47.382Z"
   },
   {
    "duration": 9,
    "start_time": "2022-01-06T15:34:58.950Z"
   },
   {
    "duration": 5,
    "start_time": "2022-01-06T15:35:45.346Z"
   },
   {
    "duration": 17,
    "start_time": "2022-01-06T15:35:54.236Z"
   },
   {
    "duration": 91,
    "start_time": "2022-01-06T15:36:49.232Z"
   },
   {
    "duration": 256,
    "start_time": "2022-01-06T15:37:11.848Z"
   },
   {
    "duration": 730,
    "start_time": "2022-01-06T15:37:30.464Z"
   },
   {
    "duration": 28,
    "start_time": "2022-01-06T15:38:26.695Z"
   },
   {
    "duration": 22,
    "start_time": "2022-01-06T15:38:36.877Z"
   },
   {
    "duration": 44,
    "start_time": "2022-01-06T15:39:34.698Z"
   },
   {
    "duration": 43,
    "start_time": "2022-01-06T15:39:40.588Z"
   },
   {
    "duration": 31,
    "start_time": "2022-01-06T15:41:13.264Z"
   },
   {
    "duration": 11,
    "start_time": "2022-01-06T15:43:31.471Z"
   },
   {
    "duration": 251,
    "start_time": "2022-01-06T15:44:36.267Z"
   },
   {
    "duration": 24,
    "start_time": "2022-01-06T15:45:06.594Z"
   },
   {
    "duration": 9,
    "start_time": "2022-01-06T15:45:19.016Z"
   },
   {
    "duration": 10,
    "start_time": "2022-01-06T15:46:59.867Z"
   },
   {
    "duration": 10,
    "start_time": "2022-01-06T15:47:50.325Z"
   },
   {
    "duration": 7,
    "start_time": "2022-01-06T15:49:39.576Z"
   },
   {
    "duration": 9,
    "start_time": "2022-01-06T15:53:20.725Z"
   },
   {
    "duration": 84,
    "start_time": "2022-01-06T15:57:08.049Z"
   },
   {
    "duration": 99,
    "start_time": "2022-01-06T15:57:21.354Z"
   },
   {
    "duration": 250,
    "start_time": "2022-01-06T15:58:22.676Z"
   },
   {
    "duration": 7,
    "start_time": "2022-01-06T15:58:47.876Z"
   },
   {
    "duration": 9258,
    "start_time": "2022-01-06T16:01:15.101Z"
   },
   {
    "duration": 6,
    "start_time": "2022-01-06T16:01:52.428Z"
   },
   {
    "duration": 19,
    "start_time": "2022-01-06T16:02:43.951Z"
   },
   {
    "duration": 21,
    "start_time": "2022-01-06T16:03:04.673Z"
   },
   {
    "duration": 33,
    "start_time": "2022-01-06T18:44:33.413Z"
   },
   {
    "duration": 19,
    "start_time": "2022-01-06T18:44:47.091Z"
   },
   {
    "duration": 366,
    "start_time": "2022-01-07T11:09:01.420Z"
   },
   {
    "duration": 873,
    "start_time": "2022-01-07T11:09:09.351Z"
   },
   {
    "duration": 17,
    "start_time": "2022-01-07T11:09:10.228Z"
   },
   {
    "duration": 10,
    "start_time": "2022-01-07T11:09:10.249Z"
   },
   {
    "duration": 7,
    "start_time": "2022-01-07T11:09:10.262Z"
   },
   {
    "duration": 53,
    "start_time": "2022-01-07T11:09:10.272Z"
   },
   {
    "duration": 11,
    "start_time": "2022-01-07T11:09:10.328Z"
   },
   {
    "duration": 12,
    "start_time": "2022-01-07T11:09:10.342Z"
   },
   {
    "duration": 9,
    "start_time": "2022-01-07T11:09:10.360Z"
   },
   {
    "duration": 64,
    "start_time": "2022-01-07T11:09:10.373Z"
   },
   {
    "duration": 9,
    "start_time": "2022-01-07T11:09:10.441Z"
   },
   {
    "duration": 12,
    "start_time": "2022-01-07T11:09:10.453Z"
   },
   {
    "duration": 8,
    "start_time": "2022-01-07T11:09:10.467Z"
   },
   {
    "duration": 48,
    "start_time": "2022-01-07T11:09:10.478Z"
   },
   {
    "duration": 13,
    "start_time": "2022-01-07T11:09:10.529Z"
   },
   {
    "duration": 8,
    "start_time": "2022-01-07T11:09:10.545Z"
   },
   {
    "duration": 9,
    "start_time": "2022-01-07T11:09:10.556Z"
   },
   {
    "duration": 56,
    "start_time": "2022-01-07T11:09:10.568Z"
   },
   {
    "duration": 14,
    "start_time": "2022-01-07T11:09:10.628Z"
   },
   {
    "duration": 13,
    "start_time": "2022-01-07T11:09:10.645Z"
   },
   {
    "duration": 9,
    "start_time": "2022-01-07T11:09:10.661Z"
   },
   {
    "duration": 60,
    "start_time": "2022-01-07T11:09:10.673Z"
   },
   {
    "duration": 19,
    "start_time": "2022-01-07T11:09:10.735Z"
   },
   {
    "duration": 12,
    "start_time": "2022-01-07T11:09:10.758Z"
   },
   {
    "duration": 10,
    "start_time": "2022-01-07T11:09:10.773Z"
   },
   {
    "duration": 47,
    "start_time": "2022-01-07T11:09:10.785Z"
   },
   {
    "duration": 8,
    "start_time": "2022-01-07T11:09:10.834Z"
   },
   {
    "duration": 20,
    "start_time": "2022-01-07T11:09:10.845Z"
   },
   {
    "duration": 12,
    "start_time": "2022-01-07T11:09:10.868Z"
   },
   {
    "duration": 26,
    "start_time": "2022-01-07T11:09:10.923Z"
   },
   {
    "duration": 12,
    "start_time": "2022-01-07T11:09:10.952Z"
   },
   {
    "duration": 12,
    "start_time": "2022-01-07T11:09:10.967Z"
   },
   {
    "duration": 46,
    "start_time": "2022-01-07T11:09:10.982Z"
   },
   {
    "duration": 4176,
    "start_time": "2022-01-07T11:09:11.031Z"
   },
   {
    "duration": 1764,
    "start_time": "2022-01-07T11:09:15.209Z"
   },
   {
    "duration": 16,
    "start_time": "2022-01-07T11:09:16.975Z"
   },
   {
    "duration": 43,
    "start_time": "2022-01-07T11:09:16.993Z"
   },
   {
    "duration": 43,
    "start_time": "2022-01-07T11:09:17.039Z"
   },
   {
    "duration": 56,
    "start_time": "2022-01-07T11:09:17.085Z"
   },
   {
    "duration": 13,
    "start_time": "2022-01-07T11:09:17.145Z"
   },
   {
    "duration": 29,
    "start_time": "2022-01-07T11:09:17.161Z"
   },
   {
    "duration": 35,
    "start_time": "2022-01-07T11:09:17.193Z"
   },
   {
    "duration": 11,
    "start_time": "2022-01-07T11:09:17.231Z"
   },
   {
    "duration": 9,
    "start_time": "2022-01-07T11:09:17.245Z"
   },
   {
    "duration": 9,
    "start_time": "2022-01-07T11:09:17.257Z"
   },
   {
    "duration": 68,
    "start_time": "2022-01-07T11:09:17.269Z"
   },
   {
    "duration": 23,
    "start_time": "2022-01-07T11:09:17.341Z"
   },
   {
    "duration": 28,
    "start_time": "2022-01-07T11:10:48.092Z"
   },
   {
    "duration": 11,
    "start_time": "2022-01-07T11:13:00.772Z"
   },
   {
    "duration": 103,
    "start_time": "2022-01-07T11:29:42.648Z"
   },
   {
    "duration": 9,
    "start_time": "2022-01-07T11:29:49.034Z"
   },
   {
    "duration": 471,
    "start_time": "2022-01-07T11:32:21.908Z"
   },
   {
    "duration": 332,
    "start_time": "2022-01-07T11:37:03.406Z"
   },
   {
    "duration": 6,
    "start_time": "2022-01-07T11:37:22.511Z"
   },
   {
    "duration": 336,
    "start_time": "2022-01-07T11:38:01.257Z"
   },
   {
    "duration": 308,
    "start_time": "2022-01-07T11:41:28.833Z"
   },
   {
    "duration": 4732,
    "start_time": "2022-01-07T11:41:39.343Z"
   },
   {
    "duration": 1348,
    "start_time": "2022-01-07T11:41:55.564Z"
   },
   {
    "duration": 349,
    "start_time": "2022-01-07T11:42:12.588Z"
   },
   {
    "duration": 775,
    "start_time": "2022-01-07T11:42:16.864Z"
   },
   {
    "duration": 15,
    "start_time": "2022-01-07T11:42:17.641Z"
   },
   {
    "duration": 8,
    "start_time": "2022-01-07T11:42:17.659Z"
   },
   {
    "duration": 10,
    "start_time": "2022-01-07T11:42:17.669Z"
   },
   {
    "duration": 43,
    "start_time": "2022-01-07T11:42:17.682Z"
   },
   {
    "duration": 10,
    "start_time": "2022-01-07T11:42:17.727Z"
   },
   {
    "duration": 11,
    "start_time": "2022-01-07T11:42:17.739Z"
   },
   {
    "duration": 9,
    "start_time": "2022-01-07T11:42:17.754Z"
   },
   {
    "duration": 19,
    "start_time": "2022-01-07T11:42:17.767Z"
   },
   {
    "duration": 9,
    "start_time": "2022-01-07T11:42:17.823Z"
   },
   {
    "duration": 10,
    "start_time": "2022-01-07T11:42:17.835Z"
   },
   {
    "duration": 10,
    "start_time": "2022-01-07T11:42:17.847Z"
   },
   {
    "duration": 13,
    "start_time": "2022-01-07T11:42:17.860Z"
   },
   {
    "duration": 8,
    "start_time": "2022-01-07T11:42:17.876Z"
   },
   {
    "duration": 9,
    "start_time": "2022-01-07T11:42:17.922Z"
   },
   {
    "duration": 9,
    "start_time": "2022-01-07T11:42:17.933Z"
   },
   {
    "duration": 15,
    "start_time": "2022-01-07T11:42:17.944Z"
   },
   {
    "duration": 9,
    "start_time": "2022-01-07T11:42:17.962Z"
   },
   {
    "duration": 51,
    "start_time": "2022-01-07T11:42:17.973Z"
   },
   {
    "duration": 13,
    "start_time": "2022-01-07T11:42:18.027Z"
   },
   {
    "duration": 23,
    "start_time": "2022-01-07T11:42:18.042Z"
   },
   {
    "duration": 32,
    "start_time": "2022-01-07T11:42:18.068Z"
   },
   {
    "duration": 28,
    "start_time": "2022-01-07T11:42:18.106Z"
   },
   {
    "duration": 9,
    "start_time": "2022-01-07T11:42:18.137Z"
   },
   {
    "duration": 20,
    "start_time": "2022-01-07T11:42:18.149Z"
   },
   {
    "duration": 8,
    "start_time": "2022-01-07T11:42:18.172Z"
   },
   {
    "duration": 60,
    "start_time": "2022-01-07T11:42:18.183Z"
   },
   {
    "duration": 13,
    "start_time": "2022-01-07T11:42:18.246Z"
   },
   {
    "duration": 23,
    "start_time": "2022-01-07T11:42:18.261Z"
   },
   {
    "duration": 44,
    "start_time": "2022-01-07T11:42:18.286Z"
   },
   {
    "duration": 17,
    "start_time": "2022-01-07T11:42:18.333Z"
   },
   {
    "duration": 7,
    "start_time": "2022-01-07T11:42:18.352Z"
   },
   {
    "duration": 4054,
    "start_time": "2022-01-07T11:42:18.362Z"
   },
   {
    "duration": 1763,
    "start_time": "2022-01-07T11:42:22.419Z"
   },
   {
    "duration": 16,
    "start_time": "2022-01-07T11:42:24.185Z"
   },
   {
    "duration": 38,
    "start_time": "2022-01-07T11:42:24.203Z"
   },
   {
    "duration": 40,
    "start_time": "2022-01-07T11:42:24.244Z"
   },
   {
    "duration": 55,
    "start_time": "2022-01-07T11:42:24.287Z"
   },
   {
    "duration": 12,
    "start_time": "2022-01-07T11:42:24.345Z"
   },
   {
    "duration": 24,
    "start_time": "2022-01-07T11:42:24.360Z"
   },
   {
    "duration": 43,
    "start_time": "2022-01-07T11:42:24.386Z"
   },
   {
    "duration": 10,
    "start_time": "2022-01-07T11:42:24.431Z"
   },
   {
    "duration": 8,
    "start_time": "2022-01-07T11:42:24.444Z"
   },
   {
    "duration": 8,
    "start_time": "2022-01-07T11:42:24.455Z"
   },
   {
    "duration": 62,
    "start_time": "2022-01-07T11:42:24.466Z"
   },
   {
    "duration": 29,
    "start_time": "2022-01-07T11:42:24.530Z"
   },
   {
    "duration": 9,
    "start_time": "2022-01-07T11:42:24.561Z"
   },
   {
    "duration": 34,
    "start_time": "2022-01-07T11:42:24.573Z"
   },
   {
    "duration": 5030,
    "start_time": "2022-01-07T11:42:24.610Z"
   },
   {
    "duration": 77,
    "start_time": "2022-01-07T11:44:28.953Z"
   },
   {
    "duration": 15,
    "start_time": "2022-01-07T11:44:29.033Z"
   },
   {
    "duration": 9,
    "start_time": "2022-01-07T11:44:29.051Z"
   },
   {
    "duration": 7,
    "start_time": "2022-01-07T11:44:29.063Z"
   },
   {
    "duration": 61,
    "start_time": "2022-01-07T11:44:29.072Z"
   },
   {
    "duration": 10,
    "start_time": "2022-01-07T11:44:29.136Z"
   },
   {
    "duration": 10,
    "start_time": "2022-01-07T11:44:29.148Z"
   },
   {
    "duration": 8,
    "start_time": "2022-01-07T11:44:29.162Z"
   },
   {
    "duration": 23,
    "start_time": "2022-01-07T11:44:29.225Z"
   },
   {
    "duration": 11,
    "start_time": "2022-01-07T11:44:29.251Z"
   },
   {
    "duration": 11,
    "start_time": "2022-01-07T11:44:29.265Z"
   },
   {
    "duration": 10,
    "start_time": "2022-01-07T11:44:29.322Z"
   },
   {
    "duration": 9,
    "start_time": "2022-01-07T11:44:29.336Z"
   },
   {
    "duration": 9,
    "start_time": "2022-01-07T11:44:29.349Z"
   },
   {
    "duration": 9,
    "start_time": "2022-01-07T11:44:29.361Z"
   },
   {
    "duration": 11,
    "start_time": "2022-01-07T11:44:29.422Z"
   },
   {
    "duration": 13,
    "start_time": "2022-01-07T11:44:29.436Z"
   },
   {
    "duration": 14,
    "start_time": "2022-01-07T11:44:29.452Z"
   },
   {
    "duration": 12,
    "start_time": "2022-01-07T11:44:29.469Z"
   },
   {
    "duration": 46,
    "start_time": "2022-01-07T11:44:29.483Z"
   },
   {
    "duration": 20,
    "start_time": "2022-01-07T11:44:29.532Z"
   },
   {
    "duration": 16,
    "start_time": "2022-01-07T11:44:29.555Z"
   },
   {
    "duration": 51,
    "start_time": "2022-01-07T11:44:29.576Z"
   },
   {
    "duration": 10,
    "start_time": "2022-01-07T11:44:29.630Z"
   },
   {
    "duration": 17,
    "start_time": "2022-01-07T11:44:29.642Z"
   },
   {
    "duration": 8,
    "start_time": "2022-01-07T11:44:29.661Z"
   },
   {
    "duration": 53,
    "start_time": "2022-01-07T11:44:29.672Z"
   },
   {
    "duration": 15,
    "start_time": "2022-01-07T11:44:29.727Z"
   },
   {
    "duration": 22,
    "start_time": "2022-01-07T11:44:29.744Z"
   },
   {
    "duration": 12,
    "start_time": "2022-01-07T11:44:29.769Z"
   },
   {
    "duration": 13,
    "start_time": "2022-01-07T11:44:29.824Z"
   },
   {
    "duration": 6,
    "start_time": "2022-01-07T11:44:29.840Z"
   },
   {
    "duration": 4618,
    "start_time": "2022-01-07T11:44:29.849Z"
   },
   {
    "duration": 2292,
    "start_time": "2022-01-07T11:44:34.470Z"
   },
   {
    "duration": 23,
    "start_time": "2022-01-07T11:44:36.765Z"
   },
   {
    "duration": 64,
    "start_time": "2022-01-07T11:44:36.791Z"
   },
   {
    "duration": 45,
    "start_time": "2022-01-07T11:44:36.857Z"
   },
   {
    "duration": 45,
    "start_time": "2022-01-07T11:44:36.905Z"
   },
   {
    "duration": 53,
    "start_time": "2022-01-07T11:44:36.954Z"
   },
   {
    "duration": 48,
    "start_time": "2022-01-07T11:44:37.010Z"
   },
   {
    "duration": 48,
    "start_time": "2022-01-07T11:44:37.061Z"
   },
   {
    "duration": 24,
    "start_time": "2022-01-07T11:44:37.112Z"
   },
   {
    "duration": 48,
    "start_time": "2022-01-07T11:44:37.139Z"
   },
   {
    "duration": 35,
    "start_time": "2022-01-07T11:44:37.190Z"
   },
   {
    "duration": 63,
    "start_time": "2022-01-07T11:44:37.228Z"
   },
   {
    "duration": 87,
    "start_time": "2022-01-07T11:44:37.293Z"
   },
   {
    "duration": 58,
    "start_time": "2022-01-07T11:44:37.382Z"
   },
   {
    "duration": 58,
    "start_time": "2022-01-07T11:44:37.444Z"
   },
   {
    "duration": 5182,
    "start_time": "2022-01-07T11:44:38.257Z"
   },
   {
    "duration": 28,
    "start_time": "2022-01-07T12:00:21.101Z"
   },
   {
    "duration": 21,
    "start_time": "2022-01-07T12:01:30.774Z"
   },
   {
    "duration": 75,
    "start_time": "2022-01-07T12:01:38.255Z"
   },
   {
    "duration": 14,
    "start_time": "2022-01-07T12:01:38.333Z"
   },
   {
    "duration": 12,
    "start_time": "2022-01-07T12:01:38.350Z"
   },
   {
    "duration": 7,
    "start_time": "2022-01-07T12:01:38.364Z"
   },
   {
    "duration": 49,
    "start_time": "2022-01-07T12:01:38.374Z"
   },
   {
    "duration": 10,
    "start_time": "2022-01-07T12:01:38.425Z"
   },
   {
    "duration": 10,
    "start_time": "2022-01-07T12:01:38.437Z"
   },
   {
    "duration": 7,
    "start_time": "2022-01-07T12:01:38.451Z"
   },
   {
    "duration": 64,
    "start_time": "2022-01-07T12:01:38.461Z"
   },
   {
    "duration": 20,
    "start_time": "2022-01-07T12:01:38.528Z"
   },
   {
    "duration": 9,
    "start_time": "2022-01-07T12:01:38.551Z"
   },
   {
    "duration": 9,
    "start_time": "2022-01-07T12:01:38.563Z"
   },
   {
    "duration": 8,
    "start_time": "2022-01-07T12:01:38.574Z"
   },
   {
    "duration": 40,
    "start_time": "2022-01-07T12:01:38.584Z"
   },
   {
    "duration": 10,
    "start_time": "2022-01-07T12:01:38.627Z"
   },
   {
    "duration": 23,
    "start_time": "2022-01-07T12:01:38.639Z"
   },
   {
    "duration": 14,
    "start_time": "2022-01-07T12:01:38.664Z"
   },
   {
    "duration": 9,
    "start_time": "2022-01-07T12:01:38.680Z"
   },
   {
    "duration": 35,
    "start_time": "2022-01-07T12:01:38.692Z"
   },
   {
    "duration": 7,
    "start_time": "2022-01-07T12:01:38.730Z"
   },
   {
    "duration": 23,
    "start_time": "2022-01-07T12:01:38.739Z"
   },
   {
    "duration": 17,
    "start_time": "2022-01-07T12:01:38.765Z"
   },
   {
    "duration": 12,
    "start_time": "2022-01-07T12:01:38.825Z"
   },
   {
    "duration": 12,
    "start_time": "2022-01-07T12:01:38.841Z"
   },
   {
    "duration": 14,
    "start_time": "2022-01-07T12:01:38.855Z"
   },
   {
    "duration": 8,
    "start_time": "2022-01-07T12:01:38.872Z"
   },
   {
    "duration": 20,
    "start_time": "2022-01-07T12:01:38.923Z"
   },
   {
    "duration": 12,
    "start_time": "2022-01-07T12:01:38.945Z"
   },
   {
    "duration": 21,
    "start_time": "2022-01-07T12:01:38.960Z"
   },
   {
    "duration": 42,
    "start_time": "2022-01-07T12:01:38.983Z"
   },
   {
    "duration": 12,
    "start_time": "2022-01-07T12:01:39.027Z"
   },
   {
    "duration": 5,
    "start_time": "2022-01-07T12:01:39.042Z"
   },
   {
    "duration": 4101,
    "start_time": "2022-01-07T12:01:39.049Z"
   },
   {
    "duration": 1762,
    "start_time": "2022-01-07T12:01:43.153Z"
   },
   {
    "duration": 20,
    "start_time": "2022-01-07T12:01:44.917Z"
   },
   {
    "duration": 20,
    "start_time": "2022-01-07T12:01:44.939Z"
   },
   {
    "duration": 67,
    "start_time": "2022-01-07T12:01:44.962Z"
   },
   {
    "duration": 27,
    "start_time": "2022-01-07T12:01:45.032Z"
   },
   {
    "duration": 12,
    "start_time": "2022-01-07T12:01:45.063Z"
   },
   {
    "duration": 60,
    "start_time": "2022-01-07T12:01:45.078Z"
   },
   {
    "duration": 8,
    "start_time": "2022-01-07T12:01:45.140Z"
   },
   {
    "duration": 12,
    "start_time": "2022-01-07T12:01:45.151Z"
   },
   {
    "duration": 7,
    "start_time": "2022-01-07T12:01:45.165Z"
   },
   {
    "duration": 48,
    "start_time": "2022-01-07T12:01:45.175Z"
   },
   {
    "duration": 21,
    "start_time": "2022-01-07T12:01:45.226Z"
   },
   {
    "duration": 24,
    "start_time": "2022-01-07T12:01:45.250Z"
   },
   {
    "duration": 9,
    "start_time": "2022-01-07T12:01:45.276Z"
   },
   {
    "duration": 60,
    "start_time": "2022-01-07T12:01:45.287Z"
   },
   {
    "duration": 5010,
    "start_time": "2022-01-07T12:01:45.349Z"
   },
   {
    "duration": 29,
    "start_time": "2022-01-07T12:01:55.168Z"
   },
   {
    "duration": 101,
    "start_time": "2022-01-07T12:03:22.133Z"
   },
   {
    "duration": 29,
    "start_time": "2022-01-07T12:09:11.814Z"
   },
   {
    "duration": 121,
    "start_time": "2022-01-07T12:25:04.137Z"
   },
   {
    "duration": 20,
    "start_time": "2022-01-07T12:25:08.665Z"
   },
   {
    "duration": 11,
    "start_time": "2022-01-07T12:26:13.289Z"
   },
   {
    "duration": 8,
    "start_time": "2022-01-07T12:33:10.772Z"
   },
   {
    "duration": 18,
    "start_time": "2022-01-07T12:35:38.895Z"
   },
   {
    "duration": 6,
    "start_time": "2022-01-07T12:40:20.106Z"
   },
   {
    "duration": 9,
    "start_time": "2022-01-07T12:40:51.835Z"
   },
   {
    "duration": 21,
    "start_time": "2022-01-07T12:55:54.625Z"
   },
   {
    "duration": 24,
    "start_time": "2022-01-07T13:02:04.824Z"
   },
   {
    "duration": 113,
    "start_time": "2022-01-07T13:12:07.431Z"
   },
   {
    "duration": 28,
    "start_time": "2022-01-07T13:13:05.545Z"
   },
   {
    "duration": 21,
    "start_time": "2022-01-07T13:13:28.862Z"
   },
   {
    "duration": 97,
    "start_time": "2022-01-07T13:16:53.030Z"
   },
   {
    "duration": 9,
    "start_time": "2022-01-07T13:17:07.820Z"
   },
   {
    "duration": 8,
    "start_time": "2022-01-07T13:17:14.302Z"
   },
   {
    "duration": 8,
    "start_time": "2022-01-07T13:17:17.763Z"
   },
   {
    "duration": 14,
    "start_time": "2022-01-07T13:17:57.193Z"
   },
   {
    "duration": 14,
    "start_time": "2022-01-07T13:18:25.582Z"
   },
   {
    "duration": 15,
    "start_time": "2022-01-07T13:24:53.658Z"
   },
   {
    "duration": 23,
    "start_time": "2022-01-07T13:24:55.919Z"
   },
   {
    "duration": 19,
    "start_time": "2022-01-07T13:26:33.841Z"
   },
   {
    "duration": 37,
    "start_time": "2022-01-07T13:27:30.368Z"
   },
   {
    "duration": 37,
    "start_time": "2022-01-07T13:27:37.710Z"
   },
   {
    "duration": 37,
    "start_time": "2022-01-07T13:27:48.023Z"
   },
   {
    "duration": 36,
    "start_time": "2022-01-07T13:28:40.643Z"
   },
   {
    "duration": 36,
    "start_time": "2022-01-07T13:30:46.879Z"
   },
   {
    "duration": 48,
    "start_time": "2022-01-07T13:45:24.465Z"
   },
   {
    "duration": 40,
    "start_time": "2022-01-07T13:51:51.953Z"
   },
   {
    "duration": 10,
    "start_time": "2022-01-07T14:02:23.462Z"
   },
   {
    "duration": 2506,
    "start_time": "2022-01-07T14:02:36.418Z"
   },
   {
    "duration": 15,
    "start_time": "2022-01-07T14:02:38.927Z"
   },
   {
    "duration": 9,
    "start_time": "2022-01-07T14:02:38.944Z"
   },
   {
    "duration": 7,
    "start_time": "2022-01-07T14:02:38.955Z"
   },
   {
    "duration": 9,
    "start_time": "2022-01-07T14:02:38.964Z"
   },
   {
    "duration": 9,
    "start_time": "2022-01-07T14:02:39.024Z"
   },
   {
    "duration": 10,
    "start_time": "2022-01-07T14:03:02.262Z"
   },
   {
    "duration": 14,
    "start_time": "2022-01-07T14:05:50.492Z"
   },
   {
    "duration": 5,
    "start_time": "2022-01-07T14:07:52.348Z"
   },
   {
    "duration": 77,
    "start_time": "2022-01-07T14:08:16.152Z"
   },
   {
    "duration": 14,
    "start_time": "2022-01-07T14:08:16.232Z"
   },
   {
    "duration": 7,
    "start_time": "2022-01-07T14:08:16.249Z"
   },
   {
    "duration": 7,
    "start_time": "2022-01-07T14:08:16.259Z"
   },
   {
    "duration": 59,
    "start_time": "2022-01-07T14:08:16.267Z"
   },
   {
    "duration": 10,
    "start_time": "2022-01-07T14:08:16.328Z"
   },
   {
    "duration": 11,
    "start_time": "2022-01-07T14:08:16.340Z"
   },
   {
    "duration": 8,
    "start_time": "2022-01-07T14:08:16.354Z"
   },
   {
    "duration": 73,
    "start_time": "2022-01-07T14:08:16.365Z"
   },
   {
    "duration": 9,
    "start_time": "2022-01-07T14:08:16.441Z"
   },
   {
    "duration": 9,
    "start_time": "2022-01-07T14:08:16.452Z"
   },
   {
    "duration": 9,
    "start_time": "2022-01-07T14:08:16.463Z"
   },
   {
    "duration": 54,
    "start_time": "2022-01-07T14:08:16.474Z"
   },
   {
    "duration": 10,
    "start_time": "2022-01-07T14:08:16.530Z"
   },
   {
    "duration": 9,
    "start_time": "2022-01-07T14:08:16.542Z"
   },
   {
    "duration": 10,
    "start_time": "2022-01-07T14:08:16.553Z"
   },
   {
    "duration": 61,
    "start_time": "2022-01-07T14:08:16.565Z"
   },
   {
    "duration": 13,
    "start_time": "2022-01-07T14:08:16.628Z"
   },
   {
    "duration": 10,
    "start_time": "2022-01-07T14:08:16.644Z"
   },
   {
    "duration": 9,
    "start_time": "2022-01-07T14:08:16.656Z"
   },
   {
    "duration": 76,
    "start_time": "2022-01-07T14:08:16.667Z"
   },
   {
    "duration": 22,
    "start_time": "2022-01-07T14:08:16.746Z"
   },
   {
    "duration": 54,
    "start_time": "2022-01-07T14:08:16.774Z"
   },
   {
    "duration": 14,
    "start_time": "2022-01-07T14:08:16.831Z"
   },
   {
    "duration": 18,
    "start_time": "2022-01-07T14:08:16.847Z"
   },
   {
    "duration": 63,
    "start_time": "2022-01-07T14:08:16.868Z"
   },
   {
    "duration": 22,
    "start_time": "2022-01-07T14:08:16.934Z"
   },
   {
    "duration": 64,
    "start_time": "2022-01-07T14:08:16.959Z"
   },
   {
    "duration": 25,
    "start_time": "2022-01-07T14:08:17.026Z"
   },
   {
    "duration": 14,
    "start_time": "2022-01-07T14:08:17.054Z"
   },
   {
    "duration": 59,
    "start_time": "2022-01-07T14:08:17.071Z"
   },
   {
    "duration": 10,
    "start_time": "2022-01-07T14:08:17.133Z"
   },
   {
    "duration": 5,
    "start_time": "2022-01-07T14:08:19.952Z"
   },
   {
    "duration": 3934,
    "start_time": "2022-01-07T14:08:21.065Z"
   },
   {
    "duration": 1763,
    "start_time": "2022-01-07T14:08:37.976Z"
   },
   {
    "duration": 7,
    "start_time": "2022-01-07T14:11:20.168Z"
   },
   {
    "duration": 81,
    "start_time": "2022-01-07T14:11:27.027Z"
   },
   {
    "duration": 21,
    "start_time": "2022-01-07T14:11:27.123Z"
   },
   {
    "duration": 9,
    "start_time": "2022-01-07T14:11:27.148Z"
   },
   {
    "duration": 8,
    "start_time": "2022-01-07T14:11:27.161Z"
   },
   {
    "duration": 9,
    "start_time": "2022-01-07T14:11:27.224Z"
   },
   {
    "duration": 9,
    "start_time": "2022-01-07T14:11:27.236Z"
   },
   {
    "duration": 9,
    "start_time": "2022-01-07T14:11:27.247Z"
   },
   {
    "duration": 7,
    "start_time": "2022-01-07T14:11:27.259Z"
   },
   {
    "duration": 21,
    "start_time": "2022-01-07T14:11:27.324Z"
   },
   {
    "duration": 9,
    "start_time": "2022-01-07T14:11:27.348Z"
   },
   {
    "duration": 10,
    "start_time": "2022-01-07T14:11:27.359Z"
   },
   {
    "duration": 58,
    "start_time": "2022-01-07T14:11:27.371Z"
   },
   {
    "duration": 18,
    "start_time": "2022-01-07T14:11:27.431Z"
   },
   {
    "duration": 10,
    "start_time": "2022-01-07T14:11:27.451Z"
   },
   {
    "duration": 10,
    "start_time": "2022-01-07T14:11:27.464Z"
   },
   {
    "duration": 47,
    "start_time": "2022-01-07T14:11:27.477Z"
   },
   {
    "duration": 13,
    "start_time": "2022-01-07T14:11:27.528Z"
   },
   {
    "duration": 13,
    "start_time": "2022-01-07T14:11:27.543Z"
   },
   {
    "duration": 11,
    "start_time": "2022-01-07T14:11:27.558Z"
   },
   {
    "duration": 58,
    "start_time": "2022-01-07T14:11:27.571Z"
   },
   {
    "duration": 36,
    "start_time": "2022-01-07T14:11:27.632Z"
   },
   {
    "duration": 17,
    "start_time": "2022-01-07T14:11:27.670Z"
   },
   {
    "duration": 41,
    "start_time": "2022-01-07T14:11:27.691Z"
   },
   {
    "duration": 9,
    "start_time": "2022-01-07T14:11:27.735Z"
   },
   {
    "duration": 14,
    "start_time": "2022-01-07T14:11:27.747Z"
   },
   {
    "duration": 8,
    "start_time": "2022-01-07T14:11:27.763Z"
   },
   {
    "duration": 21,
    "start_time": "2022-01-07T14:11:27.824Z"
   },
   {
    "duration": 13,
    "start_time": "2022-01-07T14:11:27.848Z"
   },
   {
    "duration": 68,
    "start_time": "2022-01-07T14:11:27.863Z"
   },
   {
    "duration": 11,
    "start_time": "2022-01-07T14:11:27.934Z"
   },
   {
    "duration": 11,
    "start_time": "2022-01-07T14:11:27.947Z"
   },
   {
    "duration": 5,
    "start_time": "2022-01-07T14:11:27.961Z"
   },
   {
    "duration": 4410,
    "start_time": "2022-01-07T14:11:27.968Z"
   },
   {
    "duration": 1761,
    "start_time": "2022-01-07T14:11:32.381Z"
   },
   {
    "duration": 17,
    "start_time": "2022-01-07T14:11:34.144Z"
   },
   {
    "duration": 21,
    "start_time": "2022-01-07T14:11:34.163Z"
   },
   {
    "duration": 77,
    "start_time": "2022-01-07T14:11:34.186Z"
   },
   {
    "duration": 12,
    "start_time": "2022-01-07T14:11:34.266Z"
   },
   {
    "duration": 58,
    "start_time": "2022-01-07T14:11:34.280Z"
   },
   {
    "duration": 8,
    "start_time": "2022-01-07T14:11:34.341Z"
   },
   {
    "duration": 16,
    "start_time": "2022-01-07T14:11:34.352Z"
   },
   {
    "duration": 45,
    "start_time": "2022-01-07T14:11:34.382Z"
   },
   {
    "duration": 8,
    "start_time": "2022-01-07T14:11:44.264Z"
   },
   {
    "duration": 19,
    "start_time": "2022-01-07T14:11:53.880Z"
   },
   {
    "duration": 26,
    "start_time": "2022-01-07T14:11:55.394Z"
   },
   {
    "duration": 10,
    "start_time": "2022-01-07T14:12:55.047Z"
   },
   {
    "duration": 4974,
    "start_time": "2022-01-07T14:12:59.898Z"
   },
   {
    "duration": 28,
    "start_time": "2022-01-07T14:13:25.845Z"
   },
   {
    "duration": 919,
    "start_time": "2022-01-07T14:20:46.644Z"
   },
   {
    "duration": 17,
    "start_time": "2022-01-07T14:20:47.566Z"
   },
   {
    "duration": 7,
    "start_time": "2022-01-07T14:20:47.586Z"
   },
   {
    "duration": 10,
    "start_time": "2022-01-07T14:20:47.625Z"
   },
   {
    "duration": 16,
    "start_time": "2022-01-07T14:20:47.638Z"
   },
   {
    "duration": 13,
    "start_time": "2022-01-07T14:20:47.656Z"
   },
   {
    "duration": 59,
    "start_time": "2022-01-07T14:20:47.672Z"
   },
   {
    "duration": 10,
    "start_time": "2022-01-07T14:20:47.737Z"
   },
   {
    "duration": 25,
    "start_time": "2022-01-07T14:20:47.751Z"
   },
   {
    "duration": 13,
    "start_time": "2022-01-07T14:20:47.824Z"
   },
   {
    "duration": 13,
    "start_time": "2022-01-07T14:20:47.840Z"
   },
   {
    "duration": 17,
    "start_time": "2022-01-07T14:20:47.857Z"
   },
   {
    "duration": 11,
    "start_time": "2022-01-07T14:20:47.924Z"
   },
   {
    "duration": 15,
    "start_time": "2022-01-07T14:20:47.938Z"
   },
   {
    "duration": 14,
    "start_time": "2022-01-07T14:20:47.956Z"
   },
   {
    "duration": 52,
    "start_time": "2022-01-07T14:20:47.973Z"
   },
   {
    "duration": 14,
    "start_time": "2022-01-07T14:20:48.028Z"
   },
   {
    "duration": 11,
    "start_time": "2022-01-07T14:20:48.044Z"
   },
   {
    "duration": 14,
    "start_time": "2022-01-07T14:20:48.058Z"
   },
   {
    "duration": 10,
    "start_time": "2022-01-07T14:20:48.122Z"
   },
   {
    "duration": 30,
    "start_time": "2022-01-07T14:20:48.135Z"
   },
   {
    "duration": 70,
    "start_time": "2022-01-07T14:20:48.168Z"
   },
   {
    "duration": 16,
    "start_time": "2022-01-07T14:20:48.244Z"
   },
   {
    "duration": 12,
    "start_time": "2022-01-07T14:20:48.264Z"
   },
   {
    "duration": 58,
    "start_time": "2022-01-07T14:20:48.279Z"
   },
   {
    "duration": 10,
    "start_time": "2022-01-07T14:20:48.340Z"
   },
   {
    "duration": 22,
    "start_time": "2022-01-07T14:20:48.353Z"
   },
   {
    "duration": 16,
    "start_time": "2022-01-07T14:20:48.423Z"
   },
   {
    "duration": 31,
    "start_time": "2022-01-07T14:20:48.442Z"
   },
   {
    "duration": 49,
    "start_time": "2022-01-07T14:20:48.476Z"
   },
   {
    "duration": 12,
    "start_time": "2022-01-07T14:20:48.528Z"
   },
   {
    "duration": 8,
    "start_time": "2022-01-07T14:20:48.543Z"
   },
   {
    "duration": 5058,
    "start_time": "2022-01-07T14:20:48.553Z"
   },
   {
    "duration": 1881,
    "start_time": "2022-01-07T14:20:53.613Z"
   },
   {
    "duration": 41,
    "start_time": "2022-01-07T14:20:55.496Z"
   },
   {
    "duration": 31,
    "start_time": "2022-01-07T14:20:55.540Z"
   },
   {
    "duration": 75,
    "start_time": "2022-01-07T14:20:55.573Z"
   },
   {
    "duration": 14,
    "start_time": "2022-01-07T14:20:55.651Z"
   },
   {
    "duration": 24,
    "start_time": "2022-01-07T14:20:55.667Z"
   },
   {
    "duration": 12,
    "start_time": "2022-01-07T14:20:55.723Z"
   },
   {
    "duration": 14,
    "start_time": "2022-01-07T14:20:55.738Z"
   },
   {
    "duration": 20,
    "start_time": "2022-01-07T14:20:55.755Z"
   },
   {
    "duration": 47,
    "start_time": "2022-01-07T14:20:55.778Z"
   },
   {
    "duration": 21,
    "start_time": "2022-01-07T14:20:55.829Z"
   },
   {
    "duration": 29,
    "start_time": "2022-01-07T14:20:55.853Z"
   },
   {
    "duration": 13,
    "start_time": "2022-01-07T14:20:55.924Z"
   },
   {
    "duration": 14,
    "start_time": "2022-01-07T14:20:55.940Z"
   },
   {
    "duration": 5685,
    "start_time": "2022-01-07T14:20:55.957Z"
   },
   {
    "duration": 37,
    "start_time": "2022-01-07T14:21:01.646Z"
   },
   {
    "duration": 45,
    "start_time": "2022-01-07T14:21:01.685Z"
   },
   {
    "duration": 33,
    "start_time": "2022-01-07T14:21:01.733Z"
   },
   {
    "duration": 27,
    "start_time": "2022-01-07T14:21:01.769Z"
   },
   {
    "duration": 25,
    "start_time": "2022-01-07T14:21:01.799Z"
   },
   {
    "duration": 14,
    "start_time": "2022-01-07T14:21:01.827Z"
   },
   {
    "duration": 33,
    "start_time": "2022-01-07T14:21:01.843Z"
   },
   {
    "duration": 50,
    "start_time": "2022-01-07T14:21:01.878Z"
   },
   {
    "duration": 30,
    "start_time": "2022-01-07T14:21:01.931Z"
   },
   {
    "duration": 16,
    "start_time": "2022-01-07T14:21:01.964Z"
   },
   {
    "duration": 46,
    "start_time": "2022-01-07T14:21:02.024Z"
   },
   {
    "duration": 67,
    "start_time": "2022-01-07T14:21:02.073Z"
   },
   {
    "duration": 79,
    "start_time": "2022-01-07T14:21:02.144Z"
   },
   {
    "duration": 47,
    "start_time": "2022-01-07T14:21:02.226Z"
   },
   {
    "duration": 813,
    "start_time": "2022-01-08T13:30:14.559Z"
   },
   {
    "duration": 13,
    "start_time": "2022-01-08T13:30:15.373Z"
   },
   {
    "duration": 73,
    "start_time": "2022-01-08T13:30:15.388Z"
   },
   {
    "duration": 79,
    "start_time": "2022-01-08T13:30:15.464Z"
   },
   {
    "duration": 49,
    "start_time": "2022-01-08T13:30:15.545Z"
   },
   {
    "duration": 38,
    "start_time": "2022-01-08T13:30:15.596Z"
   },
   {
    "duration": 19,
    "start_time": "2022-01-08T13:30:15.636Z"
   },
   {
    "duration": 25,
    "start_time": "2022-01-08T13:30:15.658Z"
   },
   {
    "duration": 36,
    "start_time": "2022-01-08T13:30:15.685Z"
   },
   {
    "duration": 44,
    "start_time": "2022-01-08T13:30:15.723Z"
   },
   {
    "duration": 24,
    "start_time": "2022-01-08T13:30:15.768Z"
   },
   {
    "duration": 23,
    "start_time": "2022-01-08T13:30:15.793Z"
   },
   {
    "duration": 24,
    "start_time": "2022-01-08T13:30:15.818Z"
   },
   {
    "duration": 35,
    "start_time": "2022-01-08T13:30:15.844Z"
   },
   {
    "duration": 54,
    "start_time": "2022-01-08T13:30:15.881Z"
   },
   {
    "duration": 17,
    "start_time": "2022-01-08T13:30:15.937Z"
   },
   {
    "duration": 25,
    "start_time": "2022-01-08T13:30:15.957Z"
   },
   {
    "duration": 30,
    "start_time": "2022-01-08T13:30:15.984Z"
   },
   {
    "duration": 19,
    "start_time": "2022-01-08T13:30:16.016Z"
   },
   {
    "duration": 26,
    "start_time": "2022-01-08T13:30:16.037Z"
   },
   {
    "duration": 32,
    "start_time": "2022-01-08T13:30:16.065Z"
   },
   {
    "duration": 33,
    "start_time": "2022-01-08T13:30:16.099Z"
   },
   {
    "duration": 12,
    "start_time": "2022-01-08T13:30:16.138Z"
   },
   {
    "duration": 14,
    "start_time": "2022-01-08T13:30:16.152Z"
   },
   {
    "duration": 23,
    "start_time": "2022-01-08T13:30:16.168Z"
   },
   {
    "duration": 8,
    "start_time": "2022-01-08T13:30:16.193Z"
   },
   {
    "duration": 31,
    "start_time": "2022-01-08T13:30:16.203Z"
   },
   {
    "duration": 21,
    "start_time": "2022-01-08T13:30:16.236Z"
   },
   {
    "duration": 24,
    "start_time": "2022-01-08T13:30:16.259Z"
   },
   {
    "duration": 31,
    "start_time": "2022-01-08T13:30:16.285Z"
   },
   {
    "duration": 27,
    "start_time": "2022-01-08T13:30:16.318Z"
   },
   {
    "duration": 21,
    "start_time": "2022-01-08T13:30:16.347Z"
   },
   {
    "duration": 3484,
    "start_time": "2022-01-08T13:30:16.370Z"
   },
   {
    "duration": 1048,
    "start_time": "2022-01-08T13:30:19.860Z"
   },
   {
    "duration": 14,
    "start_time": "2022-01-08T13:30:20.910Z"
   },
   {
    "duration": 18,
    "start_time": "2022-01-08T13:30:20.925Z"
   },
   {
    "duration": 31,
    "start_time": "2022-01-08T13:30:20.961Z"
   },
   {
    "duration": 8,
    "start_time": "2022-01-08T13:30:20.993Z"
   },
   {
    "duration": 18,
    "start_time": "2022-01-08T13:30:21.003Z"
   },
   {
    "duration": 5,
    "start_time": "2022-01-08T13:30:21.023Z"
   },
   {
    "duration": 37,
    "start_time": "2022-01-08T13:30:21.029Z"
   },
   {
    "duration": 6,
    "start_time": "2022-01-08T13:30:21.068Z"
   },
   {
    "duration": 5,
    "start_time": "2022-01-08T13:30:21.075Z"
   },
   {
    "duration": 14,
    "start_time": "2022-01-08T13:30:21.082Z"
   },
   {
    "duration": 19,
    "start_time": "2022-01-08T13:30:21.098Z"
   },
   {
    "duration": 10,
    "start_time": "2022-01-08T13:30:21.119Z"
   },
   {
    "duration": 7,
    "start_time": "2022-01-08T13:30:21.161Z"
   },
   {
    "duration": 3730,
    "start_time": "2022-01-08T13:30:21.170Z"
   },
   {
    "duration": 21,
    "start_time": "2022-01-08T13:30:24.902Z"
   },
   {
    "duration": 15,
    "start_time": "2022-01-08T13:30:24.925Z"
   },
   {
    "duration": 26,
    "start_time": "2022-01-08T13:30:24.942Z"
   },
   {
    "duration": 8,
    "start_time": "2022-01-08T13:30:24.970Z"
   },
   {
    "duration": 14,
    "start_time": "2022-01-08T13:30:24.980Z"
   },
   {
    "duration": 7,
    "start_time": "2022-01-08T13:30:24.996Z"
   },
   {
    "duration": 16,
    "start_time": "2022-01-08T13:30:25.004Z"
   },
   {
    "duration": 51,
    "start_time": "2022-01-08T13:30:25.022Z"
   },
   {
    "duration": 20,
    "start_time": "2022-01-08T13:30:25.075Z"
   },
   {
    "duration": 10,
    "start_time": "2022-01-08T13:30:25.097Z"
   },
   {
    "duration": 51,
    "start_time": "2022-01-08T13:30:25.109Z"
   },
   {
    "duration": 28,
    "start_time": "2022-01-08T13:30:25.162Z"
   },
   {
    "duration": 33,
    "start_time": "2022-01-08T13:30:25.192Z"
   },
   {
    "duration": 60,
    "start_time": "2022-01-08T13:30:25.227Z"
   },
   {
    "duration": 833,
    "start_time": "2022-01-13T10:30:26.014Z"
   }
  ],
  "kernelspec": {
   "display_name": "Python 3",
   "language": "python",
   "name": "python3"
  },
  "language_info": {
   "codemirror_mode": {
    "name": "ipython",
    "version": 3
   },
   "file_extension": ".py",
   "mimetype": "text/x-python",
   "name": "python",
   "nbconvert_exporter": "python",
   "pygments_lexer": "ipython3",
   "version": "3.8.8"
  },
  "toc": {
   "base_numbering": 1,
   "nav_menu": {},
   "number_sections": true,
   "sideBar": true,
   "skip_h1_title": true,
   "title_cell": "Table of Contents",
   "title_sidebar": "Contents",
   "toc_cell": false,
   "toc_position": {},
   "toc_section_display": true,
   "toc_window_display": true
  }
 },
 "nbformat": 4,
 "nbformat_minor": 2
}
